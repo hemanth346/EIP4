{
 "cells": [
  {
   "cell_type": "markdown",
   "metadata": {
    "colab_type": "text",
    "id": "z3saB-0g5XwS"
   },
   "source": [
    "## Installs, imports and Boilerplate code"
   ]
  },
  {
   "cell_type": "code",
   "execution_count": 0,
   "metadata": {
    "colab": {},
    "colab_type": "code",
    "id": "DQb-CoVB4W9Z"
   },
   "outputs": [],
   "source": [
    "import warnings\n",
    "warnings.filterwarnings(action='once')"
   ]
  },
  {
   "cell_type": "code",
   "execution_count": 0,
   "metadata": {
    "colab": {
     "base_uri": "https://localhost:8080/",
     "height": 83
    },
    "colab_type": "code",
    "executionInfo": {
     "elapsed": 2879,
     "status": "ok",
     "timestamp": 1575357200795,
     "user": {
      "displayName": "Hemanth Reddy",
      "photoUrl": "https://lh3.googleusercontent.com/a-/AAuE7mByTu2xLfZj1YR3txrkITcZs9_i74nbaVq6SBdT8Q=s64",
      "userId": "03151495481760299531"
     },
     "user_tz": -330
    },
    "id": "ijO161Io5AWK",
    "outputId": "6702f005-b7bf-4859-ae0a-4203f26b7c48"
   },
   "outputs": [
    {
     "name": "stderr",
     "output_type": "stream",
     "text": [
      "Using TensorFlow backend.\n"
     ]
    },
    {
     "data": {
      "text/html": [
       "<p style=\"color: red;\">\n",
       "The default version of TensorFlow in Colab will soon switch to TensorFlow 2.x.<br>\n",
       "We recommend you <a href=\"https://www.tensorflow.org/guide/migrate\" target=\"_blank\">upgrade</a> now \n",
       "or ensure your notebook will continue to use TensorFlow 1.x via the <code>%tensorflow_version 1.x</code> magic:\n",
       "<a href=\"https://colab.research.google.com/notebooks/tensorflow_version.ipynb\" target=\"_blank\">more info</a>.</p>\n"
      ],
      "text/plain": [
       "<IPython.core.display.HTML object>"
      ]
     },
     "metadata": {
      "tags": []
     },
     "output_type": "display_data"
    }
   ],
   "source": [
    "import numpy as np\n",
    "import matplotlib.pyplot as plt\n",
    "%matplotlib inline\n",
    "\n",
    "import time\n",
    "\n",
    "from keras.models import Sequential\n",
    "from keras.layers import Conv2D, MaxPooling2D, Convolution2D, DepthwiseConv2D, SeparableConv2D\n",
    "from keras.layers import Dense, Flatten, Activation\n",
    "from keras.layers import Dropout, BatchNormalization, GlobalAveragePooling2D\n",
    "from keras.utils import np_utils\n",
    "from keras import backend as K"
   ]
  },
  {
   "cell_type": "code",
   "execution_count": 0,
   "metadata": {
    "colab": {
     "base_uri": "https://localhost:8080/",
     "height": 53
    },
    "colab_type": "code",
    "executionInfo": {
     "elapsed": 5198,
     "status": "ok",
     "timestamp": 1575357227048,
     "user": {
      "displayName": "Hemanth Reddy",
      "photoUrl": "https://lh3.googleusercontent.com/a-/AAuE7mByTu2xLfZj1YR3txrkITcZs9_i74nbaVq6SBdT8Q=s64",
      "userId": "03151495481760299531"
     },
     "user_tz": -330
    },
    "id": "mAHRwUrt7lIM",
    "outputId": "b9999437-2d3d-4a4a-e223-c10c1a373229"
   },
   "outputs": [
    {
     "name": "stdout",
     "output_type": "stream",
     "text": [
      "Downloading data from https://www.cs.toronto.edu/~kriz/cifar-10-python.tar.gz\n",
      "170500096/170498071 [==============================] - 2s 0us/step\n"
     ]
    }
   ],
   "source": [
    "# loading and configuring cifar10 dataset\n",
    "from keras.datasets import cifar10\n",
    "\n",
    "# x_train/test : train/test features\n",
    "# y_train/test : train/test labels\n",
    "(x_train, y_train), (x_test, y_test) = cifar10.load_data()\n",
    "num_train, img_channels, img_rows, img_cols = x_train.shape\n",
    "num_test = x_test.shape[0]\n",
    "num_classes = len(np.unique(y_train))"
   ]
  },
  {
   "cell_type": "code",
   "execution_count": 0,
   "metadata": {
    "colab": {},
    "colab_type": "code",
    "id": "WLuAGWnr84cK"
   },
   "outputs": [],
   "source": [
    "class_names = ['airplane', 'automobile', 'bird', 'cat',  \n",
    "               'deer', 'dog', 'frog', 'horse', 'ship', 'truck']"
   ]
  },
  {
   "cell_type": "code",
   "execution_count": 0,
   "metadata": {
    "colab": {
     "base_uri": "https://localhost:8080/",
     "height": 108
    },
    "colab_type": "code",
    "executionInfo": {
     "elapsed": 2401,
     "status": "ok",
     "timestamp": 1575357232370,
     "user": {
      "displayName": "Hemanth Reddy",
      "photoUrl": "https://lh3.googleusercontent.com/a-/AAuE7mByTu2xLfZj1YR3txrkITcZs9_i74nbaVq6SBdT8Q=s64",
      "userId": "03151495481760299531"
     },
     "user_tz": -330
    },
    "id": "wiD1KJ-M84FC",
    "outputId": "5b75b86d-7fe1-400c-f476-f5202ce49a69"
   },
   "outputs": [
    {
     "name": "stdout",
     "output_type": "stream",
     "text": [
      "Train images : 50000\n",
      "Test images : 10000\n",
      "Total classes : 10\n",
      "Input image shape : (32, 32, 3)\n",
      "\n"
     ]
    }
   ],
   "source": [
    "# https://stackoverflow.com/questions/45965007/multiline-f-string-in-python\n",
    "print(f\"\"\"Train images : {num_train}\n",
    "Test images : {num_test}\n",
    "Total classes : {num_classes}\n",
    "Input image shape : {x_train.shape[1:]}\n",
    "\"\"\")"
   ]
  },
  {
   "cell_type": "code",
   "execution_count": 0,
   "metadata": {
    "colab": {},
    "colab_type": "code",
    "id": "Xt9JEPEDnbKe"
   },
   "outputs": [],
   "source": [
    "from keras.optimizers import Adam\n",
    "from keras.callbacks import LearningRateScheduler\n",
    "def scheduler(epoch, lr):\n",
    "  return round(0.003 * 1/(1 + 0.319 * epoch), 10)"
   ]
  },
  {
   "cell_type": "code",
   "execution_count": 0,
   "metadata": {
    "colab": {},
    "colab_type": "code",
    "id": "qtR-7WvHQH9Y"
   },
   "outputs": [],
   "source": [
    "def plot_model_history(model_history):\n",
    "  fig, ax = plt.subplots(1, 2, figsize=(15, 5))\n",
    "\n",
    "  # summarize history for accuracy\n",
    "  ax[0].plot(range(1, len(model_history.history['acc'])+1), model_history.history['acc'])#, label='Training Acc')\n",
    "  ax[0].plot(range(1, len(model_history.history['val_acc'])+1), model_history.history['val_acc'])#, label='Validation Acc')\n",
    "  ax[0].set_title('Model Accuracy')\n",
    "  ax[0].set_xlabel('Epochs')\n",
    "  ax[0].set_ylabel('Accuracy')\n",
    "  ax[0].set_xticks(np.arange(1, len(model_history.history['acc'])+1), len(model_history.history['acc'])/10)\n",
    "  ax[0].legend(['Train', 'Validation'], loc='best')\n",
    "\n",
    "  # summarize history for loss\n",
    "  ax[1].plot(range(1, len(model_history.history['loss'])+1), model_history.history['loss'])\n",
    "  ax[1].plot(range(1, len(model_history.history['val_loss'])+1), model_history.history['val_loss'])\n",
    "  ax[1].set_title('Model Loss')\n",
    "  ax[1].set_xlabel('Epochs')\n",
    "  ax[1].set_ylabel('Loss')\n",
    "  ax[1].set_xticks(np.arange(1, len(model_history.history['loss'])+1), len(model_history.history['loss'])/10)\n",
    "  ax[1].legend(['Train', 'Validation'], loc='best')\n",
    "\n",
    "  plt.show()"
   ]
  },
  {
   "cell_type": "code",
   "execution_count": 0,
   "metadata": {
    "colab": {},
    "colab_type": "code",
    "id": "1lGp_6CQUmbT"
   },
   "outputs": [],
   "source": [
    "def accuracy(test_x, test_y, model):\n",
    "  result = model.predict(test_x)\n",
    "  predicted = np.argmax(result, axis=1)\n",
    "  true = np.argmax(test_y, axis=1)\n",
    "  num_correct = np.sum(predicted == true)\n",
    "  accuracy = float(num_correct)/result.shape[0]\n",
    "  return (accuracy * 100)"
   ]
  },
  {
   "cell_type": "code",
   "execution_count": 0,
   "metadata": {
    "colab": {
     "base_uri": "https://localhost:8080/",
     "height": 213
    },
    "colab_type": "code",
    "executionInfo": {
     "elapsed": 2725,
     "status": "ok",
     "timestamp": 1575357236893,
     "user": {
      "displayName": "Hemanth Reddy",
      "photoUrl": "https://lh3.googleusercontent.com/a-/AAuE7mByTu2xLfZj1YR3txrkITcZs9_i74nbaVq6SBdT8Q=s64",
      "userId": "03151495481760299531"
     },
     "user_tz": -330
    },
    "id": "0py3Ab_5-CK-",
    "outputId": "284898fa-7531-4d89-83bb-df595cced050"
   },
   "outputs": [
    {
     "data": {
      "image/png": "[encoded data removed]",
      "text/plain": [
       "<Figure size 576x216 with 10 Axes>"
      ]
     },
     "metadata": {
      "tags": []
     },
     "output_type": "display_data"
    }
   ],
   "source": [
    "# Checking images, one for each class\n",
    "fig = plt.figure(figsize=(8,3))\n",
    "for i in range(num_classes):\n",
    "  ax = fig.add_subplot(2, 5, 1+i, xticks=[], yticks=[])\n",
    "  idx = np.where(y_train[:]==i)[0]  # selecting all images of a class\n",
    "  features = x_train[idx,::]\n",
    "  img_num = np.random.randint(features.shape[0]) # selecting random no. from class idx\n",
    "  im = features[img_num]  # selecting features of the image from random no.\n",
    "  ax.set_title(class_names[i])\n",
    "  plt.imshow(im)\n",
    "plt.show()"
   ]
  },
  {
   "cell_type": "code",
   "execution_count": 0,
   "metadata": {
    "colab": {},
    "colab_type": "code",
    "id": "p8iKuwFZWsJW"
   },
   "outputs": [],
   "source": [
    "x_train = x_train.astype('float32')/255\n",
    "x_test = x_test.astype('float32')/255\n",
    "\n",
    "# converting class labels to one hot encoded\n",
    "y_train = np_utils.to_categorical(y_train, num_classes)\n",
    "y_test = np_utils.to_categorical(y_test, num_classes)"
   ]
  },
  {
   "cell_type": "markdown",
   "metadata": {
    "colab_type": "text",
    "id": "yIJ4z94omcuU"
   },
   "source": [
    "## Model"
   ]
  },
  {
   "cell_type": "code",
   "execution_count": 0,
   "metadata": {
    "colab": {
     "base_uri": "https://localhost:8080/",
     "height": 1000
    },
    "colab_type": "code",
    "executionInfo": {
     "elapsed": 6304,
     "status": "ok",
     "timestamp": 1575357254727,
     "user": {
      "displayName": "Hemanth Reddy",
      "photoUrl": "https://lh3.googleusercontent.com/a-/AAuE7mByTu2xLfZj1YR3txrkITcZs9_i74nbaVq6SBdT8Q=s64",
      "userId": "03151495481760299531"
     },
     "user_tz": -330
    },
    "id": "wfyDn3tIXTX6",
    "outputId": "c15e40d7-d669-4337-d17b-eb1d96ae5008"
   },
   "outputs": [
    {
     "name": "stdout",
     "output_type": "stream",
     "text": [
      "WARNING:tensorflow:From /usr/local/lib/python3.6/dist-packages/keras/backend/tensorflow_backend.py:66: The name tf.get_default_graph is deprecated. Please use tf.compat.v1.get_default_graph instead.\n",
      "\n",
      "WARNING:tensorflow:From /usr/local/lib/python3.6/dist-packages/keras/backend/tensorflow_backend.py:541: The name tf.placeholder is deprecated. Please use tf.compat.v1.placeholder instead.\n",
      "\n",
      "WARNING:tensorflow:From /usr/local/lib/python3.6/dist-packages/keras/backend/tensorflow_backend.py:4432: The name tf.random_uniform is deprecated. Please use tf.random.uniform instead.\n",
      "\n",
      "WARNING:tensorflow:From /usr/local/lib/python3.6/dist-packages/keras/backend/tensorflow_backend.py:190: The name tf.get_default_session is deprecated. Please use tf.compat.v1.get_default_session instead.\n",
      "\n",
      "WARNING:tensorflow:From /usr/local/lib/python3.6/dist-packages/keras/backend/tensorflow_backend.py:197: The name tf.ConfigProto is deprecated. Please use tf.compat.v1.ConfigProto instead.\n",
      "\n",
      "WARNING:tensorflow:From /usr/local/lib/python3.6/dist-packages/keras/backend/tensorflow_backend.py:203: The name tf.Session is deprecated. Please use tf.compat.v1.Session instead.\n",
      "\n",
      "WARNING:tensorflow:From /usr/local/lib/python3.6/dist-packages/keras/backend/tensorflow_backend.py:207: The name tf.global_variables is deprecated. Please use tf.compat.v1.global_variables instead.\n",
      "\n",
      "WARNING:tensorflow:From /usr/local/lib/python3.6/dist-packages/keras/backend/tensorflow_backend.py:216: The name tf.is_variable_initialized is deprecated. Please use tf.compat.v1.is_variable_initialized instead.\n",
      "\n",
      "WARNING:tensorflow:From /usr/local/lib/python3.6/dist-packages/keras/backend/tensorflow_backend.py:223: The name tf.variables_initializer is deprecated. Please use tf.compat.v1.variables_initializer instead.\n",
      "\n",
      "WARNING:tensorflow:From /usr/local/lib/python3.6/dist-packages/keras/backend/tensorflow_backend.py:2041: The name tf.nn.fused_batch_norm is deprecated. Please use tf.compat.v1.nn.fused_batch_norm instead.\n",
      "\n",
      "WARNING:tensorflow:From /usr/local/lib/python3.6/dist-packages/keras/backend/tensorflow_backend.py:148: The name tf.placeholder_with_default is deprecated. Please use tf.compat.v1.placeholder_with_default instead.\n",
      "\n",
      "WARNING:tensorflow:From /usr/local/lib/python3.6/dist-packages/keras/backend/tensorflow_backend.py:3733: calling dropout (from tensorflow.python.ops.nn_ops) with keep_prob is deprecated and will be removed in a future version.\n",
      "Instructions for updating:\n",
      "Please use `rate` instead of `keep_prob`. Rate should be set to `rate = 1 - keep_prob`.\n",
      "WARNING:tensorflow:From /usr/local/lib/python3.6/dist-packages/keras/backend/tensorflow_backend.py:4267: The name tf.nn.max_pool is deprecated. Please use tf.nn.max_pool2d instead.\n",
      "\n",
      "Model: \"sequential_1\"\n",
      "_________________________________________________________________\n",
      "Layer (type)                 Output Shape              Param #   \n",
      "=================================================================\n",
      "depthwise_conv2d_1 (Depthwis (None, 32, 32, 3)         27        \n",
      "_________________________________________________________________\n",
      "conv2d_1 (Conv2D)            (None, 32, 32, 32)        96        \n",
      "_________________________________________________________________\n",
      "activation_1 (Activation)    (None, 32, 32, 32)        0         \n",
      "_________________________________________________________________\n",
      "batch_normalization_1 (Batch (None, 32, 32, 32)        128       \n",
      "_________________________________________________________________\n",
      "dropout_1 (Dropout)          (None, 32, 32, 32)        0         \n",
      "_________________________________________________________________\n",
      "depthwise_conv2d_2 (Depthwis (None, 30, 30, 32)        288       \n",
      "_________________________________________________________________\n",
      "conv2d_2 (Conv2D)            (None, 30, 30, 64)        2048      \n",
      "_________________________________________________________________\n",
      "activation_2 (Activation)    (None, 30, 30, 64)        0         \n",
      "_________________________________________________________________\n",
      "batch_normalization_2 (Batch (None, 30, 30, 64)        256       \n",
      "_________________________________________________________________\n",
      "dropout_2 (Dropout)          (None, 30, 30, 64)        0         \n",
      "_________________________________________________________________\n",
      "depthwise_conv2d_3 (Depthwis (None, 28, 28, 64)        576       \n",
      "_________________________________________________________________\n",
      "conv2d_3 (Conv2D)            (None, 28, 28, 128)       8192      \n",
      "_________________________________________________________________\n",
      "activation_3 (Activation)    (None, 28, 28, 128)       0         \n",
      "_________________________________________________________________\n",
      "batch_normalization_3 (Batch (None, 28, 28, 128)       512       \n",
      "_________________________________________________________________\n",
      "dropout_3 (Dropout)          (None, 28, 28, 128)       0         \n",
      "_________________________________________________________________\n",
      "max_pooling2d_1 (MaxPooling2 (None, 14, 14, 128)       0         \n",
      "_________________________________________________________________\n",
      "conv2d_4 (Conv2D)            (None, 14, 14, 32)        4096      \n",
      "_________________________________________________________________\n",
      "depthwise_conv2d_4 (Depthwis (None, 12, 12, 32)        288       \n",
      "_________________________________________________________________\n",
      "conv2d_5 (Conv2D)            (None, 12, 12, 32)        1024      \n",
      "_________________________________________________________________\n",
      "activation_4 (Activation)    (None, 12, 12, 32)        0         \n",
      "_________________________________________________________________\n",
      "batch_normalization_4 (Batch (None, 12, 12, 32)        128       \n",
      "_________________________________________________________________\n",
      "dropout_4 (Dropout)          (None, 12, 12, 32)        0         \n",
      "_________________________________________________________________\n",
      "depthwise_conv2d_5 (Depthwis (None, 10, 10, 32)        288       \n",
      "_________________________________________________________________\n",
      "conv2d_6 (Conv2D)            (None, 10, 10, 64)        2048      \n",
      "_________________________________________________________________\n",
      "activation_5 (Activation)    (None, 10, 10, 64)        0         \n",
      "_________________________________________________________________\n",
      "batch_normalization_5 (Batch (None, 10, 10, 64)        256       \n",
      "_________________________________________________________________\n",
      "dropout_5 (Dropout)          (None, 10, 10, 64)        0         \n",
      "_________________________________________________________________\n",
      "depthwise_conv2d_6 (Depthwis (None, 8, 8, 64)          576       \n",
      "_________________________________________________________________\n",
      "conv2d_7 (Conv2D)            (None, 8, 8, 128)         8192      \n",
      "_________________________________________________________________\n",
      "activation_6 (Activation)    (None, 8, 8, 128)         0         \n",
      "_________________________________________________________________\n",
      "batch_normalization_6 (Batch (None, 8, 8, 128)         512       \n",
      "_________________________________________________________________\n",
      "dropout_6 (Dropout)          (None, 8, 8, 128)         0         \n",
      "_________________________________________________________________\n",
      "max_pooling2d_2 (MaxPooling2 (None, 4, 4, 128)         0         \n",
      "_________________________________________________________________\n",
      "conv2d_8 (Conv2D)            (None, 4, 4, 32)          4096      \n",
      "_________________________________________________________________\n",
      "depthwise_conv2d_7 (Depthwis (None, 2, 2, 32)          288       \n",
      "_________________________________________________________________\n",
      "conv2d_9 (Conv2D)            (None, 2, 2, 32)          1024      \n",
      "_________________________________________________________________\n",
      "activation_7 (Activation)    (None, 2, 2, 32)          0         \n",
      "_________________________________________________________________\n",
      "batch_normalization_7 (Batch (None, 2, 2, 32)          128       \n",
      "_________________________________________________________________\n",
      "dropout_7 (Dropout)          (None, 2, 2, 32)          0         \n",
      "_________________________________________________________________\n",
      "conv2d_10 (Conv2D)           (None, 2, 2, 10)          320       \n",
      "_________________________________________________________________\n",
      "global_average_pooling2d_1 ( (None, 10)                0         \n",
      "_________________________________________________________________\n",
      "activation_8 (Activation)    (None, 10)                0         \n",
      "=================================================================\n",
      "Total params: 35,387\n",
      "Trainable params: 34,427\n",
      "Non-trainable params: 960\n",
      "_________________________________________________________________\n"
     ]
    }
   ],
   "source": [
    "# Define the model\n",
    "model = Sequential() \n",
    "model.add(DepthwiseConv2D(3, depth_multiplier=1, use_bias=False, padding='same', input_shape=(32, 32, 3))) # 32x3x3x32 RF:3 # padding==border_mode(old version)\n",
    "model.add(Convolution2D(32, 1, use_bias=False, padding='same')) # 32x3x3x32 RF:\n",
    "model.add(Activation('relu'))\n",
    "model.add(BatchNormalization())\n",
    "model.add(Dropout(0.05))\n",
    "\n",
    "model.add(DepthwiseConv2D(3, use_bias=False)) # 30x3x3x64\n",
    "model.add(Convolution2D(64, 1, use_bias=False)) # 30x3x3x64\n",
    "model.add(Activation('relu'))\n",
    "model.add(BatchNormalization())\n",
    "model.add(Dropout(0.05))\n",
    "\n",
    "model.add(DepthwiseConv2D(3, use_bias=False)) # 28x3x3x128\n",
    "model.add(Convolution2D(128, 1, use_bias=False))  # 28x3x3x128\n",
    "model.add(Activation('relu'))\n",
    "model.add(BatchNormalization())\n",
    "model.add(Dropout(0.05))\n",
    "\n",
    "model.add(MaxPooling2D(2)) # 14x3x3x128\n",
    "model.add(Convolution2D(32, 1, use_bias=False))  # 14x3x3x32\n",
    "\n",
    "model.add(DepthwiseConv2D(3, use_bias=False)) # 12x3x3x32 RF:3    \n",
    "model.add(Convolution2D(32, 1, use_bias=False)) # 12x3x3x32 RF:\n",
    "model.add(Activation('relu'))\n",
    "model.add(BatchNormalization())\n",
    "model.add(Dropout(0.1))\n",
    "\n",
    "model.add(DepthwiseConv2D(3, use_bias=False)) # 10x3x3x64\n",
    "model.add(Convolution2D(64, 1, use_bias=False)) # 10x3x3x64\n",
    "model.add(Activation('relu'))\n",
    "model.add(BatchNormalization())\n",
    "model.add(Dropout(0.1))\n",
    "\n",
    "model.add(DepthwiseConv2D(3, use_bias=False)) # 8x3x3x128\n",
    "model.add(Convolution2D(128, 1, use_bias=False))  # 8x3x3x128\n",
    "model.add(Activation('relu'))\n",
    "model.add(BatchNormalization())\n",
    "model.add(Dropout(0.1))\n",
    "\n",
    "model.add(MaxPooling2D(2)) # 4x3x3x128\n",
    "model.add(Convolution2D(32, 1, use_bias=False))  # 4x3x3x32\n",
    "\n",
    "model.add(DepthwiseConv2D(3, use_bias=False)) # 2x3x3x32 RF:3    \n",
    "model.add(Convolution2D(32, 1, use_bias=False)) # 2x3x3x32 RF:\n",
    "model.add(Activation('relu'))\n",
    "model.add(BatchNormalization())\n",
    "model.add(Dropout(0.15))\n",
    "\n",
    "model.add(Convolution2D(10, 1, use_bias=False)) # 2x3x3x10 RF:\n",
    "model.add(GlobalAveragePooling2D()) # 1X10\n",
    "model.add(Activation('softmax'))\n",
    "\n",
    "model.summary()"
   ]
  },
  {
   "cell_type": "code",
   "execution_count": 0,
   "metadata": {
    "colab": {
     "base_uri": "https://localhost:8080/",
     "height": 110
    },
    "colab_type": "code",
    "executionInfo": {
     "elapsed": 2040,
     "status": "ok",
     "timestamp": 1575357384626,
     "user": {
      "displayName": "Hemanth Reddy",
      "photoUrl": "https://lh3.googleusercontent.com/a-/AAuE7mByTu2xLfZj1YR3txrkITcZs9_i74nbaVq6SBdT8Q=s64",
      "userId": "03151495481760299531"
     },
     "user_tz": -330
    },
    "id": "G6jeD_Vvfp-S",
    "outputId": "8f854af8-b4a5-42ad-eb06-51e3c05c2d53"
   },
   "outputs": [
    {
     "name": "stdout",
     "output_type": "stream",
     "text": [
      "WARNING:tensorflow:From /usr/local/lib/python3.6/dist-packages/keras/optimizers.py:793: The name tf.train.Optimizer is deprecated. Please use tf.compat.v1.train.Optimizer instead.\n",
      "\n",
      "WARNING:tensorflow:From /usr/local/lib/python3.6/dist-packages/keras/backend/tensorflow_backend.py:3576: The name tf.log is deprecated. Please use tf.math.log instead.\n",
      "\n"
     ]
    }
   ],
   "source": [
    "# Compile the model\n",
    "model.compile(optimizer=Adam(lr=0.003), loss='categorical_crossentropy', metrics=['accuracy'])"
   ]
  },
  {
   "cell_type": "code",
   "execution_count": 0,
   "metadata": {
    "colab": {},
    "colab_type": "code",
    "id": "u-cr82_teNuQ"
   },
   "outputs": [],
   "source": [
    "from keras.preprocessing.image import ImageDataGenerator\n",
    "datagen = ImageDataGenerator()"
   ]
  },
  {
   "cell_type": "code",
   "execution_count": 0,
   "metadata": {
    "colab": {
     "base_uri": "https://localhost:8080/",
     "height": 1000
    },
    "colab_type": "code",
    "executionInfo": {
     "elapsed": 1105235,
     "status": "ok",
     "timestamp": 1575358494080,
     "user": {
      "displayName": "Hemanth Reddy",
      "photoUrl": "https://lh3.googleusercontent.com/a-/AAuE7mByTu2xLfZj1YR3txrkITcZs9_i74nbaVq6SBdT8Q=s64",
      "userId": "03151495481760299531"
     },
     "user_tz": -330
    },
    "id": "S9uG39-EeapX",
    "outputId": "719cef0a-59ab-459b-a978-84f506847496"
   },
   "outputs": [
    {
     "name": "stdout",
     "output_type": "stream",
     "text": [
      "WARNING:tensorflow:From /usr/local/lib/python3.6/dist-packages/tensorflow_core/python/ops/math_grad.py:1424: where (from tensorflow.python.ops.array_ops) is deprecated and will be removed in a future version.\n",
      "Instructions for updating:\n",
      "Use tf.where in 2.0, which has the same broadcast rule as np.where\n"
     ]
    },
    {
     "name": "stderr",
     "output_type": "stream",
     "text": [
      "/usr/local/lib/python3.6/dist-packages/ipykernel_launcher.py:5: UserWarning: The semantics of the Keras 2 argument `steps_per_epoch` is not the same as the Keras 1 argument `samples_per_epoch`. `steps_per_epoch` is the number of batches to draw from the generator at each epoch. Basically steps_per_epoch = samples_per_epoch/batch_size. Similarly `nb_val_samples`->`validation_steps` and `val_samples`->`steps` arguments have changed. Update your method calls accordingly.\n",
      "  \"\"\"\n",
      "/usr/local/lib/python3.6/dist-packages/ipykernel_launcher.py:5: UserWarning: Update your `fit_generator` call to the Keras 2 API: `fit_generator(<keras_pre..., validation_data=(array([[[..., callbacks=[<keras.ca..., verbose=1, steps_per_epoch=390, epochs=50)`\n",
      "  \"\"\"\n"
     ]
    },
    {
     "name": "stdout",
     "output_type": "stream",
     "text": [
      "WARNING:tensorflow:From /usr/local/lib/python3.6/dist-packages/keras/backend/tensorflow_backend.py:1033: The name tf.assign_add is deprecated. Please use tf.compat.v1.assign_add instead.\n",
      "\n",
      "WARNING:tensorflow:From /usr/local/lib/python3.6/dist-packages/keras/backend/tensorflow_backend.py:1020: The name tf.assign is deprecated. Please use tf.compat.v1.assign instead.\n",
      "\n",
      "Epoch 1/50\n",
      "\n",
      "Epoch 00001: LearningRateScheduler setting learning rate to 0.003.\n",
      "390/390 [==============================] - 28s 71ms/step - loss: 1.4664 - acc: 0.4662 - val_loss: 1.4501 - val_acc: 0.5419\n",
      "Epoch 2/50\n",
      "\n",
      "Epoch 00002: LearningRateScheduler setting learning rate to 0.0022744503.\n",
      "390/390 [==============================] - 22s 56ms/step - loss: 1.0807 - acc: 0.6146 - val_loss: 1.0308 - val_acc: 0.6334\n",
      "Epoch 3/50\n",
      "\n",
      "Epoch 00003: LearningRateScheduler setting learning rate to 0.0018315018.\n",
      "390/390 [==============================] - 22s 56ms/step - loss: 0.9341 - acc: 0.6685 - val_loss: 0.9493 - val_acc: 0.6684\n",
      "Epoch 4/50\n",
      "\n",
      "Epoch 00004: LearningRateScheduler setting learning rate to 0.0015329586.\n",
      "390/390 [==============================] - 22s 56ms/step - loss: 0.8485 - acc: 0.6974 - val_loss: 0.9188 - val_acc: 0.6842\n",
      "Epoch 5/50\n",
      "\n",
      "Epoch 00005: LearningRateScheduler setting learning rate to 0.0013181019.\n",
      "390/390 [==============================] - 22s 56ms/step - loss: 0.7895 - acc: 0.7222 - val_loss: 0.8428 - val_acc: 0.7048\n",
      "Epoch 6/50\n",
      "\n",
      "Epoch 00006: LearningRateScheduler setting learning rate to 0.0011560694.\n",
      "390/390 [==============================] - 22s 56ms/step - loss: 0.7469 - acc: 0.7374 - val_loss: 0.8208 - val_acc: 0.7103\n",
      "Epoch 7/50\n",
      "\n",
      "Epoch 00007: LearningRateScheduler setting learning rate to 0.0010295127.\n",
      "390/390 [==============================] - 22s 56ms/step - loss: 0.7064 - acc: 0.7517 - val_loss: 0.8243 - val_acc: 0.7130\n",
      "Epoch 8/50\n",
      "\n",
      "Epoch 00008: LearningRateScheduler setting learning rate to 0.0009279307.\n",
      "390/390 [==============================] - 22s 56ms/step - loss: 0.6816 - acc: 0.7600 - val_loss: 0.7130 - val_acc: 0.7535\n",
      "Epoch 9/50\n",
      "\n",
      "Epoch 00009: LearningRateScheduler setting learning rate to 0.0008445946.\n",
      "390/390 [==============================] - 22s 56ms/step - loss: 0.6532 - acc: 0.7703 - val_loss: 0.7057 - val_acc: 0.7569\n",
      "Epoch 10/50\n",
      "\n",
      "Epoch 00010: LearningRateScheduler setting learning rate to 0.0007749935.\n",
      "390/390 [==============================] - 22s 56ms/step - loss: 0.6351 - acc: 0.7770 - val_loss: 0.6898 - val_acc: 0.7604\n",
      "Epoch 11/50\n",
      "\n",
      "Epoch 00011: LearningRateScheduler setting learning rate to 0.0007159905.\n",
      "390/390 [==============================] - 22s 56ms/step - loss: 0.6131 - acc: 0.7860 - val_loss: 0.6975 - val_acc: 0.7555\n",
      "Epoch 12/50\n",
      "\n",
      "Epoch 00012: LearningRateScheduler setting learning rate to 0.000665336.\n",
      "390/390 [==============================] - 22s 56ms/step - loss: 0.5975 - acc: 0.7906 - val_loss: 0.6833 - val_acc: 0.7615\n",
      "Epoch 13/50\n",
      "\n",
      "Epoch 00013: LearningRateScheduler setting learning rate to 0.0006213753.\n",
      "390/390 [==============================] - 22s 56ms/step - loss: 0.5857 - acc: 0.7925 - val_loss: 0.6675 - val_acc: 0.7668\n",
      "Epoch 14/50\n",
      "\n",
      "Epoch 00014: LearningRateScheduler setting learning rate to 0.0005828638.\n",
      "390/390 [==============================] - 22s 56ms/step - loss: 0.5701 - acc: 0.8032 - val_loss: 0.6788 - val_acc: 0.7629\n",
      "Epoch 15/50\n",
      "\n",
      "Epoch 00015: LearningRateScheduler setting learning rate to 0.0005488474.\n",
      "390/390 [==============================] - 22s 56ms/step - loss: 0.5610 - acc: 0.8038 - val_loss: 0.6518 - val_acc: 0.7755\n",
      "Epoch 16/50\n",
      "\n",
      "Epoch 00016: LearningRateScheduler setting learning rate to 0.0005185825.\n",
      "390/390 [==============================] - 22s 56ms/step - loss: 0.5508 - acc: 0.8079 - val_loss: 0.6747 - val_acc: 0.7705\n",
      "Epoch 17/50\n",
      "\n",
      "Epoch 00017: LearningRateScheduler setting learning rate to 0.000491481.\n",
      "390/390 [==============================] - 22s 56ms/step - loss: 0.5444 - acc: 0.8096 - val_loss: 0.6813 - val_acc: 0.7689\n",
      "Epoch 18/50\n",
      "\n",
      "Epoch 00018: LearningRateScheduler setting learning rate to 0.0004670715.\n",
      "390/390 [==============================] - 22s 56ms/step - loss: 0.5334 - acc: 0.8132 - val_loss: 0.6616 - val_acc: 0.7774\n",
      "Epoch 19/50\n",
      "\n",
      "Epoch 00019: LearningRateScheduler setting learning rate to 0.0004449718.\n",
      "390/390 [==============================] - 22s 56ms/step - loss: 0.5255 - acc: 0.8181 - val_loss: 0.6359 - val_acc: 0.7783\n",
      "Epoch 20/50\n",
      "\n",
      "Epoch 00020: LearningRateScheduler setting learning rate to 0.000424869.\n",
      "390/390 [==============================] - 22s 56ms/step - loss: 0.5173 - acc: 0.8204 - val_loss: 0.6908 - val_acc: 0.7609\n",
      "Epoch 21/50\n",
      "\n",
      "Epoch 00021: LearningRateScheduler setting learning rate to 0.0004065041.\n",
      "390/390 [==============================] - 22s 56ms/step - loss: 0.5136 - acc: 0.8217 - val_loss: 0.6059 - val_acc: 0.7897\n",
      "Epoch 22/50\n",
      "\n",
      "Epoch 00022: LearningRateScheduler setting learning rate to 0.000389661.\n",
      "390/390 [==============================] - 22s 56ms/step - loss: 0.5043 - acc: 0.8240 - val_loss: 0.6458 - val_acc: 0.7813\n",
      "Epoch 23/50\n",
      "\n",
      "Epoch 00023: LearningRateScheduler setting learning rate to 0.0003741581.\n",
      "390/390 [==============================] - 22s 56ms/step - loss: 0.5047 - acc: 0.8229 - val_loss: 0.6179 - val_acc: 0.7882\n",
      "Epoch 24/50\n",
      "\n",
      "Epoch 00024: LearningRateScheduler setting learning rate to 0.0003598417.\n",
      "390/390 [==============================] - 22s 56ms/step - loss: 0.4926 - acc: 0.8288 - val_loss: 0.6164 - val_acc: 0.7849\n",
      "Epoch 25/50\n",
      "\n",
      "Epoch 00025: LearningRateScheduler setting learning rate to 0.0003465804.\n",
      "390/390 [==============================] - 22s 56ms/step - loss: 0.4856 - acc: 0.8312 - val_loss: 0.6375 - val_acc: 0.7828\n",
      "Epoch 26/50\n",
      "\n",
      "Epoch 00026: LearningRateScheduler setting learning rate to 0.0003342618.\n",
      "390/390 [==============================] - 22s 57ms/step - loss: 0.4879 - acc: 0.8288 - val_loss: 0.6228 - val_acc: 0.7863\n",
      "Epoch 27/50\n",
      "\n",
      "Epoch 00027: LearningRateScheduler setting learning rate to 0.0003227889.\n",
      "390/390 [==============================] - 22s 56ms/step - loss: 0.4797 - acc: 0.8326 - val_loss: 0.6221 - val_acc: 0.7847\n",
      "Epoch 28/50\n",
      "\n",
      "Epoch 00028: LearningRateScheduler setting learning rate to 0.0003120774.\n",
      "390/390 [==============================] - 22s 56ms/step - loss: 0.4784 - acc: 0.8321 - val_loss: 0.6092 - val_acc: 0.7891\n",
      "Epoch 29/50\n",
      "\n",
      "Epoch 00029: LearningRateScheduler setting learning rate to 0.000302054.\n",
      "390/390 [==============================] - 22s 56ms/step - loss: 0.4744 - acc: 0.8342 - val_loss: 0.6053 - val_acc: 0.7943\n",
      "Epoch 30/50\n",
      "\n",
      "Epoch 00030: LearningRateScheduler setting learning rate to 0.0002926544.\n",
      "390/390 [==============================] - 22s 56ms/step - loss: 0.4698 - acc: 0.8366 - val_loss: 0.6180 - val_acc: 0.7889\n",
      "Epoch 31/50\n",
      "\n",
      "Epoch 00031: LearningRateScheduler setting learning rate to 0.0002838221.\n",
      "390/390 [==============================] - 22s 56ms/step - loss: 0.4654 - acc: 0.8361 - val_loss: 0.5980 - val_acc: 0.7960\n",
      "Epoch 32/50\n",
      "\n",
      "Epoch 00032: LearningRateScheduler setting learning rate to 0.0002755074.\n",
      "390/390 [==============================] - 22s 56ms/step - loss: 0.4671 - acc: 0.8354 - val_loss: 0.6073 - val_acc: 0.7901\n",
      "Epoch 33/50\n",
      "\n",
      "Epoch 00033: LearningRateScheduler setting learning rate to 0.000267666.\n",
      "390/390 [==============================] - 22s 56ms/step - loss: 0.4594 - acc: 0.8385 - val_loss: 0.6132 - val_acc: 0.7929\n",
      "Epoch 34/50\n",
      "\n",
      "Epoch 00034: LearningRateScheduler setting learning rate to 0.0002602585.\n",
      "390/390 [==============================] - 22s 56ms/step - loss: 0.4576 - acc: 0.8409 - val_loss: 0.6107 - val_acc: 0.7939\n",
      "Epoch 35/50\n",
      "\n",
      "Epoch 00035: LearningRateScheduler setting learning rate to 0.00025325.\n",
      "390/390 [==============================] - 22s 56ms/step - loss: 0.4476 - acc: 0.8417 - val_loss: 0.6148 - val_acc: 0.7902\n",
      "Epoch 36/50\n",
      "\n",
      "Epoch 00036: LearningRateScheduler setting learning rate to 0.0002466091.\n",
      "390/390 [==============================] - 22s 56ms/step - loss: 0.4529 - acc: 0.8413 - val_loss: 0.5974 - val_acc: 0.7946\n",
      "Epoch 37/50\n",
      "\n",
      "Epoch 00037: LearningRateScheduler setting learning rate to 0.0002403076.\n",
      "390/390 [==============================] - 22s 56ms/step - loss: 0.4469 - acc: 0.8416 - val_loss: 0.6214 - val_acc: 0.7906\n",
      "Epoch 38/50\n",
      "\n",
      "Epoch 00038: LearningRateScheduler setting learning rate to 0.0002343201.\n",
      "390/390 [==============================] - 22s 56ms/step - loss: 0.4446 - acc: 0.8448 - val_loss: 0.6154 - val_acc: 0.7890\n",
      "Epoch 39/50\n",
      "\n",
      "Epoch 00039: LearningRateScheduler setting learning rate to 0.0002286237.\n",
      "390/390 [==============================] - 22s 56ms/step - loss: 0.4476 - acc: 0.8419 - val_loss: 0.6122 - val_acc: 0.7913\n",
      "Epoch 40/50\n",
      "\n",
      "Epoch 00040: LearningRateScheduler setting learning rate to 0.0002231977.\n",
      "390/390 [==============================] - 22s 56ms/step - loss: 0.4406 - acc: 0.8450 - val_loss: 0.6067 - val_acc: 0.7942\n",
      "Epoch 41/50\n",
      "\n",
      "Epoch 00041: LearningRateScheduler setting learning rate to 0.0002180233.\n",
      "390/390 [==============================] - 22s 56ms/step - loss: 0.4326 - acc: 0.8480 - val_loss: 0.6008 - val_acc: 0.7984\n",
      "Epoch 42/50\n",
      "\n",
      "Epoch 00042: LearningRateScheduler setting learning rate to 0.0002130833.\n",
      "390/390 [==============================] - 22s 56ms/step - loss: 0.4347 - acc: 0.8479 - val_loss: 0.6224 - val_acc: 0.7895\n",
      "Epoch 43/50\n",
      "\n",
      "Epoch 00043: LearningRateScheduler setting learning rate to 0.0002083623.\n",
      "390/390 [==============================] - 22s 56ms/step - loss: 0.4329 - acc: 0.8467 - val_loss: 0.6194 - val_acc: 0.7891\n",
      "Epoch 44/50\n",
      "\n",
      "Epoch 00044: LearningRateScheduler setting learning rate to 0.0002038459.\n",
      "390/390 [==============================] - 22s 56ms/step - loss: 0.4341 - acc: 0.8458 - val_loss: 0.6032 - val_acc: 0.7967\n",
      "Epoch 45/50\n",
      "\n",
      "Epoch 00045: LearningRateScheduler setting learning rate to 0.0001995211.\n",
      "390/390 [==============================] - 22s 56ms/step - loss: 0.4341 - acc: 0.8471 - val_loss: 0.5881 - val_acc: 0.8006\n",
      "Epoch 46/50\n",
      "\n",
      "Epoch 00046: LearningRateScheduler setting learning rate to 0.0001953761.\n",
      "390/390 [==============================] - 22s 56ms/step - loss: 0.4290 - acc: 0.8495 - val_loss: 0.6031 - val_acc: 0.7955\n",
      "Epoch 47/50\n",
      "\n",
      "Epoch 00047: LearningRateScheduler setting learning rate to 0.0001913998.\n",
      "390/390 [==============================] - 22s 56ms/step - loss: 0.4268 - acc: 0.8505 - val_loss: 0.5931 - val_acc: 0.7997\n",
      "Epoch 48/50\n",
      "\n",
      "Epoch 00048: LearningRateScheduler setting learning rate to 0.0001875821.\n",
      "390/390 [==============================] - 22s 57ms/step - loss: 0.4250 - acc: 0.8505 - val_loss: 0.6088 - val_acc: 0.7946\n",
      "Epoch 49/50\n",
      "\n",
      "Epoch 00049: LearningRateScheduler setting learning rate to 0.0001839137.\n",
      "390/390 [==============================] - 22s 56ms/step - loss: 0.4209 - acc: 0.8500 - val_loss: 0.5898 - val_acc: 0.7997\n",
      "Epoch 50/50\n",
      "\n",
      "Epoch 00050: LearningRateScheduler setting learning rate to 0.000180386.\n",
      "390/390 [==============================] - 22s 56ms/step - loss: 0.4201 - acc: 0.8519 - val_loss: 0.5948 - val_acc: 0.8023\n",
      "Model took 1104.17 seconds to train\n"
     ]
    }
   ],
   "source": [
    "# train the model\n",
    "start = time.time()\n",
    "# Train the model\n",
    "model_info = model.fit_generator(datagen.flow(x_train, y_train, batch_size = 128),\n",
    "                                 samples_per_epoch = x_train.shape[0], nb_epoch = 50, \n",
    "                                 validation_data = (x_test, y_test),callbacks=[LearningRateScheduler(scheduler, verbose=1)], verbose=1)\n",
    "end = time.time()\n",
    "print (\"Model took %0.2f seconds to train\"%(end - start))"
   ]
  },
  {
   "cell_type": "code",
   "execution_count": 0,
   "metadata": {
    "colab": {
     "base_uri": "https://localhost:8080/",
     "height": 350
    },
    "colab_type": "code",
    "executionInfo": {
     "elapsed": 1079977,
     "status": "ok",
     "timestamp": 1575358495697,
     "user": {
      "displayName": "Hemanth Reddy",
      "photoUrl": "https://lh3.googleusercontent.com/a-/AAuE7mByTu2xLfZj1YR3txrkITcZs9_i74nbaVq6SBdT8Q=s64",
      "userId": "03151495481760299531"
     },
     "user_tz": -330
    },
    "id": "ifmyuJy1edf-",
    "outputId": "cf8d8745-ca1e-456b-faa4-c978452ee5ef"
   },
   "outputs": [
    {
     "data": {
      "image/png": "[encoded data removed]",
      "text/plain": [
       "<Figure size 1080x360 with 2 Axes>"
      ]
     },
     "metadata": {
      "tags": []
     },
     "output_type": "display_data"
    }
   ],
   "source": [
    "# plot model history\n",
    "plot_model_history(model_info)"
   ]
  },
  {
   "cell_type": "code",
   "execution_count": 0,
   "metadata": {
    "colab": {
     "base_uri": "https://localhost:8080/",
     "height": 35
    },
    "colab_type": "code",
    "executionInfo": {
     "elapsed": 1080052,
     "status": "ok",
     "timestamp": 1575358496032,
     "user": {
      "displayName": "Hemanth Reddy",
      "photoUrl": "https://lh3.googleusercontent.com/a-/AAuE7mByTu2xLfZj1YR3txrkITcZs9_i74nbaVq6SBdT8Q=s64",
      "userId": "03151495481760299531"
     },
     "user_tz": -330
    },
    "id": "xe6CIp5zhaGB",
    "outputId": "70a73142-9478-422e-80af-0e3aed50bb8b"
   },
   "outputs": [
    {
     "name": "stdout",
     "output_type": "stream",
     "text": [
      "Accuracy on test data is: 80.23\n"
     ]
    }
   ],
   "source": [
    "# compute test accuracy\n",
    "print (\"Accuracy on test data is: %0.2f\"%accuracy(x_test, y_test, model))"
   ]
  },
  {
   "cell_type": "code",
   "execution_count": 0,
   "metadata": {
    "colab": {},
    "colab_type": "code",
    "id": "XTG-gPfMiCnh"
   },
   "outputs": [],
   "source": []
  },
  {
   "cell_type": "code",
   "execution_count": 0,
   "metadata": {
    "colab": {},
    "colab_type": "code",
    "id": "9wUiDBEVmcd3"
   },
   "outputs": [],
   "source": []
  },
  {
   "cell_type": "code",
   "execution_count": 0,
   "metadata": {
    "colab": {},
    "colab_type": "code",
    "id": "gEa21Y1UrTfg"
   },
   "outputs": [],
   "source": []
  }
 ],
 "metadata": {
  "accelerator": "GPU",
  "colab": {
   "collapsed_sections": [],
   "machine_shape": "hm",
   "name": "S3_model2.ipynb",
   "provenance": [
    {
     "file_id": "1q0IMK5QWfRSILJ67uQAZRZ522Th6hFl7",
     "timestamp": 1575350193531
    }
   ]
  },
  "kernelspec": {
   "display_name": "Python 3",
   "language": "python",
   "name": "python3"
  },
  "language_info": {
   "codemirror_mode": {
    "name": "ipython",
    "version": 3
   },
   "file_extension": ".py",
   "mimetype": "text/x-python",
   "name": "python",
   "nbconvert_exporter": "python",
   "pygments_lexer": "ipython3",
   "version": "3.6.8"
  },
  "toc": {
   "base_numbering": 1,
   "nav_menu": {},
   "number_sections": true,
   "sideBar": true,
   "skip_h1_title": false,
   "title_cell": "Table of Contents",
   "title_sidebar": "Contents",
   "toc_cell": false,
   "toc_position": {},
   "toc_section_display": true,
   "toc_window_display": false
  },
  "varInspector": {
   "cols": {
    "lenName": 16,
    "lenType": 16,
    "lenVar": 40
   },
   "kernels_config": {
    "python": {
     "delete_cmd_postfix": "",
     "delete_cmd_prefix": "del ",
     "library": "var_list.py",
     "varRefreshCmd": "print(var_dic_list())"
    },
    "r": {
     "delete_cmd_postfix": ") ",
     "delete_cmd_prefix": "rm(",
     "library": "var_list.r",
     "varRefreshCmd": "cat(var_dic_list()) "
    }
   },
   "types_to_exclude": [
    "module",
    "function",
    "builtin_function_or_method",
    "instance",
    "_Feature"
   ],
   "window_display": false
  }
 },
 "nbformat": 4,
 "nbformat_minor": 1
}
