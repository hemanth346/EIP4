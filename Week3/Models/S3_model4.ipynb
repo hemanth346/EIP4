{
 "cells": [
  {
   "cell_type": "markdown",
   "metadata": {
    "colab_type": "text",
    "id": "z3saB-0g5XwS"
   },
   "source": [
    "## Installs, imports and Boilerplate code"
   ]
  },
  {
   "cell_type": "code",
   "execution_count": 0,
   "metadata": {
    "colab": {},
    "colab_type": "code",
    "id": "DQb-CoVB4W9Z"
   },
   "outputs": [],
   "source": [
    "import warnings\n",
    "warnings.filterwarnings(action='once')"
   ]
  },
  {
   "cell_type": "code",
   "execution_count": 2,
   "metadata": {
    "colab": {
     "base_uri": "https://localhost:8080/",
     "height": 284
    },
    "colab_type": "code",
    "id": "ijO161Io5AWK",
    "outputId": "7cda6e22-826a-4aae-9df2-dacb3ec3287d"
   },
   "outputs": [
    {
     "name": "stderr",
     "output_type": "stream",
     "text": [
      "/usr/lib/python3.6/importlib/_bootstrap.py:219: ImportWarning: can't resolve package from __spec__ or __package__, falling back on __name__ and __path__\n",
      "  return f(*args, **kwds)\n",
      "Using TensorFlow backend.\n",
      "/usr/lib/python3.6/importlib/_bootstrap.py:219: RuntimeWarning: numpy.ufunc size changed, may indicate binary incompatibility. Expected 216, got 192\n",
      "  return f(*args, **kwds)\n",
      "/usr/local/lib/python3.6/dist-packages/tensorflow_core/python/keras/backend.py:5747: ResourceWarning: unclosed file <_io.TextIOWrapper name='/root/.keras/keras.json' mode='r' encoding='UTF-8'>\n",
      "  _config = json.load(open(_config_path))\n",
      "/usr/lib/python3.6/importlib/_bootstrap.py:219: RuntimeWarning: numpy.ufunc size changed, may indicate binary incompatibility. Expected 192 from C header, got 216 from PyObject\n",
      "  return f(*args, **kwds)\n",
      "/usr/lib/python3.6/importlib/_bootstrap.py:219: RuntimeWarning: numpy.ufunc size changed, may indicate binary incompatibility. Expected 192 from C header, got 216 from PyObject\n",
      "  return f(*args, **kwds)\n"
     ]
    },
    {
     "data": {
      "text/html": [
       "<p style=\"color: red;\">\n",
       "The default version of TensorFlow in Colab will soon switch to TensorFlow 2.x.<br>\n",
       "We recommend you <a href=\"https://www.tensorflow.org/guide/migrate\" target=\"_blank\">upgrade</a> now \n",
       "or ensure your notebook will continue to use TensorFlow 1.x via the <code>%tensorflow_version 1.x</code> magic:\n",
       "<a href=\"https://colab.research.google.com/notebooks/tensorflow_version.ipynb\" target=\"_blank\">more info</a>.</p>\n"
      ],
      "text/plain": [
       "<IPython.core.display.HTML object>"
      ]
     },
     "metadata": {
      "tags": []
     },
     "output_type": "display_data"
    }
   ],
   "source": [
    "import numpy as np\n",
    "import matplotlib.pyplot as plt\n",
    "%matplotlib inline\n",
    "\n",
    "import time\n",
    "\n",
    "from keras.models import Sequential\n",
    "from keras.layers import Conv2D, MaxPooling2D, Convolution2D, DepthwiseConv2D, SeparableConv2D\n",
    "from keras.layers import Dense, Flatten, Activation\n",
    "from keras.layers import Dropout, BatchNormalization, GlobalAveragePooling2D\n",
    "from keras.utils import np_utils\n",
    "from keras import backend as K"
   ]
  },
  {
   "cell_type": "code",
   "execution_count": 3,
   "metadata": {
    "colab": {
     "base_uri": "https://localhost:8080/",
     "height": 53
    },
    "colab_type": "code",
    "id": "mAHRwUrt7lIM",
    "outputId": "2a84e732-bddb-4fe7-ef53-453bd69dc5fc"
   },
   "outputs": [
    {
     "name": "stdout",
     "output_type": "stream",
     "text": [
      "Downloading data from https://www.cs.toronto.edu/~kriz/cifar-10-python.tar.gz\n",
      "170500096/170498071 [==============================] - 11s 0us/step\n"
     ]
    }
   ],
   "source": [
    "# loading and configuring cifar10 dataset\n",
    "from keras.datasets import cifar10\n",
    "\n",
    "# x_train/test : train/test features\n",
    "# y_train/test : train/test labels\n",
    "(x_train, y_train), (x_test, y_test) = cifar10.load_data()\n",
    "num_train, img_channels, img_rows, img_cols = x_train.shape\n",
    "num_test = x_test.shape[0]\n",
    "num_classes = len(np.unique(y_train))"
   ]
  },
  {
   "cell_type": "code",
   "execution_count": 0,
   "metadata": {
    "colab": {},
    "colab_type": "code",
    "id": "WLuAGWnr84cK"
   },
   "outputs": [],
   "source": [
    "class_names = ['airplane', 'automobile', 'bird', 'cat',  \n",
    "               'deer', 'dog', 'frog', 'horse', 'ship', 'truck']"
   ]
  },
  {
   "cell_type": "code",
   "execution_count": 5,
   "metadata": {
    "colab": {
     "base_uri": "https://localhost:8080/",
     "height": 108
    },
    "colab_type": "code",
    "id": "wiD1KJ-M84FC",
    "outputId": "bb5c46fb-7b26-4dcb-fd32-d3ec02e79d27"
   },
   "outputs": [
    {
     "name": "stdout",
     "output_type": "stream",
     "text": [
      "Train images : 50000\n",
      "Test images : 10000\n",
      "Total classes : 10\n",
      "Input image shape : (32, 32, 3)\n",
      "\n"
     ]
    }
   ],
   "source": [
    "# https://stackoverflow.com/questions/45965007/multiline-f-string-in-python\n",
    "print(f\"\"\"Train images : {num_train}\n",
    "Test images : {num_test}\n",
    "Total classes : {num_classes}\n",
    "Input image shape : {x_train.shape[1:]}\n",
    "\"\"\")"
   ]
  },
  {
   "cell_type": "code",
   "execution_count": 0,
   "metadata": {
    "colab": {},
    "colab_type": "code",
    "id": "Xt9JEPEDnbKe"
   },
   "outputs": [],
   "source": [
    "from keras.optimizers import Adam\n",
    "from keras.callbacks import LearningRateScheduler\n",
    "def scheduler(epoch, lr):\n",
    "  return round(0.01 * 1/(1 + 0.319 * epoch), 10)"
   ]
  },
  {
   "cell_type": "code",
   "execution_count": 0,
   "metadata": {
    "colab": {},
    "colab_type": "code",
    "id": "qtR-7WvHQH9Y"
   },
   "outputs": [],
   "source": [
    "def plot_model_history(model_history):\n",
    "  fig, ax = plt.subplots(1, 2, figsize=(15, 5))\n",
    "\n",
    "  # summarize history for accuracy\n",
    "  ax[0].plot(range(1, len(model_history.history['acc'])+1), model_history.history['acc'])#, label='Training Acc')\n",
    "  ax[0].plot(range(1, len(model_history.history['val_acc'])+1), model_history.history['val_acc'])#, label='Validation Acc')\n",
    "  ax[0].set_title('Model Accuracy')\n",
    "  ax[0].set_xlabel('Epochs')\n",
    "  ax[0].set_ylabel('Accuracy')\n",
    "  ax[0].set_xticks(np.arange(1, len(model_history.history['acc'])+1), len(model_history.history['acc'])/10)\n",
    "  ax[0].legend(['Train', 'Validation'], loc='best')\n",
    "\n",
    "  # summarize history for loss\n",
    "  ax[1].plot(range(1, len(model_history.history['loss'])+1), model_history.history['loss'])\n",
    "  ax[1].plot(range(1, len(model_history.history['val_loss'])+1), model_history.history['val_loss'])\n",
    "  ax[1].set_title('Model Loss')\n",
    "  ax[1].set_xlabel('Epochs')\n",
    "  ax[1].set_ylabel('Loss')\n",
    "  ax[1].set_xticks(np.arange(1, len(model_history.history['loss'])+1), len(model_history.history['loss'])/10)\n",
    "  ax[1].legend(['Train', 'Validation'], loc='best')\n",
    "\n",
    "  plt.show()"
   ]
  },
  {
   "cell_type": "code",
   "execution_count": 0,
   "metadata": {
    "colab": {},
    "colab_type": "code",
    "id": "1lGp_6CQUmbT"
   },
   "outputs": [],
   "source": [
    "def accuracy(test_x, test_y, model):\n",
    "  result = model.predict(test_x)\n",
    "  predicted = np.argmax(result, axis=1)\n",
    "  true = np.argmax(test_y, axis=1)\n",
    "  num_correct = np.sum(predicted == true)\n",
    "  accuracy = float(num_correct)/result.shape[0]\n",
    "  return (accuracy * 100)"
   ]
  },
  {
   "cell_type": "code",
   "execution_count": 9,
   "metadata": {
    "colab": {
     "base_uri": "https://localhost:8080/",
     "height": 213
    },
    "colab_type": "code",
    "id": "0py3Ab_5-CK-",
    "outputId": "4c675ec0-3f74-4e4a-8c43-b61e34092a0d"
   },
   "outputs": [
    {
     "data": {
      "image/png": "[encoded data removed]",
      "text/plain": [
       "<Figure size 576x216 with 10 Axes>"
      ]
     },
     "metadata": {
      "tags": []
     },
     "output_type": "display_data"
    }
   ],
   "source": [
    "# Checking images, one for each class\n",
    "fig = plt.figure(figsize=(8,3))\n",
    "for i in range(num_classes):\n",
    "  ax = fig.add_subplot(2, 5, 1+i, xticks=[], yticks=[])\n",
    "  idx = np.where(y_train[:]==i)[0]  # selecting all images of a class\n",
    "  features = x_train[idx,::]\n",
    "  img_num = np.random.randint(features.shape[0]) # selecting random no. from class idx\n",
    "  im = features[img_num]  # selecting features of the image from random no.\n",
    "  ax.set_title(class_names[i])\n",
    "  plt.imshow(im)\n",
    "plt.show()"
   ]
  },
  {
   "cell_type": "code",
   "execution_count": 0,
   "metadata": {
    "colab": {},
    "colab_type": "code",
    "id": "p8iKuwFZWsJW"
   },
   "outputs": [],
   "source": [
    "x_train = x_train.astype('float32')/255\n",
    "x_test = x_test.astype('float32')/255\n",
    "\n",
    "# converting class labels to one hot encoded\n",
    "y_train = np_utils.to_categorical(y_train, num_classes)\n",
    "y_test = np_utils.to_categorical(y_test, num_classes)"
   ]
  },
  {
   "cell_type": "markdown",
   "metadata": {
    "colab_type": "text",
    "id": "yIJ4z94omcuU"
   },
   "source": [
    "## Model"
   ]
  },
  {
   "cell_type": "code",
   "execution_count": 12,
   "metadata": {
    "colab": {
     "base_uri": "https://localhost:8080/",
     "height": 1000
    },
    "colab_type": "code",
    "id": "wfyDn3tIXTX6",
    "outputId": "60898d50-7138-465f-f961-136443279f8c"
   },
   "outputs": [
    {
     "name": "stdout",
     "output_type": "stream",
     "text": [
      "WARNING:tensorflow:From /usr/local/lib/python3.6/dist-packages/keras/backend/tensorflow_backend.py:66: The name tf.get_default_graph is deprecated. Please use tf.compat.v1.get_default_graph instead.\n",
      "\n",
      "WARNING:tensorflow:From /usr/local/lib/python3.6/dist-packages/keras/backend/tensorflow_backend.py:541: The name tf.placeholder is deprecated. Please use tf.compat.v1.placeholder instead.\n",
      "\n",
      "WARNING:tensorflow:From /usr/local/lib/python3.6/dist-packages/keras/backend/tensorflow_backend.py:4432: The name tf.random_uniform is deprecated. Please use tf.random.uniform instead.\n",
      "\n",
      "WARNING:tensorflow:From /usr/local/lib/python3.6/dist-packages/keras/backend/tensorflow_backend.py:190: The name tf.get_default_session is deprecated. Please use tf.compat.v1.get_default_session instead.\n",
      "\n",
      "WARNING:tensorflow:From /usr/local/lib/python3.6/dist-packages/keras/backend/tensorflow_backend.py:197: The name tf.ConfigProto is deprecated. Please use tf.compat.v1.ConfigProto instead.\n",
      "\n",
      "WARNING:tensorflow:From /usr/local/lib/python3.6/dist-packages/keras/backend/tensorflow_backend.py:203: The name tf.Session is deprecated. Please use tf.compat.v1.Session instead.\n",
      "\n",
      "WARNING:tensorflow:From /usr/local/lib/python3.6/dist-packages/keras/backend/tensorflow_backend.py:207: The name tf.global_variables is deprecated. Please use tf.compat.v1.global_variables instead.\n",
      "\n",
      "WARNING:tensorflow:From /usr/local/lib/python3.6/dist-packages/keras/backend/tensorflow_backend.py:216: The name tf.is_variable_initialized is deprecated. Please use tf.compat.v1.is_variable_initialized instead.\n",
      "\n",
      "WARNING:tensorflow:From /usr/local/lib/python3.6/dist-packages/keras/backend/tensorflow_backend.py:223: The name tf.variables_initializer is deprecated. Please use tf.compat.v1.variables_initializer instead.\n",
      "\n",
      "WARNING:tensorflow:From /usr/local/lib/python3.6/dist-packages/keras/backend/tensorflow_backend.py:2041: The name tf.nn.fused_batch_norm is deprecated. Please use tf.compat.v1.nn.fused_batch_norm instead.\n",
      "\n",
      "WARNING:tensorflow:From /usr/local/lib/python3.6/dist-packages/keras/backend/tensorflow_backend.py:148: The name tf.placeholder_with_default is deprecated. Please use tf.compat.v1.placeholder_with_default instead.\n",
      "\n",
      "WARNING:tensorflow:From /usr/local/lib/python3.6/dist-packages/keras/backend/tensorflow_backend.py:3733: calling dropout (from tensorflow.python.ops.nn_ops) with keep_prob is deprecated and will be removed in a future version.\n",
      "Instructions for updating:\n",
      "Please use `rate` instead of `keep_prob`. Rate should be set to `rate = 1 - keep_prob`.\n",
      "WARNING:tensorflow:From /usr/local/lib/python3.6/dist-packages/keras/backend/tensorflow_backend.py:4267: The name tf.nn.max_pool is deprecated. Please use tf.nn.max_pool2d instead.\n",
      "\n",
      "Model: \"sequential_1\"\n",
      "_________________________________________________________________\n",
      "Layer (type)                 Output Shape              Param #   \n",
      "=================================================================\n",
      "depthwise_conv2d_1 (Depthwis (None, 32, 32, 3)         27        \n",
      "_________________________________________________________________\n",
      "conv2d_1 (Conv2D)            (None, 32, 32, 32)        96        \n",
      "_________________________________________________________________\n",
      "activation_1 (Activation)    (None, 32, 32, 32)        0         \n",
      "_________________________________________________________________\n",
      "batch_normalization_1 (Batch (None, 32, 32, 32)        128       \n",
      "_________________________________________________________________\n",
      "dropout_1 (Dropout)          (None, 32, 32, 32)        0         \n",
      "_________________________________________________________________\n",
      "depthwise_conv2d_2 (Depthwis (None, 30, 30, 32)        288       \n",
      "_________________________________________________________________\n",
      "conv2d_2 (Conv2D)            (None, 30, 30, 64)        2048      \n",
      "_________________________________________________________________\n",
      "activation_2 (Activation)    (None, 30, 30, 64)        0         \n",
      "_________________________________________________________________\n",
      "batch_normalization_2 (Batch (None, 30, 30, 64)        256       \n",
      "_________________________________________________________________\n",
      "dropout_2 (Dropout)          (None, 30, 30, 64)        0         \n",
      "_________________________________________________________________\n",
      "depthwise_conv2d_3 (Depthwis (None, 28, 28, 64)        576       \n",
      "_________________________________________________________________\n",
      "conv2d_3 (Conv2D)            (None, 28, 28, 128)       8192      \n",
      "_________________________________________________________________\n",
      "activation_3 (Activation)    (None, 28, 28, 128)       0         \n",
      "_________________________________________________________________\n",
      "batch_normalization_3 (Batch (None, 28, 28, 128)       512       \n",
      "_________________________________________________________________\n",
      "dropout_3 (Dropout)          (None, 28, 28, 128)       0         \n",
      "_________________________________________________________________\n",
      "max_pooling2d_1 (MaxPooling2 (None, 14, 14, 128)       0         \n",
      "_________________________________________________________________\n",
      "conv2d_4 (Conv2D)            (None, 14, 14, 32)        4096      \n",
      "_________________________________________________________________\n",
      "depthwise_conv2d_4 (Depthwis (None, 12, 12, 32)        288       \n",
      "_________________________________________________________________\n",
      "conv2d_5 (Conv2D)            (None, 12, 12, 32)        1024      \n",
      "_________________________________________________________________\n",
      "activation_4 (Activation)    (None, 12, 12, 32)        0         \n",
      "_________________________________________________________________\n",
      "batch_normalization_4 (Batch (None, 12, 12, 32)        128       \n",
      "_________________________________________________________________\n",
      "dropout_4 (Dropout)          (None, 12, 12, 32)        0         \n",
      "_________________________________________________________________\n",
      "depthwise_conv2d_5 (Depthwis (None, 10, 10, 32)        288       \n",
      "_________________________________________________________________\n",
      "conv2d_6 (Conv2D)            (None, 10, 10, 64)        2048      \n",
      "_________________________________________________________________\n",
      "activation_5 (Activation)    (None, 10, 10, 64)        0         \n",
      "_________________________________________________________________\n",
      "batch_normalization_5 (Batch (None, 10, 10, 64)        256       \n",
      "_________________________________________________________________\n",
      "dropout_5 (Dropout)          (None, 10, 10, 64)        0         \n",
      "_________________________________________________________________\n",
      "depthwise_conv2d_6 (Depthwis (None, 8, 8, 64)          576       \n",
      "_________________________________________________________________\n",
      "conv2d_7 (Conv2D)            (None, 8, 8, 128)         8192      \n",
      "_________________________________________________________________\n",
      "activation_6 (Activation)    (None, 8, 8, 128)         0         \n",
      "_________________________________________________________________\n",
      "batch_normalization_6 (Batch (None, 8, 8, 128)         512       \n",
      "_________________________________________________________________\n",
      "dropout_6 (Dropout)          (None, 8, 8, 128)         0         \n",
      "_________________________________________________________________\n",
      "max_pooling2d_2 (MaxPooling2 (None, 4, 4, 128)         0         \n",
      "_________________________________________________________________\n",
      "conv2d_8 (Conv2D)            (None, 4, 4, 32)          4096      \n",
      "_________________________________________________________________\n",
      "depthwise_conv2d_7 (Depthwis (None, 2, 2, 32)          288       \n",
      "_________________________________________________________________\n",
      "conv2d_9 (Conv2D)            (None, 2, 2, 32)          1024      \n",
      "_________________________________________________________________\n",
      "activation_7 (Activation)    (None, 2, 2, 32)          0         \n",
      "_________________________________________________________________\n",
      "batch_normalization_7 (Batch (None, 2, 2, 32)          128       \n",
      "_________________________________________________________________\n",
      "dropout_7 (Dropout)          (None, 2, 2, 32)          0         \n",
      "_________________________________________________________________\n",
      "conv2d_10 (Conv2D)           (None, 2, 2, 10)          320       \n",
      "_________________________________________________________________\n",
      "global_average_pooling2d_1 ( (None, 10)                0         \n",
      "_________________________________________________________________\n",
      "activation_8 (Activation)    (None, 10)                0         \n",
      "=================================================================\n",
      "Total params: 35,387\n",
      "Trainable params: 34,427\n",
      "Non-trainable params: 960\n",
      "_________________________________________________________________\n"
     ]
    }
   ],
   "source": [
    "# Define the model\n",
    "model = Sequential() \n",
    "model.add(DepthwiseConv2D(3, depth_multiplier=1, use_bias=False, padding='same', input_shape=(32, 32, 3))) # 32x3x3x32 RF:3 # padding==border_mode(old version)\n",
    "model.add(Convolution2D(32, 1, use_bias=False, padding='same')) # 32x3x3x32 RF:\n",
    "model.add(Activation('relu'))\n",
    "model.add(BatchNormalization())\n",
    "model.add(Dropout(0.1))\n",
    "\n",
    "model.add(DepthwiseConv2D(3, use_bias=False)) # 30x3x3x64\n",
    "model.add(Convolution2D(64, 1, use_bias=False)) # 30x3x3x64\n",
    "model.add(Activation('relu'))\n",
    "model.add(BatchNormalization())\n",
    "model.add(Dropout(0.1))\n",
    "\n",
    "model.add(DepthwiseConv2D(3, use_bias=False)) # 28x3x3x128\n",
    "model.add(Convolution2D(128, 1, use_bias=False))  # 28x3x3x128\n",
    "model.add(Activation('relu'))\n",
    "model.add(BatchNormalization())\n",
    "model.add(Dropout(0.1))\n",
    "\n",
    "model.add(MaxPooling2D(2)) # 14x3x3x128\n",
    "model.add(Convolution2D(32, 1, use_bias=False))  # 14x3x3x32\n",
    "\n",
    "model.add(DepthwiseConv2D(3, use_bias=False)) # 12x3x3x32 RF:3    \n",
    "model.add(Convolution2D(32, 1, use_bias=False)) # 12x3x3x32 RF:\n",
    "model.add(Activation('relu'))\n",
    "model.add(BatchNormalization())\n",
    "model.add(Dropout(0.2))\n",
    "\n",
    "model.add(DepthwiseConv2D(3, use_bias=False)) # 10x3x3x64\n",
    "model.add(Convolution2D(64, 1, use_bias=False)) # 10x3x3x64\n",
    "model.add(Activation('relu'))\n",
    "model.add(BatchNormalization())\n",
    "model.add(Dropout(0.2))\n",
    "\n",
    "model.add(DepthwiseConv2D(3, use_bias=False)) # 8x3x3x128\n",
    "model.add(Convolution2D(128, 1, use_bias=False))  # 8x3x3x128\n",
    "model.add(Activation('relu'))\n",
    "model.add(BatchNormalization())\n",
    "model.add(Dropout(0.2))\n",
    "\n",
    "model.add(MaxPooling2D(2)) # 4x3x3x128\n",
    "model.add(Convolution2D(32, 1, use_bias=False))  # 4x3x3x32\n",
    "\n",
    "model.add(DepthwiseConv2D(3, use_bias=False)) # 2x3x3x32 RF:3    \n",
    "model.add(Convolution2D(32, 1, use_bias=False)) # 2x3x3x32 RF:\n",
    "model.add(Activation('relu'))\n",
    "model.add(BatchNormalization())\n",
    "model.add(Dropout(0.25))\n",
    "\n",
    "model.add(Convolution2D(10, 1, use_bias=False)) # 2x3x3x10 RF:\n",
    "model.add(GlobalAveragePooling2D()) # 1X10\n",
    "model.add(Activation('softmax'))\n",
    "\n",
    "model.summary()"
   ]
  },
  {
   "cell_type": "code",
   "execution_count": 13,
   "metadata": {
    "colab": {
     "base_uri": "https://localhost:8080/",
     "height": 110
    },
    "colab_type": "code",
    "id": "G6jeD_Vvfp-S",
    "outputId": "7a099359-d4bd-49a2-812c-57ec4409d74e"
   },
   "outputs": [
    {
     "name": "stdout",
     "output_type": "stream",
     "text": [
      "WARNING:tensorflow:From /usr/local/lib/python3.6/dist-packages/keras/optimizers.py:793: The name tf.train.Optimizer is deprecated. Please use tf.compat.v1.train.Optimizer instead.\n",
      "\n",
      "WARNING:tensorflow:From /usr/local/lib/python3.6/dist-packages/keras/backend/tensorflow_backend.py:3576: The name tf.log is deprecated. Please use tf.math.log instead.\n",
      "\n"
     ]
    }
   ],
   "source": [
    "# Compile the model\n",
    "model.compile(optimizer=Adam(lr=0.01), loss='categorical_crossentropy', metrics=['accuracy'])"
   ]
  },
  {
   "cell_type": "code",
   "execution_count": 0,
   "metadata": {
    "colab": {},
    "colab_type": "code",
    "id": "u-cr82_teNuQ"
   },
   "outputs": [],
   "source": [
    "from keras.preprocessing.image import ImageDataGenerator\n",
    "datagen = ImageDataGenerator()"
   ]
  },
  {
   "cell_type": "code",
   "execution_count": 15,
   "metadata": {
    "colab": {
     "base_uri": "https://localhost:8080/",
     "height": 1000
    },
    "colab_type": "code",
    "id": "S9uG39-EeapX",
    "outputId": "6e38bf22-dd6d-4a0d-d670-a211c1ced00f"
   },
   "outputs": [
    {
     "name": "stdout",
     "output_type": "stream",
     "text": [
      "WARNING:tensorflow:From /usr/local/lib/python3.6/dist-packages/tensorflow_core/python/ops/math_grad.py:1424: where (from tensorflow.python.ops.array_ops) is deprecated and will be removed in a future version.\n",
      "Instructions for updating:\n",
      "Use tf.where in 2.0, which has the same broadcast rule as np.where\n"
     ]
    },
    {
     "name": "stderr",
     "output_type": "stream",
     "text": [
      "/usr/local/lib/python3.6/dist-packages/ipykernel_launcher.py:5: UserWarning: The semantics of the Keras 2 argument `steps_per_epoch` is not the same as the Keras 1 argument `samples_per_epoch`. `steps_per_epoch` is the number of batches to draw from the generator at each epoch. Basically steps_per_epoch = samples_per_epoch/batch_size. Similarly `nb_val_samples`->`validation_steps` and `val_samples`->`steps` arguments have changed. Update your method calls accordingly.\n",
      "  \"\"\"\n",
      "/usr/local/lib/python3.6/dist-packages/ipykernel_launcher.py:5: UserWarning: Update your `fit_generator` call to the Keras 2 API: `fit_generator(<keras_pre..., validation_data=(array([[[..., callbacks=[<keras.ca..., verbose=1, steps_per_epoch=390, epochs=50)`\n",
      "  \"\"\"\n"
     ]
    },
    {
     "name": "stdout",
     "output_type": "stream",
     "text": [
      "WARNING:tensorflow:From /usr/local/lib/python3.6/dist-packages/keras/backend/tensorflow_backend.py:1033: The name tf.assign_add is deprecated. Please use tf.compat.v1.assign_add instead.\n",
      "\n",
      "WARNING:tensorflow:From /usr/local/lib/python3.6/dist-packages/keras/backend/tensorflow_backend.py:1020: The name tf.assign is deprecated. Please use tf.compat.v1.assign instead.\n",
      "\n",
      "Epoch 1/50\n",
      "\n",
      "Epoch 00001: LearningRateScheduler setting learning rate to 0.01.\n",
      "390/390 [==============================] - 26s 68ms/step - loss: 1.4453 - acc: 0.4710 - val_loss: 2.0176 - val_acc: 0.4605\n",
      "Epoch 2/50\n",
      "\n",
      "Epoch 00002: LearningRateScheduler setting learning rate to 0.0075815011.\n",
      "390/390 [==============================] - 22s 55ms/step - loss: 1.0825 - acc: 0.6144 - val_loss: 1.2701 - val_acc: 0.5754\n",
      "Epoch 3/50\n",
      "\n",
      "Epoch 00003: LearningRateScheduler setting learning rate to 0.0061050061.\n",
      "390/390 [==============================] - 22s 55ms/step - loss: 0.9206 - acc: 0.6749 - val_loss: 0.9203 - val_acc: 0.6787\n",
      "Epoch 4/50\n",
      "\n",
      "Epoch 00004: LearningRateScheduler setting learning rate to 0.005109862.\n",
      "390/390 [==============================] - 22s 55ms/step - loss: 0.8344 - acc: 0.7077 - val_loss: 0.8792 - val_acc: 0.6876\n",
      "Epoch 5/50\n",
      "\n",
      "Epoch 00005: LearningRateScheduler setting learning rate to 0.0043936731.\n",
      "390/390 [==============================] - 22s 55ms/step - loss: 0.7741 - acc: 0.7262 - val_loss: 0.8324 - val_acc: 0.7086\n",
      "Epoch 6/50\n",
      "\n",
      "Epoch 00006: LearningRateScheduler setting learning rate to 0.0038535645.\n",
      "390/390 [==============================] - 21s 55ms/step - loss: 0.7354 - acc: 0.7431 - val_loss: 0.7260 - val_acc: 0.7527\n",
      "Epoch 7/50\n",
      "\n",
      "Epoch 00007: LearningRateScheduler setting learning rate to 0.003431709.\n",
      "390/390 [==============================] - 21s 55ms/step - loss: 0.6994 - acc: 0.7574 - val_loss: 0.7277 - val_acc: 0.7524\n",
      "Epoch 8/50\n",
      "\n",
      "Epoch 00008: LearningRateScheduler setting learning rate to 0.0030931024.\n",
      "390/390 [==============================] - 22s 55ms/step - loss: 0.6717 - acc: 0.7654 - val_loss: 0.6695 - val_acc: 0.7645\n",
      "Epoch 9/50\n",
      "\n",
      "Epoch 00009: LearningRateScheduler setting learning rate to 0.0028153153.\n",
      "390/390 [==============================] - 22s 55ms/step - loss: 0.6497 - acc: 0.7751 - val_loss: 0.7033 - val_acc: 0.7501\n",
      "Epoch 10/50\n",
      "\n",
      "Epoch 00010: LearningRateScheduler setting learning rate to 0.0025833118.\n",
      "390/390 [==============================] - 22s 55ms/step - loss: 0.6294 - acc: 0.7787 - val_loss: 0.6289 - val_acc: 0.7817\n",
      "Epoch 11/50\n",
      "\n",
      "Epoch 00011: LearningRateScheduler setting learning rate to 0.0023866348.\n",
      "390/390 [==============================] - 22s 55ms/step - loss: 0.6140 - acc: 0.7864 - val_loss: 0.6390 - val_acc: 0.7812\n",
      "Epoch 12/50\n",
      "\n",
      "Epoch 00012: LearningRateScheduler setting learning rate to 0.0022177866.\n",
      "390/390 [==============================] - 21s 55ms/step - loss: 0.6006 - acc: 0.7910 - val_loss: 0.6979 - val_acc: 0.7573\n",
      "Epoch 13/50\n",
      "\n",
      "Epoch 00013: LearningRateScheduler setting learning rate to 0.002071251.\n",
      "390/390 [==============================] - 22s 55ms/step - loss: 0.5843 - acc: 0.7969 - val_loss: 0.6914 - val_acc: 0.7619\n",
      "Epoch 14/50\n",
      "\n",
      "Epoch 00014: LearningRateScheduler setting learning rate to 0.0019428793.\n",
      "390/390 [==============================] - 22s 55ms/step - loss: 0.5752 - acc: 0.7990 - val_loss: 0.6193 - val_acc: 0.7841\n",
      "Epoch 15/50\n",
      "\n",
      "Epoch 00015: LearningRateScheduler setting learning rate to 0.0018294914.\n",
      "390/390 [==============================] - 21s 55ms/step - loss: 0.5645 - acc: 0.8036 - val_loss: 0.6161 - val_acc: 0.7840\n",
      "Epoch 16/50\n",
      "\n",
      "Epoch 00016: LearningRateScheduler setting learning rate to 0.0017286085.\n",
      "390/390 [==============================] - 22s 55ms/step - loss: 0.5550 - acc: 0.8075 - val_loss: 0.6131 - val_acc: 0.7870\n",
      "Epoch 17/50\n",
      "\n",
      "Epoch 00017: LearningRateScheduler setting learning rate to 0.00163827.\n",
      "390/390 [==============================] - 21s 55ms/step - loss: 0.5501 - acc: 0.8068 - val_loss: 0.6400 - val_acc: 0.7776\n",
      "Epoch 18/50\n",
      "\n",
      "Epoch 00018: LearningRateScheduler setting learning rate to 0.0015569049.\n",
      "390/390 [==============================] - 21s 55ms/step - loss: 0.5430 - acc: 0.8101 - val_loss: 0.6238 - val_acc: 0.7815\n",
      "Epoch 19/50\n",
      "\n",
      "Epoch 00019: LearningRateScheduler setting learning rate to 0.0014832394.\n",
      "390/390 [==============================] - 21s 55ms/step - loss: 0.5316 - acc: 0.8163 - val_loss: 0.6488 - val_acc: 0.7780\n",
      "Epoch 20/50\n",
      "\n",
      "Epoch 00020: LearningRateScheduler setting learning rate to 0.00141623.\n",
      "390/390 [==============================] - 22s 55ms/step - loss: 0.5295 - acc: 0.8163 - val_loss: 0.6010 - val_acc: 0.7930\n",
      "Epoch 21/50\n",
      "\n",
      "Epoch 00021: LearningRateScheduler setting learning rate to 0.0013550136.\n",
      "390/390 [==============================] - 21s 55ms/step - loss: 0.5243 - acc: 0.8188 - val_loss: 0.5796 - val_acc: 0.8025\n",
      "Epoch 22/50\n",
      "\n",
      "Epoch 00022: LearningRateScheduler setting learning rate to 0.00129887.\n",
      "390/390 [==============================] - 21s 55ms/step - loss: 0.5160 - acc: 0.8200 - val_loss: 0.6122 - val_acc: 0.7901\n",
      "Epoch 23/50\n",
      "\n",
      "Epoch 00023: LearningRateScheduler setting learning rate to 0.0012471938.\n",
      "390/390 [==============================] - 21s 55ms/step - loss: 0.5109 - acc: 0.8222 - val_loss: 0.6032 - val_acc: 0.7928\n",
      "Epoch 24/50\n",
      "\n",
      "Epoch 00024: LearningRateScheduler setting learning rate to 0.0011994722.\n",
      "390/390 [==============================] - 21s 55ms/step - loss: 0.5069 - acc: 0.8238 - val_loss: 0.5712 - val_acc: 0.8021\n",
      "Epoch 25/50\n",
      "\n",
      "Epoch 00025: LearningRateScheduler setting learning rate to 0.001155268.\n",
      "390/390 [==============================] - 22s 55ms/step - loss: 0.4966 - acc: 0.8276 - val_loss: 0.5889 - val_acc: 0.7966\n",
      "Epoch 26/50\n",
      "\n",
      "Epoch 00026: LearningRateScheduler setting learning rate to 0.0011142061.\n",
      "390/390 [==============================] - 21s 55ms/step - loss: 0.4989 - acc: 0.8258 - val_loss: 0.5858 - val_acc: 0.7978\n",
      "Epoch 27/50\n",
      "\n",
      "Epoch 00027: LearningRateScheduler setting learning rate to 0.001075963.\n",
      "390/390 [==============================] - 21s 55ms/step - loss: 0.4931 - acc: 0.8285 - val_loss: 0.5683 - val_acc: 0.8045\n",
      "Epoch 28/50\n",
      "\n",
      "Epoch 00028: LearningRateScheduler setting learning rate to 0.001040258.\n",
      "390/390 [==============================] - 21s 55ms/step - loss: 0.4858 - acc: 0.8316 - val_loss: 0.6025 - val_acc: 0.7933\n",
      "Epoch 29/50\n",
      "\n",
      "Epoch 00029: LearningRateScheduler setting learning rate to 0.0010068466.\n",
      "390/390 [==============================] - 21s 55ms/step - loss: 0.4882 - acc: 0.8285 - val_loss: 0.5768 - val_acc: 0.7986\n",
      "Epoch 30/50\n",
      "\n",
      "Epoch 00030: LearningRateScheduler setting learning rate to 0.0009755146.\n",
      "390/390 [==============================] - 21s 55ms/step - loss: 0.4774 - acc: 0.8328 - val_loss: 0.6178 - val_acc: 0.7888\n",
      "Epoch 31/50\n",
      "\n",
      "Epoch 00031: LearningRateScheduler setting learning rate to 0.0009460738.\n",
      "390/390 [==============================] - 21s 55ms/step - loss: 0.4739 - acc: 0.8334 - val_loss: 0.5751 - val_acc: 0.7981\n",
      "Epoch 32/50\n",
      "\n",
      "Epoch 00032: LearningRateScheduler setting learning rate to 0.000918358.\n",
      "390/390 [==============================] - 21s 55ms/step - loss: 0.4771 - acc: 0.8322 - val_loss: 0.5837 - val_acc: 0.7957\n",
      "Epoch 33/50\n",
      "\n",
      "Epoch 00033: LearningRateScheduler setting learning rate to 0.0008922198.\n",
      "390/390 [==============================] - 21s 55ms/step - loss: 0.4701 - acc: 0.8375 - val_loss: 0.5773 - val_acc: 0.7964\n",
      "Epoch 34/50\n",
      "\n",
      "Epoch 00034: LearningRateScheduler setting learning rate to 0.0008675284.\n",
      "390/390 [==============================] - 21s 55ms/step - loss: 0.4676 - acc: 0.8373 - val_loss: 0.5734 - val_acc: 0.8001\n",
      "Epoch 35/50\n",
      "\n",
      "Epoch 00035: LearningRateScheduler setting learning rate to 0.0008441668.\n",
      "390/390 [==============================] - 21s 55ms/step - loss: 0.4707 - acc: 0.8363 - val_loss: 0.5826 - val_acc: 0.7978\n",
      "Epoch 36/50\n",
      "\n",
      "Epoch 00036: LearningRateScheduler setting learning rate to 0.0008220304.\n",
      "390/390 [==============================] - 21s 55ms/step - loss: 0.4686 - acc: 0.8366 - val_loss: 0.6004 - val_acc: 0.7918\n",
      "Epoch 37/50\n",
      "\n",
      "Epoch 00037: LearningRateScheduler setting learning rate to 0.0008010253.\n",
      "390/390 [==============================] - 21s 55ms/step - loss: 0.4635 - acc: 0.8375 - val_loss: 0.5874 - val_acc: 0.7979\n",
      "Epoch 38/50\n",
      "\n",
      "Epoch 00038: LearningRateScheduler setting learning rate to 0.0007810669.\n",
      "390/390 [==============================] - 21s 55ms/step - loss: 0.4588 - acc: 0.8383 - val_loss: 0.5879 - val_acc: 0.7912\n",
      "Epoch 39/50\n",
      "\n",
      "Epoch 00039: LearningRateScheduler setting learning rate to 0.000762079.\n",
      "390/390 [==============================] - 21s 55ms/step - loss: 0.4532 - acc: 0.8433 - val_loss: 0.5802 - val_acc: 0.7983\n",
      "Epoch 40/50\n",
      "\n",
      "Epoch 00040: LearningRateScheduler setting learning rate to 0.0007439923.\n",
      "390/390 [==============================] - 21s 55ms/step - loss: 0.4565 - acc: 0.8391 - val_loss: 0.5802 - val_acc: 0.7965\n",
      "Epoch 41/50\n",
      "\n",
      "Epoch 00041: LearningRateScheduler setting learning rate to 0.0007267442.\n",
      "390/390 [==============================] - 21s 55ms/step - loss: 0.4540 - acc: 0.8407 - val_loss: 0.5807 - val_acc: 0.7968\n",
      "Epoch 42/50\n",
      "\n",
      "Epoch 00042: LearningRateScheduler setting learning rate to 0.0007102777.\n",
      "390/390 [==============================] - 21s 55ms/step - loss: 0.4507 - acc: 0.8419 - val_loss: 0.5694 - val_acc: 0.7992\n",
      "Epoch 43/50\n",
      "\n",
      "Epoch 00043: LearningRateScheduler setting learning rate to 0.0006945409.\n",
      "390/390 [==============================] - 21s 55ms/step - loss: 0.4518 - acc: 0.8415 - val_loss: 0.5774 - val_acc: 0.7946\n",
      "Epoch 44/50\n",
      "\n",
      "Epoch 00044: LearningRateScheduler setting learning rate to 0.0006794863.\n",
      "390/390 [==============================] - 21s 55ms/step - loss: 0.4421 - acc: 0.8466 - val_loss: 0.5655 - val_acc: 0.8005\n",
      "Epoch 45/50\n",
      "\n",
      "Epoch 00045: LearningRateScheduler setting learning rate to 0.0006650705.\n",
      "390/390 [==============================] - 21s 55ms/step - loss: 0.4488 - acc: 0.8429 - val_loss: 0.5723 - val_acc: 0.8011\n",
      "Epoch 46/50\n",
      "\n",
      "Epoch 00046: LearningRateScheduler setting learning rate to 0.0006512537.\n",
      "390/390 [==============================] - 21s 55ms/step - loss: 0.4449 - acc: 0.8442 - val_loss: 0.5909 - val_acc: 0.7951\n",
      "Epoch 47/50\n",
      "\n",
      "Epoch 00047: LearningRateScheduler setting learning rate to 0.0006379992.\n",
      "390/390 [==============================] - 21s 55ms/step - loss: 0.4386 - acc: 0.8450 - val_loss: 0.6044 - val_acc: 0.7904\n",
      "Epoch 48/50\n",
      "\n",
      "Epoch 00048: LearningRateScheduler setting learning rate to 0.0006252736.\n",
      "390/390 [==============================] - 21s 55ms/step - loss: 0.4468 - acc: 0.8443 - val_loss: 0.5826 - val_acc: 0.7978\n",
      "Epoch 49/50\n",
      "\n",
      "Epoch 00049: LearningRateScheduler setting learning rate to 0.0006130456.\n",
      "390/390 [==============================] - 21s 55ms/step - loss: 0.4411 - acc: 0.8450 - val_loss: 0.5956 - val_acc: 0.7925\n",
      "Epoch 50/50\n",
      "\n",
      "Epoch 00050: LearningRateScheduler setting learning rate to 0.0006012868.\n",
      "390/390 [==============================] - 21s 55ms/step - loss: 0.4341 - acc: 0.8480 - val_loss: 0.5835 - val_acc: 0.7975\n",
      "Model took 1079.33 seconds to train\n"
     ]
    }
   ],
   "source": [
    "# train the model\n",
    "start = time.time()\n",
    "# Train the model\n",
    "model_info = model.fit_generator(datagen.flow(x_train, y_train, batch_size = 128),\n",
    "                                 samples_per_epoch = x_train.shape[0], nb_epoch = 50, \n",
    "                                 validation_data = (x_test, y_test),callbacks=[LearningRateScheduler(scheduler, verbose=1)], verbose=1)\n",
    "end = time.time()\n",
    "print (\"Model took %0.2f seconds to train\"%(end - start))"
   ]
  },
  {
   "cell_type": "code",
   "execution_count": 16,
   "metadata": {
    "colab": {
     "base_uri": "https://localhost:8080/",
     "height": 350
    },
    "colab_type": "code",
    "id": "ifmyuJy1edf-",
    "outputId": "b8e086d4-7368-4b1f-e8f2-5765658d66c0"
   },
   "outputs": [
    {
     "data": {
      "image/png": "[encoded data removed]",
      "text/plain": [
       "<Figure size 1080x360 with 2 Axes>"
      ]
     },
     "metadata": {
      "tags": []
     },
     "output_type": "display_data"
    }
   ],
   "source": [
    "# plot model history\n",
    "plot_model_history(model_info)"
   ]
  },
  {
   "cell_type": "code",
   "execution_count": 17,
   "metadata": {
    "colab": {
     "base_uri": "https://localhost:8080/",
     "height": 35
    },
    "colab_type": "code",
    "id": "xe6CIp5zhaGB",
    "outputId": "8887fffb-6b85-4fe6-ac22-ce4e11b28520"
   },
   "outputs": [
    {
     "name": "stdout",
     "output_type": "stream",
     "text": [
      "Accuracy on test data is: 79.75\n"
     ]
    }
   ],
   "source": [
    "# compute test accuracy\n",
    "print (\"Accuracy on test data is: %0.2f\"%accuracy(x_test, y_test, model))"
   ]
  },
  {
   "cell_type": "code",
   "execution_count": 0,
   "metadata": {
    "colab": {},
    "colab_type": "code",
    "id": "XTG-gPfMiCnh"
   },
   "outputs": [],
   "source": [
    "  "
   ]
  },
  {
   "cell_type": "code",
   "execution_count": 0,
   "metadata": {
    "colab": {},
    "colab_type": "code",
    "id": "9wUiDBEVmcd3"
   },
   "outputs": [],
   "source": []
  },
  {
   "cell_type": "code",
   "execution_count": 0,
   "metadata": {
    "colab": {},
    "colab_type": "code",
    "id": "gEa21Y1UrTfg"
   },
   "outputs": [],
   "source": []
  }
 ],
 "metadata": {
  "accelerator": "GPU",
  "colab": {
   "collapsed_sections": [],
   "machine_shape": "hm",
   "name": "S3_model4.ipynb",
   "provenance": []
  },
  "kernelspec": {
   "display_name": "Python 3",
   "language": "python",
   "name": "python3"
  },
  "language_info": {
   "codemirror_mode": {
    "name": "ipython",
    "version": 3
   },
   "file_extension": ".py",
   "mimetype": "text/x-python",
   "name": "python",
   "nbconvert_exporter": "python",
   "pygments_lexer": "ipython3",
   "version": "3.6.8"
  },
  "toc": {
   "base_numbering": 1,
   "nav_menu": {},
   "number_sections": true,
   "sideBar": true,
   "skip_h1_title": false,
   "title_cell": "Table of Contents",
   "title_sidebar": "Contents",
   "toc_cell": false,
   "toc_position": {},
   "toc_section_display": true,
   "toc_window_display": false
  },
  "varInspector": {
   "cols": {
    "lenName": 16,
    "lenType": 16,
    "lenVar": 40
   },
   "kernels_config": {
    "python": {
     "delete_cmd_postfix": "",
     "delete_cmd_prefix": "del ",
     "library": "var_list.py",
     "varRefreshCmd": "print(var_dic_list())"
    },
    "r": {
     "delete_cmd_postfix": ") ",
     "delete_cmd_prefix": "rm(",
     "library": "var_list.r",
     "varRefreshCmd": "cat(var_dic_list()) "
    }
   },
   "types_to_exclude": [
    "module",
    "function",
    "builtin_function_or_method",
    "instance",
    "_Feature"
   ],
   "window_display": false
  }
 },
 "nbformat": 4,
 "nbformat_minor": 1
}
