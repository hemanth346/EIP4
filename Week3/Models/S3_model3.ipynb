{
 "cells": [
  {
   "cell_type": "markdown",
   "metadata": {
    "colab_type": "text",
    "id": "z3saB-0g5XwS"
   },
   "source": [
    "## Installs, imports and Boilerplate code"
   ]
  },
  {
   "cell_type": "code",
   "execution_count": 0,
   "metadata": {
    "colab": {},
    "colab_type": "code",
    "id": "DQb-CoVB4W9Z"
   },
   "outputs": [],
   "source": [
    "import warnings\n",
    "warnings.filterwarnings(action='once')"
   ]
  },
  {
   "cell_type": "code",
   "execution_count": 2,
   "metadata": {
    "colab": {
     "base_uri": "https://localhost:8080/",
     "height": 284
    },
    "colab_type": "code",
    "id": "ijO161Io5AWK",
    "outputId": "9f6c5dc9-0b5d-4590-af22-0ad6026a5b2d"
   },
   "outputs": [
    {
     "name": "stderr",
     "output_type": "stream",
     "text": [
      "/usr/lib/python3.6/importlib/_bootstrap.py:219: ImportWarning: can't resolve package from __spec__ or __package__, falling back on __name__ and __path__\n",
      "  return f(*args, **kwds)\n",
      "Using TensorFlow backend.\n",
      "/usr/lib/python3.6/importlib/_bootstrap.py:219: RuntimeWarning: numpy.ufunc size changed, may indicate binary incompatibility. Expected 216, got 192\n",
      "  return f(*args, **kwds)\n",
      "/usr/local/lib/python3.6/dist-packages/tensorflow_core/python/keras/backend.py:5747: ResourceWarning: unclosed file <_io.TextIOWrapper name='/root/.keras/keras.json' mode='r' encoding='UTF-8'>\n",
      "  _config = json.load(open(_config_path))\n",
      "/usr/lib/python3.6/importlib/_bootstrap.py:219: RuntimeWarning: numpy.ufunc size changed, may indicate binary incompatibility. Expected 192 from C header, got 216 from PyObject\n",
      "  return f(*args, **kwds)\n",
      "/usr/lib/python3.6/importlib/_bootstrap.py:219: RuntimeWarning: numpy.ufunc size changed, may indicate binary incompatibility. Expected 192 from C header, got 216 from PyObject\n",
      "  return f(*args, **kwds)\n"
     ]
    },
    {
     "data": {
      "text/html": [
       "<p style=\"color: red;\">\n",
       "The default version of TensorFlow in Colab will soon switch to TensorFlow 2.x.<br>\n",
       "We recommend you <a href=\"https://www.tensorflow.org/guide/migrate\" target=\"_blank\">upgrade</a> now \n",
       "or ensure your notebook will continue to use TensorFlow 1.x via the <code>%tensorflow_version 1.x</code> magic:\n",
       "<a href=\"https://colab.research.google.com/notebooks/tensorflow_version.ipynb\" target=\"_blank\">more info</a>.</p>\n"
      ],
      "text/plain": [
       "<IPython.core.display.HTML object>"
      ]
     },
     "metadata": {
      "tags": []
     },
     "output_type": "display_data"
    }
   ],
   "source": [
    "import numpy as np\n",
    "import matplotlib.pyplot as plt\n",
    "%matplotlib inline\n",
    "\n",
    "import time\n",
    "\n",
    "from keras.models import Sequential\n",
    "from keras.layers import Conv2D, MaxPooling2D, Convolution2D, DepthwiseConv2D, SeparableConv2D\n",
    "from keras.layers import Dense, Flatten, Activation\n",
    "from keras.layers import Dropout, BatchNormalization, GlobalAveragePooling2D\n",
    "from keras.utils import np_utils\n",
    "from keras import backend as K"
   ]
  },
  {
   "cell_type": "code",
   "execution_count": 3,
   "metadata": {
    "colab": {
     "base_uri": "https://localhost:8080/",
     "height": 53
    },
    "colab_type": "code",
    "id": "mAHRwUrt7lIM",
    "outputId": "79e6f896-9872-4c74-fe79-e77593b8243b"
   },
   "outputs": [
    {
     "name": "stdout",
     "output_type": "stream",
     "text": [
      "Downloading data from https://www.cs.toronto.edu/~kriz/cifar-10-python.tar.gz\n",
      "170500096/170498071 [==============================] - 4s 0us/step\n"
     ]
    }
   ],
   "source": [
    "# loading and configuring cifar10 dataset\n",
    "from keras.datasets import cifar10\n",
    "\n",
    "# x_train/test : train/test features\n",
    "# y_train/test : train/test labels\n",
    "(x_train, y_train), (x_test, y_test) = cifar10.load_data()\n",
    "num_train, img_channels, img_rows, img_cols = x_train.shape\n",
    "num_test = x_test.shape[0]\n",
    "num_classes = len(np.unique(y_train))"
   ]
  },
  {
   "cell_type": "code",
   "execution_count": 0,
   "metadata": {
    "colab": {},
    "colab_type": "code",
    "id": "WLuAGWnr84cK"
   },
   "outputs": [],
   "source": [
    "class_names = ['airplane', 'automobile', 'bird', 'cat',  \n",
    "               'deer', 'dog', 'frog', 'horse', 'ship', 'truck']"
   ]
  },
  {
   "cell_type": "code",
   "execution_count": 5,
   "metadata": {
    "colab": {
     "base_uri": "https://localhost:8080/",
     "height": 108
    },
    "colab_type": "code",
    "id": "wiD1KJ-M84FC",
    "outputId": "c5ecfcdb-4b71-4871-ec81-dd31fa1515f3"
   },
   "outputs": [
    {
     "name": "stdout",
     "output_type": "stream",
     "text": [
      "Train images : 50000\n",
      "Test images : 10000\n",
      "Total classes : 10\n",
      "Input image shape : (32, 32, 3)\n",
      "\n"
     ]
    }
   ],
   "source": [
    "# https://stackoverflow.com/questions/45965007/multiline-f-string-in-python\n",
    "print(f\"\"\"Train images : {num_train}\n",
    "Test images : {num_test}\n",
    "Total classes : {num_classes}\n",
    "Input image shape : {x_train.shape[1:]}\n",
    "\"\"\")"
   ]
  },
  {
   "cell_type": "code",
   "execution_count": 0,
   "metadata": {
    "colab": {},
    "colab_type": "code",
    "id": "Xt9JEPEDnbKe"
   },
   "outputs": [],
   "source": [
    "from keras.optimizers import Adam\n",
    "from keras.callbacks import LearningRateScheduler\n",
    "def scheduler(epoch, lr):\n",
    "  return round(0.01 * 1/(1 + 0.319 * epoch), 10)"
   ]
  },
  {
   "cell_type": "code",
   "execution_count": 0,
   "metadata": {
    "colab": {},
    "colab_type": "code",
    "id": "qtR-7WvHQH9Y"
   },
   "outputs": [],
   "source": [
    "def plot_model_history(model_history):\n",
    "  fig, ax = plt.subplots(1, 2, figsize=(15, 5))\n",
    "\n",
    "  # summarize history for accuracy\n",
    "  ax[0].plot(range(1, len(model_history.history['acc'])+1), model_history.history['acc'])#, label='Training Acc')\n",
    "  ax[0].plot(range(1, len(model_history.history['val_acc'])+1), model_history.history['val_acc'])#, label='Validation Acc')\n",
    "  ax[0].set_title('Model Accuracy')\n",
    "  ax[0].set_xlabel('Epochs')\n",
    "  ax[0].set_ylabel('Accuracy')\n",
    "  ax[0].set_xticks(np.arange(1, len(model_history.history['acc'])+1), len(model_history.history['acc'])/10)\n",
    "  ax[0].legend(['Train', 'Validation'], loc='best')\n",
    "\n",
    "  # summarize history for loss\n",
    "  ax[1].plot(range(1, len(model_history.history['loss'])+1), model_history.history['loss'])\n",
    "  ax[1].plot(range(1, len(model_history.history['val_loss'])+1), model_history.history['val_loss'])\n",
    "  ax[1].set_title('Model Loss')\n",
    "  ax[1].set_xlabel('Epochs')\n",
    "  ax[1].set_ylabel('Loss')\n",
    "  ax[1].set_xticks(np.arange(1, len(model_history.history['loss'])+1), len(model_history.history['loss'])/10)\n",
    "  ax[1].legend(['Train', 'Validation'], loc='best')\n",
    "\n",
    "  plt.show()"
   ]
  },
  {
   "cell_type": "code",
   "execution_count": 0,
   "metadata": {
    "colab": {},
    "colab_type": "code",
    "id": "1lGp_6CQUmbT"
   },
   "outputs": [],
   "source": [
    "def accuracy(test_x, test_y, model):\n",
    "  result = model.predict(test_x)\n",
    "  predicted = np.argmax(result, axis=1)\n",
    "  true = np.argmax(test_y, axis=1)\n",
    "  num_correct = np.sum(predicted == true)\n",
    "  accuracy = float(num_correct)/result.shape[0]\n",
    "  return (accuracy * 100)"
   ]
  },
  {
   "cell_type": "code",
   "execution_count": 9,
   "metadata": {
    "colab": {
     "base_uri": "https://localhost:8080/",
     "height": 213
    },
    "colab_type": "code",
    "id": "0py3Ab_5-CK-",
    "outputId": "7dbe3e9a-ea75-45c9-d090-d95b701c4998"
   },
   "outputs": [
    {
     "data": {
      "image/png": "[encoded data removed]",
      "text/plain": [
       "<Figure size 576x216 with 10 Axes>"
      ]
     },
     "metadata": {
      "tags": []
     },
     "output_type": "display_data"
    }
   ],
   "source": [
    "# Checking images, one for each class\n",
    "fig = plt.figure(figsize=(8,3))\n",
    "for i in range(num_classes):\n",
    "  ax = fig.add_subplot(2, 5, 1+i, xticks=[], yticks=[])\n",
    "  idx = np.where(y_train[:]==i)[0]  # selecting all images of a class\n",
    "  features = x_train[idx,::]\n",
    "  img_num = np.random.randint(features.shape[0]) # selecting random no. from class idx\n",
    "  im = features[img_num]  # selecting features of the image from random no.\n",
    "  ax.set_title(class_names[i])\n",
    "  plt.imshow(im)\n",
    "plt.show()"
   ]
  },
  {
   "cell_type": "code",
   "execution_count": 0,
   "metadata": {
    "colab": {},
    "colab_type": "code",
    "id": "p8iKuwFZWsJW"
   },
   "outputs": [],
   "source": [
    "x_train = x_train.astype('float32')/255\n",
    "x_test = x_test.astype('float32')/255\n",
    "\n",
    "# converting class labels to one hot encoded\n",
    "y_train = np_utils.to_categorical(y_train, num_classes)\n",
    "y_test = np_utils.to_categorical(y_test, num_classes)"
   ]
  },
  {
   "cell_type": "markdown",
   "metadata": {
    "colab_type": "text",
    "id": "yIJ4z94omcuU"
   },
   "source": [
    "## Model"
   ]
  },
  {
   "cell_type": "code",
   "execution_count": 12,
   "metadata": {
    "colab": {
     "base_uri": "https://localhost:8080/",
     "height": 1000
    },
    "colab_type": "code",
    "id": "wfyDn3tIXTX6",
    "outputId": "d0ded96b-4d0c-4e51-957d-014303673dc3"
   },
   "outputs": [
    {
     "name": "stdout",
     "output_type": "stream",
     "text": [
      "WARNING:tensorflow:From /usr/local/lib/python3.6/dist-packages/keras/backend/tensorflow_backend.py:66: The name tf.get_default_graph is deprecated. Please use tf.compat.v1.get_default_graph instead.\n",
      "\n",
      "WARNING:tensorflow:From /usr/local/lib/python3.6/dist-packages/keras/backend/tensorflow_backend.py:541: The name tf.placeholder is deprecated. Please use tf.compat.v1.placeholder instead.\n",
      "\n",
      "WARNING:tensorflow:From /usr/local/lib/python3.6/dist-packages/keras/backend/tensorflow_backend.py:4432: The name tf.random_uniform is deprecated. Please use tf.random.uniform instead.\n",
      "\n",
      "WARNING:tensorflow:From /usr/local/lib/python3.6/dist-packages/keras/backend/tensorflow_backend.py:190: The name tf.get_default_session is deprecated. Please use tf.compat.v1.get_default_session instead.\n",
      "\n",
      "WARNING:tensorflow:From /usr/local/lib/python3.6/dist-packages/keras/backend/tensorflow_backend.py:197: The name tf.ConfigProto is deprecated. Please use tf.compat.v1.ConfigProto instead.\n",
      "\n",
      "WARNING:tensorflow:From /usr/local/lib/python3.6/dist-packages/keras/backend/tensorflow_backend.py:203: The name tf.Session is deprecated. Please use tf.compat.v1.Session instead.\n",
      "\n",
      "WARNING:tensorflow:From /usr/local/lib/python3.6/dist-packages/keras/backend/tensorflow_backend.py:207: The name tf.global_variables is deprecated. Please use tf.compat.v1.global_variables instead.\n",
      "\n",
      "WARNING:tensorflow:From /usr/local/lib/python3.6/dist-packages/keras/backend/tensorflow_backend.py:216: The name tf.is_variable_initialized is deprecated. Please use tf.compat.v1.is_variable_initialized instead.\n",
      "\n",
      "WARNING:tensorflow:From /usr/local/lib/python3.6/dist-packages/keras/backend/tensorflow_backend.py:223: The name tf.variables_initializer is deprecated. Please use tf.compat.v1.variables_initializer instead.\n",
      "\n",
      "WARNING:tensorflow:From /usr/local/lib/python3.6/dist-packages/keras/backend/tensorflow_backend.py:2041: The name tf.nn.fused_batch_norm is deprecated. Please use tf.compat.v1.nn.fused_batch_norm instead.\n",
      "\n",
      "WARNING:tensorflow:From /usr/local/lib/python3.6/dist-packages/keras/backend/tensorflow_backend.py:148: The name tf.placeholder_with_default is deprecated. Please use tf.compat.v1.placeholder_with_default instead.\n",
      "\n",
      "WARNING:tensorflow:From /usr/local/lib/python3.6/dist-packages/keras/backend/tensorflow_backend.py:3733: calling dropout (from tensorflow.python.ops.nn_ops) with keep_prob is deprecated and will be removed in a future version.\n",
      "Instructions for updating:\n",
      "Please use `rate` instead of `keep_prob`. Rate should be set to `rate = 1 - keep_prob`.\n",
      "WARNING:tensorflow:From /usr/local/lib/python3.6/dist-packages/keras/backend/tensorflow_backend.py:4267: The name tf.nn.max_pool is deprecated. Please use tf.nn.max_pool2d instead.\n",
      "\n",
      "Model: \"sequential_1\"\n",
      "_________________________________________________________________\n",
      "Layer (type)                 Output Shape              Param #   \n",
      "=================================================================\n",
      "depthwise_conv2d_1 (Depthwis (None, 32, 32, 3)         27        \n",
      "_________________________________________________________________\n",
      "conv2d_1 (Conv2D)            (None, 32, 32, 32)        96        \n",
      "_________________________________________________________________\n",
      "activation_1 (Activation)    (None, 32, 32, 32)        0         \n",
      "_________________________________________________________________\n",
      "batch_normalization_1 (Batch (None, 32, 32, 32)        128       \n",
      "_________________________________________________________________\n",
      "dropout_1 (Dropout)          (None, 32, 32, 32)        0         \n",
      "_________________________________________________________________\n",
      "depthwise_conv2d_2 (Depthwis (None, 30, 30, 32)        288       \n",
      "_________________________________________________________________\n",
      "conv2d_2 (Conv2D)            (None, 30, 30, 64)        2048      \n",
      "_________________________________________________________________\n",
      "activation_2 (Activation)    (None, 30, 30, 64)        0         \n",
      "_________________________________________________________________\n",
      "batch_normalization_2 (Batch (None, 30, 30, 64)        256       \n",
      "_________________________________________________________________\n",
      "dropout_2 (Dropout)          (None, 30, 30, 64)        0         \n",
      "_________________________________________________________________\n",
      "depthwise_conv2d_3 (Depthwis (None, 28, 28, 64)        576       \n",
      "_________________________________________________________________\n",
      "conv2d_3 (Conv2D)            (None, 28, 28, 128)       8192      \n",
      "_________________________________________________________________\n",
      "activation_3 (Activation)    (None, 28, 28, 128)       0         \n",
      "_________________________________________________________________\n",
      "batch_normalization_3 (Batch (None, 28, 28, 128)       512       \n",
      "_________________________________________________________________\n",
      "dropout_3 (Dropout)          (None, 28, 28, 128)       0         \n",
      "_________________________________________________________________\n",
      "max_pooling2d_1 (MaxPooling2 (None, 14, 14, 128)       0         \n",
      "_________________________________________________________________\n",
      "conv2d_4 (Conv2D)            (None, 14, 14, 32)        4096      \n",
      "_________________________________________________________________\n",
      "depthwise_conv2d_4 (Depthwis (None, 12, 12, 32)        288       \n",
      "_________________________________________________________________\n",
      "conv2d_5 (Conv2D)            (None, 12, 12, 32)        1024      \n",
      "_________________________________________________________________\n",
      "activation_4 (Activation)    (None, 12, 12, 32)        0         \n",
      "_________________________________________________________________\n",
      "batch_normalization_4 (Batch (None, 12, 12, 32)        128       \n",
      "_________________________________________________________________\n",
      "dropout_4 (Dropout)          (None, 12, 12, 32)        0         \n",
      "_________________________________________________________________\n",
      "depthwise_conv2d_5 (Depthwis (None, 10, 10, 32)        288       \n",
      "_________________________________________________________________\n",
      "conv2d_6 (Conv2D)            (None, 10, 10, 64)        2048      \n",
      "_________________________________________________________________\n",
      "activation_5 (Activation)    (None, 10, 10, 64)        0         \n",
      "_________________________________________________________________\n",
      "batch_normalization_5 (Batch (None, 10, 10, 64)        256       \n",
      "_________________________________________________________________\n",
      "dropout_5 (Dropout)          (None, 10, 10, 64)        0         \n",
      "_________________________________________________________________\n",
      "depthwise_conv2d_6 (Depthwis (None, 8, 8, 64)          576       \n",
      "_________________________________________________________________\n",
      "conv2d_7 (Conv2D)            (None, 8, 8, 128)         8192      \n",
      "_________________________________________________________________\n",
      "activation_6 (Activation)    (None, 8, 8, 128)         0         \n",
      "_________________________________________________________________\n",
      "batch_normalization_6 (Batch (None, 8, 8, 128)         512       \n",
      "_________________________________________________________________\n",
      "dropout_6 (Dropout)          (None, 8, 8, 128)         0         \n",
      "_________________________________________________________________\n",
      "max_pooling2d_2 (MaxPooling2 (None, 4, 4, 128)         0         \n",
      "_________________________________________________________________\n",
      "conv2d_8 (Conv2D)            (None, 4, 4, 32)          4096      \n",
      "_________________________________________________________________\n",
      "depthwise_conv2d_7 (Depthwis (None, 2, 2, 32)          288       \n",
      "_________________________________________________________________\n",
      "conv2d_9 (Conv2D)            (None, 2, 2, 32)          1024      \n",
      "_________________________________________________________________\n",
      "activation_7 (Activation)    (None, 2, 2, 32)          0         \n",
      "_________________________________________________________________\n",
      "batch_normalization_7 (Batch (None, 2, 2, 32)          128       \n",
      "_________________________________________________________________\n",
      "dropout_7 (Dropout)          (None, 2, 2, 32)          0         \n",
      "_________________________________________________________________\n",
      "conv2d_10 (Conv2D)           (None, 2, 2, 10)          320       \n",
      "_________________________________________________________________\n",
      "global_average_pooling2d_1 ( (None, 10)                0         \n",
      "_________________________________________________________________\n",
      "activation_8 (Activation)    (None, 10)                0         \n",
      "=================================================================\n",
      "Total params: 35,387\n",
      "Trainable params: 34,427\n",
      "Non-trainable params: 960\n",
      "_________________________________________________________________\n"
     ]
    }
   ],
   "source": [
    "# Define the model\n",
    "model = Sequential() \n",
    "model.add(DepthwiseConv2D(3, depth_multiplier=1, use_bias=False, padding='same', input_shape=(32, 32, 3))) # 32x3x3x32 RF:3 # padding==border_mode(old version)\n",
    "model.add(Convolution2D(32, 1, use_bias=False, padding='same')) # 32x3x3x32 RF:\n",
    "model.add(Activation('relu'))\n",
    "model.add(BatchNormalization())\n",
    "model.add(Dropout(0.05))\n",
    "\n",
    "model.add(DepthwiseConv2D(3, use_bias=False)) # 30x3x3x64\n",
    "model.add(Convolution2D(64, 1, use_bias=False)) # 30x3x3x64\n",
    "model.add(Activation('relu'))\n",
    "model.add(BatchNormalization())\n",
    "model.add(Dropout(0.05))\n",
    "\n",
    "model.add(DepthwiseConv2D(3, use_bias=False)) # 28x3x3x128\n",
    "model.add(Convolution2D(128, 1, use_bias=False))  # 28x3x3x128\n",
    "model.add(Activation('relu'))\n",
    "model.add(BatchNormalization())\n",
    "model.add(Dropout(0.05))\n",
    "\n",
    "model.add(MaxPooling2D(2)) # 14x3x3x128\n",
    "model.add(Convolution2D(32, 1, use_bias=False))  # 14x3x3x32\n",
    "\n",
    "model.add(DepthwiseConv2D(3, use_bias=False)) # 12x3x3x32 RF:3    \n",
    "model.add(Convolution2D(32, 1, use_bias=False)) # 12x3x3x32 RF:\n",
    "model.add(Activation('relu'))\n",
    "model.add(BatchNormalization())\n",
    "model.add(Dropout(0.1))\n",
    "\n",
    "model.add(DepthwiseConv2D(3, use_bias=False)) # 10x3x3x64\n",
    "model.add(Convolution2D(64, 1, use_bias=False)) # 10x3x3x64\n",
    "model.add(Activation('relu'))\n",
    "model.add(BatchNormalization())\n",
    "model.add(Dropout(0.1))\n",
    "\n",
    "model.add(DepthwiseConv2D(3, use_bias=False)) # 8x3x3x128\n",
    "model.add(Convolution2D(128, 1, use_bias=False))  # 8x3x3x128\n",
    "model.add(Activation('relu'))\n",
    "model.add(BatchNormalization())\n",
    "model.add(Dropout(0.1))\n",
    "\n",
    "model.add(MaxPooling2D(2)) # 4x3x3x128\n",
    "model.add(Convolution2D(32, 1, use_bias=False))  # 4x3x3x32\n",
    "\n",
    "model.add(DepthwiseConv2D(3, use_bias=False)) # 2x3x3x32 RF:3    \n",
    "model.add(Convolution2D(32, 1, use_bias=False)) # 2x3x3x32 RF:\n",
    "model.add(Activation('relu'))\n",
    "model.add(BatchNormalization())\n",
    "model.add(Dropout(0.15))\n",
    "\n",
    "model.add(Convolution2D(10, 1, use_bias=False)) # 2x3x3x10 RF:\n",
    "model.add(GlobalAveragePooling2D()) # 1X10\n",
    "model.add(Activation('softmax'))\n",
    "\n",
    "model.summary()"
   ]
  },
  {
   "cell_type": "code",
   "execution_count": 0,
   "metadata": {
    "colab": {},
    "colab_type": "code",
    "id": "G6jeD_Vvfp-S"
   },
   "outputs": [],
   "source": [
    "# Compile the model\n",
    "model.compile(optimizer=Adam(lr=0.01), loss='categorical_crossentropy', metrics=['accuracy'])"
   ]
  },
  {
   "cell_type": "code",
   "execution_count": 0,
   "metadata": {
    "colab": {},
    "colab_type": "code",
    "id": "u-cr82_teNuQ"
   },
   "outputs": [],
   "source": [
    "from keras.preprocessing.image import ImageDataGenerator\n",
    "datagen = ImageDataGenerator()"
   ]
  },
  {
   "cell_type": "code",
   "execution_count": 31,
   "metadata": {
    "colab": {
     "base_uri": "https://localhost:8080/",
     "height": 1000
    },
    "colab_type": "code",
    "id": "S9uG39-EeapX",
    "outputId": "d2eb5d2e-8571-4a0a-aa19-1e4b203e9cbd"
   },
   "outputs": [
    {
     "name": "stderr",
     "output_type": "stream",
     "text": [
      "/usr/local/lib/python3.6/dist-packages/ipykernel_launcher.py:5: UserWarning: The semantics of the Keras 2 argument `steps_per_epoch` is not the same as the Keras 1 argument `samples_per_epoch`. `steps_per_epoch` is the number of batches to draw from the generator at each epoch. Basically steps_per_epoch = samples_per_epoch/batch_size. Similarly `nb_val_samples`->`validation_steps` and `val_samples`->`steps` arguments have changed. Update your method calls accordingly.\n",
      "  \"\"\"\n",
      "/usr/local/lib/python3.6/dist-packages/ipykernel_launcher.py:5: UserWarning: Update your `fit_generator` call to the Keras 2 API: `fit_generator(<keras_pre..., validation_data=(array([[[..., callbacks=[<keras.ca..., verbose=1, steps_per_epoch=390, epochs=50)`\n",
      "  \"\"\"\n"
     ]
    },
    {
     "name": "stdout",
     "output_type": "stream",
     "text": [
      "Epoch 1/50\n",
      "\n",
      "Epoch 00001: LearningRateScheduler setting learning rate to 0.01.\n",
      "390/390 [==============================] - 43s 110ms/step - loss: 0.8858 - acc: 0.6919 - val_loss: 2.1933 - val_acc: 0.5349\n",
      "Epoch 2/50\n",
      "\n",
      "Epoch 00002: LearningRateScheduler setting learning rate to 0.0075815011.\n",
      "390/390 [==============================] - 39s 100ms/step - loss: 0.7248 - acc: 0.7479 - val_loss: 0.8913 - val_acc: 0.6997\n",
      "Epoch 3/50\n",
      "\n",
      "Epoch 00003: LearningRateScheduler setting learning rate to 0.0061050061.\n",
      "390/390 [==============================] - 39s 100ms/step - loss: 0.6555 - acc: 0.7725 - val_loss: 0.9393 - val_acc: 0.6800\n",
      "Epoch 4/50\n",
      "\n",
      "Epoch 00004: LearningRateScheduler setting learning rate to 0.005109862.\n",
      "390/390 [==============================] - 39s 100ms/step - loss: 0.6131 - acc: 0.7864 - val_loss: 0.8299 - val_acc: 0.7163\n",
      "Epoch 5/50\n",
      "\n",
      "Epoch 00005: LearningRateScheduler setting learning rate to 0.0043936731.\n",
      "390/390 [==============================] - 39s 101ms/step - loss: 0.5760 - acc: 0.7994 - val_loss: 0.7299 - val_acc: 0.7529\n",
      "Epoch 6/50\n",
      "\n",
      "Epoch 00006: LearningRateScheduler setting learning rate to 0.0038535645.\n",
      "390/390 [==============================] - 39s 101ms/step - loss: 0.5466 - acc: 0.8080 - val_loss: 0.6988 - val_acc: 0.7580\n",
      "Epoch 7/50\n",
      "\n",
      "Epoch 00007: LearningRateScheduler setting learning rate to 0.003431709.\n",
      "390/390 [==============================] - 39s 101ms/step - loss: 0.5219 - acc: 0.8193 - val_loss: 0.6450 - val_acc: 0.7774\n",
      "Epoch 8/50\n",
      "\n",
      "Epoch 00008: LearningRateScheduler setting learning rate to 0.0030931024.\n",
      "390/390 [==============================] - 39s 101ms/step - loss: 0.5057 - acc: 0.8240 - val_loss: 0.6574 - val_acc: 0.7777\n",
      "Epoch 9/50\n",
      "\n",
      "Epoch 00009: LearningRateScheduler setting learning rate to 0.0028153153.\n",
      "390/390 [==============================] - 39s 101ms/step - loss: 0.4822 - acc: 0.8302 - val_loss: 0.5851 - val_acc: 0.8023\n",
      "Epoch 10/50\n",
      "\n",
      "Epoch 00010: LearningRateScheduler setting learning rate to 0.0025833118.\n",
      "390/390 [==============================] - 39s 101ms/step - loss: 0.4675 - acc: 0.8356 - val_loss: 0.5905 - val_acc: 0.7951\n",
      "Epoch 11/50\n",
      "\n",
      "Epoch 00011: LearningRateScheduler setting learning rate to 0.0023866348.\n",
      "390/390 [==============================] - 39s 101ms/step - loss: 0.4524 - acc: 0.8417 - val_loss: 0.5871 - val_acc: 0.8015\n",
      "Epoch 12/50\n",
      "\n",
      "Epoch 00012: LearningRateScheduler setting learning rate to 0.0022177866.\n",
      "390/390 [==============================] - 39s 101ms/step - loss: 0.4413 - acc: 0.8446 - val_loss: 0.6052 - val_acc: 0.7988\n",
      "Epoch 13/50\n",
      "\n",
      "Epoch 00013: LearningRateScheduler setting learning rate to 0.002071251.\n",
      "390/390 [==============================] - 39s 101ms/step - loss: 0.4251 - acc: 0.8496 - val_loss: 0.6016 - val_acc: 0.7954\n",
      "Epoch 14/50\n",
      "\n",
      "Epoch 00014: LearningRateScheduler setting learning rate to 0.0019428793.\n",
      "390/390 [==============================] - 40s 102ms/step - loss: 0.4161 - acc: 0.8527 - val_loss: 0.5925 - val_acc: 0.7987\n",
      "Epoch 15/50\n",
      "\n",
      "Epoch 00015: LearningRateScheduler setting learning rate to 0.0018294914.\n",
      "390/390 [==============================] - 40s 102ms/step - loss: 0.4091 - acc: 0.8560 - val_loss: 0.5593 - val_acc: 0.8126\n",
      "Epoch 16/50\n",
      "\n",
      "Epoch 00016: LearningRateScheduler setting learning rate to 0.0017286085.\n",
      "390/390 [==============================] - 40s 102ms/step - loss: 0.4017 - acc: 0.8595 - val_loss: 0.5559 - val_acc: 0.8135\n",
      "Epoch 17/50\n",
      "\n",
      "Epoch 00017: LearningRateScheduler setting learning rate to 0.00163827.\n",
      "390/390 [==============================] - 39s 101ms/step - loss: 0.3920 - acc: 0.8626 - val_loss: 0.5537 - val_acc: 0.8131\n",
      "Epoch 18/50\n",
      "\n",
      "Epoch 00018: LearningRateScheduler setting learning rate to 0.0015569049.\n",
      "390/390 [==============================] - 39s 101ms/step - loss: 0.3886 - acc: 0.8640 - val_loss: 0.5638 - val_acc: 0.8101\n",
      "Epoch 19/50\n",
      "\n",
      "Epoch 00019: LearningRateScheduler setting learning rate to 0.0014832394.\n",
      "390/390 [==============================] - 39s 100ms/step - loss: 0.3787 - acc: 0.8665 - val_loss: 0.5686 - val_acc: 0.8095\n",
      "Epoch 20/50\n",
      "\n",
      "Epoch 00020: LearningRateScheduler setting learning rate to 0.00141623.\n",
      "390/390 [==============================] - 39s 100ms/step - loss: 0.3764 - acc: 0.8672 - val_loss: 0.5774 - val_acc: 0.8064\n",
      "Epoch 21/50\n",
      "\n",
      "Epoch 00021: LearningRateScheduler setting learning rate to 0.0013550136.\n",
      "390/390 [==============================] - 39s 100ms/step - loss: 0.3718 - acc: 0.8688 - val_loss: 0.5666 - val_acc: 0.8126\n",
      "Epoch 22/50\n",
      "\n",
      "Epoch 00022: LearningRateScheduler setting learning rate to 0.00129887.\n",
      "390/390 [==============================] - 39s 100ms/step - loss: 0.3605 - acc: 0.8727 - val_loss: 0.5411 - val_acc: 0.8188\n",
      "Epoch 23/50\n",
      "\n",
      "Epoch 00023: LearningRateScheduler setting learning rate to 0.0012471938.\n",
      "390/390 [==============================] - 39s 100ms/step - loss: 0.3579 - acc: 0.8721 - val_loss: 0.5596 - val_acc: 0.8146\n",
      "Epoch 24/50\n",
      "\n",
      "Epoch 00024: LearningRateScheduler setting learning rate to 0.0011994722.\n",
      "390/390 [==============================] - 39s 100ms/step - loss: 0.3544 - acc: 0.8734 - val_loss: 0.5601 - val_acc: 0.8147\n",
      "Epoch 25/50\n",
      "\n",
      "Epoch 00025: LearningRateScheduler setting learning rate to 0.001155268.\n",
      "390/390 [==============================] - 39s 100ms/step - loss: 0.3503 - acc: 0.8750 - val_loss: 0.5515 - val_acc: 0.8199\n",
      "Epoch 26/50\n",
      "\n",
      "Epoch 00026: LearningRateScheduler setting learning rate to 0.0011142061.\n",
      "390/390 [==============================] - 39s 101ms/step - loss: 0.3446 - acc: 0.8770 - val_loss: 0.5508 - val_acc: 0.8177\n",
      "Epoch 27/50\n",
      "\n",
      "Epoch 00027: LearningRateScheduler setting learning rate to 0.001075963.\n",
      "390/390 [==============================] - 39s 101ms/step - loss: 0.3384 - acc: 0.8783 - val_loss: 0.5531 - val_acc: 0.8197\n",
      "Epoch 28/50\n",
      "\n",
      "Epoch 00028: LearningRateScheduler setting learning rate to 0.001040258.\n",
      "390/390 [==============================] - 39s 100ms/step - loss: 0.3327 - acc: 0.8812 - val_loss: 0.5560 - val_acc: 0.8162\n",
      "Epoch 29/50\n",
      "\n",
      "Epoch 00029: LearningRateScheduler setting learning rate to 0.0010068466.\n",
      "390/390 [==============================] - 39s 100ms/step - loss: 0.3331 - acc: 0.8811 - val_loss: 0.5452 - val_acc: 0.8196\n",
      "Epoch 30/50\n",
      "\n",
      "Epoch 00030: LearningRateScheduler setting learning rate to 0.0009755146.\n",
      "390/390 [==============================] - 39s 100ms/step - loss: 0.3292 - acc: 0.8830 - val_loss: 0.5593 - val_acc: 0.8190\n",
      "Epoch 31/50\n",
      "\n",
      "Epoch 00031: LearningRateScheduler setting learning rate to 0.0009460738.\n",
      "390/390 [==============================] - 39s 100ms/step - loss: 0.3227 - acc: 0.8842 - val_loss: 0.5690 - val_acc: 0.8102\n",
      "Epoch 32/50\n",
      "\n",
      "Epoch 00032: LearningRateScheduler setting learning rate to 0.000918358.\n",
      "390/390 [==============================] - 39s 100ms/step - loss: 0.3237 - acc: 0.8845 - val_loss: 0.5965 - val_acc: 0.8100\n",
      "Epoch 33/50\n",
      "\n",
      "Epoch 00033: LearningRateScheduler setting learning rate to 0.0008922198.\n",
      "390/390 [==============================] - 39s 100ms/step - loss: 0.3183 - acc: 0.8864 - val_loss: 0.5641 - val_acc: 0.8182\n",
      "Epoch 34/50\n",
      "\n",
      "Epoch 00034: LearningRateScheduler setting learning rate to 0.0008675284.\n",
      "390/390 [==============================] - 39s 100ms/step - loss: 0.3199 - acc: 0.8867 - val_loss: 0.5563 - val_acc: 0.8186\n",
      "Epoch 35/50\n",
      "\n",
      "Epoch 00035: LearningRateScheduler setting learning rate to 0.0008441668.\n",
      "390/390 [==============================] - 39s 100ms/step - loss: 0.3157 - acc: 0.8875 - val_loss: 0.5556 - val_acc: 0.8203\n",
      "Epoch 36/50\n",
      "\n",
      "Epoch 00036: LearningRateScheduler setting learning rate to 0.0008220304.\n",
      "390/390 [==============================] - 39s 100ms/step - loss: 0.3145 - acc: 0.8882 - val_loss: 0.5594 - val_acc: 0.8175\n",
      "Epoch 37/50\n",
      "\n",
      "Epoch 00037: LearningRateScheduler setting learning rate to 0.0008010253.\n",
      "390/390 [==============================] - 39s 101ms/step - loss: 0.3084 - acc: 0.8906 - val_loss: 0.5695 - val_acc: 0.8154\n",
      "Epoch 38/50\n",
      "\n",
      "Epoch 00038: LearningRateScheduler setting learning rate to 0.0007810669.\n",
      "390/390 [==============================] - 39s 101ms/step - loss: 0.3086 - acc: 0.8899 - val_loss: 0.5581 - val_acc: 0.8206\n",
      "Epoch 39/50\n",
      "\n",
      "Epoch 00039: LearningRateScheduler setting learning rate to 0.000762079.\n",
      "390/390 [==============================] - 39s 101ms/step - loss: 0.3062 - acc: 0.8915 - val_loss: 0.5552 - val_acc: 0.8193\n",
      "Epoch 40/50\n",
      "\n",
      "Epoch 00040: LearningRateScheduler setting learning rate to 0.0007439923.\n",
      "390/390 [==============================] - 39s 101ms/step - loss: 0.3010 - acc: 0.8925 - val_loss: 0.5729 - val_acc: 0.8189\n",
      "Epoch 41/50\n",
      "\n",
      "Epoch 00041: LearningRateScheduler setting learning rate to 0.0007267442.\n",
      "390/390 [==============================] - 39s 101ms/step - loss: 0.3074 - acc: 0.8899 - val_loss: 0.5724 - val_acc: 0.8151\n",
      "Epoch 42/50\n",
      "\n",
      "Epoch 00042: LearningRateScheduler setting learning rate to 0.0007102777.\n",
      "390/390 [==============================] - 39s 100ms/step - loss: 0.2969 - acc: 0.8935 - val_loss: 0.5695 - val_acc: 0.8174\n",
      "Epoch 43/50\n",
      "\n",
      "Epoch 00043: LearningRateScheduler setting learning rate to 0.0006945409.\n",
      "390/390 [==============================] - 39s 100ms/step - loss: 0.2998 - acc: 0.8930 - val_loss: 0.5655 - val_acc: 0.8196\n",
      "Epoch 44/50\n",
      "\n",
      "Epoch 00044: LearningRateScheduler setting learning rate to 0.0006794863.\n",
      "390/390 [==============================] - 39s 100ms/step - loss: 0.3009 - acc: 0.8912 - val_loss: 0.5634 - val_acc: 0.8174\n",
      "Epoch 45/50\n",
      "\n",
      "Epoch 00045: LearningRateScheduler setting learning rate to 0.0006650705.\n",
      "390/390 [==============================] - 39s 101ms/step - loss: 0.2941 - acc: 0.8958 - val_loss: 0.5672 - val_acc: 0.8183\n",
      "Epoch 46/50\n",
      "\n",
      "Epoch 00046: LearningRateScheduler setting learning rate to 0.0006512537.\n",
      "390/390 [==============================] - 39s 101ms/step - loss: 0.2957 - acc: 0.8953 - val_loss: 0.5565 - val_acc: 0.8221\n",
      "Epoch 47/50\n",
      "\n",
      "Epoch 00047: LearningRateScheduler setting learning rate to 0.0006379992.\n",
      "390/390 [==============================] - 39s 100ms/step - loss: 0.2935 - acc: 0.8938 - val_loss: 0.5555 - val_acc: 0.8297\n",
      "Epoch 48/50\n",
      "\n",
      "Epoch 00048: LearningRateScheduler setting learning rate to 0.0006252736.\n",
      "390/390 [==============================] - 39s 101ms/step - loss: 0.2913 - acc: 0.8950 - val_loss: 0.5675 - val_acc: 0.8197\n",
      "Epoch 49/50\n",
      "\n",
      "Epoch 00049: LearningRateScheduler setting learning rate to 0.0006130456.\n",
      "390/390 [==============================] - 39s 100ms/step - loss: 0.2934 - acc: 0.8950 - val_loss: 0.5803 - val_acc: 0.8171\n",
      "Epoch 50/50\n",
      "\n",
      "Epoch 00050: LearningRateScheduler setting learning rate to 0.0006012868.\n",
      "390/390 [==============================] - 39s 100ms/step - loss: 0.2868 - acc: 0.8959 - val_loss: 0.5797 - val_acc: 0.8154\n",
      "Model took 1966.81 seconds to train\n"
     ]
    }
   ],
   "source": [
    "# train the model\n",
    "start = time.time()\n",
    "# Train the model\n",
    "model_info = model.fit_generator(datagen.flow(x_train, y_train, batch_size = 128),\n",
    "                                 samples_per_epoch = x_train.shape[0], nb_epoch = 50, \n",
    "                                 validation_data = (x_test, y_test),callbacks=[LearningRateScheduler(scheduler, verbose=1)], verbose=1)\n",
    "end = time.time()\n",
    "print (\"Model took %0.2f seconds to train\"%(end - start))"
   ]
  },
  {
   "cell_type": "code",
   "execution_count": 32,
   "metadata": {
    "colab": {
     "base_uri": "https://localhost:8080/",
     "height": 350
    },
    "colab_type": "code",
    "id": "ifmyuJy1edf-",
    "outputId": "67c67cb2-b1c7-4e77-8879-ce69eacfe315"
   },
   "outputs": [
    {
     "data": {
      "image/png": "[encoded data removed]",
      "text/plain": [
       "<Figure size 1080x360 with 2 Axes>"
      ]
     },
     "metadata": {
      "tags": []
     },
     "output_type": "display_data"
    }
   ],
   "source": [
    "# plot model history\n",
    "plot_model_history(model_info)"
   ]
  },
  {
   "cell_type": "code",
   "execution_count": 33,
   "metadata": {
    "colab": {
     "base_uri": "https://localhost:8080/",
     "height": 35
    },
    "colab_type": "code",
    "id": "xe6CIp5zhaGB",
    "outputId": "e1884950-06c9-47c8-b4bc-2429d95c1c9e"
   },
   "outputs": [
    {
     "name": "stdout",
     "output_type": "stream",
     "text": [
      "Accuracy on test data is: 81.54\n"
     ]
    }
   ],
   "source": [
    "# compute test accuracy\n",
    "print (\"Accuracy on test data is: %0.2f\"%accuracy(x_test, y_test, model))"
   ]
  },
  {
   "cell_type": "code",
   "execution_count": 0,
   "metadata": {
    "colab": {},
    "colab_type": "code",
    "id": "V5s0gAW-BCtO"
   },
   "outputs": [],
   "source": []
  },
  {
   "cell_type": "code",
   "execution_count": 0,
   "metadata": {
    "colab": {},
    "colab_type": "code",
    "id": "XTG-gPfMiCnh"
   },
   "outputs": [],
   "source": [
    "  "
   ]
  },
  {
   "cell_type": "code",
   "execution_count": 0,
   "metadata": {
    "colab": {},
    "colab_type": "code",
    "id": "9wUiDBEVmcd3"
   },
   "outputs": [],
   "source": []
  },
  {
   "cell_type": "code",
   "execution_count": 0,
   "metadata": {
    "colab": {},
    "colab_type": "code",
    "id": "gEa21Y1UrTfg"
   },
   "outputs": [],
   "source": []
  }
 ],
 "metadata": {
  "accelerator": "GPU",
  "colab": {
   "collapsed_sections": [],
   "machine_shape": "hm",
   "name": "S3_model3.ipynb",
   "provenance": []
  },
  "kernelspec": {
   "display_name": "Python 3",
   "language": "python",
   "name": "python3"
  },
  "language_info": {
   "codemirror_mode": {
    "name": "ipython",
    "version": 3
   },
   "file_extension": ".py",
   "mimetype": "text/x-python",
   "name": "python",
   "nbconvert_exporter": "python",
   "pygments_lexer": "ipython3",
   "version": "3.6.8"
  },
  "toc": {
   "base_numbering": 1,
   "nav_menu": {},
   "number_sections": true,
   "sideBar": true,
   "skip_h1_title": false,
   "title_cell": "Table of Contents",
   "title_sidebar": "Contents",
   "toc_cell": false,
   "toc_position": {},
   "toc_section_display": true,
   "toc_window_display": false
  },
  "varInspector": {
   "cols": {
    "lenName": 16,
    "lenType": 16,
    "lenVar": 40
   },
   "kernels_config": {
    "python": {
     "delete_cmd_postfix": "",
     "delete_cmd_prefix": "del ",
     "library": "var_list.py",
     "varRefreshCmd": "print(var_dic_list())"
    },
    "r": {
     "delete_cmd_postfix": ") ",
     "delete_cmd_prefix": "rm(",
     "library": "var_list.r",
     "varRefreshCmd": "cat(var_dic_list()) "
    }
   },
   "types_to_exclude": [
    "module",
    "function",
    "builtin_function_or_method",
    "instance",
    "_Feature"
   ],
   "window_display": false
  }
 },
 "nbformat": 4,
 "nbformat_minor": 1
}
