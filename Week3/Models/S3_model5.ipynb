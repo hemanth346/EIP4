{
 "cells": [
  {
   "cell_type": "markdown",
   "metadata": {
    "colab_type": "text",
    "id": "mT5a340ZMRtS"
   },
   "source": [
    "- Changed Dropout Values\n",
    "- Modified Architecture\n",
    "  - \n",
    "- Considering to change LR rate and decay rate, Not changed\n",
    "Total Param : 35,387\n",
    "\n"
   ]
  },
  {
   "cell_type": "markdown",
   "metadata": {
    "colab_type": "text",
    "id": "z3saB-0g5XwS"
   },
   "source": [
    "## Installs, imports and Boilerplate code"
   ]
  },
  {
   "cell_type": "code",
   "execution_count": 0,
   "metadata": {
    "colab": {},
    "colab_type": "code",
    "id": "LQE5KERY49qC"
   },
   "outputs": [],
   "source": [
    "import warnings\n",
    "warnings.filterwarnings(action='once')"
   ]
  },
  {
   "cell_type": "code",
   "execution_count": 5,
   "metadata": {
    "colab": {
     "base_uri": "https://localhost:8080/",
     "height": 284
    },
    "colab_type": "code",
    "id": "ijO161Io5AWK",
    "outputId": "f0767734-9801-4451-802d-a4af5ae9f671"
   },
   "outputs": [
    {
     "name": "stderr",
     "output_type": "stream",
     "text": [
      "/usr/lib/python3.6/importlib/_bootstrap.py:219: ImportWarning: can't resolve package from __spec__ or __package__, falling back on __name__ and __path__\n",
      "  return f(*args, **kwds)\n",
      "Using TensorFlow backend.\n",
      "/usr/lib/python3.6/importlib/_bootstrap.py:219: RuntimeWarning: numpy.ufunc size changed, may indicate binary incompatibility. Expected 216, got 192\n",
      "  return f(*args, **kwds)\n",
      "/usr/local/lib/python3.6/dist-packages/tensorflow_core/python/keras/backend.py:5747: ResourceWarning: unclosed file <_io.TextIOWrapper name='/root/.keras/keras.json' mode='r' encoding='UTF-8'>\n",
      "  _config = json.load(open(_config_path))\n",
      "/usr/lib/python3.6/importlib/_bootstrap.py:219: RuntimeWarning: numpy.ufunc size changed, may indicate binary incompatibility. Expected 192 from C header, got 216 from PyObject\n",
      "  return f(*args, **kwds)\n",
      "/usr/lib/python3.6/importlib/_bootstrap.py:219: RuntimeWarning: numpy.ufunc size changed, may indicate binary incompatibility. Expected 192 from C header, got 216 from PyObject\n",
      "  return f(*args, **kwds)\n"
     ]
    },
    {
     "data": {
      "text/html": [
       "<p style=\"color: red;\">\n",
       "The default version of TensorFlow in Colab will soon switch to TensorFlow 2.x.<br>\n",
       "We recommend you <a href=\"https://www.tensorflow.org/guide/migrate\" target=\"_blank\">upgrade</a> now \n",
       "or ensure your notebook will continue to use TensorFlow 1.x via the <code>%tensorflow_version 1.x</code> magic:\n",
       "<a href=\"https://colab.research.google.com/notebooks/tensorflow_version.ipynb\" target=\"_blank\">more info</a>.</p>\n"
      ],
      "text/plain": [
       "<IPython.core.display.HTML object>"
      ]
     },
     "metadata": {
      "tags": []
     },
     "output_type": "display_data"
    }
   ],
   "source": [
    "import numpy as np\n",
    "import matplotlib.pyplot as plt\n",
    "%matplotlib inline\n",
    "\n",
    "import time\n",
    "\n",
    "from keras.models import Sequential\n",
    "from keras.layers import Conv2D, MaxPooling2D, Convolution2D, DepthwiseConv2D, SeparableConv2D\n",
    "from keras.layers import Dense, Flatten, Activation\n",
    "from keras.layers import Dropout, BatchNormalization, GlobalAveragePooling2D\n",
    "from keras.utils import np_utils\n",
    "from keras import backend as K"
   ]
  },
  {
   "cell_type": "code",
   "execution_count": 6,
   "metadata": {
    "colab": {
     "base_uri": "https://localhost:8080/",
     "height": 53
    },
    "colab_type": "code",
    "id": "mAHRwUrt7lIM",
    "outputId": "b854cf8e-9078-4015-8121-0ef9d90e2d60"
   },
   "outputs": [
    {
     "name": "stdout",
     "output_type": "stream",
     "text": [
      "Downloading data from https://www.cs.toronto.edu/~kriz/cifar-10-python.tar.gz\n",
      "170500096/170498071 [==============================] - 3s 0us/step\n"
     ]
    }
   ],
   "source": [
    "# loading and configuring cifar10 dataset\n",
    "from keras.datasets import cifar10\n",
    "\n",
    "# x_train/test : train/test features\n",
    "# y_train/test : train/test labels\n",
    "(x_train, y_train), (x_test, y_test) = cifar10.load_data()\n",
    "num_train, img_channels, img_rows, img_cols = x_train.shape\n",
    "num_test = x_test.shape[0]\n",
    "num_classes = len(np.unique(y_train))"
   ]
  },
  {
   "cell_type": "code",
   "execution_count": 0,
   "metadata": {
    "colab": {},
    "colab_type": "code",
    "id": "WLuAGWnr84cK"
   },
   "outputs": [],
   "source": [
    "class_names = ['airplane', 'automobile', 'bird', 'cat',  \n",
    "               'deer', 'dog', 'frog', 'horse', 'ship', 'truck']"
   ]
  },
  {
   "cell_type": "code",
   "execution_count": 8,
   "metadata": {
    "colab": {
     "base_uri": "https://localhost:8080/",
     "height": 108
    },
    "colab_type": "code",
    "id": "wiD1KJ-M84FC",
    "outputId": "cfab2d08-0037-4ba3-dfa5-7baa61cdb26d"
   },
   "outputs": [
    {
     "name": "stdout",
     "output_type": "stream",
     "text": [
      "Train images : 50000\n",
      "Test images : 10000\n",
      "Total classes : 10\n",
      "Input image shape : (32, 32, 3)\n",
      "\n"
     ]
    }
   ],
   "source": [
    "# https://stackoverflow.com/questions/45965007/multiline-f-string-in-python\n",
    "print(f\"\"\"Train images : {num_train}\n",
    "Test images : {num_test}\n",
    "Total classes : {num_classes}\n",
    "Input image shape : {x_train.shape[1:]}\n",
    "\"\"\")"
   ]
  },
  {
   "cell_type": "code",
   "execution_count": 0,
   "metadata": {
    "colab": {},
    "colab_type": "code",
    "id": "Xt9JEPEDnbKe"
   },
   "outputs": [],
   "source": [
    "from keras.optimizers import Adam\n",
    "from keras.callbacks import LearningRateScheduler\n",
    "def scheduler(epoch, lr):\n",
    "  return round(0.003 * 1/(1 + 0.319 * epoch), 10)"
   ]
  },
  {
   "cell_type": "code",
   "execution_count": 0,
   "metadata": {
    "colab": {},
    "colab_type": "code",
    "id": "qtR-7WvHQH9Y"
   },
   "outputs": [],
   "source": [
    "def plot_model_history(model_history):\n",
    "  fig, ax = plt.subplots(1, 2, figsize=(15, 5))\n",
    "\n",
    "  # summarize history for accuracy\n",
    "  ax[0].plot(range(1, len(model_history.history['acc'])+1), model_history.history['acc'])#, label='Training Acc')\n",
    "  ax[0].plot(range(1, len(model_history.history['val_acc'])+1), model_history.history['val_acc'])#, label='Validation Acc')\n",
    "  ax[0].set_title('Model Accuracy')\n",
    "  ax[0].set_xlabel('Epochs')\n",
    "  ax[0].set_ylabel('Accuracy')\n",
    "  ax[0].set_xticks(np.arange(1, len(model_history.history['acc'])+1), len(model_history.history['acc'])/10)\n",
    "  ax[0].legend(['Train', 'Validation'], loc='best')\n",
    "\n",
    "  # summarize history for loss\n",
    "  ax[1].plot(range(1, len(model_history.history['loss'])+1), model_history.history['loss'])\n",
    "  ax[1].plot(range(1, len(model_history.history['val_loss'])+1), model_history.history['val_loss'])\n",
    "  ax[1].set_title('Model Loss')\n",
    "  ax[1].set_xlabel('Epochs')\n",
    "  ax[1].set_ylabel('Loss')\n",
    "  ax[1].set_xticks(np.arange(1, len(model_history.history['loss'])+1), len(model_history.history['loss'])/10)\n",
    "  ax[1].legend(['Train', 'Validation'], loc='best')\n",
    "\n",
    "  plt.show()"
   ]
  },
  {
   "cell_type": "code",
   "execution_count": 0,
   "metadata": {
    "colab": {},
    "colab_type": "code",
    "id": "1lGp_6CQUmbT"
   },
   "outputs": [],
   "source": [
    "def accuracy(test_x, test_y, model):\n",
    "  result = model.predict(test_x)\n",
    "  predicted = np.argmax(result, axis=1)\n",
    "  true = np.argmax(test_y, axis=1)\n",
    "  num_correct = np.sum(predicted == true)\n",
    "  accuracy = float(num_correct)/result.shape[0]\n",
    "  return (accuracy * 100)"
   ]
  },
  {
   "cell_type": "code",
   "execution_count": 12,
   "metadata": {
    "colab": {
     "base_uri": "https://localhost:8080/",
     "height": 213
    },
    "colab_type": "code",
    "id": "0py3Ab_5-CK-",
    "outputId": "e5e5f015-4fb6-48d2-9eea-c64b40ab411b"
   },
   "outputs": [
    {
     "data": {
      "image/png": "[encoded data removed]",
      "text/plain": [
       "<Figure size 576x216 with 10 Axes>"
      ]
     },
     "metadata": {
      "tags": []
     },
     "output_type": "display_data"
    }
   ],
   "source": [
    "# Checking images, one for each class\n",
    "fig = plt.figure(figsize=(8,3))\n",
    "for i in range(num_classes):\n",
    "  ax = fig.add_subplot(2, 5, 1+i, xticks=[], yticks=[])\n",
    "  idx = np.where(y_train[:]==i)[0]  # selecting all images of a class\n",
    "  features = x_train[idx,::]\n",
    "  img_num = np.random.randint(features.shape[0]) # selecting random no. from class idx\n",
    "  im = features[img_num]  # selecting features of the image from random no.\n",
    "  ax.set_title(class_names[i])\n",
    "  plt.imshow(im)\n",
    "plt.show()"
   ]
  },
  {
   "cell_type": "code",
   "execution_count": 0,
   "metadata": {
    "colab": {},
    "colab_type": "code",
    "id": "p8iKuwFZWsJW"
   },
   "outputs": [],
   "source": [
    "x_train = x_train.astype('float32')/255\n",
    "x_test = x_test.astype('float32')/255\n",
    "\n",
    "# converting class labels to one hot encoded\n",
    "y_train = np_utils.to_categorical(y_train, num_classes)\n",
    "y_test = np_utils.to_categorical(y_test, num_classes)"
   ]
  },
  {
   "cell_type": "markdown",
   "metadata": {
    "colab_type": "text",
    "id": "yIJ4z94omcuU"
   },
   "source": [
    "## Model"
   ]
  },
  {
   "cell_type": "code",
   "execution_count": 15,
   "metadata": {
    "colab": {
     "base_uri": "https://localhost:8080/",
     "height": 1000
    },
    "colab_type": "code",
    "id": "wfyDn3tIXTX6",
    "outputId": "5792cb41-2879-421c-8840-ca1c86b157dd"
   },
   "outputs": [
    {
     "name": "stdout",
     "output_type": "stream",
     "text": [
      "WARNING:tensorflow:From /usr/local/lib/python3.6/dist-packages/keras/backend/tensorflow_backend.py:66: The name tf.get_default_graph is deprecated. Please use tf.compat.v1.get_default_graph instead.\n",
      "\n",
      "WARNING:tensorflow:From /usr/local/lib/python3.6/dist-packages/keras/backend/tensorflow_backend.py:541: The name tf.placeholder is deprecated. Please use tf.compat.v1.placeholder instead.\n",
      "\n",
      "WARNING:tensorflow:From /usr/local/lib/python3.6/dist-packages/keras/backend/tensorflow_backend.py:4432: The name tf.random_uniform is deprecated. Please use tf.random.uniform instead.\n",
      "\n",
      "WARNING:tensorflow:From /usr/local/lib/python3.6/dist-packages/keras/backend/tensorflow_backend.py:190: The name tf.get_default_session is deprecated. Please use tf.compat.v1.get_default_session instead.\n",
      "\n",
      "WARNING:tensorflow:From /usr/local/lib/python3.6/dist-packages/keras/backend/tensorflow_backend.py:197: The name tf.ConfigProto is deprecated. Please use tf.compat.v1.ConfigProto instead.\n",
      "\n",
      "WARNING:tensorflow:From /usr/local/lib/python3.6/dist-packages/keras/backend/tensorflow_backend.py:203: The name tf.Session is deprecated. Please use tf.compat.v1.Session instead.\n",
      "\n",
      "WARNING:tensorflow:From /usr/local/lib/python3.6/dist-packages/keras/backend/tensorflow_backend.py:207: The name tf.global_variables is deprecated. Please use tf.compat.v1.global_variables instead.\n",
      "\n",
      "WARNING:tensorflow:From /usr/local/lib/python3.6/dist-packages/keras/backend/tensorflow_backend.py:216: The name tf.is_variable_initialized is deprecated. Please use tf.compat.v1.is_variable_initialized instead.\n",
      "\n",
      "WARNING:tensorflow:From /usr/local/lib/python3.6/dist-packages/keras/backend/tensorflow_backend.py:223: The name tf.variables_initializer is deprecated. Please use tf.compat.v1.variables_initializer instead.\n",
      "\n",
      "WARNING:tensorflow:From /usr/local/lib/python3.6/dist-packages/keras/backend/tensorflow_backend.py:2041: The name tf.nn.fused_batch_norm is deprecated. Please use tf.compat.v1.nn.fused_batch_norm instead.\n",
      "\n",
      "WARNING:tensorflow:From /usr/local/lib/python3.6/dist-packages/keras/backend/tensorflow_backend.py:148: The name tf.placeholder_with_default is deprecated. Please use tf.compat.v1.placeholder_with_default instead.\n",
      "\n",
      "WARNING:tensorflow:From /usr/local/lib/python3.6/dist-packages/keras/backend/tensorflow_backend.py:3733: calling dropout (from tensorflow.python.ops.nn_ops) with keep_prob is deprecated and will be removed in a future version.\n",
      "Instructions for updating:\n",
      "Please use `rate` instead of `keep_prob`. Rate should be set to `rate = 1 - keep_prob`.\n",
      "WARNING:tensorflow:From /usr/local/lib/python3.6/dist-packages/keras/backend/tensorflow_backend.py:4267: The name tf.nn.max_pool is deprecated. Please use tf.nn.max_pool2d instead.\n",
      "\n",
      "Model: \"sequential_1\"\n",
      "_________________________________________________________________\n",
      "Layer (type)                 Output Shape              Param #   \n",
      "=================================================================\n",
      "separable_conv2d_1 (Separabl (None, 32, 32, 32)        123       \n",
      "_________________________________________________________________\n",
      "activation_1 (Activation)    (None, 32, 32, 32)        0         \n",
      "_________________________________________________________________\n",
      "batch_normalization_1 (Batch (None, 32, 32, 32)        128       \n",
      "_________________________________________________________________\n",
      "dropout_1 (Dropout)          (None, 32, 32, 32)        0         \n",
      "_________________________________________________________________\n",
      "separable_conv2d_2 (Separabl (None, 32, 32, 64)        2336      \n",
      "_________________________________________________________________\n",
      "activation_2 (Activation)    (None, 32, 32, 64)        0         \n",
      "_________________________________________________________________\n",
      "batch_normalization_2 (Batch (None, 32, 32, 64)        256       \n",
      "_________________________________________________________________\n",
      "dropout_2 (Dropout)          (None, 32, 32, 64)        0         \n",
      "_________________________________________________________________\n",
      "separable_conv2d_3 (Separabl (None, 30, 30, 128)       8768      \n",
      "_________________________________________________________________\n",
      "activation_3 (Activation)    (None, 30, 30, 128)       0         \n",
      "_________________________________________________________________\n",
      "batch_normalization_3 (Batch (None, 30, 30, 128)       512       \n",
      "_________________________________________________________________\n",
      "dropout_3 (Dropout)          (None, 30, 30, 128)       0         \n",
      "_________________________________________________________________\n",
      "separable_conv2d_4 (Separabl (None, 28, 28, 256)       33920     \n",
      "_________________________________________________________________\n",
      "activation_4 (Activation)    (None, 28, 28, 256)       0         \n",
      "_________________________________________________________________\n",
      "batch_normalization_4 (Batch (None, 28, 28, 256)       1024      \n",
      "_________________________________________________________________\n",
      "dropout_4 (Dropout)          (None, 28, 28, 256)       0         \n",
      "_________________________________________________________________\n",
      "max_pooling2d_1 (MaxPooling2 (None, 14, 14, 256)       0         \n",
      "_________________________________________________________________\n",
      "conv2d_1 (Conv2D)            (None, 14, 14, 32)        8192      \n",
      "_________________________________________________________________\n",
      "separable_conv2d_5 (Separabl (None, 12, 12, 32)        1312      \n",
      "_________________________________________________________________\n",
      "activation_5 (Activation)    (None, 12, 12, 32)        0         \n",
      "_________________________________________________________________\n",
      "batch_normalization_5 (Batch (None, 12, 12, 32)        128       \n",
      "_________________________________________________________________\n",
      "dropout_5 (Dropout)          (None, 12, 12, 32)        0         \n",
      "_________________________________________________________________\n",
      "separable_conv2d_6 (Separabl (None, 10, 10, 64)        2336      \n",
      "_________________________________________________________________\n",
      "activation_6 (Activation)    (None, 10, 10, 64)        0         \n",
      "_________________________________________________________________\n",
      "batch_normalization_6 (Batch (None, 10, 10, 64)        256       \n",
      "_________________________________________________________________\n",
      "dropout_6 (Dropout)          (None, 10, 10, 64)        0         \n",
      "_________________________________________________________________\n",
      "separable_conv2d_7 (Separabl (None, 8, 8, 128)         8768      \n",
      "_________________________________________________________________\n",
      "activation_7 (Activation)    (None, 8, 8, 128)         0         \n",
      "_________________________________________________________________\n",
      "batch_normalization_7 (Batch (None, 8, 8, 128)         512       \n",
      "_________________________________________________________________\n",
      "dropout_7 (Dropout)          (None, 8, 8, 128)         0         \n",
      "_________________________________________________________________\n",
      "max_pooling2d_2 (MaxPooling2 (None, 4, 4, 128)         0         \n",
      "_________________________________________________________________\n",
      "conv2d_2 (Conv2D)            (None, 4, 4, 32)          4096      \n",
      "_________________________________________________________________\n",
      "separable_conv2d_8 (Separabl (None, 2, 2, 10)          608       \n",
      "_________________________________________________________________\n",
      "global_average_pooling2d_1 ( (None, 10)                0         \n",
      "_________________________________________________________________\n",
      "activation_8 (Activation)    (None, 10)                0         \n",
      "=================================================================\n",
      "Total params: 73,275\n",
      "Trainable params: 71,867\n",
      "Non-trainable params: 1,408\n",
      "_________________________________________________________________\n"
     ]
    }
   ],
   "source": [
    "# Define the model\n",
    "model = Sequential() \n",
    "model.add(SeparableConv2D(32, 3, use_bias=False, padding='same', input_shape=(32, 32, 3))) # 32x3x3x32 RF:3 # padding==border_mode(old version)\n",
    "model.add(Activation('relu'))\n",
    "model.add(BatchNormalization())\n",
    "model.add(Dropout(0.05))\n",
    "\n",
    "model.add(SeparableConv2D(64, 3, use_bias=False, padding='same')) # 32x3x3x64 RF:3\n",
    "model.add(Activation('relu'))\n",
    "model.add(BatchNormalization())\n",
    "model.add(Dropout(0.05))\n",
    "\n",
    "model.add(SeparableConv2D(128, 3, use_bias=False)) # 30x3x3x128 RF:3\n",
    "model.add(Activation('relu'))\n",
    "model.add(BatchNormalization())\n",
    "model.add(Dropout(0.1))\n",
    "\n",
    "model.add(SeparableConv2D(256, 3, use_bias=False)) # 28x3x3x256 RF:3\n",
    "model.add(Activation('relu'))\n",
    "model.add(BatchNormalization())\n",
    "model.add(Dropout(0.1))\n",
    "\n",
    "model.add(MaxPooling2D(2)) # 14x3x3x128\n",
    "model.add(Convolution2D(32, 1, use_bias=False))  # 14x3x3x32\n",
    "\n",
    "model.add(SeparableConv2D(32, 3, use_bias=False)) # 14x3x3x32\n",
    "model.add(Activation('relu'))\n",
    "model.add(BatchNormalization())\n",
    "model.add(Dropout(0.15))\n",
    "\n",
    "model.add(SeparableConv2D(64, 3, use_bias=False)) # 12x3x3x64 RF:3\n",
    "model.add(Activation('relu'))\n",
    "model.add(BatchNormalization())\n",
    "model.add(Dropout(0.15))\n",
    "\n",
    "model.add(SeparableConv2D(128, 3, use_bias=False)) # 10x3x3x128 RF:3\n",
    "model.add(Activation('relu'))\n",
    "model.add(BatchNormalization())\n",
    "model.add(Dropout(0.1))\n",
    "\n",
    "model.add(MaxPooling2D(2)) # 4x3x3x128\n",
    "model.add(Convolution2D(32, 1, use_bias=False))  # 4x3x3x32\n",
    "\n",
    "model.add(SeparableConv2D(10, 3, use_bias=False)) # 2x3x3x20 RF:3\n",
    "model.add(GlobalAveragePooling2D()) # 1X10\n",
    "model.add(Activation('softmax'))\n",
    "\n",
    "model.summary()"
   ]
  },
  {
   "cell_type": "code",
   "execution_count": 0,
   "metadata": {
    "colab": {
     "base_uri": "https://localhost:8080/",
     "height": 110
    },
    "colab_type": "code",
    "id": "G6jeD_Vvfp-S",
    "outputId": "84d2af6b-3afe-4cc4-a8b6-d1dbdde33877"
   },
   "outputs": [
    {
     "name": "stdout",
     "output_type": "stream",
     "text": [
      "WARNING:tensorflow:From /usr/local/lib/python3.6/dist-packages/keras/optimizers.py:793: The name tf.train.Optimizer is deprecated. Please use tf.compat.v1.train.Optimizer instead.\n",
      "\n",
      "WARNING:tensorflow:From /usr/local/lib/python3.6/dist-packages/keras/backend/tensorflow_backend.py:3576: The name tf.log is deprecated. Please use tf.math.log instead.\n",
      "\n"
     ]
    }
   ],
   "source": [
    "# Compile the model\n",
    "model.compile(optimizer=Adam(lr=0.003), loss='categorical_crossentropy', metrics=['accuracy'])"
   ]
  },
  {
   "cell_type": "code",
   "execution_count": 0,
   "metadata": {
    "colab": {},
    "colab_type": "code",
    "id": "u-cr82_teNuQ"
   },
   "outputs": [],
   "source": [
    "from keras.preprocessing.image import ImageDataGenerator\n",
    "datagen = ImageDataGenerator()"
   ]
  },
  {
   "cell_type": "code",
   "execution_count": 0,
   "metadata": {
    "colab": {
     "base_uri": "https://localhost:8080/",
     "height": 1000
    },
    "colab_type": "code",
    "id": "S9uG39-EeapX",
    "outputId": "973c32cd-4942-4e02-9e3d-1dbc426aca01"
   },
   "outputs": [
    {
     "name": "stdout",
     "output_type": "stream",
     "text": [
      "WARNING:tensorflow:From /usr/local/lib/python3.6/dist-packages/tensorflow_core/python/ops/math_grad.py:1424: where (from tensorflow.python.ops.array_ops) is deprecated and will be removed in a future version.\n",
      "Instructions for updating:\n",
      "Use tf.where in 2.0, which has the same broadcast rule as np.where\n"
     ]
    },
    {
     "name": "stderr",
     "output_type": "stream",
     "text": [
      "/usr/local/lib/python3.6/dist-packages/ipykernel_launcher.py:5: UserWarning: The semantics of the Keras 2 argument `steps_per_epoch` is not the same as the Keras 1 argument `samples_per_epoch`. `steps_per_epoch` is the number of batches to draw from the generator at each epoch. Basically steps_per_epoch = samples_per_epoch/batch_size. Similarly `nb_val_samples`->`validation_steps` and `val_samples`->`steps` arguments have changed. Update your method calls accordingly.\n",
      "  \"\"\"\n",
      "/usr/local/lib/python3.6/dist-packages/ipykernel_launcher.py:5: UserWarning: Update your `fit_generator` call to the Keras 2 API: `fit_generator(<keras_pre..., validation_data=(array([[[..., callbacks=[<keras.ca..., verbose=1, steps_per_epoch=390, epochs=50)`\n",
      "  \"\"\"\n"
     ]
    },
    {
     "name": "stdout",
     "output_type": "stream",
     "text": [
      "WARNING:tensorflow:From /usr/local/lib/python3.6/dist-packages/keras/backend/tensorflow_backend.py:1033: The name tf.assign_add is deprecated. Please use tf.compat.v1.assign_add instead.\n",
      "\n",
      "WARNING:tensorflow:From /usr/local/lib/python3.6/dist-packages/keras/backend/tensorflow_backend.py:1020: The name tf.assign is deprecated. Please use tf.compat.v1.assign instead.\n",
      "\n",
      "Epoch 1/50\n",
      "\n",
      "Epoch 00001: LearningRateScheduler setting learning rate to 0.003.\n",
      "390/390 [==============================] - 77s 197ms/step - loss: 1.3218 - acc: 0.5281 - val_loss: 1.2873 - val_acc: 0.5877\n",
      "Epoch 2/50\n",
      "\n",
      "Epoch 00002: LearningRateScheduler setting learning rate to 0.0022744503.\n",
      "390/390 [==============================] - 70s 180ms/step - loss: 0.9571 - acc: 0.6597 - val_loss: 0.9057 - val_acc: 0.6835\n",
      "Epoch 3/50\n",
      "\n",
      "Epoch 00003: LearningRateScheduler setting learning rate to 0.0018315018.\n",
      "390/390 [==============================] - 70s 180ms/step - loss: 0.8217 - acc: 0.7085 - val_loss: 1.1206 - val_acc: 0.6086\n",
      "Epoch 4/50\n",
      "\n",
      "Epoch 00004: LearningRateScheduler setting learning rate to 0.0015329586.\n",
      "390/390 [==============================] - 70s 180ms/step - loss: 0.7436 - acc: 0.7377 - val_loss: 0.8529 - val_acc: 0.7049\n",
      "Epoch 5/50\n",
      "\n",
      "Epoch 00005: LearningRateScheduler setting learning rate to 0.0013181019.\n",
      "390/390 [==============================] - 70s 179ms/step - loss: 0.6817 - acc: 0.7603 - val_loss: 0.7493 - val_acc: 0.7378\n",
      "Epoch 6/50\n",
      "\n",
      "Epoch 00006: LearningRateScheduler setting learning rate to 0.0011560694.\n",
      "390/390 [==============================] - 70s 180ms/step - loss: 0.6414 - acc: 0.7732 - val_loss: 0.7100 - val_acc: 0.7506\n",
      "Epoch 7/50\n",
      "\n",
      "Epoch 00007: LearningRateScheduler setting learning rate to 0.0010295127.\n",
      "390/390 [==============================] - 70s 180ms/step - loss: 0.6065 - acc: 0.7866 - val_loss: 0.6815 - val_acc: 0.7613\n",
      "Epoch 8/50\n",
      "\n",
      "Epoch 00008: LearningRateScheduler setting learning rate to 0.0009279307.\n",
      "390/390 [==============================] - 70s 179ms/step - loss: 0.5771 - acc: 0.7967 - val_loss: 0.6676 - val_acc: 0.7733\n",
      "Epoch 9/50\n",
      "\n",
      "Epoch 00009: LearningRateScheduler setting learning rate to 0.0008445946.\n",
      "390/390 [==============================] - 70s 179ms/step - loss: 0.5500 - acc: 0.8064 - val_loss: 0.6607 - val_acc: 0.7679\n",
      "Epoch 10/50\n",
      "\n",
      "Epoch 00010: LearningRateScheduler setting learning rate to 0.0007749935.\n",
      "390/390 [==============================] - 70s 179ms/step - loss: 0.5283 - acc: 0.8155 - val_loss: 0.6857 - val_acc: 0.7623\n",
      "Epoch 11/50\n",
      "\n",
      "Epoch 00011: LearningRateScheduler setting learning rate to 0.0007159905.\n",
      "390/390 [==============================] - 70s 179ms/step - loss: 0.5127 - acc: 0.8200 - val_loss: 0.6216 - val_acc: 0.7875\n",
      "Epoch 12/50\n",
      "\n",
      "Epoch 00012: LearningRateScheduler setting learning rate to 0.000665336.\n",
      "390/390 [==============================] - 70s 179ms/step - loss: 0.4972 - acc: 0.8260 - val_loss: 0.6517 - val_acc: 0.7809\n",
      "Epoch 13/50\n",
      "\n",
      "Epoch 00013: LearningRateScheduler setting learning rate to 0.0006213753.\n",
      "390/390 [==============================] - 70s 180ms/step - loss: 0.4762 - acc: 0.8326 - val_loss: 0.6024 - val_acc: 0.7957\n",
      "Epoch 14/50\n",
      "\n",
      "Epoch 00014: LearningRateScheduler setting learning rate to 0.0005828638.\n",
      "390/390 [==============================] - 70s 179ms/step - loss: 0.4648 - acc: 0.8365 - val_loss: 0.6338 - val_acc: 0.7848\n",
      "Epoch 15/50\n",
      "\n",
      "Epoch 00015: LearningRateScheduler setting learning rate to 0.0005488474.\n",
      "390/390 [==============================] - 70s 180ms/step - loss: 0.4560 - acc: 0.8388 - val_loss: 0.6095 - val_acc: 0.7934\n",
      "Epoch 16/50\n",
      "\n",
      "Epoch 00016: LearningRateScheduler setting learning rate to 0.0005185825.\n",
      "390/390 [==============================] - 70s 180ms/step - loss: 0.4403 - acc: 0.8454 - val_loss: 0.6712 - val_acc: 0.7704\n",
      "Epoch 17/50\n",
      "\n",
      "Epoch 00017: LearningRateScheduler setting learning rate to 0.000491481.\n",
      "390/390 [==============================] - 70s 179ms/step - loss: 0.4288 - acc: 0.8499 - val_loss: 0.6293 - val_acc: 0.7884\n",
      "Epoch 18/50\n",
      "\n",
      "Epoch 00018: LearningRateScheduler setting learning rate to 0.0004670715.\n",
      "390/390 [==============================] - 70s 179ms/step - loss: 0.4230 - acc: 0.8507 - val_loss: 0.6034 - val_acc: 0.7984\n",
      "Epoch 19/50\n",
      "\n",
      "Epoch 00019: LearningRateScheduler setting learning rate to 0.0004449718.\n",
      "390/390 [==============================] - 70s 179ms/step - loss: 0.4118 - acc: 0.8542 - val_loss: 0.6133 - val_acc: 0.7952\n",
      "Epoch 20/50\n",
      "\n",
      "Epoch 00020: LearningRateScheduler setting learning rate to 0.000424869.\n",
      "390/390 [==============================] - 70s 179ms/step - loss: 0.4050 - acc: 0.8577 - val_loss: 0.6152 - val_acc: 0.7955\n",
      "Epoch 21/50\n",
      "\n",
      "Epoch 00021: LearningRateScheduler setting learning rate to 0.0004065041.\n",
      "390/390 [==============================] - 69s 178ms/step - loss: 0.4025 - acc: 0.8579 - val_loss: 0.6152 - val_acc: 0.7939\n",
      "Epoch 22/50\n",
      "\n",
      "Epoch 00022: LearningRateScheduler setting learning rate to 0.000389661.\n",
      "390/390 [==============================] - 70s 178ms/step - loss: 0.3884 - acc: 0.8624 - val_loss: 0.6210 - val_acc: 0.7942\n",
      "Epoch 23/50\n",
      "\n",
      "Epoch 00023: LearningRateScheduler setting learning rate to 0.0003741581.\n",
      "390/390 [==============================] - 70s 178ms/step - loss: 0.3876 - acc: 0.8624 - val_loss: 0.5916 - val_acc: 0.8012\n",
      "Epoch 24/50\n",
      "\n",
      "Epoch 00024: LearningRateScheduler setting learning rate to 0.0003598417.\n",
      "390/390 [==============================] - 70s 178ms/step - loss: 0.3808 - acc: 0.8644 - val_loss: 0.5891 - val_acc: 0.8071\n",
      "Epoch 25/50\n",
      "\n",
      "Epoch 00025: LearningRateScheduler setting learning rate to 0.0003465804.\n",
      "390/390 [==============================] - 70s 179ms/step - loss: 0.3700 - acc: 0.8691 - val_loss: 0.6000 - val_acc: 0.8034\n",
      "Epoch 26/50\n",
      "\n",
      "Epoch 00026: LearningRateScheduler setting learning rate to 0.0003342618.\n",
      "390/390 [==============================] - 70s 179ms/step - loss: 0.3703 - acc: 0.8680 - val_loss: 0.6118 - val_acc: 0.8000\n",
      "Epoch 27/50\n",
      "\n",
      "Epoch 00027: LearningRateScheduler setting learning rate to 0.0003227889.\n",
      "390/390 [==============================] - 69s 178ms/step - loss: 0.3693 - acc: 0.8673 - val_loss: 0.6046 - val_acc: 0.8000\n",
      "Epoch 28/50\n",
      "\n",
      "Epoch 00028: LearningRateScheduler setting learning rate to 0.0003120774.\n",
      "390/390 [==============================] - 70s 179ms/step - loss: 0.3582 - acc: 0.8732 - val_loss: 0.6056 - val_acc: 0.8035\n",
      "Epoch 29/50\n",
      "\n",
      "Epoch 00029: LearningRateScheduler setting learning rate to 0.000302054.\n",
      "390/390 [==============================] - 70s 179ms/step - loss: 0.3530 - acc: 0.8742 - val_loss: 0.6056 - val_acc: 0.8052\n",
      "Epoch 30/50\n",
      "\n",
      "Epoch 00030: LearningRateScheduler setting learning rate to 0.0002926544.\n",
      "390/390 [==============================] - 69s 178ms/step - loss: 0.3511 - acc: 0.8750 - val_loss: 0.6231 - val_acc: 0.7961\n",
      "Epoch 31/50\n",
      "\n",
      "Epoch 00031: LearningRateScheduler setting learning rate to 0.0002838221.\n",
      "390/390 [==============================] - 70s 178ms/step - loss: 0.3419 - acc: 0.8767 - val_loss: 0.6358 - val_acc: 0.7986\n",
      "Epoch 32/50\n",
      "\n",
      "Epoch 00032: LearningRateScheduler setting learning rate to 0.0002755074.\n",
      "390/390 [==============================] - 69s 178ms/step - loss: 0.3398 - acc: 0.8790 - val_loss: 0.6472 - val_acc: 0.7911\n",
      "Epoch 33/50\n",
      "\n",
      "Epoch 00033: LearningRateScheduler setting learning rate to 0.000267666.\n",
      "390/390 [==============================] - 69s 178ms/step - loss: 0.3409 - acc: 0.8791 - val_loss: 0.6043 - val_acc: 0.8051\n",
      "Epoch 34/50\n",
      "\n",
      "Epoch 00034: LearningRateScheduler setting learning rate to 0.0002602585.\n",
      "390/390 [==============================] - 69s 178ms/step - loss: 0.3377 - acc: 0.8790 - val_loss: 0.6077 - val_acc: 0.8008\n",
      "Epoch 35/50\n",
      "\n",
      "Epoch 00035: LearningRateScheduler setting learning rate to 0.00025325.\n",
      "390/390 [==============================] - 69s 178ms/step - loss: 0.3324 - acc: 0.8816 - val_loss: 0.6064 - val_acc: 0.8019\n",
      "Epoch 36/50\n",
      "\n",
      "Epoch 00036: LearningRateScheduler setting learning rate to 0.0002466091.\n",
      "390/390 [==============================] - 69s 177ms/step - loss: 0.3317 - acc: 0.8813 - val_loss: 0.6175 - val_acc: 0.8003\n",
      "Epoch 37/50\n",
      "\n",
      "Epoch 00037: LearningRateScheduler setting learning rate to 0.0002403076.\n",
      "390/390 [==============================] - 69s 178ms/step - loss: 0.3279 - acc: 0.8844 - val_loss: 0.6004 - val_acc: 0.8082\n",
      "Epoch 38/50\n",
      "\n",
      "Epoch 00038: LearningRateScheduler setting learning rate to 0.0002343201.\n",
      "390/390 [==============================] - 69s 178ms/step - loss: 0.3250 - acc: 0.8850 - val_loss: 0.6106 - val_acc: 0.8071\n",
      "Epoch 39/50\n",
      "\n",
      "Epoch 00039: LearningRateScheduler setting learning rate to 0.0002286237.\n",
      "390/390 [==============================] - 69s 178ms/step - loss: 0.3198 - acc: 0.8846 - val_loss: 0.6159 - val_acc: 0.8028\n",
      "Epoch 40/50\n",
      "\n",
      "Epoch 00040: LearningRateScheduler setting learning rate to 0.0002231977.\n",
      "390/390 [==============================] - 69s 178ms/step - loss: 0.3138 - acc: 0.8885 - val_loss: 0.6020 - val_acc: 0.8083\n",
      "Epoch 41/50\n",
      "\n",
      "Epoch 00041: LearningRateScheduler setting learning rate to 0.0002180233.\n",
      "390/390 [==============================] - 70s 178ms/step - loss: 0.3160 - acc: 0.8874 - val_loss: 0.5988 - val_acc: 0.8084\n",
      "Epoch 42/50\n",
      "\n",
      "Epoch 00042: LearningRateScheduler setting learning rate to 0.0002130833.\n",
      "390/390 [==============================] - 69s 178ms/step - loss: 0.3146 - acc: 0.8867 - val_loss: 0.6142 - val_acc: 0.8042\n",
      "Epoch 43/50\n",
      "\n",
      "Epoch 00043: LearningRateScheduler setting learning rate to 0.0002083623.\n",
      "390/390 [==============================] - 69s 178ms/step - loss: 0.3079 - acc: 0.8882 - val_loss: 0.6124 - val_acc: 0.8049\n",
      "Epoch 44/50\n",
      "\n",
      "Epoch 00044: LearningRateScheduler setting learning rate to 0.0002038459.\n",
      "390/390 [==============================] - 69s 178ms/step - loss: 0.3052 - acc: 0.8893 - val_loss: 0.6188 - val_acc: 0.8086\n",
      "Epoch 45/50\n",
      "\n",
      "Epoch 00045: LearningRateScheduler setting learning rate to 0.0001995211.\n",
      "390/390 [==============================] - 69s 178ms/step - loss: 0.3049 - acc: 0.8900 - val_loss: 0.6129 - val_acc: 0.8070\n",
      "Epoch 46/50\n",
      "\n",
      "Epoch 00046: LearningRateScheduler setting learning rate to 0.0001953761.\n",
      "390/390 [==============================] - 69s 178ms/step - loss: 0.3044 - acc: 0.8888 - val_loss: 0.6227 - val_acc: 0.8045\n",
      "Epoch 47/50\n",
      "\n",
      "Epoch 00047: LearningRateScheduler setting learning rate to 0.0001913998.\n",
      "390/390 [==============================] - 69s 177ms/step - loss: 0.3013 - acc: 0.8917 - val_loss: 0.6270 - val_acc: 0.8042\n",
      "Epoch 48/50\n",
      "\n",
      "Epoch 00048: LearningRateScheduler setting learning rate to 0.0001875821.\n",
      "390/390 [==============================] - 69s 178ms/step - loss: 0.2990 - acc: 0.8921 - val_loss: 0.6217 - val_acc: 0.8062\n",
      "Epoch 49/50\n",
      "\n",
      "Epoch 00049: LearningRateScheduler setting learning rate to 0.0001839137.\n",
      "390/390 [==============================] - 70s 178ms/step - loss: 0.2989 - acc: 0.8922 - val_loss: 0.6093 - val_acc: 0.8074\n",
      "Epoch 50/50\n",
      "\n",
      "Epoch 00050: LearningRateScheduler setting learning rate to 0.000180386.\n",
      "390/390 [==============================] - 70s 178ms/step - loss: 0.2931 - acc: 0.8945 - val_loss: 0.6134 - val_acc: 0.8095\n",
      "Model took 3490.76 seconds to train\n"
     ]
    }
   ],
   "source": [
    "# train the model\n",
    "start = time.time()\n",
    "# Train the model\n",
    "model_info = model.fit_generator(datagen.flow(x_train, y_train, batch_size = 128),\n",
    "                                 samples_per_epoch = x_train.shape[0], nb_epoch = 50, \n",
    "                                 validation_data = (x_test, y_test),callbacks=[LearningRateScheduler(scheduler, verbose=1)], verbose=1)\n",
    "end = time.time()\n",
    "print (\"Model took %0.2f seconds to train\"%(end - start))"
   ]
  },
  {
   "cell_type": "code",
   "execution_count": 0,
   "metadata": {
    "colab": {
     "base_uri": "https://localhost:8080/",
     "height": 350
    },
    "colab_type": "code",
    "id": "ifmyuJy1edf-",
    "outputId": "084393dd-f62a-40aa-fbc4-d648b9f214a5"
   },
   "outputs": [
    {
     "data": {
      "image/png": "[encoded data removed]",
      "text/plain": [
       "<Figure size 1080x360 with 2 Axes>"
      ]
     },
     "metadata": {
      "tags": []
     },
     "output_type": "display_data"
    }
   ],
   "source": [
    "# plot model history\n",
    "plot_model_history(model_info)"
   ]
  },
  {
   "cell_type": "code",
   "execution_count": 0,
   "metadata": {
    "colab": {
     "base_uri": "https://localhost:8080/",
     "height": 35
    },
    "colab_type": "code",
    "id": "xe6CIp5zhaGB",
    "outputId": "42282cf3-b50b-4c00-dbae-4246296992b1"
   },
   "outputs": [
    {
     "name": "stdout",
     "output_type": "stream",
     "text": [
      "Accuracy on test data is: 80.95\n"
     ]
    }
   ],
   "source": [
    "# compute test accuracy\n",
    "print (\"Accuracy on test data is: %0.2f\"%accuracy(x_test, y_test, model))"
   ]
  },
  {
   "cell_type": "code",
   "execution_count": 0,
   "metadata": {
    "colab": {},
    "colab_type": "code",
    "id": "XTG-gPfMiCnh"
   },
   "outputs": [],
   "source": []
  },
  {
   "cell_type": "code",
   "execution_count": 16,
   "metadata": {
    "colab": {
     "base_uri": "https://localhost:8080/",
     "height": 110
    },
    "colab_type": "code",
    "id": "9wUiDBEVmcd3",
    "outputId": "a6274bab-4300-4966-92b1-32c0fa377f24"
   },
   "outputs": [
    {
     "name": "stdout",
     "output_type": "stream",
     "text": [
      "WARNING:tensorflow:From /usr/local/lib/python3.6/dist-packages/keras/optimizers.py:793: The name tf.train.Optimizer is deprecated. Please use tf.compat.v1.train.Optimizer instead.\n",
      "\n",
      "WARNING:tensorflow:From /usr/local/lib/python3.6/dist-packages/keras/backend/tensorflow_backend.py:3576: The name tf.log is deprecated. Please use tf.math.log instead.\n",
      "\n"
     ]
    }
   ],
   "source": [
    "# Compile the model\n",
    "model.compile(optimizer=Adam(lr=0.01), loss='categorical_crossentropy', metrics=['accuracy'])"
   ]
  },
  {
   "cell_type": "code",
   "execution_count": 0,
   "metadata": {
    "colab": {},
    "colab_type": "code",
    "id": "gEa21Y1UrTfg"
   },
   "outputs": [],
   "source": [
    "def scheduler(epoch, lr):\n",
    "  return round(0.01 * 1/(1 + 0.319 * epoch), 10)"
   ]
  },
  {
   "cell_type": "code",
   "execution_count": 20,
   "metadata": {
    "colab": {
     "base_uri": "https://localhost:8080/",
     "height": 1000
    },
    "colab_type": "code",
    "id": "atm4hBj8339D",
    "outputId": "03b9739d-5cbd-4dbb-e98f-f376aa4af3af"
   },
   "outputs": [
    {
     "name": "stdout",
     "output_type": "stream",
     "text": [
      "WARNING:tensorflow:From /usr/local/lib/python3.6/dist-packages/tensorflow_core/python/ops/math_grad.py:1424: where (from tensorflow.python.ops.array_ops) is deprecated and will be removed in a future version.\n",
      "Instructions for updating:\n",
      "Use tf.where in 2.0, which has the same broadcast rule as np.where\n"
     ]
    },
    {
     "name": "stderr",
     "output_type": "stream",
     "text": [
      "/usr/local/lib/python3.6/dist-packages/ipykernel_launcher.py:5: UserWarning: The semantics of the Keras 2 argument `steps_per_epoch` is not the same as the Keras 1 argument `samples_per_epoch`. `steps_per_epoch` is the number of batches to draw from the generator at each epoch. Basically steps_per_epoch = samples_per_epoch/batch_size. Similarly `nb_val_samples`->`validation_steps` and `val_samples`->`steps` arguments have changed. Update your method calls accordingly.\n",
      "  \"\"\"\n",
      "/usr/local/lib/python3.6/dist-packages/ipykernel_launcher.py:5: UserWarning: Update your `fit_generator` call to the Keras 2 API: `fit_generator(<keras_pre..., validation_data=(array([[[..., callbacks=[<keras.ca..., verbose=1, steps_per_epoch=390, epochs=50)`\n",
      "  \"\"\"\n"
     ]
    },
    {
     "name": "stdout",
     "output_type": "stream",
     "text": [
      "WARNING:tensorflow:From /usr/local/lib/python3.6/dist-packages/keras/backend/tensorflow_backend.py:1033: The name tf.assign_add is deprecated. Please use tf.compat.v1.assign_add instead.\n",
      "\n",
      "WARNING:tensorflow:From /usr/local/lib/python3.6/dist-packages/keras/backend/tensorflow_backend.py:1020: The name tf.assign is deprecated. Please use tf.compat.v1.assign instead.\n",
      "\n",
      "Epoch 1/50\n",
      "\n",
      "Epoch 00001: LearningRateScheduler setting learning rate to 0.01.\n",
      "390/390 [==============================] - 35s 89ms/step - loss: 1.3953 - acc: 0.4968 - val_loss: 2.6669 - val_acc: 0.4306\n",
      "Epoch 2/50\n",
      "\n",
      "Epoch 00002: LearningRateScheduler setting learning rate to 0.0075815011.\n",
      "390/390 [==============================] - 29s 74ms/step - loss: 1.0097 - acc: 0.6395 - val_loss: 1.2149 - val_acc: 0.6227\n",
      "Epoch 3/50\n",
      "\n",
      "Epoch 00003: LearningRateScheduler setting learning rate to 0.0061050061.\n",
      "390/390 [==============================] - 29s 74ms/step - loss: 0.8654 - acc: 0.6922 - val_loss: 1.1465 - val_acc: 0.6230\n",
      "Epoch 4/50\n",
      "\n",
      "Epoch 00004: LearningRateScheduler setting learning rate to 0.005109862.\n",
      "390/390 [==============================] - 29s 75ms/step - loss: 0.7727 - acc: 0.7295 - val_loss: 0.9651 - val_acc: 0.6833\n",
      "Epoch 5/50\n",
      "\n",
      "Epoch 00005: LearningRateScheduler setting learning rate to 0.0043936731.\n",
      "390/390 [==============================] - 29s 74ms/step - loss: 0.7058 - acc: 0.7507 - val_loss: 0.7734 - val_acc: 0.7308\n",
      "Epoch 6/50\n",
      "\n",
      "Epoch 00006: LearningRateScheduler setting learning rate to 0.0038535645.\n",
      "390/390 [==============================] - 29s 75ms/step - loss: 0.6599 - acc: 0.7675 - val_loss: 0.7493 - val_acc: 0.7472\n",
      "Epoch 7/50\n",
      "\n",
      "Epoch 00007: LearningRateScheduler setting learning rate to 0.003431709.\n",
      "390/390 [==============================] - 29s 75ms/step - loss: 0.6199 - acc: 0.7818 - val_loss: 0.9300 - val_acc: 0.6791\n",
      "Epoch 8/50\n",
      "\n",
      "Epoch 00008: LearningRateScheduler setting learning rate to 0.0030931024.\n",
      "390/390 [==============================] - 29s 75ms/step - loss: 0.5890 - acc: 0.7925 - val_loss: 0.7567 - val_acc: 0.7432\n",
      "Epoch 9/50\n",
      "\n",
      "Epoch 00009: LearningRateScheduler setting learning rate to 0.0028153153.\n",
      "390/390 [==============================] - 29s 75ms/step - loss: 0.5672 - acc: 0.8005 - val_loss: 0.6627 - val_acc: 0.7741\n",
      "Epoch 10/50\n",
      "\n",
      "Epoch 00010: LearningRateScheduler setting learning rate to 0.0025833118.\n",
      "390/390 [==============================] - 29s 74ms/step - loss: 0.5367 - acc: 0.8114 - val_loss: 0.6418 - val_acc: 0.7840\n",
      "Epoch 11/50\n",
      "\n",
      "Epoch 00011: LearningRateScheduler setting learning rate to 0.0023866348.\n",
      "390/390 [==============================] - 29s 75ms/step - loss: 0.5178 - acc: 0.8187 - val_loss: 0.6435 - val_acc: 0.7758\n",
      "Epoch 12/50\n",
      "\n",
      "Epoch 00012: LearningRateScheduler setting learning rate to 0.0022177866.\n",
      "390/390 [==============================] - 29s 75ms/step - loss: 0.4971 - acc: 0.8257 - val_loss: 0.6214 - val_acc: 0.7866\n",
      "Epoch 13/50\n",
      "\n",
      "Epoch 00013: LearningRateScheduler setting learning rate to 0.002071251.\n",
      "390/390 [==============================] - 29s 75ms/step - loss: 0.4834 - acc: 0.8304 - val_loss: 0.6063 - val_acc: 0.7954\n",
      "Epoch 14/50\n",
      "\n",
      "Epoch 00014: LearningRateScheduler setting learning rate to 0.0019428793.\n",
      "390/390 [==============================] - 29s 74ms/step - loss: 0.4679 - acc: 0.8349 - val_loss: 0.6330 - val_acc: 0.7812\n",
      "Epoch 15/50\n",
      "\n",
      "Epoch 00015: LearningRateScheduler setting learning rate to 0.0018294914.\n",
      "390/390 [==============================] - 29s 74ms/step - loss: 0.4536 - acc: 0.8403 - val_loss: 0.6165 - val_acc: 0.7870\n",
      "Epoch 16/50\n",
      "\n",
      "Epoch 00016: LearningRateScheduler setting learning rate to 0.0017286085.\n",
      "390/390 [==============================] - 29s 74ms/step - loss: 0.4380 - acc: 0.8455 - val_loss: 0.6089 - val_acc: 0.7950\n",
      "Epoch 17/50\n",
      "\n",
      "Epoch 00017: LearningRateScheduler setting learning rate to 0.00163827.\n",
      "390/390 [==============================] - 29s 75ms/step - loss: 0.4320 - acc: 0.8480 - val_loss: 0.6225 - val_acc: 0.7919\n",
      "Epoch 18/50\n",
      "\n",
      "Epoch 00018: LearningRateScheduler setting learning rate to 0.0015569049.\n",
      "390/390 [==============================] - 29s 74ms/step - loss: 0.4197 - acc: 0.8515 - val_loss: 0.6013 - val_acc: 0.7949\n",
      "Epoch 19/50\n",
      "\n",
      "Epoch 00019: LearningRateScheduler setting learning rate to 0.0014832394.\n",
      "390/390 [==============================] - 29s 75ms/step - loss: 0.4060 - acc: 0.8562 - val_loss: 0.5854 - val_acc: 0.8030\n",
      "Epoch 20/50\n",
      "\n",
      "Epoch 00020: LearningRateScheduler setting learning rate to 0.00141623.\n",
      "390/390 [==============================] - 29s 75ms/step - loss: 0.4005 - acc: 0.8578 - val_loss: 0.6288 - val_acc: 0.7936\n",
      "Epoch 21/50\n",
      "\n",
      "Epoch 00021: LearningRateScheduler setting learning rate to 0.0013550136.\n",
      "390/390 [==============================] - 29s 74ms/step - loss: 0.3987 - acc: 0.8577 - val_loss: 0.5880 - val_acc: 0.8031\n",
      "Epoch 22/50\n",
      "\n",
      "Epoch 00022: LearningRateScheduler setting learning rate to 0.00129887.\n",
      "390/390 [==============================] - 29s 74ms/step - loss: 0.3841 - acc: 0.8611 - val_loss: 0.6614 - val_acc: 0.7898\n",
      "Epoch 23/50\n",
      "\n",
      "Epoch 00023: LearningRateScheduler setting learning rate to 0.0012471938.\n",
      "390/390 [==============================] - 29s 75ms/step - loss: 0.3782 - acc: 0.8671 - val_loss: 0.5909 - val_acc: 0.8020\n",
      "Epoch 24/50\n",
      "\n",
      "Epoch 00024: LearningRateScheduler setting learning rate to 0.0011994722.\n",
      "390/390 [==============================] - 29s 75ms/step - loss: 0.3706 - acc: 0.8684 - val_loss: 0.6202 - val_acc: 0.8012\n",
      "Epoch 25/50\n",
      "\n",
      "Epoch 00025: LearningRateScheduler setting learning rate to 0.001155268.\n",
      "390/390 [==============================] - 29s 75ms/step - loss: 0.3628 - acc: 0.8705 - val_loss: 0.6288 - val_acc: 0.7923\n",
      "Epoch 26/50\n",
      "\n",
      "Epoch 00026: LearningRateScheduler setting learning rate to 0.0011142061.\n",
      "390/390 [==============================] - 29s 75ms/step - loss: 0.3584 - acc: 0.8736 - val_loss: 0.6016 - val_acc: 0.8045\n",
      "Epoch 27/50\n",
      "\n",
      "Epoch 00027: LearningRateScheduler setting learning rate to 0.001075963.\n",
      "390/390 [==============================] - 29s 75ms/step - loss: 0.3525 - acc: 0.8740 - val_loss: 0.5921 - val_acc: 0.8102\n",
      "Epoch 28/50\n",
      "\n",
      "Epoch 00028: LearningRateScheduler setting learning rate to 0.001040258.\n",
      "390/390 [==============================] - 29s 75ms/step - loss: 0.3450 - acc: 0.8777 - val_loss: 0.6229 - val_acc: 0.7989\n",
      "Epoch 29/50\n",
      "\n",
      "Epoch 00029: LearningRateScheduler setting learning rate to 0.0010068466.\n",
      "390/390 [==============================] - 29s 75ms/step - loss: 0.3471 - acc: 0.8764 - val_loss: 0.6059 - val_acc: 0.8077\n",
      "Epoch 30/50\n",
      "\n",
      "Epoch 00030: LearningRateScheduler setting learning rate to 0.0009755146.\n",
      "390/390 [==============================] - 29s 75ms/step - loss: 0.3349 - acc: 0.8808 - val_loss: 0.5897 - val_acc: 0.8082\n",
      "Epoch 31/50\n",
      "\n",
      "Epoch 00031: LearningRateScheduler setting learning rate to 0.0009460738.\n",
      "390/390 [==============================] - 29s 75ms/step - loss: 0.3267 - acc: 0.8837 - val_loss: 0.5920 - val_acc: 0.8073\n",
      "Epoch 32/50\n",
      "\n",
      "Epoch 00032: LearningRateScheduler setting learning rate to 0.000918358.\n",
      "390/390 [==============================] - 29s 75ms/step - loss: 0.3274 - acc: 0.8823 - val_loss: 0.5858 - val_acc: 0.8111\n",
      "Epoch 33/50\n",
      "\n",
      "Epoch 00033: LearningRateScheduler setting learning rate to 0.0008922198.\n",
      "390/390 [==============================] - 29s 75ms/step - loss: 0.3213 - acc: 0.8839 - val_loss: 0.6177 - val_acc: 0.7979\n",
      "Epoch 34/50\n",
      "\n",
      "Epoch 00034: LearningRateScheduler setting learning rate to 0.0008675284.\n",
      "390/390 [==============================] - 29s 75ms/step - loss: 0.3160 - acc: 0.8869 - val_loss: 0.5837 - val_acc: 0.8165\n",
      "Epoch 35/50\n",
      "\n",
      "Epoch 00035: LearningRateScheduler setting learning rate to 0.0008441668.\n",
      "390/390 [==============================] - 29s 75ms/step - loss: 0.3166 - acc: 0.8860 - val_loss: 0.5922 - val_acc: 0.8116\n",
      "Epoch 36/50\n",
      "\n",
      "Epoch 00036: LearningRateScheduler setting learning rate to 0.0008220304.\n",
      "390/390 [==============================] - 29s 75ms/step - loss: 0.3114 - acc: 0.8893 - val_loss: 0.6135 - val_acc: 0.8036\n",
      "Epoch 37/50\n",
      "\n",
      "Epoch 00037: LearningRateScheduler setting learning rate to 0.0008010253.\n",
      "390/390 [==============================] - 29s 75ms/step - loss: 0.3066 - acc: 0.8908 - val_loss: 0.5964 - val_acc: 0.8091\n",
      "Epoch 38/50\n",
      "\n",
      "Epoch 00038: LearningRateScheduler setting learning rate to 0.0007810669.\n",
      "390/390 [==============================] - 29s 75ms/step - loss: 0.3009 - acc: 0.8934 - val_loss: 0.6382 - val_acc: 0.7980\n",
      "Epoch 39/50\n",
      "\n",
      "Epoch 00039: LearningRateScheduler setting learning rate to 0.000762079.\n",
      "390/390 [==============================] - 29s 75ms/step - loss: 0.2978 - acc: 0.8914 - val_loss: 0.6263 - val_acc: 0.8047\n",
      "Epoch 40/50\n",
      "\n",
      "Epoch 00040: LearningRateScheduler setting learning rate to 0.0007439923.\n",
      "390/390 [==============================] - 29s 75ms/step - loss: 0.2977 - acc: 0.8937 - val_loss: 0.5885 - val_acc: 0.8121\n",
      "Epoch 41/50\n",
      "\n",
      "Epoch 00041: LearningRateScheduler setting learning rate to 0.0007267442.\n",
      "390/390 [==============================] - 29s 74ms/step - loss: 0.2929 - acc: 0.8946 - val_loss: 0.6032 - val_acc: 0.8089\n",
      "Epoch 42/50\n",
      "\n",
      "Epoch 00042: LearningRateScheduler setting learning rate to 0.0007102777.\n",
      "390/390 [==============================] - 29s 74ms/step - loss: 0.2960 - acc: 0.8934 - val_loss: 0.6156 - val_acc: 0.8079\n",
      "Epoch 43/50\n",
      "\n",
      "Epoch 00043: LearningRateScheduler setting learning rate to 0.0006945409.\n",
      "390/390 [==============================] - 29s 75ms/step - loss: 0.2866 - acc: 0.8952 - val_loss: 0.6156 - val_acc: 0.8080\n",
      "Epoch 44/50\n",
      "\n",
      "Epoch 00044: LearningRateScheduler setting learning rate to 0.0006794863.\n",
      "390/390 [==============================] - 29s 75ms/step - loss: 0.2871 - acc: 0.8963 - val_loss: 0.6074 - val_acc: 0.8091\n",
      "Epoch 45/50\n",
      "\n",
      "Epoch 00045: LearningRateScheduler setting learning rate to 0.0006650705.\n",
      "390/390 [==============================] - 29s 75ms/step - loss: 0.2852 - acc: 0.8978 - val_loss: 0.5963 - val_acc: 0.8145\n",
      "Epoch 46/50\n",
      "\n",
      "Epoch 00046: LearningRateScheduler setting learning rate to 0.0006512537.\n",
      "390/390 [==============================] - 29s 75ms/step - loss: 0.2842 - acc: 0.8977 - val_loss: 0.6089 - val_acc: 0.8104\n",
      "Epoch 47/50\n",
      "\n",
      "Epoch 00047: LearningRateScheduler setting learning rate to 0.0006379992.\n",
      "390/390 [==============================] - 29s 75ms/step - loss: 0.2809 - acc: 0.8984 - val_loss: 0.6107 - val_acc: 0.8087\n",
      "Epoch 48/50\n",
      "\n",
      "Epoch 00048: LearningRateScheduler setting learning rate to 0.0006252736.\n",
      "390/390 [==============================] - 29s 75ms/step - loss: 0.2748 - acc: 0.9009 - val_loss: 0.6224 - val_acc: 0.8067\n",
      "Epoch 49/50\n",
      "\n",
      "Epoch 00049: LearningRateScheduler setting learning rate to 0.0006130456.\n",
      "390/390 [==============================] - 29s 75ms/step - loss: 0.2743 - acc: 0.9009 - val_loss: 0.6018 - val_acc: 0.8154\n",
      "Epoch 50/50\n",
      "\n",
      "Epoch 00050: LearningRateScheduler setting learning rate to 0.0006012868.\n",
      "390/390 [==============================] - 29s 75ms/step - loss: 0.2716 - acc: 0.9013 - val_loss: 0.6083 - val_acc: 0.8125\n",
      "Model took 1461.97 seconds to train\n"
     ]
    }
   ],
   "source": [
    "# train the model\n",
    "start = time.time()\n",
    "# Train the model\n",
    "model_info = model.fit_generator(datagen.flow(x_train, y_train, batch_size = 128),\n",
    "                                 samples_per_epoch = x_train.shape[0], nb_epoch = 50, \n",
    "                                 validation_data = (x_test, y_test),callbacks=[LearningRateScheduler(scheduler, verbose=1)], verbose=1)\n",
    "end = time.time()\n",
    "print (\"Model took %0.2f seconds to train\"%(end - start))"
   ]
  },
  {
   "cell_type": "code",
   "execution_count": 21,
   "metadata": {
    "colab": {
     "base_uri": "https://localhost:8080/",
     "height": 350
    },
    "colab_type": "code",
    "id": "qrvsItUV3358",
    "outputId": "324ded2d-ec18-4c78-cc07-81cc320578ca"
   },
   "outputs": [
    {
     "data": {
      "image/png": "[encoded data removed]",
      "text/plain": [
       "<Figure size 1080x360 with 2 Axes>"
      ]
     },
     "metadata": {
      "tags": []
     },
     "output_type": "display_data"
    }
   ],
   "source": [
    "# plot model history\n",
    "plot_model_history(model_info)"
   ]
  },
  {
   "cell_type": "code",
   "execution_count": 22,
   "metadata": {
    "colab": {
     "base_uri": "https://localhost:8080/",
     "height": 35
    },
    "colab_type": "code",
    "id": "p7v_k3ir33ze",
    "outputId": "378d1e09-b3ba-4394-f8b6-47513c6a1ca7"
   },
   "outputs": [
    {
     "name": "stdout",
     "output_type": "stream",
     "text": [
      "Accuracy on test data is: 81.25\n"
     ]
    }
   ],
   "source": [
    "# compute test accuracy\n",
    "print (\"Accuracy on test data is: %0.2f\"%accuracy(x_test, y_test, model))"
   ]
  },
  {
   "cell_type": "code",
   "execution_count": 0,
   "metadata": {
    "colab": {},
    "colab_type": "code",
    "id": "DcD3uiW64EvM"
   },
   "outputs": [],
   "source": []
  }
 ],
 "metadata": {
  "accelerator": "GPU",
  "colab": {
   "collapsed_sections": [],
   "machine_shape": "hm",
   "name": "S3_model5.ipynb",
   "provenance": []
  },
  "kernelspec": {
   "display_name": "Python 3",
   "language": "python",
   "name": "python3"
  },
  "language_info": {
   "codemirror_mode": {
    "name": "ipython",
    "version": 3
   },
   "file_extension": ".py",
   "mimetype": "text/x-python",
   "name": "python",
   "nbconvert_exporter": "python",
   "pygments_lexer": "ipython3",
   "version": "3.6.8"
  },
  "toc": {
   "base_numbering": 1,
   "nav_menu": {},
   "number_sections": true,
   "sideBar": true,
   "skip_h1_title": false,
   "title_cell": "Table of Contents",
   "title_sidebar": "Contents",
   "toc_cell": false,
   "toc_position": {},
   "toc_section_display": true,
   "toc_window_display": false
  },
  "varInspector": {
   "cols": {
    "lenName": 16,
    "lenType": 16,
    "lenVar": 40
   },
   "kernels_config": {
    "python": {
     "delete_cmd_postfix": "",
     "delete_cmd_prefix": "del ",
     "library": "var_list.py",
     "varRefreshCmd": "print(var_dic_list())"
    },
    "r": {
     "delete_cmd_postfix": ") ",
     "delete_cmd_prefix": "rm(",
     "library": "var_list.r",
     "varRefreshCmd": "cat(var_dic_list()) "
    }
   },
   "types_to_exclude": [
    "module",
    "function",
    "builtin_function_or_method",
    "instance",
    "_Feature"
   ],
   "window_display": false
  }
 },
 "nbformat": 4,
 "nbformat_minor": 1
}
