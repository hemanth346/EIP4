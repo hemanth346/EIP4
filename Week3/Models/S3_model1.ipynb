{
 "cells": [
  {
   "cell_type": "markdown",
   "metadata": {
    "colab_type": "text",
    "id": "z3saB-0g5XwS"
   },
   "source": [
    "## Installs, imports and Boilerplate code"
   ]
  },
  {
   "cell_type": "code",
   "execution_count": 0,
   "metadata": {
    "colab": {},
    "colab_type": "code",
    "id": "LQE5KERY49qC"
   },
   "outputs": [],
   "source": [
    "import warnings\n",
    "warnings.filterwarnings(action='once')"
   ]
  },
  {
   "cell_type": "code",
   "execution_count": 0,
   "metadata": {
    "colab": {
     "base_uri": "https://localhost:8080/",
     "height": 284
    },
    "colab_type": "code",
    "executionInfo": {
     "elapsed": 5098,
     "status": "ok",
     "timestamp": 1575369461065,
     "user": {
      "displayName": "Hemanth Reddy",
      "photoUrl": "https://lh3.googleusercontent.com/a-/AAuE7mByTu2xLfZj1YR3txrkITcZs9_i74nbaVq6SBdT8Q=s64",
      "userId": "03151495481760299531"
     },
     "user_tz": -330
    },
    "id": "ijO161Io5AWK",
    "outputId": "bf7de2cc-acb5-4386-930d-de7c3f7b3e44"
   },
   "outputs": [
    {
     "name": "stderr",
     "output_type": "stream",
     "text": [
      "/usr/lib/python3.6/importlib/_bootstrap.py:219: ImportWarning: can't resolve package from __spec__ or __package__, falling back on __name__ and __path__\n",
      "  return f(*args, **kwds)\n",
      "Using TensorFlow backend.\n",
      "/usr/lib/python3.6/importlib/_bootstrap.py:219: RuntimeWarning: numpy.ufunc size changed, may indicate binary incompatibility. Expected 216, got 192\n",
      "  return f(*args, **kwds)\n",
      "/usr/local/lib/python3.6/dist-packages/tensorflow_core/python/keras/backend.py:5747: ResourceWarning: unclosed file <_io.TextIOWrapper name='/root/.keras/keras.json' mode='r' encoding='UTF-8'>\n",
      "  _config = json.load(open(_config_path))\n",
      "/usr/lib/python3.6/importlib/_bootstrap.py:219: RuntimeWarning: numpy.ufunc size changed, may indicate binary incompatibility. Expected 192 from C header, got 216 from PyObject\n",
      "  return f(*args, **kwds)\n",
      "/usr/lib/python3.6/importlib/_bootstrap.py:219: RuntimeWarning: numpy.ufunc size changed, may indicate binary incompatibility. Expected 192 from C header, got 216 from PyObject\n",
      "  return f(*args, **kwds)\n"
     ]
    },
    {
     "data": {
      "text/html": [
       "<p style=\"color: red;\">\n",
       "The default version of TensorFlow in Colab will soon switch to TensorFlow 2.x.<br>\n",
       "We recommend you <a href=\"https://www.tensorflow.org/guide/migrate\" target=\"_blank\">upgrade</a> now \n",
       "or ensure your notebook will continue to use TensorFlow 1.x via the <code>%tensorflow_version 1.x</code> magic:\n",
       "<a href=\"https://colab.research.google.com/notebooks/tensorflow_version.ipynb\" target=\"_blank\">more info</a>.</p>\n"
      ],
      "text/plain": [
       "<IPython.core.display.HTML object>"
      ]
     },
     "metadata": {
      "tags": []
     },
     "output_type": "display_data"
    }
   ],
   "source": [
    "import numpy as np\n",
    "import matplotlib.pyplot as plt\n",
    "%matplotlib inline\n",
    "\n",
    "import time\n",
    "\n",
    "from keras.models import Sequential\n",
    "from keras.layers import Conv2D, MaxPooling2D, Convolution2D, DepthwiseConv2D, SeparableConv2D\n",
    "from keras.layers import Dense, Flatten, Activation\n",
    "from keras.layers import Dropout, BatchNormalization, GlobalAveragePooling2D\n",
    "from keras.utils import np_utils\n",
    "from keras import backend as K"
   ]
  },
  {
   "cell_type": "code",
   "execution_count": 0,
   "metadata": {
    "colab": {},
    "colab_type": "code",
    "id": "mAHRwUrt7lIM"
   },
   "outputs": [],
   "source": [
    "# loading and configuring cifar10 dataset\n",
    "from keras.datasets import cifar10\n",
    "\n",
    "# x_train/test : train/test features\n",
    "# y_train/test : train/test labels\n",
    "(x_train, y_train), (x_test, y_test) = cifar10.load_data()\n",
    "num_train, img_channels, img_rows, img_cols = x_train.shape\n",
    "num_test = x_test.shape[0]\n",
    "num_classes = len(np.unique(y_train))"
   ]
  },
  {
   "cell_type": "code",
   "execution_count": 0,
   "metadata": {
    "colab": {},
    "colab_type": "code",
    "id": "WLuAGWnr84cK"
   },
   "outputs": [],
   "source": [
    "class_names = ['airplane', 'automobile', 'bird', 'cat',  \n",
    "               'deer', 'dog', 'frog', 'horse', 'ship', 'truck']"
   ]
  },
  {
   "cell_type": "code",
   "execution_count": 0,
   "metadata": {
    "colab": {
     "base_uri": "https://localhost:8080/",
     "height": 108
    },
    "colab_type": "code",
    "executionInfo": {
     "elapsed": 3894,
     "status": "ok",
     "timestamp": 1575369462823,
     "user": {
      "displayName": "Hemanth Reddy",
      "photoUrl": "https://lh3.googleusercontent.com/a-/AAuE7mByTu2xLfZj1YR3txrkITcZs9_i74nbaVq6SBdT8Q=s64",
      "userId": "03151495481760299531"
     },
     "user_tz": -330
    },
    "id": "wiD1KJ-M84FC",
    "outputId": "e3e8afde-7fed-4648-fc16-6a52fc330193"
   },
   "outputs": [
    {
     "name": "stdout",
     "output_type": "stream",
     "text": [
      "Train images : 50000\n",
      "Test images : 10000\n",
      "Total classes : 10\n",
      "Input image shape : (32, 32, 3)\n",
      "\n"
     ]
    }
   ],
   "source": [
    "# https://stackoverflow.com/questions/45965007/multiline-f-string-in-python\n",
    "print(f\"\"\"Train images : {num_train}\n",
    "Test images : {num_test}\n",
    "Total classes : {num_classes}\n",
    "Input image shape : {x_train.shape[1:]}\n",
    "\"\"\")"
   ]
  },
  {
   "cell_type": "code",
   "execution_count": 0,
   "metadata": {
    "colab": {},
    "colab_type": "code",
    "id": "Xt9JEPEDnbKe"
   },
   "outputs": [],
   "source": [
    "from keras.optimizers import Adam\n",
    "from keras.callbacks import LearningRateScheduler\n",
    "def scheduler(epoch, lr):\n",
    "  return round(0.03 * 1/(1 + 0.319 * epoch), 10)"
   ]
  },
  {
   "cell_type": "code",
   "execution_count": 0,
   "metadata": {
    "colab": {},
    "colab_type": "code",
    "id": "qtR-7WvHQH9Y"
   },
   "outputs": [],
   "source": [
    "def plot_model_history(model_history):\n",
    "  fig, ax = plt.subplots(1, 2, figsize=(15, 5))\n",
    "\n",
    "  # summarize history for accuracy\n",
    "  ax[0].plot(range(1, len(model_history.history['acc'])+1), model_history.history['acc'])#, label='Training Acc')\n",
    "  ax[0].plot(range(1, len(model_history.history['val_acc'])+1), model_history.history['val_acc'])#, label='Validation Acc')\n",
    "  ax[0].set_title('Model Accuracy')\n",
    "  ax[0].set_xlabel('Epochs')\n",
    "  ax[0].set_ylabel('Accuracy')\n",
    "  ax[0].set_xticks(np.arange(1, len(model_history.history['acc'])+1), len(model_history.history['acc'])/10)\n",
    "  ax[0].legend(['Train', 'Validation'], loc='best')\n",
    "\n",
    "  # summarize history for loss\n",
    "  ax[1].plot(range(1, len(model_history.history['loss'])+1), model_history.history['loss'])\n",
    "  ax[1].plot(range(1, len(model_history.history['val_loss'])+1), model_history.history['val_loss'])\n",
    "  ax[1].set_title('Model Loss')\n",
    "  ax[1].set_xlabel('Epochs')\n",
    "  ax[1].set_ylabel('Loss')\n",
    "  ax[1].set_xticks(np.arange(1, len(model_history.history['loss'])+1), len(model_history.history['loss'])/10)\n",
    "  ax[1].legend(['Train', 'Validation'], loc='best')\n",
    "\n",
    "  plt.show()"
   ]
  },
  {
   "cell_type": "code",
   "execution_count": 0,
   "metadata": {
    "colab": {},
    "colab_type": "code",
    "id": "1lGp_6CQUmbT"
   },
   "outputs": [],
   "source": [
    "def accuracy(test_x, test_y, model):\n",
    "  result = model.predict(test_x)\n",
    "  predicted = np.argmax(result, axis=1)\n",
    "  true = np.argmax(test_y, axis=1)\n",
    "  num_correct = np.sum(predicted == true)\n",
    "  accuracy = float(num_correct)/result.shape[0]\n",
    "  return (accuracy * 100)"
   ]
  },
  {
   "cell_type": "code",
   "execution_count": 0,
   "metadata": {
    "colab": {
     "base_uri": "https://localhost:8080/",
     "height": 213
    },
    "colab_type": "code",
    "executionInfo": {
     "elapsed": 4929,
     "status": "ok",
     "timestamp": 1575369468459,
     "user": {
      "displayName": "Hemanth Reddy",
      "photoUrl": "https://lh3.googleusercontent.com/a-/AAuE7mByTu2xLfZj1YR3txrkITcZs9_i74nbaVq6SBdT8Q=s64",
      "userId": "03151495481760299531"
     },
     "user_tz": -330
    },
    "id": "0py3Ab_5-CK-",
    "outputId": "ee100881-5ded-4201-fd6c-1480e55f9f08"
   },
   "outputs": [
    {
     "data": {
      "image/png": "[encoded data removed]",
      "text/plain": [
       "<Figure size 576x216 with 10 Axes>"
      ]
     },
     "metadata": {
      "tags": []
     },
     "output_type": "display_data"
    }
   ],
   "source": [
    "# Checking images, one for each class\n",
    "fig = plt.figure(figsize=(8,3))\n",
    "for i in range(num_classes):\n",
    "  ax = fig.add_subplot(2, 5, 1+i, xticks=[], yticks=[])\n",
    "  idx = np.where(y_train[:]==i)[0]  # selecting all images of a class\n",
    "  features = x_train[idx,::]\n",
    "  img_num = np.random.randint(features.shape[0]) # selecting random no. from class idx\n",
    "  im = features[img_num]  # selecting features of the image from random no.\n",
    "  ax.set_title(class_names[i])\n",
    "  plt.imshow(im)\n",
    "plt.show()"
   ]
  },
  {
   "cell_type": "code",
   "execution_count": 0,
   "metadata": {
    "colab": {},
    "colab_type": "code",
    "id": "p8iKuwFZWsJW"
   },
   "outputs": [],
   "source": [
    "x_train = x_train.astype('float32')/255\n",
    "x_test = x_test.astype('float32')/255\n",
    "\n",
    "# converting class labels to one hot encoded\n",
    "y_train = np_utils.to_categorical(y_train, num_classes)\n",
    "y_test = np_utils.to_categorical(y_test, num_classes)"
   ]
  },
  {
   "cell_type": "markdown",
   "metadata": {
    "colab_type": "text",
    "id": "yIJ4z94omcuU"
   },
   "source": [
    "## Model"
   ]
  },
  {
   "cell_type": "code",
   "execution_count": 0,
   "metadata": {
    "colab": {
     "base_uri": "https://localhost:8080/",
     "height": 1000
    },
    "colab_type": "code",
    "executionInfo": {
     "elapsed": 2239,
     "status": "ok",
     "timestamp": 1575369529118,
     "user": {
      "displayName": "Hemanth Reddy",
      "photoUrl": "https://lh3.googleusercontent.com/a-/AAuE7mByTu2xLfZj1YR3txrkITcZs9_i74nbaVq6SBdT8Q=s64",
      "userId": "03151495481760299531"
     },
     "user_tz": -330
    },
    "id": "wfyDn3tIXTX6",
    "outputId": "42e3644f-e3b0-4c8e-a116-d321b0ef056a"
   },
   "outputs": [
    {
     "name": "stdout",
     "output_type": "stream",
     "text": [
      "Model: \"sequential_2\"\n",
      "_________________________________________________________________\n",
      "Layer (type)                 Output Shape              Param #   \n",
      "=================================================================\n",
      "separable_conv2d_6 (Separabl (None, 30, 30, 32)        123       \n",
      "_________________________________________________________________\n",
      "activation_7 (Activation)    (None, 30, 30, 32)        0         \n",
      "_________________________________________________________________\n",
      "batch_normalization_6 (Batch (None, 30, 30, 32)        128       \n",
      "_________________________________________________________________\n",
      "dropout_6 (Dropout)          (None, 30, 30, 32)        0         \n",
      "_________________________________________________________________\n",
      "separable_conv2d_7 (Separabl (None, 28, 28, 64)        2336      \n",
      "_________________________________________________________________\n",
      "activation_8 (Activation)    (None, 28, 28, 64)        0         \n",
      "_________________________________________________________________\n",
      "batch_normalization_7 (Batch (None, 28, 28, 64)        256       \n",
      "_________________________________________________________________\n",
      "dropout_7 (Dropout)          (None, 28, 28, 64)        0         \n",
      "_________________________________________________________________\n",
      "max_pooling2d_3 (MaxPooling2 (None, 14, 14, 64)        0         \n",
      "_________________________________________________________________\n",
      "conv2d_3 (Conv2D)            (None, 14, 14, 32)        2048      \n",
      "_________________________________________________________________\n",
      "separable_conv2d_8 (Separabl (None, 12, 12, 32)        1312      \n",
      "_________________________________________________________________\n",
      "activation_9 (Activation)    (None, 12, 12, 32)        0         \n",
      "_________________________________________________________________\n",
      "batch_normalization_8 (Batch (None, 12, 12, 32)        128       \n",
      "_________________________________________________________________\n",
      "dropout_8 (Dropout)          (None, 12, 12, 32)        0         \n",
      "_________________________________________________________________\n",
      "separable_conv2d_9 (Separabl (None, 10, 10, 64)        2336      \n",
      "_________________________________________________________________\n",
      "activation_10 (Activation)   (None, 10, 10, 64)        0         \n",
      "_________________________________________________________________\n",
      "batch_normalization_9 (Batch (None, 10, 10, 64)        256       \n",
      "_________________________________________________________________\n",
      "dropout_9 (Dropout)          (None, 10, 10, 64)        0         \n",
      "_________________________________________________________________\n",
      "max_pooling2d_4 (MaxPooling2 (None, 5, 5, 64)          0         \n",
      "_________________________________________________________________\n",
      "conv2d_4 (Conv2D)            (None, 5, 5, 32)          2048      \n",
      "_________________________________________________________________\n",
      "separable_conv2d_10 (Separab (None, 3, 3, 32)          1312      \n",
      "_________________________________________________________________\n",
      "activation_11 (Activation)   (None, 3, 3, 32)          0         \n",
      "_________________________________________________________________\n",
      "batch_normalization_10 (Batc (None, 3, 3, 32)          128       \n",
      "_________________________________________________________________\n",
      "dropout_10 (Dropout)         (None, 3, 3, 32)          0         \n",
      "_________________________________________________________________\n",
      "separable_conv2d_11 (Separab (None, 1, 1, 10)          608       \n",
      "_________________________________________________________________\n",
      "activation_12 (Activation)   (None, 1, 1, 10)          0         \n",
      "_________________________________________________________________\n",
      "global_average_pooling2d_2 ( (None, 10)                0         \n",
      "_________________________________________________________________\n",
      "activation_13 (Activation)   (None, 10)                0         \n",
      "=================================================================\n",
      "Total params: 13,019\n",
      "Trainable params: 12,571\n",
      "Non-trainable params: 448\n",
      "_________________________________________________________________\n"
     ]
    }
   ],
   "source": [
    "# Define the model\n",
    "model = Sequential() \n",
    "model.add(SeparableConv2D(32, 3, use_bias=False, input_shape=(32, 32, 3))) # 30x3x3x32 RF:3\n",
    "model.add(Activation('relu'))\n",
    "model.add(BatchNormalization())\n",
    "model.add(Dropout(0.05))\n",
    "\n",
    "model.add(SeparableConv2D(64, 3, use_bias=False)) # 28x3x3x64 RF:3\n",
    "model.add(Activation('relu'))\n",
    "model.add(BatchNormalization())\n",
    "model.add(Dropout(0.05))\n",
    "\n",
    "model.add(MaxPooling2D(2)) # 14x3x3x128\n",
    "model.add(Convolution2D(32, 1, use_bias=False))  # 14x3x3x32\n",
    "\n",
    "model.add(SeparableConv2D(32, 3, use_bias=False)) # 12x3x3x128 RF:3\n",
    "model.add(Activation('relu'))\n",
    "model.add(BatchNormalization())\n",
    "model.add(Dropout(0.1))\n",
    "\n",
    "model.add(SeparableConv2D(64, 3, use_bias=False)) # 10x3x3x256 RF:3\n",
    "model.add(Activation('relu'))\n",
    "model.add(BatchNormalization())\n",
    "model.add(Dropout(0.1))\n",
    "\n",
    "model.add(MaxPooling2D(2)) # 5x3x3x64\n",
    "model.add(Convolution2D(32, 1, use_bias=False))  # 5x3x3x32\n",
    "\n",
    "model.add(SeparableConv2D(32, 3, use_bias=False)) # 3x3x3x32 RF:3\n",
    "model.add(Activation('relu'))\n",
    "model.add(BatchNormalization())\n",
    "model.add(Dropout(0.15))\n",
    "\n",
    "model.add(SeparableConv2D(10, 3, use_bias=False)) # 1x3x3x10 RF:3\n",
    "model.add(Activation('relu'))\n",
    "model.add(GlobalAveragePooling2D()) # 1X10\n",
    "model.add(Activation('softmax'))\n",
    "\n",
    "model.summary()"
   ]
  },
  {
   "cell_type": "code",
   "execution_count": 0,
   "metadata": {
    "colab": {},
    "colab_type": "code",
    "id": "G6jeD_Vvfp-S"
   },
   "outputs": [],
   "source": [
    "# Compile the model\n",
    "model.compile(optimizer=Adam(lr=0.03), loss='categorical_crossentropy', metrics=['accuracy'])"
   ]
  },
  {
   "cell_type": "code",
   "execution_count": 0,
   "metadata": {
    "colab": {},
    "colab_type": "code",
    "id": "u-cr82_teNuQ"
   },
   "outputs": [],
   "source": [
    "from keras.preprocessing.image import ImageDataGenerator\n",
    "datagen = ImageDataGenerator()"
   ]
  },
  {
   "cell_type": "code",
   "execution_count": 0,
   "metadata": {
    "colab": {
     "base_uri": "https://localhost:8080/",
     "height": 1000
    },
    "colab_type": "code",
    "executionInfo": {
     "elapsed": 1149854,
     "status": "ok",
     "timestamp": 1575370756301,
     "user": {
      "displayName": "Hemanth Reddy",
      "photoUrl": "https://lh3.googleusercontent.com/a-/AAuE7mByTu2xLfZj1YR3txrkITcZs9_i74nbaVq6SBdT8Q=s64",
      "userId": "03151495481760299531"
     },
     "user_tz": -330
    },
    "id": "S9uG39-EeapX",
    "outputId": "59e288d6-0b77-43d9-f711-9507f19095a5"
   },
   "outputs": [
    {
     "name": "stderr",
     "output_type": "stream",
     "text": [
      "/usr/local/lib/python3.6/dist-packages/ipykernel_launcher.py:5: UserWarning: The semantics of the Keras 2 argument `steps_per_epoch` is not the same as the Keras 1 argument `samples_per_epoch`. `steps_per_epoch` is the number of batches to draw from the generator at each epoch. Basically steps_per_epoch = samples_per_epoch/batch_size. Similarly `nb_val_samples`->`validation_steps` and `val_samples`->`steps` arguments have changed. Update your method calls accordingly.\n",
      "  \"\"\"\n",
      "/usr/local/lib/python3.6/dist-packages/ipykernel_launcher.py:5: UserWarning: Update your `fit_generator` call to the Keras 2 API: `fit_generator(<keras_pre..., validation_data=(array([[[..., callbacks=[<keras.ca..., verbose=1, steps_per_epoch=390, epochs=50)`\n",
      "  \"\"\"\n"
     ]
    },
    {
     "name": "stdout",
     "output_type": "stream",
     "text": [
      "Epoch 1/50\n",
      "\n",
      "Epoch 00001: LearningRateScheduler setting learning rate to 0.03.\n",
      "390/390 [==============================] - 26s 67ms/step - loss: 1.6474 - acc: 0.3937 - val_loss: 3.2513 - val_acc: 0.2712\n",
      "Epoch 2/50\n",
      "\n",
      "Epoch 00002: LearningRateScheduler setting learning rate to 0.0227445034.\n",
      "390/390 [==============================] - 23s 59ms/step - loss: 1.3264 - acc: 0.5200 - val_loss: 1.5750 - val_acc: 0.4674\n",
      "Epoch 3/50\n",
      "\n",
      "Epoch 00003: LearningRateScheduler setting learning rate to 0.0183150183.\n",
      "390/390 [==============================] - 23s 59ms/step - loss: 1.1634 - acc: 0.5853 - val_loss: 1.2581 - val_acc: 0.5690\n",
      "Epoch 4/50\n",
      "\n",
      "Epoch 00004: LearningRateScheduler setting learning rate to 0.0153295861.\n",
      "390/390 [==============================] - 23s 59ms/step - loss: 1.0567 - acc: 0.6261 - val_loss: 1.1555 - val_acc: 0.6014\n",
      "Epoch 5/50\n",
      "\n",
      "Epoch 00005: LearningRateScheduler setting learning rate to 0.0131810193.\n",
      "390/390 [==============================] - 23s 58ms/step - loss: 0.9810 - acc: 0.6527 - val_loss: 1.0379 - val_acc: 0.6312\n",
      "Epoch 6/50\n",
      "\n",
      "Epoch 00006: LearningRateScheduler setting learning rate to 0.0115606936.\n",
      "390/390 [==============================] - 23s 58ms/step - loss: 0.9344 - acc: 0.6700 - val_loss: 1.0098 - val_acc: 0.6418\n",
      "Epoch 7/50\n",
      "\n",
      "Epoch 00007: LearningRateScheduler setting learning rate to 0.010295127.\n",
      "390/390 [==============================] - 23s 58ms/step - loss: 0.8884 - acc: 0.6882 - val_loss: 0.9499 - val_acc: 0.6664\n",
      "Epoch 8/50\n",
      "\n",
      "Epoch 00008: LearningRateScheduler setting learning rate to 0.0092793071.\n",
      "390/390 [==============================] - 23s 58ms/step - loss: 0.8636 - acc: 0.6970 - val_loss: 1.0646 - val_acc: 0.6407\n",
      "Epoch 9/50\n",
      "\n",
      "Epoch 00009: LearningRateScheduler setting learning rate to 0.0084459459.\n",
      "390/390 [==============================] - 23s 58ms/step - loss: 0.8323 - acc: 0.7070 - val_loss: 0.8607 - val_acc: 0.6990\n",
      "Epoch 10/50\n",
      "\n",
      "Epoch 00010: LearningRateScheduler setting learning rate to 0.0077499354.\n",
      "390/390 [==============================] - 23s 58ms/step - loss: 0.8114 - acc: 0.7155 - val_loss: 0.8249 - val_acc: 0.7145\n",
      "Epoch 11/50\n",
      "\n",
      "Epoch 00011: LearningRateScheduler setting learning rate to 0.0071599045.\n",
      "390/390 [==============================] - 23s 58ms/step - loss: 0.7932 - acc: 0.7214 - val_loss: 0.8144 - val_acc: 0.7148\n",
      "Epoch 12/50\n",
      "\n",
      "Epoch 00012: LearningRateScheduler setting learning rate to 0.0066533599.\n",
      "390/390 [==============================] - 23s 58ms/step - loss: 0.7783 - acc: 0.7267 - val_loss: 0.8158 - val_acc: 0.7172\n",
      "Epoch 13/50\n",
      "\n",
      "Epoch 00013: LearningRateScheduler setting learning rate to 0.0062137531.\n",
      "390/390 [==============================] - 23s 58ms/step - loss: 0.7630 - acc: 0.7305 - val_loss: 1.0018 - val_acc: 0.6524\n",
      "Epoch 14/50\n",
      "\n",
      "Epoch 00014: LearningRateScheduler setting learning rate to 0.005828638.\n",
      "390/390 [==============================] - 23s 58ms/step - loss: 0.7498 - acc: 0.7369 - val_loss: 0.7985 - val_acc: 0.7199\n",
      "Epoch 15/50\n",
      "\n",
      "Epoch 00015: LearningRateScheduler setting learning rate to 0.0054884742.\n",
      "390/390 [==============================] - 23s 58ms/step - loss: 0.7358 - acc: 0.7421 - val_loss: 0.7950 - val_acc: 0.7227\n",
      "Epoch 16/50\n",
      "\n",
      "Epoch 00016: LearningRateScheduler setting learning rate to 0.0051858254.\n",
      "390/390 [==============================] - 23s 58ms/step - loss: 0.7289 - acc: 0.7432 - val_loss: 0.7824 - val_acc: 0.7300\n",
      "Epoch 17/50\n",
      "\n",
      "Epoch 00017: LearningRateScheduler setting learning rate to 0.00491481.\n",
      "390/390 [==============================] - 23s 58ms/step - loss: 0.7121 - acc: 0.7502 - val_loss: 0.7968 - val_acc: 0.7245\n",
      "Epoch 18/50\n",
      "\n",
      "Epoch 00018: LearningRateScheduler setting learning rate to 0.0046707146.\n",
      "390/390 [==============================] - 23s 58ms/step - loss: 0.7050 - acc: 0.7527 - val_loss: 0.7539 - val_acc: 0.7381\n",
      "Epoch 19/50\n",
      "\n",
      "Epoch 00019: LearningRateScheduler setting learning rate to 0.0044497182.\n",
      "390/390 [==============================] - 23s 58ms/step - loss: 0.6974 - acc: 0.7549 - val_loss: 0.7719 - val_acc: 0.7335\n",
      "Epoch 20/50\n",
      "\n",
      "Epoch 00020: LearningRateScheduler setting learning rate to 0.00424869.\n",
      "390/390 [==============================] - 23s 59ms/step - loss: 0.6940 - acc: 0.7552 - val_loss: 0.7681 - val_acc: 0.7326\n",
      "Epoch 21/50\n",
      "\n",
      "Epoch 00021: LearningRateScheduler setting learning rate to 0.0040650407.\n",
      "390/390 [==============================] - 23s 59ms/step - loss: 0.6840 - acc: 0.7581 - val_loss: 0.7913 - val_acc: 0.7233\n",
      "Epoch 22/50\n",
      "\n",
      "Epoch 00022: LearningRateScheduler setting learning rate to 0.0038966099.\n",
      "390/390 [==============================] - 23s 59ms/step - loss: 0.6741 - acc: 0.7655 - val_loss: 0.7447 - val_acc: 0.7429\n",
      "Epoch 23/50\n",
      "\n",
      "Epoch 00023: LearningRateScheduler setting learning rate to 0.0037415814.\n",
      "390/390 [==============================] - 23s 59ms/step - loss: 0.6741 - acc: 0.7638 - val_loss: 0.7221 - val_acc: 0.7542\n",
      "Epoch 24/50\n",
      "\n",
      "Epoch 00024: LearningRateScheduler setting learning rate to 0.0035984167.\n",
      "390/390 [==============================] - 23s 59ms/step - loss: 0.6641 - acc: 0.7650 - val_loss: 0.7457 - val_acc: 0.7401\n",
      "Epoch 25/50\n",
      "\n",
      "Epoch 00025: LearningRateScheduler setting learning rate to 0.0034658041.\n",
      "390/390 [==============================] - 23s 59ms/step - loss: 0.6624 - acc: 0.7676 - val_loss: 0.7275 - val_acc: 0.7459\n",
      "Epoch 26/50\n",
      "\n",
      "Epoch 00026: LearningRateScheduler setting learning rate to 0.0033426184.\n",
      "390/390 [==============================] - 23s 59ms/step - loss: 0.6539 - acc: 0.7717 - val_loss: 0.7415 - val_acc: 0.7454\n",
      "Epoch 27/50\n",
      "\n",
      "Epoch 00027: LearningRateScheduler setting learning rate to 0.003227889.\n",
      "390/390 [==============================] - 23s 59ms/step - loss: 0.6519 - acc: 0.7728 - val_loss: 0.7175 - val_acc: 0.7511\n",
      "Epoch 28/50\n",
      "\n",
      "Epoch 00028: LearningRateScheduler setting learning rate to 0.003120774.\n",
      "390/390 [==============================] - 23s 59ms/step - loss: 0.6455 - acc: 0.7726 - val_loss: 0.7135 - val_acc: 0.7534\n",
      "Epoch 29/50\n",
      "\n",
      "Epoch 00029: LearningRateScheduler setting learning rate to 0.0030205397.\n",
      "390/390 [==============================] - 23s 59ms/step - loss: 0.6397 - acc: 0.7763 - val_loss: 0.7087 - val_acc: 0.7555\n",
      "Epoch 30/50\n",
      "\n",
      "Epoch 00030: LearningRateScheduler setting learning rate to 0.0029265438.\n",
      "390/390 [==============================] - 23s 59ms/step - loss: 0.6382 - acc: 0.7750 - val_loss: 0.6977 - val_acc: 0.7608\n",
      "Epoch 31/50\n",
      "\n",
      "Epoch 00031: LearningRateScheduler setting learning rate to 0.0028382214.\n",
      "390/390 [==============================] - 23s 59ms/step - loss: 0.6297 - acc: 0.7787 - val_loss: 0.7124 - val_acc: 0.7545\n",
      "Epoch 32/50\n",
      "\n",
      "Epoch 00032: LearningRateScheduler setting learning rate to 0.0027550739.\n",
      "390/390 [==============================] - 23s 59ms/step - loss: 0.6295 - acc: 0.7784 - val_loss: 0.7123 - val_acc: 0.7555\n",
      "Epoch 33/50\n",
      "\n",
      "Epoch 00033: LearningRateScheduler setting learning rate to 0.0026766595.\n",
      "390/390 [==============================] - 23s 59ms/step - loss: 0.6241 - acc: 0.7805 - val_loss: 0.6972 - val_acc: 0.7587\n",
      "Epoch 34/50\n",
      "\n",
      "Epoch 00034: LearningRateScheduler setting learning rate to 0.0026025852.\n",
      "390/390 [==============================] - 23s 59ms/step - loss: 0.6235 - acc: 0.7819 - val_loss: 0.6993 - val_acc: 0.7566\n",
      "Epoch 35/50\n",
      "\n",
      "Epoch 00035: LearningRateScheduler setting learning rate to 0.0025325004.\n",
      "390/390 [==============================] - 23s 59ms/step - loss: 0.6193 - acc: 0.7805 - val_loss: 0.6919 - val_acc: 0.7601\n",
      "Epoch 36/50\n",
      "\n",
      "Epoch 00036: LearningRateScheduler setting learning rate to 0.0024660912.\n",
      "390/390 [==============================] - 23s 59ms/step - loss: 0.6180 - acc: 0.7832 - val_loss: 0.6982 - val_acc: 0.7580\n",
      "Epoch 37/50\n",
      "\n",
      "Epoch 00037: LearningRateScheduler setting learning rate to 0.0024030759.\n",
      "390/390 [==============================] - 23s 59ms/step - loss: 0.6153 - acc: 0.7813 - val_loss: 0.7253 - val_acc: 0.7480\n",
      "Epoch 38/50\n",
      "\n",
      "Epoch 00038: LearningRateScheduler setting learning rate to 0.0023432008.\n",
      "390/390 [==============================] - 23s 59ms/step - loss: 0.6148 - acc: 0.7836 - val_loss: 0.7023 - val_acc: 0.7555\n",
      "Epoch 39/50\n",
      "\n",
      "Epoch 00039: LearningRateScheduler setting learning rate to 0.0022862369.\n",
      "390/390 [==============================] - 23s 59ms/step - loss: 0.6070 - acc: 0.7832 - val_loss: 0.7099 - val_acc: 0.7526\n",
      "Epoch 40/50\n",
      "\n",
      "Epoch 00040: LearningRateScheduler setting learning rate to 0.0022319768.\n",
      "390/390 [==============================] - 23s 58ms/step - loss: 0.6021 - acc: 0.7885 - val_loss: 0.7001 - val_acc: 0.7573\n",
      "Epoch 41/50\n",
      "\n",
      "Epoch 00041: LearningRateScheduler setting learning rate to 0.0021802326.\n",
      "390/390 [==============================] - 23s 59ms/step - loss: 0.6102 - acc: 0.7872 - val_loss: 0.7134 - val_acc: 0.7555\n",
      "Epoch 42/50\n",
      "\n",
      "Epoch 00042: LearningRateScheduler setting learning rate to 0.0021308332.\n",
      "390/390 [==============================] - 23s 59ms/step - loss: 0.6015 - acc: 0.7882 - val_loss: 0.7252 - val_acc: 0.7530\n",
      "Epoch 43/50\n",
      "\n",
      "Epoch 00043: LearningRateScheduler setting learning rate to 0.0020836227.\n",
      "390/390 [==============================] - 23s 59ms/step - loss: 0.6027 - acc: 0.7888 - val_loss: 0.6902 - val_acc: 0.7614\n",
      "Epoch 44/50\n",
      "\n",
      "Epoch 00044: LearningRateScheduler setting learning rate to 0.0020384589.\n",
      "390/390 [==============================] - 23s 59ms/step - loss: 0.5948 - acc: 0.7899 - val_loss: 0.6991 - val_acc: 0.7600\n",
      "Epoch 45/50\n",
      "\n",
      "Epoch 00045: LearningRateScheduler setting learning rate to 0.0019952115.\n",
      "390/390 [==============================] - 23s 59ms/step - loss: 0.5974 - acc: 0.7889 - val_loss: 0.6917 - val_acc: 0.7628\n",
      "Epoch 46/50\n",
      "\n",
      "Epoch 00046: LearningRateScheduler setting learning rate to 0.001953761.\n",
      "390/390 [==============================] - 23s 59ms/step - loss: 0.5941 - acc: 0.7906 - val_loss: 0.6893 - val_acc: 0.7579\n",
      "Epoch 47/50\n",
      "\n",
      "Epoch 00047: LearningRateScheduler setting learning rate to 0.0019139977.\n",
      "390/390 [==============================] - 23s 59ms/step - loss: 0.5900 - acc: 0.7930 - val_loss: 0.7021 - val_acc: 0.7605\n",
      "Epoch 48/50\n",
      "\n",
      "Epoch 00048: LearningRateScheduler setting learning rate to 0.0018758207.\n",
      "390/390 [==============================] - 23s 59ms/step - loss: 0.5914 - acc: 0.7918 - val_loss: 0.7118 - val_acc: 0.7557\n",
      "Epoch 49/50\n",
      "\n",
      "Epoch 00049: LearningRateScheduler setting learning rate to 0.0018391368.\n",
      "390/390 [==============================] - 23s 59ms/step - loss: 0.5898 - acc: 0.7920 - val_loss: 0.6735 - val_acc: 0.7702\n",
      "Epoch 50/50\n",
      "\n",
      "Epoch 00050: LearningRateScheduler setting learning rate to 0.0018038603.\n",
      "390/390 [==============================] - 23s 59ms/step - loss: 0.5861 - acc: 0.7917 - val_loss: 0.6975 - val_acc: 0.7591\n",
      "Model took 1147.28 seconds to train\n"
     ]
    }
   ],
   "source": [
    "# train the model\n",
    "start = time.time()\n",
    "# Train the model\n",
    "model_info = model.fit_generator(datagen.flow(x_train, y_train, batch_size = 128),\n",
    "                                 samples_per_epoch = x_train.shape[0], nb_epoch = 50, \n",
    "                                 validation_data = (x_test, y_test),callbacks=[LearningRateScheduler(scheduler, verbose=1)], verbose=1)\n",
    "end = time.time()\n",
    "print (\"Model took %0.2f seconds to train\"%(end - start))"
   ]
  },
  {
   "cell_type": "code",
   "execution_count": 0,
   "metadata": {
    "colab": {
     "base_uri": "https://localhost:8080/",
     "height": 350
    },
    "colab_type": "code",
    "executionInfo": {
     "elapsed": 2168,
     "status": "ok",
     "timestamp": 1575370758480,
     "user": {
      "displayName": "Hemanth Reddy",
      "photoUrl": "https://lh3.googleusercontent.com/a-/AAuE7mByTu2xLfZj1YR3txrkITcZs9_i74nbaVq6SBdT8Q=s64",
      "userId": "03151495481760299531"
     },
     "user_tz": -330
    },
    "id": "ifmyuJy1edf-",
    "outputId": "d06bf3ac-ecdc-40c3-de71-98cac8e61978"
   },
   "outputs": [
    {
     "data": {
      "image/png": "[encoded data removed]",
      "text/plain": [
       "<Figure size 1080x360 with 2 Axes>"
      ]
     },
     "metadata": {
      "tags": []
     },
     "output_type": "display_data"
    }
   ],
   "source": [
    "# plot model history\n",
    "plot_model_history(model_info)"
   ]
  },
  {
   "cell_type": "code",
   "execution_count": 0,
   "metadata": {
    "colab": {
     "base_uri": "https://localhost:8080/",
     "height": 35
    },
    "colab_type": "code",
    "executionInfo": {
     "elapsed": 4677,
     "status": "ok",
     "timestamp": 1575370760997,
     "user": {
      "displayName": "Hemanth Reddy",
      "photoUrl": "https://lh3.googleusercontent.com/a-/AAuE7mByTu2xLfZj1YR3txrkITcZs9_i74nbaVq6SBdT8Q=s64",
      "userId": "03151495481760299531"
     },
     "user_tz": -330
    },
    "id": "xe6CIp5zhaGB",
    "outputId": "fa2c19a8-993a-4e66-9aab-42b686c5eb85"
   },
   "outputs": [
    {
     "name": "stdout",
     "output_type": "stream",
     "text": [
      "Accuracy on test data is: 75.91\n"
     ]
    }
   ],
   "source": [
    "# compute test accuracy\n",
    "print (\"Accuracy on test data is: %0.2f\"%accuracy(x_test, y_test, model))"
   ]
  },
  {
   "cell_type": "code",
   "execution_count": 0,
   "metadata": {
    "colab": {},
    "colab_type": "code",
    "id": "ue5kMjKvxDrm"
   },
   "outputs": [],
   "source": []
  }
 ],
 "metadata": {
  "accelerator": "GPU",
  "colab": {
   "collapsed_sections": [],
   "machine_shape": "hm",
   "name": "S3_model1.ipynb",
   "provenance": [
    {
     "file_id": "1JLFRtEonB07mmBkp-2uoVkLpQ7tuKEUb",
     "timestamp": 1575365183982
    },
    {
     "file_id": "18psqrdrV_gILmJU9BLoz1AKpFezZHXCA",
     "timestamp": 1575359360924
    },
    {
     "file_id": "1q0IMK5QWfRSILJ67uQAZRZ522Th6hFl7",
     "timestamp": 1575350193531
    }
   ]
  },
  "kernelspec": {
   "display_name": "Python 3",
   "language": "python",
   "name": "python3"
  },
  "language_info": {
   "codemirror_mode": {
    "name": "ipython",
    "version": 3
   },
   "file_extension": ".py",
   "mimetype": "text/x-python",
   "name": "python",
   "nbconvert_exporter": "python",
   "pygments_lexer": "ipython3",
   "version": "3.6.8"
  },
  "toc": {
   "base_numbering": 1,
   "nav_menu": {},
   "number_sections": true,
   "sideBar": true,
   "skip_h1_title": false,
   "title_cell": "Table of Contents",
   "title_sidebar": "Contents",
   "toc_cell": false,
   "toc_position": {},
   "toc_section_display": true,
   "toc_window_display": false
  },
  "varInspector": {
   "cols": {
    "lenName": 16,
    "lenType": 16,
    "lenVar": 40
   },
   "kernels_config": {
    "python": {
     "delete_cmd_postfix": "",
     "delete_cmd_prefix": "del ",
     "library": "var_list.py",
     "varRefreshCmd": "print(var_dic_list())"
    },
    "r": {
     "delete_cmd_postfix": ") ",
     "delete_cmd_prefix": "rm(",
     "library": "var_list.r",
     "varRefreshCmd": "cat(var_dic_list()) "
    }
   },
   "types_to_exclude": [
    "module",
    "function",
    "builtin_function_or_method",
    "instance",
    "_Feature"
   ],
   "window_display": false
  }
 },
 "nbformat": 4,
 "nbformat_minor": 1
}
