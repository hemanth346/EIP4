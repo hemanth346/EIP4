{
 "cells": [
  {
   "cell_type": "markdown",
   "metadata": {
    "colab_type": "text",
    "id": "mT5a340ZMRtS"
   },
   "source": [
    "Added Augmentations"
   ]
  },
  {
   "cell_type": "markdown",
   "metadata": {
    "colab_type": "text",
    "id": "z3saB-0g5XwS"
   },
   "source": [
    "## Installs, imports and Boilerplate code"
   ]
  },
  {
   "cell_type": "code",
   "execution_count": 0,
   "metadata": {
    "colab": {},
    "colab_type": "code",
    "id": "LQE5KERY49qC"
   },
   "outputs": [],
   "source": [
    "import warnings\n",
    "warnings.filterwarnings(action='once')"
   ]
  },
  {
   "cell_type": "code",
   "execution_count": 0,
   "metadata": {
    "colab": {},
    "colab_type": "code",
    "id": "ijO161Io5AWK"
   },
   "outputs": [],
   "source": [
    "import numpy as np\n",
    "import matplotlib.pyplot as plt\n",
    "%matplotlib inline\n",
    "\n",
    "import time\n",
    "\n",
    "from keras.models import Sequential\n",
    "from keras.layers import Conv2D, MaxPooling2D, Convolution2D, DepthwiseConv2D, SeparableConv2D\n",
    "from keras.layers import Dense, Flatten, Activation\n",
    "from keras.layers import Dropout, BatchNormalization, GlobalAveragePooling2D\n",
    "from keras.utils import np_utils\n",
    "from keras import backend as K"
   ]
  },
  {
   "cell_type": "code",
   "execution_count": 6,
   "metadata": {
    "colab": {
     "base_uri": "https://localhost:8080/",
     "height": 53
    },
    "colab_type": "code",
    "id": "mAHRwUrt7lIM",
    "outputId": "a7f7835e-307d-4997-a4ed-d6eec55d7d86"
   },
   "outputs": [
    {
     "name": "stdout",
     "output_type": "stream",
     "text": [
      "Downloading data from https://www.cs.toronto.edu/~kriz/cifar-10-python.tar.gz\n",
      "170500096/170498071 [==============================] - 7s 0us/step\n"
     ]
    }
   ],
   "source": [
    "# loading and configuring cifar10 dataset\n",
    "from keras.datasets import cifar10\n",
    "\n",
    "# x_train/test : train/test features\n",
    "# y_train/test : train/test labels\n",
    "(x_train, y_train), (x_test, y_test) = cifar10.load_data()\n",
    "num_train, img_channels, img_rows, img_cols = x_train.shape\n",
    "num_test = x_test.shape[0]\n",
    "num_classes = len(np.unique(y_train))"
   ]
  },
  {
   "cell_type": "code",
   "execution_count": 0,
   "metadata": {
    "colab": {},
    "colab_type": "code",
    "id": "WLuAGWnr84cK"
   },
   "outputs": [],
   "source": [
    "class_names = ['airplane', 'automobile', 'bird', 'cat',  \n",
    "               'deer', 'dog', 'frog', 'horse', 'ship', 'truck']"
   ]
  },
  {
   "cell_type": "code",
   "execution_count": 8,
   "metadata": {
    "colab": {
     "base_uri": "https://localhost:8080/",
     "height": 108
    },
    "colab_type": "code",
    "id": "wiD1KJ-M84FC",
    "outputId": "09099dc1-0f39-4347-d812-7dbe4d8e28ba"
   },
   "outputs": [
    {
     "name": "stdout",
     "output_type": "stream",
     "text": [
      "Train images : 50000\n",
      "Test images : 10000\n",
      "Total classes : 10\n",
      "Input image shape : (32, 32, 3)\n",
      "\n"
     ]
    }
   ],
   "source": [
    "# https://stackoverflow.com/questions/45965007/multiline-f-string-in-python\n",
    "print(f\"\"\"Train images : {num_train}\n",
    "Test images : {num_test}\n",
    "Total classes : {num_classes}\n",
    "Input image shape : {x_train.shape[1:]}\n",
    "\"\"\")"
   ]
  },
  {
   "cell_type": "code",
   "execution_count": 0,
   "metadata": {
    "colab": {},
    "colab_type": "code",
    "id": "Xt9JEPEDnbKe"
   },
   "outputs": [],
   "source": [
    "from keras.optimizers import Adam\n",
    "from keras.callbacks import LearningRateScheduler\n",
    "def scheduler(epoch, lr):\n",
    "  return round(0.003 * 1/(1 + 0.319 * epoch), 10)"
   ]
  },
  {
   "cell_type": "code",
   "execution_count": 0,
   "metadata": {
    "colab": {},
    "colab_type": "code",
    "id": "qtR-7WvHQH9Y"
   },
   "outputs": [],
   "source": [
    "def plot_model_history(model_history):\n",
    "  fig, ax = plt.subplots(1, 2, figsize=(15, 5))\n",
    "\n",
    "  # summarize history for accuracy\n",
    "  ax[0].plot(range(1, len(model_history.history['acc'])+1), model_history.history['acc'])#, label='Training Acc')\n",
    "  ax[0].plot(range(1, len(model_history.history['val_acc'])+1), model_history.history['val_acc'])#, label='Validation Acc')\n",
    "  ax[0].set_title('Model Accuracy')\n",
    "  ax[0].set_xlabel('Epochs')\n",
    "  ax[0].set_ylabel('Accuracy')\n",
    "  ax[0].set_xticks(np.arange(1, len(model_history.history['acc'])+1), len(model_history.history['acc'])/10)\n",
    "  ax[0].legend(['Train', 'Validation'], loc='best')\n",
    "\n",
    "  # summarize history for loss\n",
    "  ax[1].plot(range(1, len(model_history.history['loss'])+1), model_history.history['loss'])\n",
    "  ax[1].plot(range(1, len(model_history.history['val_loss'])+1), model_history.history['val_loss'])\n",
    "  ax[1].set_title('Model Loss')\n",
    "  ax[1].set_xlabel('Epochs')\n",
    "  ax[1].set_ylabel('Loss')\n",
    "  ax[1].set_xticks(np.arange(1, len(model_history.history['loss'])+1), len(model_history.history['loss'])/10)\n",
    "  ax[1].legend(['Train', 'Validation'], loc='best')\n",
    "\n",
    "  plt.show()"
   ]
  },
  {
   "cell_type": "code",
   "execution_count": 0,
   "metadata": {
    "colab": {},
    "colab_type": "code",
    "id": "1lGp_6CQUmbT"
   },
   "outputs": [],
   "source": [
    "def accuracy(test_x, test_y, model):\n",
    "  result = model.predict(test_x)\n",
    "  predicted = np.argmax(result, axis=1)\n",
    "  true = np.argmax(test_y, axis=1)\n",
    "  num_correct = np.sum(predicted == true)\n",
    "  accuracy = float(num_correct)/result.shape[0]\n",
    "  return (accuracy * 100)"
   ]
  },
  {
   "cell_type": "code",
   "execution_count": 12,
   "metadata": {
    "colab": {
     "base_uri": "https://localhost:8080/",
     "height": 213
    },
    "colab_type": "code",
    "id": "0py3Ab_5-CK-",
    "outputId": "b230b5c2-1ef9-46a3-f4ce-00ed2914307d"
   },
   "outputs": [
    {
     "data": {
      "image/png": "[encoded data removed]",
      "text/plain": [
       "<Figure size 576x216 with 10 Axes>"
      ]
     },
     "metadata": {
      "tags": []
     },
     "output_type": "display_data"
    }
   ],
   "source": [
    "# Checking images, one for each class\n",
    "fig = plt.figure(figsize=(8,3))\n",
    "for i in range(num_classes):\n",
    "  ax = fig.add_subplot(2, 5, 1+i, xticks=[], yticks=[])\n",
    "  idx = np.where(y_train[:]==i)[0]  # selecting all images of a class\n",
    "  features = x_train[idx,::]\n",
    "  img_num = np.random.randint(features.shape[0]) # selecting random no. from class idx\n",
    "  im = features[img_num]  # selecting features of the image from random no.\n",
    "  ax.set_title(class_names[i])\n",
    "  plt.imshow(im)\n",
    "plt.show()"
   ]
  },
  {
   "cell_type": "code",
   "execution_count": 0,
   "metadata": {
    "colab": {},
    "colab_type": "code",
    "id": "p8iKuwFZWsJW"
   },
   "outputs": [],
   "source": [
    "x_train = x_train.astype('float32')/255\n",
    "x_test = x_test.astype('float32')/255\n",
    "\n",
    "# converting class labels to one hot encoded\n",
    "y_train = np_utils.to_categorical(y_train, num_classes)\n",
    "y_test = np_utils.to_categorical(y_test, num_classes)"
   ]
  },
  {
   "cell_type": "markdown",
   "metadata": {
    "colab_type": "text",
    "id": "yIJ4z94omcuU"
   },
   "source": [
    "## Model"
   ]
  },
  {
   "cell_type": "code",
   "execution_count": 15,
   "metadata": {
    "colab": {
     "base_uri": "https://localhost:8080/",
     "height": 1000
    },
    "colab_type": "code",
    "id": "wfyDn3tIXTX6",
    "outputId": "a8b8ef66-1c15-40a5-a2cb-95558bcd96a9"
   },
   "outputs": [
    {
     "name": "stdout",
     "output_type": "stream",
     "text": [
      "WARNING:tensorflow:From /usr/local/lib/python3.6/dist-packages/keras/backend/tensorflow_backend.py:66: The name tf.get_default_graph is deprecated. Please use tf.compat.v1.get_default_graph instead.\n",
      "\n",
      "WARNING:tensorflow:From /usr/local/lib/python3.6/dist-packages/keras/backend/tensorflow_backend.py:541: The name tf.placeholder is deprecated. Please use tf.compat.v1.placeholder instead.\n",
      "\n",
      "WARNING:tensorflow:From /usr/local/lib/python3.6/dist-packages/keras/backend/tensorflow_backend.py:4432: The name tf.random_uniform is deprecated. Please use tf.random.uniform instead.\n",
      "\n",
      "WARNING:tensorflow:From /usr/local/lib/python3.6/dist-packages/keras/backend/tensorflow_backend.py:190: The name tf.get_default_session is deprecated. Please use tf.compat.v1.get_default_session instead.\n",
      "\n",
      "WARNING:tensorflow:From /usr/local/lib/python3.6/dist-packages/keras/backend/tensorflow_backend.py:197: The name tf.ConfigProto is deprecated. Please use tf.compat.v1.ConfigProto instead.\n",
      "\n",
      "WARNING:tensorflow:From /usr/local/lib/python3.6/dist-packages/keras/backend/tensorflow_backend.py:203: The name tf.Session is deprecated. Please use tf.compat.v1.Session instead.\n",
      "\n",
      "WARNING:tensorflow:From /usr/local/lib/python3.6/dist-packages/keras/backend/tensorflow_backend.py:207: The name tf.global_variables is deprecated. Please use tf.compat.v1.global_variables instead.\n",
      "\n",
      "WARNING:tensorflow:From /usr/local/lib/python3.6/dist-packages/keras/backend/tensorflow_backend.py:216: The name tf.is_variable_initialized is deprecated. Please use tf.compat.v1.is_variable_initialized instead.\n",
      "\n",
      "WARNING:tensorflow:From /usr/local/lib/python3.6/dist-packages/keras/backend/tensorflow_backend.py:223: The name tf.variables_initializer is deprecated. Please use tf.compat.v1.variables_initializer instead.\n",
      "\n",
      "WARNING:tensorflow:From /usr/local/lib/python3.6/dist-packages/keras/backend/tensorflow_backend.py:2041: The name tf.nn.fused_batch_norm is deprecated. Please use tf.compat.v1.nn.fused_batch_norm instead.\n",
      "\n",
      "WARNING:tensorflow:From /usr/local/lib/python3.6/dist-packages/keras/backend/tensorflow_backend.py:148: The name tf.placeholder_with_default is deprecated. Please use tf.compat.v1.placeholder_with_default instead.\n",
      "\n",
      "WARNING:tensorflow:From /usr/local/lib/python3.6/dist-packages/keras/backend/tensorflow_backend.py:3733: calling dropout (from tensorflow.python.ops.nn_ops) with keep_prob is deprecated and will be removed in a future version.\n",
      "Instructions for updating:\n",
      "Please use `rate` instead of `keep_prob`. Rate should be set to `rate = 1 - keep_prob`.\n",
      "WARNING:tensorflow:From /usr/local/lib/python3.6/dist-packages/keras/backend/tensorflow_backend.py:4267: The name tf.nn.max_pool is deprecated. Please use tf.nn.max_pool2d instead.\n",
      "\n",
      "Model: \"sequential_1\"\n",
      "_________________________________________________________________\n",
      "Layer (type)                 Output Shape              Param #   \n",
      "=================================================================\n",
      "separable_conv2d_1 (Separabl (None, 30, 30, 32)        123       \n",
      "_________________________________________________________________\n",
      "activation_1 (Activation)    (None, 30, 30, 32)        0         \n",
      "_________________________________________________________________\n",
      "batch_normalization_1 (Batch (None, 30, 30, 32)        128       \n",
      "_________________________________________________________________\n",
      "dropout_1 (Dropout)          (None, 30, 30, 32)        0         \n",
      "_________________________________________________________________\n",
      "separable_conv2d_2 (Separabl (None, 28, 28, 64)        2336      \n",
      "_________________________________________________________________\n",
      "activation_2 (Activation)    (None, 28, 28, 64)        0         \n",
      "_________________________________________________________________\n",
      "batch_normalization_2 (Batch (None, 28, 28, 64)        256       \n",
      "_________________________________________________________________\n",
      "dropout_2 (Dropout)          (None, 28, 28, 64)        0         \n",
      "_________________________________________________________________\n",
      "max_pooling2d_1 (MaxPooling2 (None, 14, 14, 64)        0         \n",
      "_________________________________________________________________\n",
      "conv2d_1 (Conv2D)            (None, 14, 14, 32)        2048      \n",
      "_________________________________________________________________\n",
      "separable_conv2d_3 (Separabl (None, 12, 12, 32)        1312      \n",
      "_________________________________________________________________\n",
      "activation_3 (Activation)    (None, 12, 12, 32)        0         \n",
      "_________________________________________________________________\n",
      "batch_normalization_3 (Batch (None, 12, 12, 32)        128       \n",
      "_________________________________________________________________\n",
      "dropout_3 (Dropout)          (None, 12, 12, 32)        0         \n",
      "_________________________________________________________________\n",
      "separable_conv2d_4 (Separabl (None, 10, 10, 64)        2336      \n",
      "_________________________________________________________________\n",
      "activation_4 (Activation)    (None, 10, 10, 64)        0         \n",
      "_________________________________________________________________\n",
      "batch_normalization_4 (Batch (None, 10, 10, 64)        256       \n",
      "_________________________________________________________________\n",
      "dropout_4 (Dropout)          (None, 10, 10, 64)        0         \n",
      "_________________________________________________________________\n",
      "max_pooling2d_2 (MaxPooling2 (None, 5, 5, 64)          0         \n",
      "_________________________________________________________________\n",
      "conv2d_2 (Conv2D)            (None, 5, 5, 32)          2048      \n",
      "_________________________________________________________________\n",
      "separable_conv2d_5 (Separabl (None, 3, 3, 32)          1312      \n",
      "_________________________________________________________________\n",
      "activation_5 (Activation)    (None, 3, 3, 32)          0         \n",
      "_________________________________________________________________\n",
      "batch_normalization_5 (Batch (None, 3, 3, 32)          128       \n",
      "_________________________________________________________________\n",
      "dropout_5 (Dropout)          (None, 3, 3, 32)          0         \n",
      "_________________________________________________________________\n",
      "separable_conv2d_6 (Separabl (None, 1, 1, 10)          608       \n",
      "_________________________________________________________________\n",
      "activation_6 (Activation)    (None, 1, 1, 10)          0         \n",
      "_________________________________________________________________\n",
      "global_average_pooling2d_1 ( (None, 10)                0         \n",
      "_________________________________________________________________\n",
      "activation_7 (Activation)    (None, 10)                0         \n",
      "=================================================================\n",
      "Total params: 13,019\n",
      "Trainable params: 12,571\n",
      "Non-trainable params: 448\n",
      "_________________________________________________________________\n"
     ]
    }
   ],
   "source": [
    "# Define the model\n",
    "model = Sequential() \n",
    "model.add(SeparableConv2D(32, 3, use_bias=False, input_shape=(32, 32, 3))) # 30x3x3x32 RF:3 # padding==border_mode(old version)\n",
    "model.add(Activation('relu'))\n",
    "model.add(BatchNormalization())\n",
    "model.add(Dropout(0.05))\n",
    "\n",
    "model.add(SeparableConv2D(64, 3, use_bias=False)) # 28x3x3x64 RF:3\n",
    "model.add(Activation('relu'))\n",
    "model.add(BatchNormalization())\n",
    "model.add(Dropout(0.05))\n",
    "\n",
    "model.add(MaxPooling2D(2)) # 14x3x3x128\n",
    "model.add(Convolution2D(32, 1, use_bias=False))  # 14x3x3x32\n",
    "\n",
    "model.add(SeparableConv2D(32, 3, use_bias=False)) # 12x3x3x128 RF:3\n",
    "model.add(Activation('relu'))\n",
    "model.add(BatchNormalization())\n",
    "model.add(Dropout(0.1))\n",
    "\n",
    "model.add(SeparableConv2D(64, 3, use_bias=False)) # 10x3x3x256 RF:3\n",
    "model.add(Activation('relu'))\n",
    "model.add(BatchNormalization())\n",
    "model.add(Dropout(0.1))\n",
    "\n",
    "model.add(MaxPooling2D(2)) # 5x3x3x64\n",
    "model.add(Convolution2D(32, 1, use_bias=False))  # 5x3x3x32\n",
    "\n",
    "model.add(SeparableConv2D(32, 3, use_bias=False)) # 3x3x3x32 RF:3\n",
    "model.add(Activation('relu'))\n",
    "model.add(BatchNormalization())\n",
    "model.add(Dropout(0.15))\n",
    "\n",
    "model.add(SeparableConv2D(10, 3, use_bias=False)) # 1x3x3x10 RF:3\n",
    "model.add(Activation('relu'))\n",
    "model.add(GlobalAveragePooling2D()) # 1X10\n",
    "model.add(Activation('softmax'))\n",
    "\n",
    "model.summary()"
   ]
  },
  {
   "cell_type": "code",
   "execution_count": 16,
   "metadata": {
    "colab": {
     "base_uri": "https://localhost:8080/",
     "height": 110
    },
    "colab_type": "code",
    "id": "G6jeD_Vvfp-S",
    "outputId": "68913c69-419f-4cda-a87d-7d762d0ee409"
   },
   "outputs": [
    {
     "name": "stdout",
     "output_type": "stream",
     "text": [
      "WARNING:tensorflow:From /usr/local/lib/python3.6/dist-packages/keras/optimizers.py:793: The name tf.train.Optimizer is deprecated. Please use tf.compat.v1.train.Optimizer instead.\n",
      "\n",
      "WARNING:tensorflow:From /usr/local/lib/python3.6/dist-packages/keras/backend/tensorflow_backend.py:3576: The name tf.log is deprecated. Please use tf.math.log instead.\n",
      "\n"
     ]
    }
   ],
   "source": [
    "# Compile the model\n",
    "model.compile(optimizer=Adam(lr=0.003), loss='categorical_crossentropy', metrics=['accuracy'])"
   ]
  },
  {
   "cell_type": "code",
   "execution_count": 0,
   "metadata": {
    "colab": {},
    "colab_type": "code",
    "id": "u-cr82_teNuQ"
   },
   "outputs": [],
   "source": [
    "from keras.preprocessing.image import ImageDataGenerator\n",
    "datagen = ImageDataGenerator(rotation_range=15,\n",
    "                        horizontal_flip=True,\n",
    "                        width_shift_range=0.1,\n",
    "                        height_shift_range=0.1)"
   ]
  },
  {
   "cell_type": "code",
   "execution_count": 27,
   "metadata": {
    "colab": {
     "base_uri": "https://localhost:8080/",
     "height": 268
    },
    "colab_type": "code",
    "id": "3BdIuT7r1Z3t",
    "outputId": "8256d24b-8a37-4600-d8d1-4fd6d713299b"
   },
   "outputs": [
    {
     "data": {
      "image/png": "[encoded data removed]",
      "text/plain": [
       "<Figure size 432x288 with 9 Axes>"
      ]
     },
     "metadata": {
      "tags": []
     },
     "output_type": "display_data"
    }
   ],
   "source": [
    "# https://github.com/moritzhambach/Image-Augmentation-in-Keras-CIFAR-10-/blob/master/CNN%20with%20Image%20Augmentation%20(CIFAR10).ipynb\n",
    "# see example augmentation images\n",
    "for X_batch, y_batch in datagen.flow(x_train, y_train, batch_size=9):\n",
    "    for i in range(0, 9):\n",
    "        plt.subplot(330 + 1 + i)\n",
    "        plt.imshow(X_batch[i])\n",
    "    plt.show()\n",
    "    break"
   ]
  },
  {
   "cell_type": "code",
   "execution_count": 28,
   "metadata": {
    "colab": {
     "base_uri": "https://localhost:8080/",
     "height": 1000
    },
    "colab_type": "code",
    "id": "S9uG39-EeapX",
    "outputId": "701b0e36-0cbc-49dc-89fb-90498b2b9ab5"
   },
   "outputs": [
    {
     "name": "stdout",
     "output_type": "stream",
     "text": [
      "WARNING:tensorflow:From /usr/local/lib/python3.6/dist-packages/tensorflow_core/python/ops/math_grad.py:1424: where (from tensorflow.python.ops.array_ops) is deprecated and will be removed in a future version.\n",
      "Instructions for updating:\n",
      "Use tf.where in 2.0, which has the same broadcast rule as np.where\n"
     ]
    },
    {
     "name": "stderr",
     "output_type": "stream",
     "text": [
      "/usr/local/lib/python3.6/dist-packages/ipykernel_launcher.py:5: UserWarning: The semantics of the Keras 2 argument `steps_per_epoch` is not the same as the Keras 1 argument `samples_per_epoch`. `steps_per_epoch` is the number of batches to draw from the generator at each epoch. Basically steps_per_epoch = samples_per_epoch/batch_size. Similarly `nb_val_samples`->`validation_steps` and `val_samples`->`steps` arguments have changed. Update your method calls accordingly.\n",
      "  \"\"\"\n",
      "/usr/local/lib/python3.6/dist-packages/ipykernel_launcher.py:5: UserWarning: Update your `fit_generator` call to the Keras 2 API: `fit_generator(<keras_pre..., validation_data=(array([[[..., callbacks=[<keras.ca..., verbose=1, steps_per_epoch=390, epochs=50)`\n",
      "  \"\"\"\n"
     ]
    },
    {
     "name": "stdout",
     "output_type": "stream",
     "text": [
      "WARNING:tensorflow:From /usr/local/lib/python3.6/dist-packages/keras/backend/tensorflow_backend.py:1033: The name tf.assign_add is deprecated. Please use tf.compat.v1.assign_add instead.\n",
      "\n",
      "WARNING:tensorflow:From /usr/local/lib/python3.6/dist-packages/keras/backend/tensorflow_backend.py:1020: The name tf.assign is deprecated. Please use tf.compat.v1.assign instead.\n",
      "\n",
      "Epoch 1/50\n",
      "\n",
      "Epoch 00001: LearningRateScheduler setting learning rate to 0.003.\n",
      "390/390 [==============================] - 20s 50ms/step - loss: 1.5002 - acc: 0.4648 - val_loss: 1.3704 - val_acc: 0.5220\n",
      "Epoch 2/50\n",
      "\n",
      "Epoch 00002: LearningRateScheduler setting learning rate to 0.0022744503.\n",
      "390/390 [==============================] - 14s 35ms/step - loss: 1.1264 - acc: 0.6018 - val_loss: 1.2043 - val_acc: 0.5797\n",
      "Epoch 3/50\n",
      "\n",
      "Epoch 00003: LearningRateScheduler setting learning rate to 0.0018315018.\n",
      "390/390 [==============================] - 14s 35ms/step - loss: 1.0077 - acc: 0.6460 - val_loss: 1.0642 - val_acc: 0.6322\n",
      "Epoch 4/50\n",
      "\n",
      "Epoch 00004: LearningRateScheduler setting learning rate to 0.0015329586.\n",
      "390/390 [==============================] - 14s 36ms/step - loss: 0.9384 - acc: 0.6706 - val_loss: 0.9663 - val_acc: 0.6573\n",
      "Epoch 5/50\n",
      "\n",
      "Epoch 00005: LearningRateScheduler setting learning rate to 0.0013181019.\n",
      "390/390 [==============================] - 14s 35ms/step - loss: 0.8914 - acc: 0.6851 - val_loss: 0.9092 - val_acc: 0.6808\n",
      "Epoch 6/50\n",
      "\n",
      "Epoch 00006: LearningRateScheduler setting learning rate to 0.0011560694.\n",
      "390/390 [==============================] - 14s 35ms/step - loss: 0.8588 - acc: 0.6995 - val_loss: 0.9486 - val_acc: 0.6668\n",
      "Epoch 7/50\n",
      "\n",
      "Epoch 00007: LearningRateScheduler setting learning rate to 0.0010295127.\n",
      "390/390 [==============================] - 14s 35ms/step - loss: 0.8278 - acc: 0.7084 - val_loss: 0.8674 - val_acc: 0.7014\n",
      "Epoch 8/50\n",
      "\n",
      "Epoch 00008: LearningRateScheduler setting learning rate to 0.0009279307.\n",
      "390/390 [==============================] - 14s 35ms/step - loss: 0.8066 - acc: 0.7164 - val_loss: 0.8314 - val_acc: 0.7106\n",
      "Epoch 9/50\n",
      "\n",
      "Epoch 00009: LearningRateScheduler setting learning rate to 0.0008445946.\n",
      "390/390 [==============================] - 14s 36ms/step - loss: 0.7893 - acc: 0.7250 - val_loss: 0.8319 - val_acc: 0.7139\n",
      "Epoch 10/50\n",
      "\n",
      "Epoch 00010: LearningRateScheduler setting learning rate to 0.0007749935.\n",
      "390/390 [==============================] - 14s 36ms/step - loss: 0.7770 - acc: 0.7290 - val_loss: 0.8456 - val_acc: 0.7043\n",
      "Epoch 11/50\n",
      "\n",
      "Epoch 00011: LearningRateScheduler setting learning rate to 0.0007159905.\n",
      "390/390 [==============================] - 14s 35ms/step - loss: 0.7620 - acc: 0.7327 - val_loss: 0.8262 - val_acc: 0.7112\n",
      "Epoch 12/50\n",
      "\n",
      "Epoch 00012: LearningRateScheduler setting learning rate to 0.000665336.\n",
      "390/390 [==============================] - 14s 35ms/step - loss: 0.7550 - acc: 0.7368 - val_loss: 0.7937 - val_acc: 0.7250\n",
      "Epoch 13/50\n",
      "\n",
      "Epoch 00013: LearningRateScheduler setting learning rate to 0.0006213753.\n",
      "390/390 [==============================] - 14s 35ms/step - loss: 0.7370 - acc: 0.7432 - val_loss: 0.7794 - val_acc: 0.7293\n",
      "Epoch 14/50\n",
      "\n",
      "Epoch 00014: LearningRateScheduler setting learning rate to 0.0005828638.\n",
      "390/390 [==============================] - 14s 35ms/step - loss: 0.7368 - acc: 0.7434 - val_loss: 0.8157 - val_acc: 0.7157\n",
      "Epoch 15/50\n",
      "\n",
      "Epoch 00015: LearningRateScheduler setting learning rate to 0.0005488474.\n",
      "390/390 [==============================] - 14s 35ms/step - loss: 0.7230 - acc: 0.7490 - val_loss: 0.7919 - val_acc: 0.7225\n",
      "Epoch 16/50\n",
      "\n",
      "Epoch 00016: LearningRateScheduler setting learning rate to 0.0005185825.\n",
      "390/390 [==============================] - 14s 35ms/step - loss: 0.7214 - acc: 0.7487 - val_loss: 0.7839 - val_acc: 0.7291\n",
      "Epoch 17/50\n",
      "\n",
      "Epoch 00017: LearningRateScheduler setting learning rate to 0.000491481.\n",
      "390/390 [==============================] - 14s 35ms/step - loss: 0.7158 - acc: 0.7503 - val_loss: 0.7787 - val_acc: 0.7308\n",
      "Epoch 18/50\n",
      "\n",
      "Epoch 00018: LearningRateScheduler setting learning rate to 0.0004670715.\n",
      "390/390 [==============================] - 14s 35ms/step - loss: 0.7116 - acc: 0.7508 - val_loss: 0.7697 - val_acc: 0.7301\n",
      "Epoch 19/50\n",
      "\n",
      "Epoch 00019: LearningRateScheduler setting learning rate to 0.0004449718.\n",
      "390/390 [==============================] - 14s 35ms/step - loss: 0.7010 - acc: 0.7554 - val_loss: 0.7826 - val_acc: 0.7269\n",
      "Epoch 20/50\n",
      "\n",
      "Epoch 00020: LearningRateScheduler setting learning rate to 0.000424869.\n",
      "390/390 [==============================] - 14s 35ms/step - loss: 0.7033 - acc: 0.7546 - val_loss: 0.7643 - val_acc: 0.7367\n",
      "Epoch 21/50\n",
      "\n",
      "Epoch 00021: LearningRateScheduler setting learning rate to 0.0004065041.\n",
      "390/390 [==============================] - 14s 35ms/step - loss: 0.6898 - acc: 0.7585 - val_loss: 0.7431 - val_acc: 0.7372\n",
      "Epoch 22/50\n",
      "\n",
      "Epoch 00022: LearningRateScheduler setting learning rate to 0.000389661.\n",
      "390/390 [==============================] - 14s 35ms/step - loss: 0.6902 - acc: 0.7592 - val_loss: 0.7736 - val_acc: 0.7303\n",
      "Epoch 23/50\n",
      "\n",
      "Epoch 00023: LearningRateScheduler setting learning rate to 0.0003741581.\n",
      "390/390 [==============================] - 14s 35ms/step - loss: 0.6908 - acc: 0.7601 - val_loss: 0.7706 - val_acc: 0.7323\n",
      "Epoch 24/50\n",
      "\n",
      "Epoch 00024: LearningRateScheduler setting learning rate to 0.0003598417.\n",
      "390/390 [==============================] - 14s 35ms/step - loss: 0.6807 - acc: 0.7599 - val_loss: 0.7704 - val_acc: 0.7312\n",
      "Epoch 25/50\n",
      "\n",
      "Epoch 00025: LearningRateScheduler setting learning rate to 0.0003465804.\n",
      "390/390 [==============================] - 14s 35ms/step - loss: 0.6831 - acc: 0.7626 - val_loss: 0.7422 - val_acc: 0.7418\n",
      "Epoch 26/50\n",
      "\n",
      "Epoch 00026: LearningRateScheduler setting learning rate to 0.0003342618.\n",
      "390/390 [==============================] - 14s 35ms/step - loss: 0.6783 - acc: 0.7632 - val_loss: 0.7470 - val_acc: 0.7403\n",
      "Epoch 27/50\n",
      "\n",
      "Epoch 00027: LearningRateScheduler setting learning rate to 0.0003227889.\n",
      "390/390 [==============================] - 14s 35ms/step - loss: 0.6742 - acc: 0.7656 - val_loss: 0.7450 - val_acc: 0.7434\n",
      "Epoch 28/50\n",
      "\n",
      "Epoch 00028: LearningRateScheduler setting learning rate to 0.0003120774.\n",
      "390/390 [==============================] - 14s 35ms/step - loss: 0.6749 - acc: 0.7621 - val_loss: 0.7317 - val_acc: 0.7476\n",
      "Epoch 29/50\n",
      "\n",
      "Epoch 00029: LearningRateScheduler setting learning rate to 0.000302054.\n",
      "390/390 [==============================] - 14s 35ms/step - loss: 0.6696 - acc: 0.7661 - val_loss: 0.7467 - val_acc: 0.7431\n",
      "Epoch 30/50\n",
      "\n",
      "Epoch 00030: LearningRateScheduler setting learning rate to 0.0002926544.\n",
      "390/390 [==============================] - 14s 35ms/step - loss: 0.6695 - acc: 0.7685 - val_loss: 0.7572 - val_acc: 0.7377\n",
      "Epoch 31/50\n",
      "\n",
      "Epoch 00031: LearningRateScheduler setting learning rate to 0.0002838221.\n",
      "390/390 [==============================] - 14s 35ms/step - loss: 0.6718 - acc: 0.7653 - val_loss: 0.7413 - val_acc: 0.7455\n",
      "Epoch 32/50\n",
      "\n",
      "Epoch 00032: LearningRateScheduler setting learning rate to 0.0002755074.\n",
      "390/390 [==============================] - 14s 36ms/step - loss: 0.6596 - acc: 0.7688 - val_loss: 0.7452 - val_acc: 0.7421\n",
      "Epoch 33/50\n",
      "\n",
      "Epoch 00033: LearningRateScheduler setting learning rate to 0.000267666.\n",
      "390/390 [==============================] - 14s 35ms/step - loss: 0.6602 - acc: 0.7685 - val_loss: 0.7399 - val_acc: 0.7469\n",
      "Epoch 34/50\n",
      "\n",
      "Epoch 00034: LearningRateScheduler setting learning rate to 0.0002602585.\n",
      "390/390 [==============================] - 14s 35ms/step - loss: 0.6573 - acc: 0.7679 - val_loss: 0.7488 - val_acc: 0.7397\n",
      "Epoch 35/50\n",
      "\n",
      "Epoch 00035: LearningRateScheduler setting learning rate to 0.00025325.\n",
      "390/390 [==============================] - 14s 35ms/step - loss: 0.6575 - acc: 0.7688 - val_loss: 0.7314 - val_acc: 0.7436\n",
      "Epoch 36/50\n",
      "\n",
      "Epoch 00036: LearningRateScheduler setting learning rate to 0.0002466091.\n",
      "390/390 [==============================] - 14s 35ms/step - loss: 0.6589 - acc: 0.7693 - val_loss: 0.7283 - val_acc: 0.7502\n",
      "Epoch 37/50\n",
      "\n",
      "Epoch 00037: LearningRateScheduler setting learning rate to 0.0002403076.\n",
      "390/390 [==============================] - 14s 35ms/step - loss: 0.6460 - acc: 0.7725 - val_loss: 0.7405 - val_acc: 0.7470\n",
      "Epoch 38/50\n",
      "\n",
      "Epoch 00038: LearningRateScheduler setting learning rate to 0.0002343201.\n",
      "390/390 [==============================] - 14s 35ms/step - loss: 0.6509 - acc: 0.7719 - val_loss: 0.7440 - val_acc: 0.7387\n",
      "Epoch 39/50\n",
      "\n",
      "Epoch 00039: LearningRateScheduler setting learning rate to 0.0002286237.\n",
      "390/390 [==============================] - 14s 35ms/step - loss: 0.6527 - acc: 0.7717 - val_loss: 0.7428 - val_acc: 0.7449\n",
      "Epoch 40/50\n",
      "\n",
      "Epoch 00040: LearningRateScheduler setting learning rate to 0.0002231977.\n",
      "390/390 [==============================] - 14s 35ms/step - loss: 0.6486 - acc: 0.7740 - val_loss: 0.7231 - val_acc: 0.7501\n",
      "Epoch 41/50\n",
      "\n",
      "Epoch 00041: LearningRateScheduler setting learning rate to 0.0002180233.\n",
      "390/390 [==============================] - 14s 35ms/step - loss: 0.6378 - acc: 0.7756 - val_loss: 0.7451 - val_acc: 0.7406\n",
      "Epoch 42/50\n",
      "\n",
      "Epoch 00042: LearningRateScheduler setting learning rate to 0.0002130833.\n",
      "390/390 [==============================] - 14s 35ms/step - loss: 0.6475 - acc: 0.7745 - val_loss: 0.7277 - val_acc: 0.7485\n",
      "Epoch 43/50\n",
      "\n",
      "Epoch 00043: LearningRateScheduler setting learning rate to 0.0002083623.\n",
      "390/390 [==============================] - 14s 35ms/step - loss: 0.6433 - acc: 0.7754 - val_loss: 0.7238 - val_acc: 0.7489\n",
      "Epoch 44/50\n",
      "\n",
      "Epoch 00044: LearningRateScheduler setting learning rate to 0.0002038459.\n",
      "390/390 [==============================] - 14s 35ms/step - loss: 0.6484 - acc: 0.7728 - val_loss: 0.7307 - val_acc: 0.7459\n",
      "Epoch 45/50\n",
      "\n",
      "Epoch 00045: LearningRateScheduler setting learning rate to 0.0001995211.\n",
      "390/390 [==============================] - 14s 35ms/step - loss: 0.6380 - acc: 0.7782 - val_loss: 0.7231 - val_acc: 0.7536\n",
      "Epoch 46/50\n",
      "\n",
      "Epoch 00046: LearningRateScheduler setting learning rate to 0.0001953761.\n",
      "390/390 [==============================] - 14s 35ms/step - loss: 0.6393 - acc: 0.7750 - val_loss: 0.7295 - val_acc: 0.7485\n",
      "Epoch 47/50\n",
      "\n",
      "Epoch 00047: LearningRateScheduler setting learning rate to 0.0001913998.\n",
      "390/390 [==============================] - 14s 35ms/step - loss: 0.6390 - acc: 0.7759 - val_loss: 0.7293 - val_acc: 0.7474\n",
      "Epoch 48/50\n",
      "\n",
      "Epoch 00048: LearningRateScheduler setting learning rate to 0.0001875821.\n",
      "390/390 [==============================] - 14s 35ms/step - loss: 0.6382 - acc: 0.7773 - val_loss: 0.7222 - val_acc: 0.7501\n",
      "Epoch 49/50\n",
      "\n",
      "Epoch 00049: LearningRateScheduler setting learning rate to 0.0001839137.\n",
      "390/390 [==============================] - 14s 35ms/step - loss: 0.6323 - acc: 0.7790 - val_loss: 0.7273 - val_acc: 0.7479\n",
      "Epoch 50/50\n",
      "\n",
      "Epoch 00050: LearningRateScheduler setting learning rate to 0.000180386.\n",
      "390/390 [==============================] - 14s 35ms/step - loss: 0.6318 - acc: 0.7780 - val_loss: 0.7277 - val_acc: 0.7502\n",
      "Model took 695.68 seconds to train\n"
     ]
    }
   ],
   "source": [
    "# train the model\n",
    "start = time.time()\n",
    "# Train the model\n",
    "model_info = model.fit_generator(datagen.flow(x_train, y_train, batch_size = 128),\n",
    "                                 samples_per_epoch = x_train.shape[0], nb_epoch = 50, \n",
    "                                 validation_data = (x_test, y_test),callbacks=[LearningRateScheduler(scheduler, verbose=1)], verbose=1)\n",
    "end = time.time()\n",
    "print (\"Model took %0.2f seconds to train\"%(end - start))"
   ]
  },
  {
   "cell_type": "code",
   "execution_count": 29,
   "metadata": {
    "colab": {
     "base_uri": "https://localhost:8080/",
     "height": 350
    },
    "colab_type": "code",
    "id": "ifmyuJy1edf-",
    "outputId": "b386be69-7605-4863-82c7-f9fdbf0dda1f"
   },
   "outputs": [
    {
     "data": {
      "image/png": "[encoded data removed]",
      "text/plain": [
       "<Figure size 1080x360 with 2 Axes>"
      ]
     },
     "metadata": {
      "tags": []
     },
     "output_type": "display_data"
    }
   ],
   "source": [
    "# plot model history\n",
    "plot_model_history(model_info)"
   ]
  },
  {
   "cell_type": "code",
   "execution_count": 30,
   "metadata": {
    "colab": {
     "base_uri": "https://localhost:8080/",
     "height": 35
    },
    "colab_type": "code",
    "id": "xe6CIp5zhaGB",
    "outputId": "8dfa764d-a21b-44d3-d645-24105a6203b2"
   },
   "outputs": [
    {
     "name": "stdout",
     "output_type": "stream",
     "text": [
      "Accuracy on test data is: 75.02\n"
     ]
    }
   ],
   "source": [
    "# compute test accuracy\n",
    "print (\"Accuracy on test data is: %0.2f\"%accuracy(x_test, y_test, model))"
   ]
  },
  {
   "cell_type": "code",
   "execution_count": 0,
   "metadata": {
    "colab": {},
    "colab_type": "code",
    "id": "XTG-gPfMiCnh"
   },
   "outputs": [],
   "source": []
  },
  {
   "cell_type": "code",
   "execution_count": 0,
   "metadata": {
    "colab": {},
    "colab_type": "code",
    "id": "9wUiDBEVmcd3"
   },
   "outputs": [],
   "source": []
  },
  {
   "cell_type": "code",
   "execution_count": 0,
   "metadata": {
    "colab": {},
    "colab_type": "code",
    "id": "AfaxJ6JZbFnE"
   },
   "outputs": [],
   "source": []
  }
 ],
 "metadata": {
  "accelerator": "GPU",
  "colab": {
   "collapsed_sections": [],
   "machine_shape": "hm",
   "name": "S3_model1_vth_Aug.ipynb",
   "provenance": []
  },
  "kernelspec": {
   "display_name": "Python 3",
   "language": "python",
   "name": "python3"
  },
  "language_info": {
   "codemirror_mode": {
    "name": "ipython",
    "version": 3
   },
   "file_extension": ".py",
   "mimetype": "text/x-python",
   "name": "python",
   "nbconvert_exporter": "python",
   "pygments_lexer": "ipython3",
   "version": "3.6.8"
  },
  "toc": {
   "base_numbering": 1,
   "nav_menu": {},
   "number_sections": true,
   "sideBar": true,
   "skip_h1_title": false,
   "title_cell": "Table of Contents",
   "title_sidebar": "Contents",
   "toc_cell": false,
   "toc_position": {},
   "toc_section_display": true,
   "toc_window_display": false
  },
  "varInspector": {
   "cols": {
    "lenName": 16,
    "lenType": 16,
    "lenVar": 40
   },
   "kernels_config": {
    "python": {
     "delete_cmd_postfix": "",
     "delete_cmd_prefix": "del ",
     "library": "var_list.py",
     "varRefreshCmd": "print(var_dic_list())"
    },
    "r": {
     "delete_cmd_postfix": ") ",
     "delete_cmd_prefix": "rm(",
     "library": "var_list.r",
     "varRefreshCmd": "cat(var_dic_list()) "
    }
   },
   "types_to_exclude": [
    "module",
    "function",
    "builtin_function_or_method",
    "instance",
    "_Feature"
   ],
   "window_display": false
  }
 },
 "nbformat": 4,
 "nbformat_minor": 1
}
