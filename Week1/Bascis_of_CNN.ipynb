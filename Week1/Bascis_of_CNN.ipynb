{
  "nbformat": 4,
  "nbformat_minor": 0,
  "metadata": {
    "colab": {
      "name": "Bascis_of_CNN.ipynb",
      "provenance": [],
      "collapsed_sections": [],
      "include_colab_link": true
    },
    "kernelspec": {
      "name": "python3",
      "display_name": "Python 3"
    },
    "accelerator": "GPU"
  },
  "cells": [
    {
      "cell_type": "markdown",
      "metadata": {
        "id": "view-in-github",
        "colab_type": "text"
      },
      "source": [
        "<a href=\"https://colab.research.google.com/github/hemanth346/EIP4/blob/master/Week1/Bascis_of_CNN.ipynb\" target=\"_parent\"><img src=\"https://colab.research.google.com/assets/colab-badge.svg\" alt=\"Open In Colab\"/></a>"
      ]
    },
    {
      "cell_type": "markdown",
      "metadata": {
        "id": "P917iHL-RWFI",
        "colab_type": "text"
      },
      "source": [
        "## To Do\n",
        "Create a CNN architecture using only convolution layers, pooling layers and build a model that classifies MNIST data with test accuracy of more than 99% \n",
        "\n",
        "#### Constraints:\n",
        "Use/consider concepts discussed in class \n",
        "- Convolutions\n",
        "- Filters/kernel size - Using 3x3 (as it is Nvidia GPU accelerated)\n",
        "- Channels/No. of filters\n",
        "- MaxPooling (after completing \n",
        "- Magic Convolution (1x1 filter)\n",
        "- Receptive Field\n",
        "- epochs, batch size\n",
        "\n",
        "\n",
        "\n",
        "**Note** : *Weights are randomly initialized, same model may give different results on each run.!!*\n",
        "\n",
        "\n",
        "\n"
      ]
    },
    {
      "cell_type": "markdown",
      "metadata": {
        "id": "rtrpjcKeSsHE",
        "colab_type": "text"
      },
      "source": [
        "#### Summary : \n",
        "Tried 6 different network architectures, able to achieve 99%+ test accuracy model with 2 of them\n",
        "\n",
        "Final network :\n",
        "\n",
        "``` Input(28x28x1) -> [ C(32,3) -> C(64,3) -> M(2) ] *2 -> C(32,3) -> M(2) -> C(10,1) -> Flatten -> Softmax Classification  -> {20}```\n",
        "\n",
        "---\n",
        "\n",
        "```\n",
        "Notation : \n",
        "- C(32,3)                   => Conv2D layer with 32 kernels of size (3x3x_)\n",
        "- MP(2)                     => MaxPool2D layer with size 2\n",
        "- Flat                      => Flatten layer\n",
        "- [ layers ] * n            => layers block repeated n times\n",
        "- {10}                      => epoch number\n",
        "```\n",
        "\n",
        "Note : \n",
        "- All models use same batch size of 32\n",
        "\n",
        "- All the models are evaluated very few times and results are not average accuracy of multiple times.  Results may vary since the models weights are randomly initialized \n",
        "\n",
        "---\n",
        "\n",
        "\n",
        "Approach and details below\n",
        "\n",
        "1. First Network\n",
        "\n",
        "```Input(28x28x1)-> [ C(32,3) -> C(64,3) -> M(2) -> C(32,1) ] * 2 ->C(32,3) -> MaxP(2) -> C(10,1) -> Flatten -> Softmax Classification  -> {10}```\n",
        "    \n",
        "    Test score : 0.9885     Epochs : 10\n",
        "    Created network keeping in mind the constraints \n",
        "    Did transition (max pooling and 1x1 filters) after completing 5x5\n",
        "\n",
        "2. Second Network\n",
        "\n",
        "``` Input(28x28x1) -> C(32,3) -> C(64,3) -> M(2) -> C(32,3) -> C(64,3) -> C(128,3) -> M(2) -> C(3,10)  -> Flatten -> Softmax Classification  -> {20}```\n",
        "    \n",
        "    Test score : 0.6866     Epochs : 20\n",
        "    Similar to above network but\n",
        "    - No 1x1 filters after MaxPooling\n",
        "    - Added additional Convolution layer after reaching 2nd 5x5 and before 2nd max pooling\n",
        "\n",
        "\n",
        "\n",
        "3. Thrid Network\n",
        "\n",
        "``` Input(28x28x1) -> [ C(64,3) -> C(128,3) -> M(2) -> C(32,1) ] * 2 -> C(32,3) -> M(2) -> C(10,1)  -> Flatten -> Softmax Classification  -> {20}```\n",
        "\n",
        "    Test score : 0.693     Epochs : 20\n",
        "    Same as first network but with more number of filters in each layer.\n",
        "    - First layer 64 from 32 and likewise\n",
        "    - Checking if increasing no. of filters helps\n",
        "\n",
        "4. Fourth Network\n",
        "\n",
        "``` Input(28x28x1) -> C(32,3) -> C(64,3) -> C(128,3) -> C(256,3) -> M(2) -> C(32,1) -> C(32,3) -> C(64,3) -> M(2) -> C(32,1) -> C(32,3) -> C(10,1)  -> Flatten -> Softmax Classification  -> {20}```\n",
        "    \n",
        "    Test score : 0.7885     Epochs : 20\n",
        "    Did not do transition until reaching 11x11 receptive field and 256 filters\n",
        "    - Checking if increasing receptive field helps(Intuitively it shouldn't help)\n",
        "    - Checking if increasing no. of params helps\n",
        "\n",
        "5. Fifth Network\n",
        "\n",
        "``` Input(28x28x1) -> [ C(64,3) -> C(128,3) -> M(2) -> C(64,1) ] * 2 -> C(64,3) -> M(2) -> C(10,1)  -> Flatten -> Softmax Classification  -> {20}```\n",
        "\n",
        "    Test score : 0.6785     Epochs : 10\n",
        "    Similar to 3rd Network but increased trasition 1x1 filter numbers to 64 from 32\n",
        "\n",
        "\n",
        "\n",
        "\n",
        "6. Sixth Network\n",
        "\n",
        "``` Input(28x28x1) -> [ C(32,3) -> C(64,3) -> M(2) ] *2 -> C(32,3) -> M(2) -> C(10,1) -> Flatten -> Softmax Classification  -> {20}```\n",
        "\n",
        "    Test score : 0.9933     Epochs : 20\n",
        "    Similar to first network but without 1x1 filters until last layer\n",
        "    Achieved required target\n",
        "\n",
        "\n",
        "\n",
        "*Since 6th Network is doing good, went back to first Network and increase epochs to check if model can achieve target and it did*\n",
        "\n",
        "    a. Tried same network with 20 epochs and improved test score to 0.9895\n",
        "\n",
        "    b. Same network with 30 epochs - Test score : 0.9926 (Achived required target)\n",
        "\n"
      ]
    },
    {
      "cell_type": "markdown",
      "metadata": {
        "id": "7EomuYw3kgHs",
        "colab_type": "text"
      },
      "source": [
        "## Installs, Imports"
      ]
    },
    {
      "cell_type": "code",
      "metadata": {
        "id": "RiUsqWC7d3Oq",
        "colab_type": "code",
        "colab": {}
      },
      "source": [
        "!pip install -q keras"
      ],
      "execution_count": 0,
      "outputs": []
    },
    {
      "cell_type": "code",
      "metadata": {
        "id": "Vi5W0AejrA2k",
        "colab_type": "code",
        "colab": {}
      },
      "source": [
        "import warnings\n",
        "warnings.filterwarnings(action='once')"
      ],
      "execution_count": 0,
      "outputs": []
    },
    {
      "cell_type": "code",
      "metadata": {
        "id": "YUStmXM6eRv_",
        "colab_type": "code",
        "outputId": "9404a48d-d626-49b8-b867-b668e88db51a",
        "colab": {
          "base_uri": "https://localhost:8080/",
          "height": 284
        }
      },
      "source": [
        "import keras"
      ],
      "execution_count": 3,
      "outputs": [
        {
          "output_type": "stream",
          "text": [
            "/usr/lib/python3.6/importlib/_bootstrap.py:219: ImportWarning: can't resolve package from __spec__ or __package__, falling back on __name__ and __path__\n",
            "  return f(*args, **kwds)\n",
            "Using TensorFlow backend.\n",
            "/usr/lib/python3.6/importlib/_bootstrap.py:219: RuntimeWarning: numpy.ufunc size changed, may indicate binary incompatibility. Expected 216, got 192\n",
            "  return f(*args, **kwds)\n",
            "/usr/local/lib/python3.6/dist-packages/tensorflow_core/python/keras/backend.py:5747: ResourceWarning: unclosed file <_io.TextIOWrapper name='/root/.keras/keras.json' mode='r' encoding='UTF-8'>\n",
            "  _config = json.load(open(_config_path))\n",
            "/usr/lib/python3.6/importlib/_bootstrap.py:219: RuntimeWarning: numpy.ufunc size changed, may indicate binary incompatibility. Expected 192 from C header, got 216 from PyObject\n",
            "  return f(*args, **kwds)\n",
            "/usr/lib/python3.6/importlib/_bootstrap.py:219: RuntimeWarning: numpy.ufunc size changed, may indicate binary incompatibility. Expected 192 from C header, got 216 from PyObject\n",
            "  return f(*args, **kwds)\n"
          ],
          "name": "stderr"
        },
        {
          "output_type": "display_data",
          "data": {
            "text/html": [
              "<p style=\"color: red;\">\n",
              "The default version of TensorFlow in Colab will soon switch to TensorFlow 2.x.<br>\n",
              "We recommend you <a href=\"https://www.tensorflow.org/guide/migrate\" target=\"_blank\">upgrade</a> now \n",
              "or ensure your notebook will continue to use TensorFlow 1.x via the <code>%tensorflow_version 1.x</code> magic:\n",
              "<a href=\"https://colab.research.google.com/notebooks/tensorflow_version.ipynb\" target=\"_blank\">more info</a>.</p>\n"
            ],
            "text/plain": [
              "<IPython.core.display.HTML object>"
            ]
          },
          "metadata": {
            "tags": []
          }
        }
      ]
    },
    {
      "cell_type": "code",
      "metadata": {
        "id": "_YV4e2qOeSQc",
        "colab_type": "code",
        "colab": {}
      },
      "source": [
        "import numpy as np\n",
        "from keras.utils import np_utils\n",
        "\n",
        "from keras.models import Sequential\n",
        "from keras.layers import Conv2D, MaxPooling2D\n",
        "from keras.layers import Dense, Dropout, Activation, Flatten, Add\n",
        "\n",
        "from keras.datasets import mnist\n",
        "\n",
        "import matplotlib.pyplot as plt\n",
        "%matplotlib inline"
      ],
      "execution_count": 0,
      "outputs": []
    },
    {
      "cell_type": "markdown",
      "metadata": {
        "id": "oTb6RiG4e6Io",
        "colab_type": "text"
      },
      "source": [
        "## Load pre-shuffled data into train and test sets"
      ]
    },
    {
      "cell_type": "code",
      "metadata": {
        "id": "atGj4aIeezbc",
        "colab_type": "code",
        "outputId": "be91e07e-86db-4a36-db0f-15f2b2cb3fc7",
        "colab": {
          "base_uri": "https://localhost:8080/",
          "height": 53
        }
      },
      "source": [
        "(X_train, y_train), (X_test, y_test) = mnist.load_data()"
      ],
      "execution_count": 5,
      "outputs": [
        {
          "output_type": "stream",
          "text": [
            "Downloading data from https://s3.amazonaws.com/img-datasets/mnist.npz\n",
            "11493376/11490434 [==============================] - 1s 0us/step\n"
          ],
          "name": "stdout"
        }
      ]
    },
    {
      "cell_type": "code",
      "metadata": {
        "id": "egl3l6lufJQS",
        "colab_type": "code",
        "outputId": "535c9b84-2af6-4019-9791-992a406bd37d",
        "colab": {
          "base_uri": "https://localhost:8080/",
          "height": 301
        }
      },
      "source": [
        "print(X_train.shape)\n",
        "plt.imshow(X_train[0])"
      ],
      "execution_count": 6,
      "outputs": [
        {
          "output_type": "stream",
          "text": [
            "(60000, 28, 28)\n"
          ],
          "name": "stdout"
        },
        {
          "output_type": "execute_result",
          "data": {
            "text/plain": [
              "<matplotlib.image.AxesImage at 0x7f08908e4240>"
            ]
          },
          "metadata": {
            "tags": []
          },
          "execution_count": 6
        },
        {
          "output_type": "display_data",
          "data": {
            "image/png": "[encoded data removed]",
            "text/plain": [
              "<Figure size 432x288 with 1 Axes>"
            ]
          },
          "metadata": {
            "tags": []
          }
        }
      ]
    },
    {
      "cell_type": "code",
      "metadata": {
        "id": "2WbsgGzIfk2M",
        "colab_type": "code",
        "colab": {}
      },
      "source": [
        "X_train = X_train.reshape(X_train.shape[0], 28, 28, 1) # adding channel\n",
        "X_test = X_test.reshape(X_test.shape[0], 28, 28, 1)"
      ],
      "execution_count": 0,
      "outputs": []
    },
    {
      "cell_type": "code",
      "metadata": {
        "id": "YPyErbQMgOGG",
        "colab_type": "code",
        "colab": {
          "base_uri": "https://localhost:8080/",
          "height": 35
        },
        "outputId": "98e73741-cabf-4a9a-a384-8e2f6d3af6c7"
      },
      "source": [
        "X_train.shape"
      ],
      "execution_count": 8,
      "outputs": [
        {
          "output_type": "execute_result",
          "data": {
            "text/plain": [
              "(60000, 28, 28, 1)"
            ]
          },
          "metadata": {
            "tags": []
          },
          "execution_count": 8
        }
      ]
    },
    {
      "cell_type": "code",
      "metadata": {
        "id": "A09kcIFdgbAO",
        "colab_type": "code",
        "colab": {}
      },
      "source": [
        "X_train = X_train.astype('float32')\n",
        "X_test = X_test.astype('float32')\n",
        "X_train /= 255\n",
        "X_test /= 255"
      ],
      "execution_count": 0,
      "outputs": []
    },
    {
      "cell_type": "code",
      "metadata": {
        "id": "Aka1w2ltg80j",
        "colab_type": "code",
        "colab": {
          "base_uri": "https://localhost:8080/",
          "height": 35
        },
        "outputId": "2e8eb09a-a188-44d5-f1c2-0b7de9394c60"
      },
      "source": [
        "# checking class lables\n",
        "y_train[:10]"
      ],
      "execution_count": 10,
      "outputs": [
        {
          "output_type": "execute_result",
          "data": {
            "text/plain": [
              "array([5, 0, 4, 1, 9, 2, 1, 3, 1, 4], dtype=uint8)"
            ]
          },
          "metadata": {
            "tags": []
          },
          "execution_count": 10
        }
      ]
    },
    {
      "cell_type": "code",
      "metadata": {
        "id": "Lj1M2EfnhBjh",
        "colab_type": "code",
        "colab": {}
      },
      "source": [
        "# converting 1D class labels into 10D class matrices - One hot encoding\n",
        "y_train = np_utils.to_categorical(y_train, 10)\n",
        "y_test = np_utils.to_categorical(y_test, 10)"
      ],
      "execution_count": 0,
      "outputs": []
    },
    {
      "cell_type": "code",
      "metadata": {
        "id": "S1Sw4BWqhbuu",
        "colab_type": "code",
        "colab": {
          "base_uri": "https://localhost:8080/",
          "height": 199
        },
        "outputId": "76a7691c-52ff-428e-bbc8-a97c5792513c"
      },
      "source": [
        "y_train[:10]"
      ],
      "execution_count": 12,
      "outputs": [
        {
          "output_type": "execute_result",
          "data": {
            "text/plain": [
              "array([[0., 0., 0., 0., 0., 1., 0., 0., 0., 0.],\n",
              "       [1., 0., 0., 0., 0., 0., 0., 0., 0., 0.],\n",
              "       [0., 0., 0., 0., 1., 0., 0., 0., 0., 0.],\n",
              "       [0., 1., 0., 0., 0., 0., 0., 0., 0., 0.],\n",
              "       [0., 0., 0., 0., 0., 0., 0., 0., 0., 1.],\n",
              "       [0., 0., 1., 0., 0., 0., 0., 0., 0., 0.],\n",
              "       [0., 1., 0., 0., 0., 0., 0., 0., 0., 0.],\n",
              "       [0., 0., 0., 1., 0., 0., 0., 0., 0., 0.],\n",
              "       [0., 1., 0., 0., 0., 0., 0., 0., 0., 0.],\n",
              "       [0., 0., 0., 0., 1., 0., 0., 0., 0., 0.]], dtype=float32)"
            ]
          },
          "metadata": {
            "tags": []
          },
          "execution_count": 12
        }
      ]
    },
    {
      "cell_type": "markdown",
      "metadata": {
        "id": "Pl5Q4n7DhnCW",
        "colab_type": "text"
      },
      "source": [
        "## Function to visulaze 1st layer images after using filters on i/p images for MNIST\n",
        "\n",
        "**Usage** : `vis_img_in_filter(model, image:'numpy.ndarray', layer_name:'str'='conv2d_1')`\n",
        "\n",
        "> img is expected from train set and in keras inbuilt mnist data format"
      ]
    },
    {
      "cell_type": "code",
      "metadata": {
        "id": "uYIU4jukhql_",
        "colab_type": "code",
        "colab": {}
      },
      "source": [
        "import numpy as np\n",
        "from matplotlib import pyplot as plt\n",
        "from keras import backend as K\n",
        "%matplotlib inline\n",
        "# util function to convert a tensor into a valid image\n",
        "def deprocess_image(x):\n",
        "    # normalize tensor: center on 0., ensure std is 0.1\n",
        "    x -= x.mean()\n",
        "    x /= (x.std() + 1e-5)\n",
        "    x *= 0.1\n",
        "\n",
        "    # clip to [0, 1]\n",
        "    x += 0.5\n",
        "    x = np.clip(x, 0, 1)\n",
        "\n",
        "    # convert to RGB array\n",
        "    x *= 255\n",
        "    #x = x.transpose((1, 2, 0))\n",
        "    x = np.clip(x, 0, 255).astype('uint8')\n",
        "    return x\n",
        "\n",
        "def vis_img_in_filter(model, image = X_train[2], \n",
        "                      layer_name = 'conv2d_1'):\n",
        "    img=np.array(image).reshape((1, 28, 28, 1)).astype(np.float64)\n",
        "    layer_dict = dict([(layer.name, layer) for layer in model.layers])\n",
        "    layer_output = layer_dict[layer_name].output\n",
        "    img_ascs = list()\n",
        "    for filter_index in range(layer_output.shape[3]):\n",
        "        # build a loss function that maximizes the activation\n",
        "        # of the nth filter of the layer considered\n",
        "        loss = K.mean(layer_output[:, :, :, filter_index])\n",
        "\n",
        "        # compute the gradient of the input picture wrt this loss\n",
        "        grads = K.gradients(loss, model.input)[0]\n",
        "\n",
        "        # normalization trick: we normalize the gradient\n",
        "        grads /= (K.sqrt(K.mean(K.square(grads))) + 1e-5)\n",
        "\n",
        "        # this function returns the loss and grads given the input picture\n",
        "        iterate = K.function([model.input], [loss, grads])\n",
        "      \n",
        "        # step size for gradient ascent\n",
        "        step = 5.\n",
        "\n",
        "        img_asc = np.array(img)\n",
        "        # run gradient ascent for 20 steps\n",
        "        for i in range(20):\n",
        "            loss_value, grads_value = iterate([img_asc])\n",
        "            img_asc += grads_value * step\n",
        "\n",
        "        img_asc = img_asc[0]\n",
        "        img_ascs.append(deprocess_image(img_asc).reshape((28, 28)))\n",
        "        \n",
        "    if layer_output.shape[3] >= 35:\n",
        "        plot_x, plot_y = 6, 6\n",
        "    elif layer_output.shape[3] >= 23:\n",
        "        plot_x, plot_y = 4, 6\n",
        "    elif layer_output.shape[3] >= 11:\n",
        "        plot_x, plot_y = 2, 6\n",
        "    else:\n",
        "        plot_x, plot_y = 1, 2\n",
        "    fig, ax = plt.subplots(plot_x, plot_y, figsize = (12, 12))\n",
        "    ax[0, 0].imshow(img.reshape((28, 28)), cmap = 'gray')\n",
        "    ax[0, 0].set_title('Input image')\n",
        "    fig.suptitle('Input image and %s filters' % (layer_name,))\n",
        "    fig.tight_layout(pad = 0.3, rect = [0, 0, 0.9, 0.9])\n",
        "    for (x, y) in [(i, j) for i in range(plot_x) for j in range(plot_y)]:\n",
        "        if x == 0 and y == 0:\n",
        "            continue\n",
        "        ax[x, y].imshow(img_ascs[x * plot_y + y - 1], cmap = 'gray')\n",
        "        ax[x, y].set_title('filter %d' % (x * plot_y + y - 1))\n"
      ],
      "execution_count": 0,
      "outputs": []
    },
    {
      "cell_type": "code",
      "metadata": {
        "id": "CsnyV_-XKgJu",
        "colab_type": "code",
        "colab": {}
      },
      "source": [
        ""
      ],
      "execution_count": 0,
      "outputs": []
    },
    {
      "cell_type": "code",
      "metadata": {
        "id": "86aYsTfAKgIV",
        "colab_type": "code",
        "colab": {}
      },
      "source": [
        ""
      ],
      "execution_count": 0,
      "outputs": []
    },
    {
      "cell_type": "code",
      "metadata": {
        "id": "iIsW8U3FKf-0",
        "colab_type": "code",
        "colab": {}
      },
      "source": [
        ""
      ],
      "execution_count": 0,
      "outputs": []
    },
    {
      "cell_type": "markdown",
      "metadata": {
        "id": "CFyN5PIThmm4",
        "colab_type": "text"
      },
      "source": [
        "## All CNN architectures tried"
      ]
    },
    {
      "cell_type": "code",
      "metadata": {
        "id": "sb-x1GZFzgEB",
        "colab_type": "code",
        "colab": {
          "base_uri": "https://localhost:8080/",
          "height": 364
        },
        "outputId": "b559fc9f-f3a3-4691-c6fb-71fdc0e33b0c"
      },
      "source": [
        "model1 = Sequential()\n",
        "model1.add(Conv2D(32, 3, 3, activation='relu', input_shape=(28,28,1))) # convolve 28x28x1 with 3x3x1x32 filters -> 26x26x32 Feature Maps\n",
        "model1.add(Conv2D(64, 3, 3, activation='relu'))  # conv 26x26x32 with 3x3x32x64 filter -> 24x24x64 Feature Maps\n",
        "model1.add(MaxPooling2D(2))                      # Maxpool -> 12x12x64\n",
        "model1.add(Conv2D(32, 1, 1, activation='relu'))  # Magic conv 12x12x64 with 1x1x64x32 -> 12x12x32 F maps\n",
        "model1.add(Conv2D(32, 3, 3, activation='relu'))  # conv 12x12x32 with 3x3x32x32 filters -> 10x10x32 F Maps\n",
        "model1.add(Conv2D(64, 3, 3, activation='relu'))  # conv 10x10x32 with 3x3x32x64 -> 8x8x64 f maps\n",
        "model1.add(MaxPooling2D(2))                      # Maxpool -> 4x4x64\n",
        "model1.add(Conv2D(32, 1, 1, activation='relu'))  # Magic conv 4x4x64 with 1x1x64x32 -> 4x4x32 F maps\n",
        "model1.add(Conv2D(32, 3, 3, activation='relu'))  # conv 4x4x32 with 3x3x32x32 filters -> 2x2x32 F Maps\n",
        "model1.add(MaxPooling2D(2))                      # Maxpool -> 1x1x32\n",
        "model1.add(Conv2D(10, 1, 1, activation='relu'))  # Magic conv 1x1x32 with 1x1x32x10 -> 1x1x10 F maps\n",
        "model1.add(Flatten())\n",
        "model1.add(Activation('softmax'))"
      ],
      "execution_count": 14,
      "outputs": [
        {
          "output_type": "stream",
          "text": [
            "WARNING:tensorflow:From /usr/local/lib/python3.6/dist-packages/keras/backend/tensorflow_backend.py:66: The name tf.get_default_graph is deprecated. Please use tf.compat.v1.get_default_graph instead.\n",
            "\n",
            "WARNING:tensorflow:From /usr/local/lib/python3.6/dist-packages/keras/backend/tensorflow_backend.py:541: The name tf.placeholder is deprecated. Please use tf.compat.v1.placeholder instead.\n",
            "\n",
            "WARNING:tensorflow:From /usr/local/lib/python3.6/dist-packages/keras/backend/tensorflow_backend.py:4432: The name tf.random_uniform is deprecated. Please use tf.random.uniform instead.\n",
            "\n",
            "WARNING:tensorflow:From /usr/local/lib/python3.6/dist-packages/keras/backend/tensorflow_backend.py:4267: The name tf.nn.max_pool is deprecated. Please use tf.nn.max_pool2d instead.\n",
            "\n"
          ],
          "name": "stdout"
        },
        {
          "output_type": "stream",
          "text": [
            "/usr/local/lib/python3.6/dist-packages/ipykernel_launcher.py:2: UserWarning: Update your `Conv2D` call to the Keras 2 API: `Conv2D(32, (3, 3), activation=\"relu\", input_shape=(28, 28, 1...)`\n",
            "  \n",
            "/usr/local/lib/python3.6/dist-packages/ipykernel_launcher.py:3: UserWarning: Update your `Conv2D` call to the Keras 2 API: `Conv2D(64, (3, 3), activation=\"relu\")`\n",
            "  This is separate from the ipykernel package so we can avoid doing imports until\n",
            "/usr/local/lib/python3.6/dist-packages/ipykernel_launcher.py:5: UserWarning: Update your `Conv2D` call to the Keras 2 API: `Conv2D(32, (1, 1), activation=\"relu\")`\n",
            "  \"\"\"\n",
            "/usr/local/lib/python3.6/dist-packages/ipykernel_launcher.py:6: UserWarning: Update your `Conv2D` call to the Keras 2 API: `Conv2D(32, (3, 3), activation=\"relu\")`\n",
            "  \n",
            "/usr/local/lib/python3.6/dist-packages/ipykernel_launcher.py:12: UserWarning: Update your `Conv2D` call to the Keras 2 API: `Conv2D(10, (1, 1), activation=\"relu\")`\n",
            "  if sys.path[0] == '':\n"
          ],
          "name": "stderr"
        }
      ]
    },
    {
      "cell_type": "code",
      "metadata": {
        "id": "g1M7VjHRzgAi",
        "colab_type": "code",
        "colab": {
          "base_uri": "https://localhost:8080/",
          "height": 635
        },
        "outputId": "0f454736-1a88-49e6-ce93-51e0b2cf4a4c"
      },
      "source": [
        "model1.summary()"
      ],
      "execution_count": 15,
      "outputs": [
        {
          "output_type": "stream",
          "text": [
            "Model: \"sequential_1\"\n",
            "_________________________________________________________________\n",
            "Layer (type)                 Output Shape              Param #   \n",
            "=================================================================\n",
            "conv2d_1 (Conv2D)            (None, 26, 26, 32)        320       \n",
            "_________________________________________________________________\n",
            "conv2d_2 (Conv2D)            (None, 24, 24, 64)        18496     \n",
            "_________________________________________________________________\n",
            "max_pooling2d_1 (MaxPooling2 (None, 12, 12, 64)        0         \n",
            "_________________________________________________________________\n",
            "conv2d_3 (Conv2D)            (None, 12, 12, 32)        2080      \n",
            "_________________________________________________________________\n",
            "conv2d_4 (Conv2D)            (None, 10, 10, 32)        9248      \n",
            "_________________________________________________________________\n",
            "conv2d_5 (Conv2D)            (None, 8, 8, 64)          18496     \n",
            "_________________________________________________________________\n",
            "max_pooling2d_2 (MaxPooling2 (None, 4, 4, 64)          0         \n",
            "_________________________________________________________________\n",
            "conv2d_6 (Conv2D)            (None, 4, 4, 32)          2080      \n",
            "_________________________________________________________________\n",
            "conv2d_7 (Conv2D)            (None, 2, 2, 32)          9248      \n",
            "_________________________________________________________________\n",
            "max_pooling2d_3 (MaxPooling2 (None, 1, 1, 32)          0         \n",
            "_________________________________________________________________\n",
            "conv2d_8 (Conv2D)            (None, 1, 1, 10)          330       \n",
            "_________________________________________________________________\n",
            "flatten_1 (Flatten)          (None, 10)                0         \n",
            "_________________________________________________________________\n",
            "activation_1 (Activation)    (None, 10)                0         \n",
            "=================================================================\n",
            "Total params: 60,298\n",
            "Trainable params: 60,298\n",
            "Non-trainable params: 0\n",
            "_________________________________________________________________\n"
          ],
          "name": "stdout"
        }
      ]
    },
    {
      "cell_type": "code",
      "metadata": {
        "id": "2XYDIMlO8rb6",
        "colab_type": "code",
        "colab": {
          "base_uri": "https://localhost:8080/",
          "height": 110
        },
        "outputId": "ad7fb02c-839f-46cb-fd2f-9416b9816fd2"
      },
      "source": [
        "model1.compile(loss='categorical_crossentropy', \n",
        "              optimizer='adam',\n",
        "              metrics=['accuracy'])"
      ],
      "execution_count": 16,
      "outputs": [
        {
          "output_type": "stream",
          "text": [
            "WARNING:tensorflow:From /usr/local/lib/python3.6/dist-packages/keras/optimizers.py:793: The name tf.train.Optimizer is deprecated. Please use tf.compat.v1.train.Optimizer instead.\n",
            "\n",
            "WARNING:tensorflow:From /usr/local/lib/python3.6/dist-packages/keras/backend/tensorflow_backend.py:3576: The name tf.log is deprecated. Please use tf.math.log instead.\n",
            "\n"
          ],
          "name": "stdout"
        }
      ]
    },
    {
      "cell_type": "code",
      "metadata": {
        "id": "H3_YEYoy8rYE",
        "colab_type": "code",
        "colab": {
          "base_uri": "https://localhost:8080/",
          "height": 764
        },
        "outputId": "2e3e2afd-6bd5-46bd-a41a-e67523ca9344"
      },
      "source": [
        "model1.fit(X_train, y_train, batch_size=32, epochs=10, verbose=1)"
      ],
      "execution_count": 17,
      "outputs": [
        {
          "output_type": "stream",
          "text": [
            "WARNING:tensorflow:From /usr/local/lib/python3.6/dist-packages/tensorflow_core/python/ops/math_grad.py:1424: where (from tensorflow.python.ops.array_ops) is deprecated and will be removed in a future version.\n",
            "Instructions for updating:\n",
            "Use tf.where in 2.0, which has the same broadcast rule as np.where\n",
            "WARNING:tensorflow:From /usr/local/lib/python3.6/dist-packages/keras/backend/tensorflow_backend.py:1033: The name tf.assign_add is deprecated. Please use tf.compat.v1.assign_add instead.\n",
            "\n",
            "WARNING:tensorflow:From /usr/local/lib/python3.6/dist-packages/keras/backend/tensorflow_backend.py:1020: The name tf.assign is deprecated. Please use tf.compat.v1.assign instead.\n",
            "\n",
            "WARNING:tensorflow:From /usr/local/lib/python3.6/dist-packages/keras/backend/tensorflow_backend.py:3005: The name tf.Session is deprecated. Please use tf.compat.v1.Session instead.\n",
            "\n",
            "Epoch 1/10\n",
            "WARNING:tensorflow:From /usr/local/lib/python3.6/dist-packages/keras/backend/tensorflow_backend.py:190: The name tf.get_default_session is deprecated. Please use tf.compat.v1.get_default_session instead.\n",
            "\n",
            "WARNING:tensorflow:From /usr/local/lib/python3.6/dist-packages/keras/backend/tensorflow_backend.py:197: The name tf.ConfigProto is deprecated. Please use tf.compat.v1.ConfigProto instead.\n",
            "\n",
            "WARNING:tensorflow:From /usr/local/lib/python3.6/dist-packages/keras/backend/tensorflow_backend.py:207: The name tf.global_variables is deprecated. Please use tf.compat.v1.global_variables instead.\n",
            "\n",
            "WARNING:tensorflow:From /usr/local/lib/python3.6/dist-packages/keras/backend/tensorflow_backend.py:216: The name tf.is_variable_initialized is deprecated. Please use tf.compat.v1.is_variable_initialized instead.\n",
            "\n",
            "WARNING:tensorflow:From /usr/local/lib/python3.6/dist-packages/keras/backend/tensorflow_backend.py:223: The name tf.variables_initializer is deprecated. Please use tf.compat.v1.variables_initializer instead.\n",
            "\n",
            "60000/60000 [==============================] - 24s 406us/step - loss: 0.2051 - acc: 0.9357\n",
            "Epoch 2/10\n",
            "60000/60000 [==============================] - 16s 271us/step - loss: 0.0610 - acc: 0.9819\n",
            "Epoch 3/10\n",
            "60000/60000 [==============================] - 16s 271us/step - loss: 0.0443 - acc: 0.9861\n",
            "Epoch 4/10\n",
            "60000/60000 [==============================] - 16s 273us/step - loss: 0.0346 - acc: 0.9893\n",
            "Epoch 5/10\n",
            "60000/60000 [==============================] - 16s 273us/step - loss: 0.0296 - acc: 0.9908\n",
            "Epoch 6/10\n",
            "60000/60000 [==============================] - 17s 277us/step - loss: 0.0256 - acc: 0.9919\n",
            "Epoch 7/10\n",
            "60000/60000 [==============================] - 16s 272us/step - loss: 0.0214 - acc: 0.9931\n",
            "Epoch 8/10\n",
            "60000/60000 [==============================] - 16s 274us/step - loss: 0.0178 - acc: 0.9942\n",
            "Epoch 9/10\n",
            "60000/60000 [==============================] - 16s 271us/step - loss: 0.0169 - acc: 0.9946\n",
            "Epoch 10/10\n",
            "60000/60000 [==============================] - 16s 272us/step - loss: 0.0151 - acc: 0.9951\n"
          ],
          "name": "stdout"
        },
        {
          "output_type": "execute_result",
          "data": {
            "text/plain": [
              "<keras.callbacks.History at 0x7f08d01ebe80>"
            ]
          },
          "metadata": {
            "tags": []
          },
          "execution_count": 17
        }
      ]
    },
    {
      "cell_type": "code",
      "metadata": {
        "id": "7vbne1KS8rVs",
        "colab_type": "code",
        "colab": {
          "base_uri": "https://localhost:8080/",
          "height": 53
        },
        "outputId": "7ad2a5c5-978d-43bc-dc8a-a5e27a96fdb0"
      },
      "source": [
        "score = model1.evaluate(X_test, y_test)\n",
        "print(score)"
      ],
      "execution_count": 19,
      "outputs": [
        {
          "output_type": "stream",
          "text": [
            "10000/10000 [==============================] - 1s 76us/step\n",
            "[0.04234278006501845, 0.9885]\n"
          ],
          "name": "stdout"
        }
      ]
    },
    {
      "cell_type": "markdown",
      "metadata": {
        "colab_type": "text",
        "id": "lA0D-GX9hLwb"
      },
      "source": [
        "*Test accuracy for the model after 10 epochs with batch size of 32 is 0.9885*\n",
        "\n"
      ]
    },
    {
      "cell_type": "markdown",
      "metadata": {
        "id": "ZX9qrpovMJzj",
        "colab_type": "text"
      },
      "source": [
        "Same network for 20 epochs"
      ]
    },
    {
      "cell_type": "code",
      "metadata": {
        "id": "CnJ_NHESL2V4",
        "colab_type": "code",
        "colab": {
          "base_uri": "https://localhost:8080/",
          "height": 219
        },
        "outputId": "fe5e6a91-a700-4b40-c44a-4892c9af99ef"
      },
      "source": [
        "model1_20 = Sequential()\n",
        "model1_20.add(Conv2D(32, 3, 3, activation='relu', input_shape=(28,28,1))) # convolve 28x28x1 with 3x3x1x32 filters -> 26x26x32 Feature Maps\n",
        "model1_20.add(Conv2D(64, 3, 3, activation='relu'))  # conv 26x26x32 with 3x3x32x64 filter -> 24x24x64 Feature Maps\n",
        "model1_20.add(MaxPooling2D(2))                      # Maxpool -> 12x12x64\n",
        "model1_20.add(Conv2D(32, 1, 1, activation='relu'))  # Magic conv 12x12x64 with 1x1x64x32 -> 12x12x32 F maps\n",
        "model1_20.add(Conv2D(32, 3, 3, activation='relu'))  # conv 12x12x32 with 3x3x32x32 filters -> 10x10x32 F Maps\n",
        "model1_20.add(Conv2D(64, 3, 3, activation='relu'))  # conv 10x10x32 with 3x3x32x64 -> 8x8x64 f maps\n",
        "model1_20.add(MaxPooling2D(2))                      # Maxpool -> 4x4x64\n",
        "model1_20.add(Conv2D(32, 1, 1, activation='relu'))  # Magic conv 4x4x64 with 1x1x64x32 -> 4x4x32 F maps\n",
        "model1_20.add(Conv2D(32, 3, 3, activation='relu'))  # conv 4x4x32 with 3x3x32x32 filters -> 2x2x32 F Maps\n",
        "model1_20.add(MaxPooling2D(2))                      # Maxpool -> 1x1x32\n",
        "model1_20.add(Conv2D(10, 1, 1, activation='relu'))  # Magic conv 1x1x32 with 1x1x32x10 -> 1x1x10 F maps\n",
        "model1_20.add(Flatten())\n",
        "model1_20.add(Activation('softmax'))"
      ],
      "execution_count": 65,
      "outputs": [
        {
          "output_type": "stream",
          "text": [
            "/usr/local/lib/python3.6/dist-packages/ipykernel_launcher.py:2: UserWarning: Update your `Conv2D` call to the Keras 2 API: `Conv2D(32, (3, 3), activation=\"relu\", input_shape=(28, 28, 1...)`\n",
            "  \n",
            "/usr/local/lib/python3.6/dist-packages/ipykernel_launcher.py:3: UserWarning: Update your `Conv2D` call to the Keras 2 API: `Conv2D(64, (3, 3), activation=\"relu\")`\n",
            "  This is separate from the ipykernel package so we can avoid doing imports until\n",
            "/usr/local/lib/python3.6/dist-packages/ipykernel_launcher.py:5: UserWarning: Update your `Conv2D` call to the Keras 2 API: `Conv2D(32, (1, 1), activation=\"relu\")`\n",
            "  \"\"\"\n",
            "/usr/local/lib/python3.6/dist-packages/ipykernel_launcher.py:6: UserWarning: Update your `Conv2D` call to the Keras 2 API: `Conv2D(32, (3, 3), activation=\"relu\")`\n",
            "  \n",
            "/usr/local/lib/python3.6/dist-packages/ipykernel_launcher.py:12: UserWarning: Update your `Conv2D` call to the Keras 2 API: `Conv2D(10, (1, 1), activation=\"relu\")`\n",
            "  if sys.path[0] == '':\n"
          ],
          "name": "stderr"
        }
      ]
    },
    {
      "cell_type": "code",
      "metadata": {
        "id": "nL_Ks_3y8b9_",
        "colab_type": "code",
        "colab": {
          "base_uri": "https://localhost:8080/",
          "height": 762
        },
        "outputId": "a3eb5af4-d8f7-4138-b934-df623b78b596"
      },
      "source": [
        "model1_20.fit(X_train, y_train, batch_size=32, epochs=20, verbose=1)"
      ],
      "execution_count": 29,
      "outputs": [
        {
          "output_type": "stream",
          "text": [
            "Epoch 1/20\n",
            "60000/60000 [==============================] - 17s 278us/step - loss: 0.0134 - acc: 0.9959\n",
            "Epoch 2/20\n",
            "60000/60000 [==============================] - 16s 272us/step - loss: 0.0129 - acc: 0.9960\n",
            "Epoch 3/20\n",
            "60000/60000 [==============================] - 16s 275us/step - loss: 0.0110 - acc: 0.9962\n",
            "Epoch 4/20\n",
            "60000/60000 [==============================] - 17s 276us/step - loss: 0.0110 - acc: 0.9963\n",
            "Epoch 5/20\n",
            "60000/60000 [==============================] - 16s 273us/step - loss: 0.0107 - acc: 0.9968\n",
            "Epoch 6/20\n",
            "60000/60000 [==============================] - 17s 277us/step - loss: 0.0095 - acc: 0.9971\n",
            "Epoch 7/20\n",
            "60000/60000 [==============================] - 16s 272us/step - loss: 0.0084 - acc: 0.9974\n",
            "Epoch 8/20\n",
            "60000/60000 [==============================] - 16s 273us/step - loss: 0.0088 - acc: 0.9972\n",
            "Epoch 9/20\n",
            "60000/60000 [==============================] - 16s 270us/step - loss: 0.0092 - acc: 0.9972\n",
            "Epoch 10/20\n",
            "60000/60000 [==============================] - 16s 272us/step - loss: 0.0080 - acc: 0.9975\n",
            "Epoch 11/20\n",
            "60000/60000 [==============================] - 17s 275us/step - loss: 0.0073 - acc: 0.9976\n",
            "Epoch 12/20\n",
            "60000/60000 [==============================] - 16s 275us/step - loss: 0.0069 - acc: 0.9977\n",
            "Epoch 13/20\n",
            "60000/60000 [==============================] - 17s 275us/step - loss: 0.0072 - acc: 0.9978\n",
            "Epoch 14/20\n",
            "60000/60000 [==============================] - 16s 272us/step - loss: 0.0076 - acc: 0.9976\n",
            "Epoch 15/20\n",
            "60000/60000 [==============================] - 16s 274us/step - loss: 0.0075 - acc: 0.9977\n",
            "Epoch 16/20\n",
            "60000/60000 [==============================] - 16s 271us/step - loss: 0.0082 - acc: 0.9972\n",
            "Epoch 17/20\n",
            "60000/60000 [==============================] - 16s 272us/step - loss: 0.0072 - acc: 0.9976\n",
            "Epoch 18/20\n",
            "60000/60000 [==============================] - 16s 272us/step - loss: 0.0060 - acc: 0.9980\n",
            "Epoch 19/20\n",
            "60000/60000 [==============================] - 16s 273us/step - loss: 0.0067 - acc: 0.9980\n",
            "Epoch 20/20\n",
            "60000/60000 [==============================] - 16s 272us/step - loss: 0.0064 - acc: 0.9981\n"
          ],
          "name": "stdout"
        },
        {
          "output_type": "execute_result",
          "data": {
            "text/plain": [
              "<keras.callbacks.History at 0x7f088f974160>"
            ]
          },
          "metadata": {
            "tags": []
          },
          "execution_count": 29
        }
      ]
    },
    {
      "cell_type": "code",
      "metadata": {
        "id": "N8yNiLyj88JG",
        "colab_type": "code",
        "colab": {
          "base_uri": "https://localhost:8080/",
          "height": 53
        },
        "outputId": "b6411aac-341c-4a5b-c1a7-603fca7fb8dd"
      },
      "source": [
        "score = model1_20.evaluate(X_test, y_test)\n",
        "print(score)"
      ],
      "execution_count": 30,
      "outputs": [
        {
          "output_type": "stream",
          "text": [
            "10000/10000 [==============================] - 1s 76us/step\n",
            "[0.05003827001977261, 0.9895]\n"
          ],
          "name": "stdout"
        }
      ]
    },
    {
      "cell_type": "markdown",
      "metadata": {
        "id": "_TXjI9JD-bSK",
        "colab_type": "text"
      },
      "source": [
        "*Test accuracy for the model after 20 epochs with batch size of 32 is 0.9895*\n",
        "\n",
        "There is not significant improvement"
      ]
    },
    {
      "cell_type": "markdown",
      "metadata": {
        "id": "gRdjtkLMMPs7",
        "colab_type": "text"
      },
      "source": [
        "Same network for 30 epochs"
      ]
    },
    {
      "cell_type": "code",
      "metadata": {
        "id": "l9osTsImL2Rc",
        "colab_type": "code",
        "colab": {
          "base_uri": "https://localhost:8080/",
          "height": 1000
        },
        "outputId": "517922c5-96c7-475d-8ed0-bf04b3e67335"
      },
      "source": [
        "model1_30 = Sequential()\n",
        "model1_30.add(Conv2D(32, 3, 3, activation='relu', input_shape=(28,28,1))) # convolve 28x28x1 with 3x3x1x32 filters -> 26x26x32 Feature Maps\n",
        "model1_30.add(Conv2D(64, 3, 3, activation='relu'))  # conv 26x26x32 with 3x3x32x64 filter -> 24x24x64 Feature Maps\n",
        "model1_30.add(MaxPooling2D(2))                      # Maxpool -> 12x12x64\n",
        "model1_30.add(Conv2D(32, 1, 1, activation='relu'))  # Magic conv 12x12x64 with 1x1x64x32 -> 12x12x32 F maps\n",
        "model1_30.add(Conv2D(32, 3, 3, activation='relu'))  # conv 12x12x32 with 3x3x32x32 filters -> 10x10x32 F Maps\n",
        "model1_30.add(Conv2D(64, 3, 3, activation='relu'))  # conv 10x10x32 with 3x3x32x64 -> 8x8x64 f maps\n",
        "model1_30.add(MaxPooling2D(2))                      # Maxpool -> 4x4x64\n",
        "model1_30.add(Conv2D(32, 1, 1, activation='relu'))  # Magic conv 4x4x64 with 1x1x64x32 -> 4x4x32 F maps\n",
        "model1_30.add(Conv2D(32, 3, 3, activation='relu'))  # conv 4x4x32 with 3x3x32x32 filters -> 2x2x32 F Maps\n",
        "model1_30.add(MaxPooling2D(2))                      # Maxpool -> 1x1x32\n",
        "model1_30.add(Conv2D(10, 1, 1, activation='relu'))  # Magic conv 1x1x32 with 1x1x32x10 -> 1x1x10 F maps\n",
        "model1_30.add(Flatten())\n",
        "model1_30.add(Activation('softmax'))\n",
        "model1_30.compile(loss='categorical_crossentropy', \n",
        "              optimizer='adam',\n",
        "              metrics=['accuracy'])\n",
        "\n",
        "model1_30.fit(X_train, y_train, batch_size=32, epochs=30, verbose=1)\n",
        "\n",
        "score = model1_30.evaluate(X_test, y_test)\n",
        "print(score)"
      ],
      "execution_count": 59,
      "outputs": [
        {
          "output_type": "stream",
          "text": [
            "/usr/local/lib/python3.6/dist-packages/ipykernel_launcher.py:2: UserWarning: Update your `Conv2D` call to the Keras 2 API: `Conv2D(32, (3, 3), activation=\"relu\", input_shape=(28, 28, 1...)`\n",
            "  \n",
            "/usr/local/lib/python3.6/dist-packages/ipykernel_launcher.py:3: UserWarning: Update your `Conv2D` call to the Keras 2 API: `Conv2D(64, (3, 3), activation=\"relu\")`\n",
            "  This is separate from the ipykernel package so we can avoid doing imports until\n",
            "/usr/local/lib/python3.6/dist-packages/ipykernel_launcher.py:5: UserWarning: Update your `Conv2D` call to the Keras 2 API: `Conv2D(32, (1, 1), activation=\"relu\")`\n",
            "  \"\"\"\n",
            "/usr/local/lib/python3.6/dist-packages/ipykernel_launcher.py:6: UserWarning: Update your `Conv2D` call to the Keras 2 API: `Conv2D(32, (3, 3), activation=\"relu\")`\n",
            "  \n",
            "/usr/local/lib/python3.6/dist-packages/ipykernel_launcher.py:12: UserWarning: Update your `Conv2D` call to the Keras 2 API: `Conv2D(10, (1, 1), activation=\"relu\")`\n",
            "  if sys.path[0] == '':\n"
          ],
          "name": "stderr"
        },
        {
          "output_type": "stream",
          "text": [
            "Epoch 1/30\n",
            "60000/60000 [==============================] - 19s 315us/step - loss: 0.3155 - acc: 0.8931\n",
            "Epoch 2/30\n",
            "60000/60000 [==============================] - 17s 279us/step - loss: 0.0511 - acc: 0.9841\n",
            "Epoch 3/30\n",
            "60000/60000 [==============================] - 17s 279us/step - loss: 0.0385 - acc: 0.9886\n",
            "Epoch 4/30\n",
            "60000/60000 [==============================] - 17s 280us/step - loss: 0.0307 - acc: 0.9906\n",
            "Epoch 5/30\n",
            "60000/60000 [==============================] - 17s 282us/step - loss: 0.0253 - acc: 0.9916\n",
            "Epoch 6/30\n",
            "60000/60000 [==============================] - 17s 279us/step - loss: 0.0225 - acc: 0.9931\n",
            "Epoch 7/30\n",
            "60000/60000 [==============================] - 17s 280us/step - loss: 0.0192 - acc: 0.9940\n",
            "Epoch 8/30\n",
            "60000/60000 [==============================] - 17s 280us/step - loss: 0.0177 - acc: 0.9945\n",
            "Epoch 9/30\n",
            "60000/60000 [==============================] - 17s 278us/step - loss: 0.0161 - acc: 0.9946\n",
            "Epoch 10/30\n",
            "60000/60000 [==============================] - 17s 283us/step - loss: 0.0138 - acc: 0.9951\n",
            "Epoch 11/30\n",
            "60000/60000 [==============================] - 17s 283us/step - loss: 0.0132 - acc: 0.9958\n",
            "Epoch 12/30\n",
            "60000/60000 [==============================] - 17s 284us/step - loss: 0.0112 - acc: 0.9963\n",
            "Epoch 13/30\n",
            "60000/60000 [==============================] - 17s 283us/step - loss: 0.0109 - acc: 0.9965\n",
            "Epoch 14/30\n",
            "60000/60000 [==============================] - 17s 281us/step - loss: 0.0104 - acc: 0.9965\n",
            "Epoch 15/30\n",
            "60000/60000 [==============================] - 17s 278us/step - loss: 0.0105 - acc: 0.9965\n",
            "Epoch 16/30\n",
            "60000/60000 [==============================] - 17s 290us/step - loss: 0.0095 - acc: 0.9969\n",
            "Epoch 17/30\n",
            "60000/60000 [==============================] - 17s 282us/step - loss: 0.0079 - acc: 0.9973\n",
            "Epoch 18/30\n",
            "60000/60000 [==============================] - 17s 278us/step - loss: 0.0082 - acc: 0.9975\n",
            "Epoch 19/30\n",
            "60000/60000 [==============================] - 17s 280us/step - loss: 0.0088 - acc: 0.9971\n",
            "Epoch 20/30\n",
            "60000/60000 [==============================] - 17s 277us/step - loss: 0.0080 - acc: 0.9975\n",
            "Epoch 21/30\n",
            "60000/60000 [==============================] - 17s 277us/step - loss: 0.0079 - acc: 0.9977\n",
            "Epoch 22/30\n",
            "60000/60000 [==============================] - 17s 279us/step - loss: 0.0097 - acc: 0.9969\n",
            "Epoch 23/30\n",
            "60000/60000 [==============================] - 17s 280us/step - loss: 0.0064 - acc: 0.9979\n",
            "Epoch 24/30\n",
            "60000/60000 [==============================] - 17s 284us/step - loss: 0.0072 - acc: 0.9975\n",
            "Epoch 25/30\n",
            "60000/60000 [==============================] - 17s 279us/step - loss: 0.0076 - acc: 0.9976\n",
            "Epoch 26/30\n",
            "60000/60000 [==============================] - 17s 280us/step - loss: 0.0074 - acc: 0.9977\n",
            "Epoch 27/30\n",
            "60000/60000 [==============================] - 17s 279us/step - loss: 0.0054 - acc: 0.9983\n",
            "Epoch 28/30\n",
            "60000/60000 [==============================] - 17s 282us/step - loss: 0.0078 - acc: 0.9976\n",
            "Epoch 29/30\n",
            "60000/60000 [==============================] - 17s 280us/step - loss: 0.0070 - acc: 0.9977\n",
            "Epoch 30/30\n",
            "60000/60000 [==============================] - 17s 281us/step - loss: 0.0058 - acc: 0.9983\n",
            "10000/10000 [==============================] - 2s 160us/step\n",
            "[0.04397806074793061, 0.9926]\n"
          ],
          "name": "stdout"
        }
      ]
    },
    {
      "cell_type": "markdown",
      "metadata": {
        "id": "rLkdQSJNPzr8",
        "colab_type": "text"
      },
      "source": [
        "***Test accuracy for the model after 30 epochs with batch size of 32 is 0.9926***\n"
      ]
    },
    {
      "cell_type": "code",
      "metadata": {
        "id": "6GdJM_6EL2Np",
        "colab_type": "code",
        "colab": {}
      },
      "source": [
        ""
      ],
      "execution_count": 0,
      "outputs": []
    },
    {
      "cell_type": "code",
      "metadata": {
        "id": "7FDL4l0wL2MK",
        "colab_type": "code",
        "colab": {}
      },
      "source": [
        ""
      ],
      "execution_count": 0,
      "outputs": []
    },
    {
      "cell_type": "code",
      "metadata": {
        "id": "XclKPjDzL1_Y",
        "colab_type": "code",
        "colab": {}
      },
      "source": [
        ""
      ],
      "execution_count": 0,
      "outputs": []
    },
    {
      "cell_type": "code",
      "metadata": {
        "id": "P7VpaduIL12r",
        "colab_type": "code",
        "colab": {}
      },
      "source": [
        ""
      ],
      "execution_count": 0,
      "outputs": []
    },
    {
      "cell_type": "code",
      "metadata": {
        "id": "cjmJucQz8rT2",
        "colab_type": "code",
        "colab": {}
      },
      "source": [
        "y_pred = model1.predict(X_test)"
      ],
      "execution_count": 0,
      "outputs": []
    },
    {
      "cell_type": "code",
      "metadata": {
        "id": "HD4WavPM8rNV",
        "colab_type": "code",
        "outputId": "e57dbb71-ec92-42fa-c42b-fc8ed0832a07",
        "colab": {
          "base_uri": "https://localhost:8080/",
          "height": 72
        }
      },
      "source": [
        "print(y_pred[0])\n",
        "print(y_test[0])"
      ],
      "execution_count": 21,
      "outputs": [
        {
          "output_type": "stream",
          "text": [
            "[8.0374207e-11 3.3794540e-11 2.3080827e-07 3.2058999e-08 3.3794540e-11\n",
            " 3.3794540e-11 3.3794540e-11 9.9999976e-01 2.5720334e-10 2.0623535e-08]\n",
            "[0. 0. 0. 0. 0. 0. 0. 1. 0. 0.]\n"
          ],
          "name": "stdout"
        }
      ]
    },
    {
      "cell_type": "code",
      "metadata": {
        "id": "3dpYAc8p8rKZ",
        "colab_type": "code",
        "colab": {}
      },
      "source": [
        "layer_dict = dict([(layer.name, layer) for layer in model1.layers])"
      ],
      "execution_count": 0,
      "outputs": []
    },
    {
      "cell_type": "code",
      "metadata": {
        "id": "vj4VMkZTlR29",
        "colab_type": "code",
        "outputId": "8693666a-f0e0-4d94-be7b-459eedf6285b",
        "colab": {
          "base_uri": "https://localhost:8080/",
          "height": 253
        }
      },
      "source": [
        "layer_dict"
      ],
      "execution_count": 24,
      "outputs": [
        {
          "output_type": "execute_result",
          "data": {
            "text/plain": [
              "{'activation_1': <keras.layers.core.Activation at 0x7f088fb77940>,\n",
              " 'conv2d_1': <keras.layers.convolutional.Conv2D at 0x7f0890414dd8>,\n",
              " 'conv2d_2': <keras.layers.convolutional.Conv2D at 0x7f0890414d68>,\n",
              " 'conv2d_3': <keras.layers.convolutional.Conv2D at 0x7f088fbb9780>,\n",
              " 'conv2d_4': <keras.layers.convolutional.Conv2D at 0x7f088fbc3a58>,\n",
              " 'conv2d_5': <keras.layers.convolutional.Conv2D at 0x7f088fbc3518>,\n",
              " 'conv2d_6': <keras.layers.convolutional.Conv2D at 0x7f088fbda128>,\n",
              " 'conv2d_7': <keras.layers.convolutional.Conv2D at 0x7f088fbe2978>,\n",
              " 'conv2d_8': <keras.layers.convolutional.Conv2D at 0x7f088fbf0240>,\n",
              " 'flatten_1': <keras.layers.core.Flatten at 0x7f088fbeb780>,\n",
              " 'max_pooling2d_1': <keras.layers.pooling.MaxPooling2D at 0x7f0890414160>,\n",
              " 'max_pooling2d_2': <keras.layers.pooling.MaxPooling2D at 0x7f088fbcf860>,\n",
              " 'max_pooling2d_3': <keras.layers.pooling.MaxPooling2D at 0x7f088fbe2438>}"
            ]
          },
          "metadata": {
            "tags": []
          },
          "execution_count": 24
        }
      ]
    },
    {
      "cell_type": "markdown",
      "metadata": {
        "id": "mqSSYpp_wfvp",
        "colab_type": "text"
      },
      "source": [
        "#### Filters visuals"
      ]
    },
    {
      "cell_type": "code",
      "metadata": {
        "id": "ckwPHNX8zf83",
        "colab_type": "code",
        "outputId": "deaceb9c-053f-40ae-f4ec-f786dd2f40e1",
        "colab": {
          "base_uri": "https://localhost:8080/",
          "height": 837
        }
      },
      "source": [
        "vis_img_in_filter(model1, image=X_train[3],layer_name = 'conv2d_1')"
      ],
      "execution_count": 25,
      "outputs": [
        {
          "output_type": "display_data",
          "data": {
            "image/png": "[encoded data removed]",
            "text/plain": [
              "<Figure size 864x864 with 24 Axes>"
            ]
          },
          "metadata": {
            "tags": []
          }
        }
      ]
    },
    {
      "cell_type": "code",
      "metadata": {
        "id": "7HIa47cCmMna",
        "colab_type": "code",
        "outputId": "437767d1-dce8-40bd-c5f6-9de6003c325d",
        "colab": {
          "base_uri": "https://localhost:8080/",
          "height": 837
        }
      },
      "source": [
        "vis_img_in_filter(model1, image=X_train[10],layer_name = 'conv2d_1')"
      ],
      "execution_count": 78,
      "outputs": [
        {
          "output_type": "display_data",
          "data": {
            "image/png": "[encoded data removed]",
            "text/plain": [
              "<Figure size 864x864 with 24 Axes>"
            ]
          },
          "metadata": {
            "tags": []
          }
        }
      ]
    },
    {
      "cell_type": "code",
      "metadata": {
        "id": "sMnTzM9wmMLw",
        "colab_type": "code",
        "outputId": "c9bcd57c-8fa0-45b6-e247-e687f6bb941a",
        "colab": {
          "base_uri": "https://localhost:8080/"
        }
      },
      "source": [
        "vis_img_in_filter(model1, image=X_train[2],layer_name = 'conv2d_1')"
      ],
      "execution_count": 79,
      "outputs": [
        {
          "output_type": "display_data",
          "data": {
            "image/png": "[encoded data removed]",
            "text/plain": [
              "<Figure size 864x864 with 24 Axes>"
            ]
          },
          "metadata": {
            "tags": []
          }
        }
      ]
    },
    {
      "cell_type": "markdown",
      "metadata": {
        "id": "pAqDshIDlFP4",
        "colab_type": "text"
      },
      "source": [
        "### Other architectures\n"
      ]
    },
    {
      "cell_type": "code",
      "metadata": {
        "id": "NNtQm3DD6d97",
        "colab_type": "code",
        "colab": {
          "base_uri": "https://localhost:8080/"
        },
        "outputId": "d25e8155-09cb-4ccb-c10b-7f39b9177df5"
      },
      "source": [
        "model2 = Sequential()\n",
        "\n",
        "model2.add(Conv2D(32, 3, 3, activation='relu', input_shape=(28,28,1))) # 28x28x1 with 3x3x1x32 -> 26x26x32\n",
        "model2.add(Conv2D(64, 3, 3, activation='relu'))   # 26x26x32 with 3x3x32x64 -> 24x24x64\n",
        "# model2.add(Conv2D(64, 3, 3, activation='relu'))   # 26x26x32 with 3x3x32x64 -> 24x24x64\n",
        "\n",
        "model2.add(MaxPooling2D(2))                       # 12x12x64\n",
        "model2.add(Conv2D(32, 3, 3, activation='relu'))     # 12x12x64 with 3x3x64x32 -> 10x10x32\n",
        "model2.add(Conv2D(64, 3, 3, activation='relu'))   # 10x10x32 with 3x3x32x64 -> 8x8x64\n",
        "model2.add(Conv2D(128, 3, 3, activation='relu'))   # 8x8x64 with 3x3x64x128 -> 6x6x128\n",
        "model2.add(MaxPooling2D(2))                         # Maxpooling -> 3x3x128\n",
        "model2.add(Conv2D(10, 3, 3, activation='relu'))   # 3x3x128 with 3x3x128x10 -> 1x1x10\n",
        "model2.add(Flatten())\n",
        "model2.add(Activation('softmax'))"
      ],
      "execution_count": 27,
      "outputs": [
        {
          "output_type": "stream",
          "text": [
            "/usr/local/lib/python3.6/dist-packages/ipykernel_launcher.py:3: UserWarning: Update your `Conv2D` call to the Keras 2 API: `Conv2D(32, (3, 3), activation=\"relu\", input_shape=(28, 28, 1...)`\n",
            "  This is separate from the ipykernel package so we can avoid doing imports until\n",
            "/usr/local/lib/python3.6/dist-packages/ipykernel_launcher.py:4: UserWarning: Update your `Conv2D` call to the Keras 2 API: `Conv2D(64, (3, 3), activation=\"relu\")`\n",
            "  after removing the cwd from sys.path.\n",
            "/usr/local/lib/python3.6/dist-packages/ipykernel_launcher.py:6: UserWarning: Update your `Conv2D` call to the Keras 2 API: `Conv2D(32, (3, 3), activation=\"relu\")`\n",
            "  \n",
            "/usr/local/lib/python3.6/dist-packages/ipykernel_launcher.py:8: UserWarning: Update your `Conv2D` call to the Keras 2 API: `Conv2D(128, (3, 3), activation=\"relu\")`\n",
            "  \n",
            "/usr/local/lib/python3.6/dist-packages/ipykernel_launcher.py:10: UserWarning: Update your `Conv2D` call to the Keras 2 API: `Conv2D(10, (3, 3), activation=\"relu\")`\n",
            "  # Remove the CWD from sys.path while we load stuff.\n"
          ],
          "name": "stderr"
        }
      ]
    },
    {
      "cell_type": "code",
      "metadata": {
        "id": "6P2LEmES6d6q",
        "colab_type": "code",
        "colab": {
          "base_uri": "https://localhost:8080/",
          "height": 526
        },
        "outputId": "1bbeeed1-d130-4581-8ac2-de0abb9ed63e"
      },
      "source": [
        "model2.summary()"
      ],
      "execution_count": 28,
      "outputs": [
        {
          "output_type": "stream",
          "text": [
            "Model: \"sequential_2\"\n",
            "_________________________________________________________________\n",
            "Layer (type)                 Output Shape              Param #   \n",
            "=================================================================\n",
            "conv2d_9 (Conv2D)            (None, 26, 26, 32)        320       \n",
            "_________________________________________________________________\n",
            "conv2d_10 (Conv2D)           (None, 24, 24, 64)        18496     \n",
            "_________________________________________________________________\n",
            "max_pooling2d_4 (MaxPooling2 (None, 12, 12, 64)        0         \n",
            "_________________________________________________________________\n",
            "conv2d_11 (Conv2D)           (None, 10, 10, 32)        18464     \n",
            "_________________________________________________________________\n",
            "conv2d_12 (Conv2D)           (None, 8, 8, 64)          18496     \n",
            "_________________________________________________________________\n",
            "conv2d_13 (Conv2D)           (None, 6, 6, 128)         73856     \n",
            "_________________________________________________________________\n",
            "max_pooling2d_5 (MaxPooling2 (None, 3, 3, 128)         0         \n",
            "_________________________________________________________________\n",
            "conv2d_14 (Conv2D)           (None, 1, 1, 10)          11530     \n",
            "_________________________________________________________________\n",
            "flatten_2 (Flatten)          (None, 10)                0         \n",
            "_________________________________________________________________\n",
            "activation_2 (Activation)    (None, 10)                0         \n",
            "=================================================================\n",
            "Total params: 141,162\n",
            "Trainable params: 141,162\n",
            "Non-trainable params: 0\n",
            "_________________________________________________________________\n"
          ],
          "name": "stdout"
        }
      ]
    },
    {
      "cell_type": "code",
      "metadata": {
        "id": "Fa5B_gp06d3K",
        "colab_type": "code",
        "colab": {}
      },
      "source": [
        "model2.compile(loss='categorical_crossentropy', \n",
        "              optimizer='adam',\n",
        "              metrics=['accuracy'])"
      ],
      "execution_count": 0,
      "outputs": []
    },
    {
      "cell_type": "code",
      "metadata": {
        "id": "BadsXzC_6dz9",
        "colab_type": "code",
        "colab": {
          "base_uri": "https://localhost:8080/",
          "height": 762
        },
        "outputId": "ee628863-9600-4f57-d0c7-c3da1c9c952f"
      },
      "source": [
        "model2.fit(X_train, y_train, batch_size=32, epochs=20, verbose=1)"
      ],
      "execution_count": 70,
      "outputs": [
        {
          "output_type": "stream",
          "text": [
            "Epoch 1/20\n",
            "60000/60000 [==============================] - 15s 251us/step - loss: 0.9218 - acc: 0.6019\n",
            "Epoch 2/20\n",
            "60000/60000 [==============================] - 15s 248us/step - loss: 0.9194 - acc: 0.6024\n",
            "Epoch 3/20\n",
            "60000/60000 [==============================] - 15s 249us/step - loss: 0.9203 - acc: 0.6021\n",
            "Epoch 4/20\n",
            "60000/60000 [==============================] - 15s 244us/step - loss: 0.9211 - acc: 0.6017\n",
            "Epoch 5/20\n",
            "60000/60000 [==============================] - 15s 242us/step - loss: 0.9197 - acc: 0.6022\n",
            "Epoch 6/20\n",
            "60000/60000 [==============================] - 15s 244us/step - loss: 0.9197 - acc: 0.6023\n",
            "Epoch 7/20\n",
            "60000/60000 [==============================] - 15s 254us/step - loss: 0.9203 - acc: 0.6021\n",
            "Epoch 8/20\n",
            "60000/60000 [==============================] - 15s 244us/step - loss: 0.9186 - acc: 0.6023\n",
            "Epoch 9/20\n",
            "60000/60000 [==============================] - 15s 249us/step - loss: 0.9199 - acc: 0.6023\n",
            "Epoch 10/20\n",
            "60000/60000 [==============================] - 15s 246us/step - loss: 0.9192 - acc: 0.6023\n",
            "Epoch 11/20\n",
            "60000/60000 [==============================] - 15s 242us/step - loss: 0.9179 - acc: 0.6025\n",
            "Epoch 12/20\n",
            "60000/60000 [==============================] - 15s 247us/step - loss: 0.9186 - acc: 0.6025\n",
            "Epoch 13/20\n",
            "60000/60000 [==============================] - 15s 247us/step - loss: 0.9178 - acc: 0.6024\n",
            "Epoch 14/20\n",
            "60000/60000 [==============================] - 15s 243us/step - loss: 0.9173 - acc: 0.6026\n",
            "Epoch 15/20\n",
            "60000/60000 [==============================] - 15s 243us/step - loss: 0.9194 - acc: 0.6023\n",
            "Epoch 16/20\n",
            "60000/60000 [==============================] - 15s 242us/step - loss: 0.9162 - acc: 0.6029\n",
            "Epoch 17/20\n",
            "60000/60000 [==============================] - 15s 244us/step - loss: 0.9185 - acc: 0.6026\n",
            "Epoch 18/20\n",
            "60000/60000 [==============================] - 15s 247us/step - loss: 0.7484 - acc: 0.6786\n",
            "Epoch 19/20\n",
            "60000/60000 [==============================] - 15s 246us/step - loss: 0.7118 - acc: 0.6927\n",
            "Epoch 20/20\n",
            "60000/60000 [==============================] - 15s 250us/step - loss: 0.7105 - acc: 0.6928\n"
          ],
          "name": "stdout"
        },
        {
          "output_type": "execute_result",
          "data": {
            "text/plain": [
              "<keras.callbacks.History at 0x7f0808c3d940>"
            ]
          },
          "metadata": {
            "tags": []
          },
          "execution_count": 70
        }
      ]
    },
    {
      "cell_type": "code",
      "metadata": {
        "id": "dZlnfy4a6dwz",
        "colab_type": "code",
        "colab": {
          "base_uri": "https://localhost:8080/",
          "height": 53
        },
        "outputId": "95112830-beab-44d8-89ff-af827665d85e"
      },
      "source": [
        "score = model2.evaluate(X_test, y_test)\n",
        "print(score)"
      ],
      "execution_count": 81,
      "outputs": [
        {
          "output_type": "stream",
          "text": [
            "10000/10000 [==============================] - 1s 87us/step\n",
            "[0.7427483693122864, 0.6866]\n"
          ],
          "name": "stdout"
        }
      ]
    },
    {
      "cell_type": "code",
      "metadata": {
        "id": "ECAtksAz6ds2",
        "colab_type": "code",
        "colab": {}
      },
      "source": [
        ""
      ],
      "execution_count": 0,
      "outputs": []
    },
    {
      "cell_type": "code",
      "metadata": {
        "id": "67WTA4P46df0",
        "colab_type": "code",
        "colab": {
          "base_uri": "https://localhost:8080/",
          "height": 873
        },
        "outputId": "53403da0-c0c7-4506-f6a8-98e600021390"
      },
      "source": [
        "model3 = Sequential()\n",
        "model3.add(Conv2D(64, 3, 3, activation='relu', input_shape=(28,28,1))) # convolve 28x28x1 with 3x3x1x64 filters -> 26x26x32 Feature Maps\n",
        "model3.add(Conv2D(128, 3, 3, activation='relu'))  # conv 26x26x32 with 3x3x64x128 filter -> 24x24x128 Feature Maps\n",
        "model3.add(MaxPooling2D(2))                      # Maxpool -> 12x12x128\n",
        "model3.add(Conv2D(32, 1, 1, activation='relu'))  # Magic conv 12x12x128 with 1x1x128x32 -> 12x12x32 F maps\n",
        "model3.add(Conv2D(64, 3, 3, activation='relu'))  # conv 12x12x32 with 3x3x32x64 filters -> 10x10x64 F Maps\n",
        "model3.add(Conv2D(128, 3, 3, activation='relu')) # conv 10x10x64 with 3x3x64x128 -> 8x8x128 f maps\n",
        "model3.add(MaxPooling2D(2))                      # Maxpool -> 4x4x128\n",
        "model3.add(Conv2D(32, 1, 1, activation='relu'))  # Magic conv 4x4x128 with 1x1x128x32 -> 4x4x32 F maps\n",
        "model3.add(Conv2D(32, 3, 3, activation='relu'))  # conv 4x4x32 with 3x3x32x32 filters -> 2x2x32 F Maps\n",
        "model3.add(MaxPooling2D(2))                      # Maxpool -> 1x1x32\n",
        "model3.add(Conv2D(10, 1, 1, activation='relu'))  # Magic conv 1x1x32 with 1x1x32x10 -> 1x1x10 F maps\n",
        "model3.add(Flatten())\n",
        "model3.add(Activation('softmax'))\n",
        "model3.summary()"
      ],
      "execution_count": 36,
      "outputs": [
        {
          "output_type": "stream",
          "text": [
            "Model: \"sequential_4\"\n",
            "_________________________________________________________________\n",
            "Layer (type)                 Output Shape              Param #   \n",
            "=================================================================\n",
            "conv2d_23 (Conv2D)           (None, 26, 26, 64)        640       \n",
            "_________________________________________________________________\n",
            "conv2d_24 (Conv2D)           (None, 24, 24, 128)       73856     \n",
            "_________________________________________________________________\n",
            "max_pooling2d_9 (MaxPooling2 (None, 12, 12, 128)       0         \n",
            "_________________________________________________________________\n",
            "conv2d_25 (Conv2D)           (None, 12, 12, 32)        4128      \n",
            "_________________________________________________________________\n",
            "conv2d_26 (Conv2D)           (None, 10, 10, 64)        18496     \n",
            "_________________________________________________________________\n",
            "conv2d_27 (Conv2D)           (None, 8, 8, 128)         73856     \n",
            "_________________________________________________________________\n",
            "max_pooling2d_10 (MaxPooling (None, 4, 4, 128)         0         \n",
            "_________________________________________________________________\n",
            "conv2d_28 (Conv2D)           (None, 4, 4, 32)          4128      \n",
            "_________________________________________________________________\n",
            "conv2d_29 (Conv2D)           (None, 2, 2, 32)          9248      \n",
            "_________________________________________________________________\n",
            "max_pooling2d_11 (MaxPooling (None, 1, 1, 32)          0         \n",
            "_________________________________________________________________\n",
            "conv2d_30 (Conv2D)           (None, 1, 1, 10)          330       \n",
            "_________________________________________________________________\n",
            "flatten_4 (Flatten)          (None, 10)                0         \n",
            "_________________________________________________________________\n",
            "activation_4 (Activation)    (None, 10)                0         \n",
            "=================================================================\n",
            "Total params: 184,682\n",
            "Trainable params: 184,682\n",
            "Non-trainable params: 0\n",
            "_________________________________________________________________\n"
          ],
          "name": "stdout"
        },
        {
          "output_type": "stream",
          "text": [
            "/usr/local/lib/python3.6/dist-packages/ipykernel_launcher.py:2: UserWarning: Update your `Conv2D` call to the Keras 2 API: `Conv2D(64, (3, 3), activation=\"relu\", input_shape=(28, 28, 1...)`\n",
            "  \n",
            "/usr/local/lib/python3.6/dist-packages/ipykernel_launcher.py:3: UserWarning: Update your `Conv2D` call to the Keras 2 API: `Conv2D(128, (3, 3), activation=\"relu\")`\n",
            "  This is separate from the ipykernel package so we can avoid doing imports until\n",
            "/usr/local/lib/python3.6/dist-packages/ipykernel_launcher.py:5: UserWarning: Update your `Conv2D` call to the Keras 2 API: `Conv2D(32, (1, 1), activation=\"relu\")`\n",
            "  \"\"\"\n",
            "/usr/local/lib/python3.6/dist-packages/ipykernel_launcher.py:6: UserWarning: Update your `Conv2D` call to the Keras 2 API: `Conv2D(64, (3, 3), activation=\"relu\")`\n",
            "  \n",
            "/usr/local/lib/python3.6/dist-packages/ipykernel_launcher.py:10: UserWarning: Update your `Conv2D` call to the Keras 2 API: `Conv2D(32, (3, 3), activation=\"relu\")`\n",
            "  # Remove the CWD from sys.path while we load stuff.\n",
            "/usr/local/lib/python3.6/dist-packages/ipykernel_launcher.py:12: UserWarning: Update your `Conv2D` call to the Keras 2 API: `Conv2D(10, (1, 1), activation=\"relu\")`\n",
            "  if sys.path[0] == '':\n"
          ],
          "name": "stderr"
        }
      ]
    },
    {
      "cell_type": "code",
      "metadata": {
        "id": "Cfosan-Y6dbR",
        "colab_type": "code",
        "colab": {}
      },
      "source": [
        "model3.compile(loss='categorical_crossentropy', \n",
        "              optimizer='adam',\n",
        "              metrics=['accuracy'])\n"
      ],
      "execution_count": 0,
      "outputs": []
    },
    {
      "cell_type": "code",
      "metadata": {
        "id": "Yo-RRgJL6dUs",
        "colab_type": "code",
        "colab": {
          "base_uri": "https://localhost:8080/",
          "height": 762
        },
        "outputId": "fdd6f3f4-0cb4-49e9-d175-c3631e76668c"
      },
      "source": [
        "model3.fit(X_train, y_train, batch_size=32, epochs=20, verbose=1)\n"
      ],
      "execution_count": 72,
      "outputs": [
        {
          "output_type": "stream",
          "text": [
            "Epoch 1/20\n",
            "60000/60000 [==============================] - 17s 290us/step - loss: 0.6985 - acc: 0.6978\n",
            "Epoch 2/20\n",
            "60000/60000 [==============================] - 18s 293us/step - loss: 0.7013 - acc: 0.6971\n",
            "Epoch 3/20\n",
            "60000/60000 [==============================] - 17s 285us/step - loss: 0.6988 - acc: 0.6979\n",
            "Epoch 4/20\n",
            "60000/60000 [==============================] - 17s 287us/step - loss: 0.6985 - acc: 0.6980\n",
            "Epoch 5/20\n",
            "60000/60000 [==============================] - 17s 288us/step - loss: 0.7000 - acc: 0.6975\n",
            "Epoch 6/20\n",
            "60000/60000 [==============================] - 17s 287us/step - loss: 0.6990 - acc: 0.6976\n",
            "Epoch 7/20\n",
            "60000/60000 [==============================] - 18s 294us/step - loss: 0.6987 - acc: 0.6978\n",
            "Epoch 8/20\n",
            "60000/60000 [==============================] - 17s 288us/step - loss: 0.6999 - acc: 0.6975\n",
            "Epoch 9/20\n",
            "60000/60000 [==============================] - 17s 290us/step - loss: 0.6991 - acc: 0.6977\n",
            "Epoch 10/20\n",
            "60000/60000 [==============================] - 17s 289us/step - loss: 0.6994 - acc: 0.6975\n",
            "Epoch 11/20\n",
            "60000/60000 [==============================] - 17s 290us/step - loss: 0.6992 - acc: 0.6978\n",
            "Epoch 12/20\n",
            "60000/60000 [==============================] - 17s 291us/step - loss: 0.6994 - acc: 0.6976\n",
            "Epoch 13/20\n",
            "60000/60000 [==============================] - 17s 289us/step - loss: 0.6984 - acc: 0.6977\n",
            "Epoch 14/20\n",
            "60000/60000 [==============================] - 17s 290us/step - loss: 0.6981 - acc: 0.6978\n",
            "Epoch 15/20\n",
            "60000/60000 [==============================] - 17s 290us/step - loss: 0.7009 - acc: 0.6975\n",
            "Epoch 16/20\n",
            "60000/60000 [==============================] - 17s 290us/step - loss: 0.7003 - acc: 0.6974\n",
            "Epoch 17/20\n",
            "60000/60000 [==============================] - 18s 292us/step - loss: 0.6981 - acc: 0.6979\n",
            "Epoch 18/20\n",
            "60000/60000 [==============================] - 18s 293us/step - loss: 0.6990 - acc: 0.6979\n",
            "Epoch 19/20\n",
            "60000/60000 [==============================] - 17s 291us/step - loss: 0.7009 - acc: 0.6972\n",
            "Epoch 20/20\n",
            "60000/60000 [==============================] - 17s 287us/step - loss: 0.7001 - acc: 0.6977\n"
          ],
          "name": "stdout"
        },
        {
          "output_type": "execute_result",
          "data": {
            "text/plain": [
              "<keras.callbacks.History at 0x7f0808c3d5c0>"
            ]
          },
          "metadata": {
            "tags": []
          },
          "execution_count": 72
        }
      ]
    },
    {
      "cell_type": "code",
      "metadata": {
        "id": "qonMoxpHBIaR",
        "colab_type": "code",
        "colab": {
          "base_uri": "https://localhost:8080/",
          "height": 53
        },
        "outputId": "93895211-a3ac-4a41-a160-2de5a12a6c57"
      },
      "source": [
        "score = model3.evaluate(X_test, y_test)\n",
        "print(score)"
      ],
      "execution_count": 73,
      "outputs": [
        {
          "output_type": "stream",
          "text": [
            "10000/10000 [==============================] - 1s 94us/step\n",
            "[0.7406525455474854, 0.693]\n"
          ],
          "name": "stdout"
        }
      ]
    },
    {
      "cell_type": "code",
      "metadata": {
        "id": "snnC3_0_Dhyj",
        "colab_type": "code",
        "colab": {
          "base_uri": "https://localhost:8080/",
          "height": 945
        },
        "outputId": "e56c4c7e-d7ee-4f77-ce8a-8ddd540297b2"
      },
      "source": [
        "model4 = Sequential()\n",
        "model4.add(Conv2D(32, 3, 3, activation='relu', input_shape=(28,28,1)))\n",
        "model4.add(Conv2D(64, 3, 3, activation='relu'))\t#26\n",
        "model4.add(Conv2D(128, 3, 3, activation='relu')) # 24\n",
        "model4.add(Conv2D(256, 3, 3, activation='relu')) # 22\n",
        "model4.add(MaxPooling2D(2)) # 11\n",
        "model4.add(Conv2D(32, 1, 1, activation='relu')) # 11 \n",
        "model4.add(Conv2D(32, 3, 3, activation='relu')) # 9\n",
        "model4.add(Conv2D(64, 3, 3, activation='relu')) #7\n",
        "model4.add(MaxPooling2D(2))\t# 3\n",
        "model4.add(Conv2D(32, 1, 1, activation='relu')) # 3 \n",
        "model4.add(Conv2D(32, 3, 3, activation='relu')) # 1 \n",
        "model4.add(Conv2D(10, 1, 1, activation='relu')) # 1 \n",
        "model4.add(Flatten())\n",
        "model4.add(Activation('softmax'))\n",
        "model4.summary()\n"
      ],
      "execution_count": 40,
      "outputs": [
        {
          "output_type": "stream",
          "text": [
            "Model: \"sequential_5\"\n",
            "_________________________________________________________________\n",
            "Layer (type)                 Output Shape              Param #   \n",
            "=================================================================\n",
            "conv2d_31 (Conv2D)           (None, 26, 26, 32)        320       \n",
            "_________________________________________________________________\n",
            "conv2d_32 (Conv2D)           (None, 24, 24, 64)        18496     \n",
            "_________________________________________________________________\n",
            "conv2d_33 (Conv2D)           (None, 22, 22, 128)       73856     \n",
            "_________________________________________________________________\n",
            "conv2d_34 (Conv2D)           (None, 20, 20, 256)       295168    \n",
            "_________________________________________________________________\n",
            "max_pooling2d_12 (MaxPooling (None, 10, 10, 256)       0         \n",
            "_________________________________________________________________\n",
            "conv2d_35 (Conv2D)           (None, 10, 10, 32)        8224      \n",
            "_________________________________________________________________\n",
            "conv2d_36 (Conv2D)           (None, 8, 8, 32)          9248      \n",
            "_________________________________________________________________\n",
            "conv2d_37 (Conv2D)           (None, 6, 6, 64)          18496     \n",
            "_________________________________________________________________\n",
            "max_pooling2d_13 (MaxPooling (None, 3, 3, 64)          0         \n",
            "_________________________________________________________________\n",
            "conv2d_38 (Conv2D)           (None, 3, 3, 32)          2080      \n",
            "_________________________________________________________________\n",
            "conv2d_39 (Conv2D)           (None, 1, 1, 32)          9248      \n",
            "_________________________________________________________________\n",
            "conv2d_40 (Conv2D)           (None, 1, 1, 10)          330       \n",
            "_________________________________________________________________\n",
            "flatten_5 (Flatten)          (None, 10)                0         \n",
            "_________________________________________________________________\n",
            "activation_5 (Activation)    (None, 10)                0         \n",
            "=================================================================\n",
            "Total params: 435,466\n",
            "Trainable params: 435,466\n",
            "Non-trainable params: 0\n",
            "_________________________________________________________________\n"
          ],
          "name": "stdout"
        },
        {
          "output_type": "stream",
          "text": [
            "/usr/local/lib/python3.6/dist-packages/ipykernel_launcher.py:2: UserWarning: Update your `Conv2D` call to the Keras 2 API: `Conv2D(32, (3, 3), activation=\"relu\", input_shape=(28, 28, 1...)`\n",
            "  \n",
            "/usr/local/lib/python3.6/dist-packages/ipykernel_launcher.py:3: UserWarning: Update your `Conv2D` call to the Keras 2 API: `Conv2D(64, (3, 3), activation=\"relu\")`\n",
            "  This is separate from the ipykernel package so we can avoid doing imports until\n",
            "/usr/local/lib/python3.6/dist-packages/ipykernel_launcher.py:4: UserWarning: Update your `Conv2D` call to the Keras 2 API: `Conv2D(128, (3, 3), activation=\"relu\")`\n",
            "  after removing the cwd from sys.path.\n",
            "/usr/local/lib/python3.6/dist-packages/ipykernel_launcher.py:5: UserWarning: Update your `Conv2D` call to the Keras 2 API: `Conv2D(256, (3, 3), activation=\"relu\")`\n",
            "  \"\"\"\n",
            "/usr/local/lib/python3.6/dist-packages/ipykernel_launcher.py:7: UserWarning: Update your `Conv2D` call to the Keras 2 API: `Conv2D(32, (1, 1), activation=\"relu\")`\n",
            "  import sys\n",
            "/usr/local/lib/python3.6/dist-packages/ipykernel_launcher.py:8: UserWarning: Update your `Conv2D` call to the Keras 2 API: `Conv2D(32, (3, 3), activation=\"relu\")`\n",
            "  \n",
            "/usr/local/lib/python3.6/dist-packages/ipykernel_launcher.py:13: UserWarning: Update your `Conv2D` call to the Keras 2 API: `Conv2D(10, (1, 1), activation=\"relu\")`\n",
            "  del sys.path[0]\n"
          ],
          "name": "stderr"
        }
      ]
    },
    {
      "cell_type": "code",
      "metadata": {
        "id": "RiEyiXlbDhvH",
        "colab_type": "code",
        "colab": {}
      },
      "source": [
        "model4.compile(loss='categorical_crossentropy', \n",
        "              optimizer='adam',\n",
        "              metrics=['accuracy'])"
      ],
      "execution_count": 0,
      "outputs": []
    },
    {
      "cell_type": "code",
      "metadata": {
        "id": "Oqn5uW1QDhrV",
        "colab_type": "code",
        "colab": {
          "base_uri": "https://localhost:8080/",
          "height": 762
        },
        "outputId": "68465d3d-cd79-4dfc-a125-ff4d6da43807"
      },
      "source": [
        "model4.fit(X_train, y_train, batch_size=32, epochs=20, verbose=1)\n"
      ],
      "execution_count": 74,
      "outputs": [
        {
          "output_type": "stream",
          "text": [
            "Epoch 1/20\n",
            "60000/60000 [==============================] - 22s 359us/step - loss: 0.6906 - acc: 0.8004\n",
            "Epoch 2/20\n",
            "60000/60000 [==============================] - 22s 362us/step - loss: 0.6898 - acc: 0.8005\n",
            "Epoch 3/20\n",
            "60000/60000 [==============================] - 22s 359us/step - loss: 0.6902 - acc: 0.8004\n",
            "Epoch 4/20\n",
            "60000/60000 [==============================] - 22s 361us/step - loss: 0.6890 - acc: 0.8006\n",
            "Epoch 5/20\n",
            "60000/60000 [==============================] - 21s 357us/step - loss: 0.6891 - acc: 0.8009\n",
            "Epoch 6/20\n",
            "60000/60000 [==============================] - 22s 361us/step - loss: 0.6901 - acc: 0.8004\n",
            "Epoch 7/20\n",
            "60000/60000 [==============================] - 22s 361us/step - loss: 0.6886 - acc: 0.8009\n",
            "Epoch 8/20\n",
            "60000/60000 [==============================] - 22s 361us/step - loss: 0.6910 - acc: 0.8001\n",
            "Epoch 9/20\n",
            "60000/60000 [==============================] - 22s 362us/step - loss: 0.6888 - acc: 0.8007\n",
            "Epoch 10/20\n",
            "60000/60000 [==============================] - 22s 360us/step - loss: 0.6894 - acc: 0.8009\n",
            "Epoch 11/20\n",
            "60000/60000 [==============================] - 22s 360us/step - loss: 0.6894 - acc: 0.8009\n",
            "Epoch 12/20\n",
            "60000/60000 [==============================] - 22s 362us/step - loss: 0.6893 - acc: 0.8008\n",
            "Epoch 13/20\n",
            "60000/60000 [==============================] - 22s 360us/step - loss: 0.6882 - acc: 0.8011\n",
            "Epoch 14/20\n",
            "60000/60000 [==============================] - 22s 361us/step - loss: 0.6882 - acc: 0.8010\n",
            "Epoch 15/20\n",
            "60000/60000 [==============================] - 22s 362us/step - loss: 0.6875 - acc: 0.8012\n",
            "Epoch 16/20\n",
            "60000/60000 [==============================] - 22s 361us/step - loss: 0.6907 - acc: 0.8005\n",
            "Epoch 17/20\n",
            "60000/60000 [==============================] - 22s 359us/step - loss: 0.6877 - acc: 0.8015\n",
            "Epoch 18/20\n",
            "60000/60000 [==============================] - 22s 367us/step - loss: 0.6893 - acc: 0.8007\n",
            "Epoch 19/20\n",
            "60000/60000 [==============================] - 22s 361us/step - loss: 0.6884 - acc: 0.8013\n",
            "Epoch 20/20\n",
            "60000/60000 [==============================] - 22s 362us/step - loss: 0.6896 - acc: 0.8006\n"
          ],
          "name": "stdout"
        },
        {
          "output_type": "execute_result",
          "data": {
            "text/plain": [
              "<keras.callbacks.History at 0x7f0808be3b38>"
            ]
          },
          "metadata": {
            "tags": []
          },
          "execution_count": 74
        }
      ]
    },
    {
      "cell_type": "code",
      "metadata": {
        "id": "wOz6B-dhDhnX",
        "colab_type": "code",
        "colab": {
          "base_uri": "https://localhost:8080/",
          "height": 53
        },
        "outputId": "994a7a05-989f-4ed0-c66d-749ea3fca83c"
      },
      "source": [
        "score = model4.evaluate(X_test, y_test)\n",
        "print(score)"
      ],
      "execution_count": 75,
      "outputs": [
        {
          "output_type": "stream",
          "text": [
            "10000/10000 [==============================] - 1s 115us/step\n",
            "[0.7402312784194947, 0.7885]\n"
          ],
          "name": "stdout"
        }
      ]
    },
    {
      "cell_type": "code",
      "metadata": {
        "id": "oIy1sxCqDhW-",
        "colab_type": "code",
        "colab": {}
      },
      "source": [
        ""
      ],
      "execution_count": 0,
      "outputs": []
    },
    {
      "cell_type": "code",
      "metadata": {
        "id": "FTcJBOQsDhSq",
        "colab_type": "code",
        "colab": {
          "base_uri": "https://localhost:8080/",
          "height": 671
        },
        "outputId": "5620edda-a7a1-42f8-83ab-74574edc526e"
      },
      "source": [
        "model5 = Sequential()\n",
        "model5.add(Conv2D(64, 3, activation='relu', input_shape=(28,28,1)))\n",
        "model5.add(Conv2D(128, 3, activation='relu'))\t#24\n",
        "model5.add(MaxPooling2D(2)) # 12\n",
        "model5.add(Conv2D(64, 1, activation='relu')) # 12\n",
        "model5.add(Conv2D(64, 3, activation='relu')) # 10\n",
        "model5.add(Conv2D(128, 3, activation='relu')) # 8 \n",
        "model5.add(MaxPooling2D(2)) # 4\n",
        "model5.add(Conv2D(64, 1, activation='relu')) # 4\n",
        "model5.add(Conv2D(64, 3, activation='relu')) #2\n",
        "model5.add(MaxPooling2D(2))\t #1\n",
        "model5.add(Conv2D(10, 1, 1, activation='relu')) # 1 \n",
        "model5.add(Flatten())\n",
        "model5.add(Activation('softmax'))\n",
        "model5.summary()"
      ],
      "execution_count": 44,
      "outputs": [
        {
          "output_type": "stream",
          "text": [
            "Model: \"sequential_6\"\n",
            "_________________________________________________________________\n",
            "Layer (type)                 Output Shape              Param #   \n",
            "=================================================================\n",
            "conv2d_41 (Conv2D)           (None, 26, 26, 64)        640       \n",
            "_________________________________________________________________\n",
            "conv2d_42 (Conv2D)           (None, 24, 24, 128)       73856     \n",
            "_________________________________________________________________\n",
            "max_pooling2d_14 (MaxPooling (None, 12, 12, 128)       0         \n",
            "_________________________________________________________________\n",
            "conv2d_43 (Conv2D)           (None, 12, 12, 64)        8256      \n",
            "_________________________________________________________________\n",
            "conv2d_44 (Conv2D)           (None, 10, 10, 64)        36928     \n",
            "_________________________________________________________________\n",
            "conv2d_45 (Conv2D)           (None, 8, 8, 128)         73856     \n",
            "_________________________________________________________________\n",
            "max_pooling2d_15 (MaxPooling (None, 4, 4, 128)         0         \n",
            "_________________________________________________________________\n",
            "conv2d_46 (Conv2D)           (None, 4, 4, 64)          8256      \n",
            "_________________________________________________________________\n",
            "conv2d_47 (Conv2D)           (None, 2, 2, 64)          36928     \n",
            "_________________________________________________________________\n",
            "max_pooling2d_16 (MaxPooling (None, 1, 1, 64)          0         \n",
            "_________________________________________________________________\n",
            "conv2d_48 (Conv2D)           (None, 1, 1, 10)          650       \n",
            "_________________________________________________________________\n",
            "flatten_6 (Flatten)          (None, 10)                0         \n",
            "_________________________________________________________________\n",
            "activation_6 (Activation)    (None, 10)                0         \n",
            "=================================================================\n",
            "Total params: 239,370\n",
            "Trainable params: 239,370\n",
            "Non-trainable params: 0\n",
            "_________________________________________________________________\n"
          ],
          "name": "stdout"
        },
        {
          "output_type": "stream",
          "text": [
            "/usr/local/lib/python3.6/dist-packages/ipykernel_launcher.py:12: UserWarning: Update your `Conv2D` call to the Keras 2 API: `Conv2D(10, (1, 1), activation=\"relu\")`\n",
            "  if sys.path[0] == '':\n"
          ],
          "name": "stderr"
        }
      ]
    },
    {
      "cell_type": "code",
      "metadata": {
        "id": "tLu6kMOVDhLw",
        "colab_type": "code",
        "colab": {}
      },
      "source": [
        "model5.compile(loss='categorical_crossentropy', \n",
        "              optimizer='adam',\n",
        "              metrics=['accuracy'])"
      ],
      "execution_count": 0,
      "outputs": []
    },
    {
      "cell_type": "code",
      "metadata": {
        "id": "1PRVe-_mFd8X",
        "colab_type": "code",
        "colab": {
          "base_uri": "https://localhost:8080/",
          "height": 762
        },
        "outputId": "60e8ffe5-bff4-47c4-eee1-6b0c23c9727e"
      },
      "source": [
        "model5.fit(X_train, y_train, batch_size=32, epochs=20, verbose=1)\n"
      ],
      "execution_count": 76,
      "outputs": [
        {
          "output_type": "stream",
          "text": [
            "Epoch 1/20\n",
            "60000/60000 [==============================] - 17s 287us/step - loss: 0.7315 - acc: 0.6844\n",
            "Epoch 2/20\n",
            "60000/60000 [==============================] - 17s 290us/step - loss: 0.7333 - acc: 0.6842\n",
            "Epoch 3/20\n",
            "60000/60000 [==============================] - 17s 286us/step - loss: 0.7309 - acc: 0.6846\n",
            "Epoch 4/20\n",
            "60000/60000 [==============================] - 17s 289us/step - loss: 0.7353 - acc: 0.6841\n",
            "Epoch 5/20\n",
            "60000/60000 [==============================] - 17s 289us/step - loss: 0.7300 - acc: 0.6848\n",
            "Epoch 6/20\n",
            "60000/60000 [==============================] - 17s 287us/step - loss: 0.7323 - acc: 0.6842\n",
            "Epoch 7/20\n",
            "60000/60000 [==============================] - 17s 289us/step - loss: 0.7325 - acc: 0.6844\n",
            "Epoch 8/20\n",
            "60000/60000 [==============================] - 18s 293us/step - loss: 0.7298 - acc: 0.6848\n",
            "Epoch 9/20\n",
            "60000/60000 [==============================] - 17s 289us/step - loss: 0.7328 - acc: 0.6843\n",
            "Epoch 10/20\n",
            "60000/60000 [==============================] - 17s 288us/step - loss: 0.7318 - acc: 0.6842\n",
            "Epoch 11/20\n",
            "60000/60000 [==============================] - 17s 285us/step - loss: 0.7327 - acc: 0.6844\n",
            "Epoch 12/20\n",
            "60000/60000 [==============================] - 17s 286us/step - loss: 0.7324 - acc: 0.6842\n",
            "Epoch 13/20\n",
            "60000/60000 [==============================] - 17s 287us/step - loss: 0.7337 - acc: 0.6842\n",
            "Epoch 14/20\n",
            "60000/60000 [==============================] - 17s 286us/step - loss: 0.7304 - acc: 0.6846\n",
            "Epoch 15/20\n",
            "60000/60000 [==============================] - 17s 291us/step - loss: 0.7363 - acc: 0.6833\n",
            "Epoch 16/20\n",
            "60000/60000 [==============================] - 17s 285us/step - loss: 0.7331 - acc: 0.6841\n",
            "Epoch 17/20\n",
            "60000/60000 [==============================] - 17s 284us/step - loss: 0.7372 - acc: 0.6837\n",
            "Epoch 18/20\n",
            "60000/60000 [==============================] - 17s 287us/step - loss: 0.7360 - acc: 0.6839\n",
            "Epoch 19/20\n",
            "60000/60000 [==============================] - 17s 284us/step - loss: 0.7316 - acc: 0.6844\n",
            "Epoch 20/20\n",
            "60000/60000 [==============================] - 17s 284us/step - loss: 0.7349 - acc: 0.6837\n"
          ],
          "name": "stdout"
        },
        {
          "output_type": "execute_result",
          "data": {
            "text/plain": [
              "<keras.callbacks.History at 0x7f0808ca0748>"
            ]
          },
          "metadata": {
            "tags": []
          },
          "execution_count": 76
        }
      ]
    },
    {
      "cell_type": "code",
      "metadata": {
        "id": "yF2iKd6DFd3x",
        "colab_type": "code",
        "colab": {
          "base_uri": "https://localhost:8080/",
          "height": 53
        },
        "outputId": "e729c614-e80b-45a9-86ff-2bd1e0e10a39"
      },
      "source": [
        "score = model5.evaluate(X_test, y_test)\n",
        "print(score)"
      ],
      "execution_count": 77,
      "outputs": [
        {
          "output_type": "stream",
          "text": [
            "10000/10000 [==============================] - 2s 187us/step\n",
            "[0.771019394493103, 0.6785]\n"
          ],
          "name": "stdout"
        }
      ]
    },
    {
      "cell_type": "code",
      "metadata": {
        "id": "xgzLRj_LFd0F",
        "colab_type": "code",
        "colab": {}
      },
      "source": [
        ""
      ],
      "execution_count": 0,
      "outputs": []
    },
    {
      "cell_type": "markdown",
      "metadata": {
        "id": "lKGL16cUNmFT",
        "colab_type": "text"
      },
      "source": [
        "# Final Model"
      ]
    },
    {
      "cell_type": "code",
      "metadata": {
        "id": "aIK4JmfAFdvb",
        "colab_type": "code",
        "colab": {
          "base_uri": "https://localhost:8080/",
          "height": 562
        },
        "outputId": "86ad22ea-122b-495a-fc61-28476a2d2a5b"
      },
      "source": [
        "model6 = Sequential()\n",
        "model6.add(Conv2D(32, 3, activation='relu', input_shape=(28,28,1)))\n",
        "model6.add(Conv2D(64, 3, activation='relu')) \n",
        "model6.add(MaxPooling2D(2))                  \n",
        "model6.add(Conv2D(32, 3, activation='relu')) \n",
        "model6.add(Conv2D(64, 3, activation='relu')) \n",
        "model6.add(MaxPooling2D(2))                  \n",
        "model6.add(Conv2D(32, 3, activation='relu')) \n",
        "model6.add(MaxPooling2D(2))                  \n",
        "model6.add(Conv2D(10, 1, activation='relu')) \n",
        "model6.add(Flatten())\n",
        "model6.add(Activation('softmax'))\n",
        "model6.summary()\n"
      ],
      "execution_count": 47,
      "outputs": [
        {
          "output_type": "stream",
          "text": [
            "Model: \"sequential_7\"\n",
            "_________________________________________________________________\n",
            "Layer (type)                 Output Shape              Param #   \n",
            "=================================================================\n",
            "conv2d_49 (Conv2D)           (None, 26, 26, 32)        320       \n",
            "_________________________________________________________________\n",
            "conv2d_50 (Conv2D)           (None, 24, 24, 64)        18496     \n",
            "_________________________________________________________________\n",
            "max_pooling2d_17 (MaxPooling (None, 12, 12, 64)        0         \n",
            "_________________________________________________________________\n",
            "conv2d_51 (Conv2D)           (None, 10, 10, 32)        18464     \n",
            "_________________________________________________________________\n",
            "conv2d_52 (Conv2D)           (None, 8, 8, 64)          18496     \n",
            "_________________________________________________________________\n",
            "max_pooling2d_18 (MaxPooling (None, 4, 4, 64)          0         \n",
            "_________________________________________________________________\n",
            "conv2d_53 (Conv2D)           (None, 2, 2, 32)          18464     \n",
            "_________________________________________________________________\n",
            "max_pooling2d_19 (MaxPooling (None, 1, 1, 32)          0         \n",
            "_________________________________________________________________\n",
            "conv2d_54 (Conv2D)           (None, 1, 1, 10)          330       \n",
            "_________________________________________________________________\n",
            "flatten_7 (Flatten)          (None, 10)                0         \n",
            "_________________________________________________________________\n",
            "activation_7 (Activation)    (None, 10)                0         \n",
            "=================================================================\n",
            "Total params: 74,570\n",
            "Trainable params: 74,570\n",
            "Non-trainable params: 0\n",
            "_________________________________________________________________\n"
          ],
          "name": "stdout"
        }
      ]
    },
    {
      "cell_type": "code",
      "metadata": {
        "id": "vHIYpN6fFdlP",
        "colab_type": "code",
        "colab": {}
      },
      "source": [
        "model6.compile(loss='categorical_crossentropy', \n",
        "              optimizer='adam',\n",
        "              metrics=['accuracy'])\n"
      ],
      "execution_count": 0,
      "outputs": []
    },
    {
      "cell_type": "code",
      "metadata": {
        "id": "VBdcqWTDFdgW",
        "colab_type": "code",
        "colab": {
          "base_uri": "https://localhost:8080/",
          "height": 762
        },
        "outputId": "4978bc15-ed19-4855-ba0b-d5a186f29c2c"
      },
      "source": [
        "model6.fit(X_train, y_train, batch_size=32, epochs=20, verbose=1)\n"
      ],
      "execution_count": 49,
      "outputs": [
        {
          "output_type": "stream",
          "text": [
            "Epoch 1/20\n",
            "60000/60000 [==============================] - 16s 263us/step - loss: 0.1694 - acc: 0.9482\n",
            "Epoch 2/20\n",
            "60000/60000 [==============================] - 14s 238us/step - loss: 0.0513 - acc: 0.9843\n",
            "Epoch 3/20\n",
            "60000/60000 [==============================] - 14s 239us/step - loss: 0.0362 - acc: 0.9889\n",
            "Epoch 4/20\n",
            "60000/60000 [==============================] - 14s 240us/step - loss: 0.0287 - acc: 0.9913\n",
            "Epoch 5/20\n",
            "60000/60000 [==============================] - 15s 245us/step - loss: 0.0234 - acc: 0.9924\n",
            "Epoch 6/20\n",
            "60000/60000 [==============================] - 14s 241us/step - loss: 0.0195 - acc: 0.9939\n",
            "Epoch 7/20\n",
            "60000/60000 [==============================] - 15s 243us/step - loss: 0.0152 - acc: 0.9953\n",
            "Epoch 8/20\n",
            "60000/60000 [==============================] - 14s 242us/step - loss: 0.0131 - acc: 0.9958\n",
            "Epoch 9/20\n",
            "60000/60000 [==============================] - 14s 239us/step - loss: 0.0128 - acc: 0.9959\n",
            "Epoch 10/20\n",
            "60000/60000 [==============================] - 14s 239us/step - loss: 0.0110 - acc: 0.9964\n",
            "Epoch 11/20\n",
            "60000/60000 [==============================] - 14s 239us/step - loss: 0.0094 - acc: 0.9968\n",
            "Epoch 12/20\n",
            "60000/60000 [==============================] - 14s 240us/step - loss: 0.0085 - acc: 0.9974\n",
            "Epoch 13/20\n",
            "60000/60000 [==============================] - 14s 241us/step - loss: 0.0090 - acc: 0.9969\n",
            "Epoch 14/20\n",
            "60000/60000 [==============================] - 14s 240us/step - loss: 0.0071 - acc: 0.9976\n",
            "Epoch 15/20\n",
            "60000/60000 [==============================] - 14s 240us/step - loss: 0.0066 - acc: 0.9978\n",
            "Epoch 16/20\n",
            "60000/60000 [==============================] - 14s 240us/step - loss: 0.0075 - acc: 0.9977\n",
            "Epoch 17/20\n",
            "60000/60000 [==============================] - 14s 240us/step - loss: 0.0069 - acc: 0.9979\n",
            "Epoch 18/20\n",
            "60000/60000 [==============================] - 14s 240us/step - loss: 0.0063 - acc: 0.9980\n",
            "Epoch 19/20\n",
            "60000/60000 [==============================] - 14s 241us/step - loss: 0.0065 - acc: 0.9978\n",
            "Epoch 20/20\n",
            "60000/60000 [==============================] - 14s 240us/step - loss: 0.0057 - acc: 0.9981\n"
          ],
          "name": "stdout"
        },
        {
          "output_type": "execute_result",
          "data": {
            "text/plain": [
              "<keras.callbacks.History at 0x7f080a37f1d0>"
            ]
          },
          "metadata": {
            "tags": []
          },
          "execution_count": 49
        }
      ]
    },
    {
      "cell_type": "code",
      "metadata": {
        "id": "35NZ2j9hFdY0",
        "colab_type": "code",
        "colab": {
          "base_uri": "https://localhost:8080/",
          "height": 53
        },
        "outputId": "f3cd9c56-9f59-41bb-c883-3e67dc9ca1d3"
      },
      "source": [
        "score = model6.evaluate(X_test, y_test)\n",
        "print(score)"
      ],
      "execution_count": 50,
      "outputs": [
        {
          "output_type": "stream",
          "text": [
            "10000/10000 [==============================] - 1s 131us/step\n",
            "[0.033343484246313164, 0.9933]\n"
          ],
          "name": "stdout"
        }
      ]
    },
    {
      "cell_type": "code",
      "metadata": {
        "id": "o5DiTR6jJ8_u",
        "colab_type": "code",
        "colab": {}
      },
      "source": [
        ""
      ],
      "execution_count": 0,
      "outputs": []
    },
    {
      "cell_type": "code",
      "metadata": {
        "id": "OijPz1cHJ82p",
        "colab_type": "code",
        "colab": {}
      },
      "source": [
        ""
      ],
      "execution_count": 0,
      "outputs": []
    },
    {
      "cell_type": "markdown",
      "metadata": {
        "id": "22RQT1ev6Qad",
        "colab_type": "text"
      },
      "source": [
        "## Futher Experiments\n",
        "Trying filter numbers as multiples of 8 and a different architecture \n",
        " > I got to know that GPUs are accelerated for multiples of 8, creating networks using the info, visualizing first layer filters and see what difference does it make"
      ]
    },
    {
      "cell_type": "code",
      "metadata": {
        "id": "G_WvZNrYzfrf",
        "colab_type": "code",
        "outputId": "ca1bc192-96fe-4024-e4df-9ee7e5d46bc7",
        "colab": {
          "base_uri": "https://localhost:8080/",
          "height": 219
        }
      },
      "source": [
        "model2 = Sequential()\n",
        "\n",
        "model2.add(Conv2D(8, 3, 3, activation='relu', input_shape=(28,28,1))) # 28x28x1x8 with 3x3x1x8 -> 26x26x8\n",
        "model2.add(Conv2D(16, 3, 3, activation='relu'))   # 26x26x8 with 3x3x8x16 -> 24x24x16\n",
        "# reached receptive field of 5\n",
        "# transition\n",
        "model2.add(MaxPooling2D(2))   # Maxpooling -> 12x12x16\n",
        "# model2.add(Conv2D(8, 1, 1, activation='relu'))    # 12x12x16 with 1x1x16x8 -> 12x12x8\n",
        "#\n",
        "model2.add(Conv2D(8, 3, 3, activation='relu'))     # 12x12x16 with 3x3x16x8 -> 10x10x8\n",
        "model2.add(Conv2D(16, 3, 3, activation='relu'))   # 10x10x8 with 3x3x8x16 -> 8x8x16\n",
        "model2.add(Conv2D(32, 3, 3, activation='relu'))   # 8x8x16 with 3x3x16x32 -> 6x6x32\n",
        "# model2.add(Conv2D(64, 3, 3, activation='relu'))    # 6x6x32 with 3x3x32x64 -> 4x4x64\n",
        "# model2.add(Conv2D(10, 1, 1, activation='relu'))   # 2x2x64 -> MaxPool -> 1x1x10\n",
        "model2.add(MaxPooling2D(2))   # Maxpooling -> 3x3x32\n",
        "model2.add(Conv2D(10, 3, 3, activation='relu'))   # 3x3x32 with 3x3x32x10 -> 1x1x10\n",
        "model2.add(Flatten())\n",
        "model2.add(Activation('softmax'))"
      ],
      "execution_count": 35,
      "outputs": [
        {
          "output_type": "stream",
          "text": [
            "/usr/local/lib/python3.6/dist-packages/ipykernel_launcher.py:3: UserWarning: Update your `Conv2D` call to the Keras 2 API: `Conv2D(8, (3, 3), activation=\"relu\", input_shape=(28, 28, 1...)`\n",
            "  This is separate from the ipykernel package so we can avoid doing imports until\n",
            "/usr/local/lib/python3.6/dist-packages/ipykernel_launcher.py:4: UserWarning: Update your `Conv2D` call to the Keras 2 API: `Conv2D(16, (3, 3), activation=\"relu\")`\n",
            "  after removing the cwd from sys.path.\n",
            "/usr/local/lib/python3.6/dist-packages/ipykernel_launcher.py:10: UserWarning: Update your `Conv2D` call to the Keras 2 API: `Conv2D(8, (3, 3), activation=\"relu\")`\n",
            "  # Remove the CWD from sys.path while we load stuff.\n",
            "/usr/local/lib/python3.6/dist-packages/ipykernel_launcher.py:12: UserWarning: Update your `Conv2D` call to the Keras 2 API: `Conv2D(32, (3, 3), activation=\"relu\")`\n",
            "  if sys.path[0] == '':\n",
            "/usr/local/lib/python3.6/dist-packages/ipykernel_launcher.py:16: UserWarning: Update your `Conv2D` call to the Keras 2 API: `Conv2D(10, (3, 3), activation=\"relu\")`\n",
            "  app.launch_new_instance()\n"
          ],
          "name": "stderr"
        }
      ]
    },
    {
      "cell_type": "code",
      "metadata": {
        "id": "C45wzubFus0v",
        "colab_type": "code",
        "outputId": "0a70d1f9-d3c5-4e45-e18d-07100feb1174",
        "colab": {
          "base_uri": "https://localhost:8080/",
          "height": 526
        }
      },
      "source": [
        "model2.summary()"
      ],
      "execution_count": 36,
      "outputs": [
        {
          "output_type": "stream",
          "text": [
            "Model: \"sequential_2\"\n",
            "_________________________________________________________________\n",
            "Layer (type)                 Output Shape              Param #   \n",
            "=================================================================\n",
            "conv2d_9 (Conv2D)            (None, 26, 26, 8)         80        \n",
            "_________________________________________________________________\n",
            "conv2d_10 (Conv2D)           (None, 24, 24, 16)        1168      \n",
            "_________________________________________________________________\n",
            "max_pooling2d_4 (MaxPooling2 (None, 12, 12, 16)        0         \n",
            "_________________________________________________________________\n",
            "conv2d_11 (Conv2D)           (None, 10, 10, 8)         1160      \n",
            "_________________________________________________________________\n",
            "conv2d_12 (Conv2D)           (None, 8, 8, 16)          1168      \n",
            "_________________________________________________________________\n",
            "conv2d_13 (Conv2D)           (None, 6, 6, 32)          4640      \n",
            "_________________________________________________________________\n",
            "max_pooling2d_5 (MaxPooling2 (None, 3, 3, 32)          0         \n",
            "_________________________________________________________________\n",
            "conv2d_14 (Conv2D)           (None, 1, 1, 10)          2890      \n",
            "_________________________________________________________________\n",
            "flatten_2 (Flatten)          (None, 10)                0         \n",
            "_________________________________________________________________\n",
            "activation_2 (Activation)    (None, 10)                0         \n",
            "=================================================================\n",
            "Total params: 11,106\n",
            "Trainable params: 11,106\n",
            "Non-trainable params: 0\n",
            "_________________________________________________________________\n"
          ],
          "name": "stdout"
        }
      ]
    },
    {
      "cell_type": "code",
      "metadata": {
        "id": "vR6lInDYzfnu",
        "colab_type": "code",
        "colab": {}
      },
      "source": [
        "model2.compile(loss='categorical_crossentropy', \n",
        "              optimizer='adam',\n",
        "              metrics=['accuracy'])"
      ],
      "execution_count": 0,
      "outputs": []
    },
    {
      "cell_type": "code",
      "metadata": {
        "id": "mCCqGIs5zfjn",
        "colab_type": "code",
        "outputId": "2ae1a262-cda0-4bd0-b6f2-37bdf7ba9dfc",
        "colab": {
          "base_uri": "https://localhost:8080/",
          "height": 399
        }
      },
      "source": [
        "model2.fit(X_train, y_train, batch_size=32, epochs=10, verbose=1)"
      ],
      "execution_count": 38,
      "outputs": [
        {
          "output_type": "stream",
          "text": [
            "Epoch 1/10\n",
            "60000/60000 [==============================] - 19s 310us/step - loss: 0.7910 - acc: 0.6983\n",
            "Epoch 2/10\n",
            "60000/60000 [==============================] - 18s 293us/step - loss: 0.5293 - acc: 0.7861\n",
            "Epoch 3/10\n",
            "60000/60000 [==============================] - 17s 289us/step - loss: 0.5123 - acc: 0.7894\n",
            "Epoch 4/10\n",
            "60000/60000 [==============================] - 17s 290us/step - loss: 0.5033 - acc: 0.7911\n",
            "Epoch 5/10\n",
            "60000/60000 [==============================] - 17s 289us/step - loss: 0.4969 - acc: 0.7920\n",
            "Epoch 6/10\n",
            "60000/60000 [==============================] - 17s 288us/step - loss: 0.4911 - acc: 0.7934\n",
            "Epoch 7/10\n",
            "60000/60000 [==============================] - 17s 289us/step - loss: 0.4872 - acc: 0.7942\n",
            "Epoch 8/10\n",
            "60000/60000 [==============================] - 17s 289us/step - loss: 0.4851 - acc: 0.7946\n",
            "Epoch 9/10\n",
            "60000/60000 [==============================] - 17s 289us/step - loss: 0.4832 - acc: 0.7954\n",
            "Epoch 10/10\n",
            "60000/60000 [==============================] - 17s 290us/step - loss: 0.4796 - acc: 0.7957\n"
          ],
          "name": "stdout"
        },
        {
          "output_type": "execute_result",
          "data": {
            "text/plain": [
              "<keras.callbacks.History at 0x7f81667b2da0>"
            ]
          },
          "metadata": {
            "tags": []
          },
          "execution_count": 38
        }
      ]
    },
    {
      "cell_type": "code",
      "metadata": {
        "id": "K24bC5DB2kQm",
        "colab_type": "code",
        "outputId": "9705d57c-ebb3-47f6-9177-705ab52c31cd",
        "colab": {
          "base_uri": "https://localhost:8080/",
          "height": 199
        }
      },
      "source": [
        "dict([(layer.name, layer) for layer in model2.layers])"
      ],
      "execution_count": 40,
      "outputs": [
        {
          "output_type": "execute_result",
          "data": {
            "text/plain": [
              "{'activation_2': <keras.layers.core.Activation at 0x7f816b227da0>,\n",
              " 'conv2d_10': <keras.layers.convolutional.Conv2D at 0x7f81667e8dd8>,\n",
              " 'conv2d_11': <keras.layers.convolutional.Conv2D at 0x7f8166c3b048>,\n",
              " 'conv2d_12': <keras.layers.convolutional.Conv2D at 0x7f816b1fb588>,\n",
              " 'conv2d_13': <keras.layers.convolutional.Conv2D at 0x7f8166c3e588>,\n",
              " 'conv2d_14': <keras.layers.convolutional.Conv2D at 0x7f816b1facf8>,\n",
              " 'conv2d_9': <keras.layers.convolutional.Conv2D at 0x7f81667e8e80>,\n",
              " 'flatten_2': <keras.layers.core.Flatten at 0x7f816b1f7d68>,\n",
              " 'max_pooling2d_4': <keras.layers.pooling.MaxPooling2D at 0x7f81667e82b0>,\n",
              " 'max_pooling2d_5': <keras.layers.pooling.MaxPooling2D at 0x7f8166c490f0>}"
            ]
          },
          "metadata": {
            "tags": []
          },
          "execution_count": 40
        }
      ]
    },
    {
      "cell_type": "code",
      "metadata": {
        "id": "BycXU1dSzfaw",
        "colab_type": "code",
        "outputId": "0711f7c3-dab2-4cf4-a70d-f0a381c23e87",
        "colab": {
          "base_uri": "https://localhost:8080/",
          "height": 741
        }
      },
      "source": [
        "vis_img_in_filter(model2, image=X_train[2],layer_name = 'conv2d_10')"
      ],
      "execution_count": 42,
      "outputs": [
        {
          "output_type": "display_data",
          "data": {
            "image/png": "[encoded data removed]",
            "text/plain": [
              "<Figure size 864x864 with 12 Axes>"
            ]
          },
          "metadata": {
            "tags": []
          }
        }
      ]
    },
    {
      "cell_type": "code",
      "metadata": {
        "id": "FIAQ5bKdzfWG",
        "colab_type": "code",
        "colab": {}
      },
      "source": [
        ""
      ],
      "execution_count": 0,
      "outputs": []
    },
    {
      "cell_type": "code",
      "metadata": {
        "id": "WSwIkDqEzfNQ",
        "colab_type": "code",
        "colab": {}
      },
      "source": [
        ""
      ],
      "execution_count": 0,
      "outputs": []
    },
    {
      "cell_type": "markdown",
      "metadata": {
        "id": "Pafh_u7bRNI-",
        "colab_type": "text"
      },
      "source": [
        "## Code from session"
      ]
    },
    {
      "cell_type": "code",
      "metadata": {
        "colab_type": "code",
        "id": "lGI9D3Ko98Vm",
        "outputId": "f9335697-21e4-4c29-b9c9-321915bb71e0",
        "colab": {
          "base_uri": "https://localhost:8080/",
          "height": 73
        }
      },
      "source": [
        "model = Sequential()\n",
        "\n",
        "model.add(Convolution2D(32, 3, 3, activation = 'relu', input_shape=(28,28,1)))\n",
        "model.add(Convolution2D(10, 1, activation='relu'))\n",
        "model.add(Convolution2D(10, 26))\n",
        "model.add(Flatten())\n",
        "model.add(Activation('softmax'))"
      ],
      "execution_count": 0,
      "outputs": [
        {
          "output_type": "stream",
          "text": [
            "/usr/local/lib/python3.6/dist-packages/ipykernel_launcher.py:3: UserWarning: Update your `Conv2D` call to the Keras 2 API: `Conv2D(32, (3, 3), activation=\"relu\", input_shape=(28, 28, 1...)`\n",
            "  This is separate from the ipykernel package so we can avoid doing imports until\n"
          ],
          "name": "stderr"
        }
      ]
    },
    {
      "cell_type": "code",
      "metadata": {
        "id": "3T8yVjGaqLrH",
        "colab_type": "code",
        "outputId": "75c0b9be-7c60-41a2-e9ab-9ffc16efabbd",
        "colab": {
          "base_uri": "https://localhost:8080/",
          "height": 344
        }
      },
      "source": [
        "model.summary()"
      ],
      "execution_count": 0,
      "outputs": [
        {
          "output_type": "stream",
          "text": [
            "Model: \"sequential_4\"\n",
            "_________________________________________________________________\n",
            "Layer (type)                 Output Shape              Param #   \n",
            "=================================================================\n",
            "conv2d_6 (Conv2D)            (None, 26, 26, 32)        320       \n",
            "_________________________________________________________________\n",
            "conv2d_7 (Conv2D)            (None, 26, 26, 10)        330       \n",
            "_________________________________________________________________\n",
            "conv2d_8 (Conv2D)            (None, 1, 1, 10)          67610     \n",
            "_________________________________________________________________\n",
            "flatten_2 (Flatten)          (None, 10)                0         \n",
            "_________________________________________________________________\n",
            "activation_2 (Activation)    (None, 10)                0         \n",
            "=================================================================\n",
            "Total params: 68,260\n",
            "Trainable params: 68,260\n",
            "Non-trainable params: 0\n",
            "_________________________________________________________________\n"
          ],
          "name": "stdout"
        }
      ]
    },
    {
      "cell_type": "code",
      "metadata": {
        "id": "hedV7tzUqYrN",
        "colab_type": "code",
        "outputId": "2ae9f34e-88a0-4d63-f0d3-954dc939c189",
        "colab": {
          "base_uri": "https://localhost:8080/",
          "height": 110
        }
      },
      "source": [
        "model.compile(loss='categorical_crossentropy',\n",
        "              optimizer='adam',\n",
        "              metrics=['accuracy'])"
      ],
      "execution_count": 0,
      "outputs": [
        {
          "output_type": "stream",
          "text": [
            "WARNING:tensorflow:From /usr/local/lib/python3.6/dist-packages/keras/optimizers.py:793: The name tf.train.Optimizer is deprecated. Please use tf.compat.v1.train.Optimizer instead.\n",
            "\n",
            "WARNING:tensorflow:From /usr/local/lib/python3.6/dist-packages/keras/backend/tensorflow_backend.py:3576: The name tf.log is deprecated. Please use tf.math.log instead.\n",
            "\n"
          ],
          "name": "stdout"
        }
      ]
    },
    {
      "cell_type": "code",
      "metadata": {
        "id": "-6qmungxqsfn",
        "colab_type": "code",
        "outputId": "ed259fd5-eae5-42c6-9397-162b742d0a93",
        "colab": {
          "base_uri": "https://localhost:8080/",
          "height": 800
        }
      },
      "source": [
        "model.fit(X_train,y_train, batch_size=32, nb_epoch=10, verbose=1)"
      ],
      "execution_count": 0,
      "outputs": [
        {
          "output_type": "stream",
          "text": [
            "WARNING:tensorflow:From /usr/local/lib/python3.6/dist-packages/tensorflow_core/python/ops/math_grad.py:1424: where (from tensorflow.python.ops.array_ops) is deprecated and will be removed in a future version.\n",
            "Instructions for updating:\n",
            "Use tf.where in 2.0, which has the same broadcast rule as np.where\n",
            "WARNING:tensorflow:From /usr/local/lib/python3.6/dist-packages/keras/backend/tensorflow_backend.py:1033: The name tf.assign_add is deprecated. Please use tf.compat.v1.assign_add instead.\n",
            "\n"
          ],
          "name": "stdout"
        },
        {
          "output_type": "stream",
          "text": [
            "/usr/local/lib/python3.6/dist-packages/ipykernel_launcher.py:1: UserWarning: The `nb_epoch` argument in `fit` has been renamed `epochs`.\n",
            "  \"\"\"Entry point for launching an IPython kernel.\n"
          ],
          "name": "stderr"
        },
        {
          "output_type": "stream",
          "text": [
            "WARNING:tensorflow:From /usr/local/lib/python3.6/dist-packages/keras/backend/tensorflow_backend.py:1020: The name tf.assign is deprecated. Please use tf.compat.v1.assign instead.\n",
            "\n",
            "WARNING:tensorflow:From /usr/local/lib/python3.6/dist-packages/keras/backend/tensorflow_backend.py:3005: The name tf.Session is deprecated. Please use tf.compat.v1.Session instead.\n",
            "\n",
            "Epoch 1/10\n",
            "WARNING:tensorflow:From /usr/local/lib/python3.6/dist-packages/keras/backend/tensorflow_backend.py:190: The name tf.get_default_session is deprecated. Please use tf.compat.v1.get_default_session instead.\n",
            "\n",
            "WARNING:tensorflow:From /usr/local/lib/python3.6/dist-packages/keras/backend/tensorflow_backend.py:197: The name tf.ConfigProto is deprecated. Please use tf.compat.v1.ConfigProto instead.\n",
            "\n",
            "WARNING:tensorflow:From /usr/local/lib/python3.6/dist-packages/keras/backend/tensorflow_backend.py:207: The name tf.global_variables is deprecated. Please use tf.compat.v1.global_variables instead.\n",
            "\n",
            "WARNING:tensorflow:From /usr/local/lib/python3.6/dist-packages/keras/backend/tensorflow_backend.py:216: The name tf.is_variable_initialized is deprecated. Please use tf.compat.v1.is_variable_initialized instead.\n",
            "\n",
            "WARNING:tensorflow:From /usr/local/lib/python3.6/dist-packages/keras/backend/tensorflow_backend.py:223: The name tf.variables_initializer is deprecated. Please use tf.compat.v1.variables_initializer instead.\n",
            "\n",
            "60000/60000 [==============================] - 33s 553us/step - loss: 0.1978 - acc: 0.9426\n",
            "Epoch 2/10\n",
            "60000/60000 [==============================] - 31s 511us/step - loss: 0.0756 - acc: 0.9772\n",
            "Epoch 3/10\n",
            "60000/60000 [==============================] - 32s 527us/step - loss: 0.0557 - acc: 0.9826\n",
            "Epoch 4/10\n",
            "60000/60000 [==============================] - 31s 524us/step - loss: 0.0449 - acc: 0.9864\n",
            "Epoch 5/10\n",
            "60000/60000 [==============================] - 31s 509us/step - loss: 0.0365 - acc: 0.9886\n",
            "Epoch 6/10\n",
            "60000/60000 [==============================] - 31s 521us/step - loss: 0.0288 - acc: 0.9912\n",
            "Epoch 7/10\n",
            "60000/60000 [==============================] - 32s 527us/step - loss: 0.0241 - acc: 0.9922\n",
            "Epoch 8/10\n",
            "60000/60000 [==============================] - 32s 525us/step - loss: 0.0194 - acc: 0.9938\n",
            "Epoch 9/10\n",
            "60000/60000 [==============================] - 31s 523us/step - loss: 0.0164 - acc: 0.9945\n",
            "Epoch 10/10\n",
            "60000/60000 [==============================] - 31s 519us/step - loss: 0.0120 - acc: 0.9960\n"
          ],
          "name": "stdout"
        },
        {
          "output_type": "execute_result",
          "data": {
            "text/plain": [
              "<keras.callbacks.History at 0x7f66618c1e48>"
            ]
          },
          "metadata": {
            "tags": []
          },
          "execution_count": 20
        }
      ]
    },
    {
      "cell_type": "code",
      "metadata": {
        "id": "2FB1f-KmraSn",
        "colab_type": "code",
        "outputId": "0cb99bb3-9f76-47ba-9595-b8b09fcdaa34",
        "colab": {
          "base_uri": "https://localhost:8080/",
          "height": 35
        }
      },
      "source": [
        "score = model.evaluate(X_test, y_test, verbose=1)"
      ],
      "execution_count": 0,
      "outputs": [
        {
          "output_type": "stream",
          "text": [
            "10000/10000 [==============================] - 2s 151us/step\n"
          ],
          "name": "stdout"
        }
      ]
    },
    {
      "cell_type": "code",
      "metadata": {
        "id": "4pI5Vrbcq0O6",
        "colab_type": "code",
        "outputId": "88f26379-1ad8-4e1b-ea0a-3b72e628cf6b",
        "colab": {
          "base_uri": "https://localhost:8080/",
          "height": 35
        }
      },
      "source": [
        "print(score)"
      ],
      "execution_count": 0,
      "outputs": [
        {
          "output_type": "stream",
          "text": [
            "[0.07837501554603077, 0.9813]\n"
          ],
          "name": "stdout"
        }
      ]
    },
    {
      "cell_type": "code",
      "metadata": {
        "id": "n8jgw23brz7D",
        "colab_type": "code",
        "colab": {}
      },
      "source": [
        "y_pred = model.predict(X_test)"
      ],
      "execution_count": 0,
      "outputs": []
    },
    {
      "cell_type": "code",
      "metadata": {
        "id": "9Hn028Uurz4A",
        "colab_type": "code",
        "outputId": "2e874ad5-e929-47c4-ba93-ae85e3d2ae05",
        "colab": {
          "base_uri": "https://localhost:8080/",
          "height": 72
        }
      },
      "source": [
        "print(y_pred[0])\n",
        "print(y_test[0])"
      ],
      "execution_count": 0,
      "outputs": [
        {
          "output_type": "stream",
          "text": [
            "[9.9528271e-20 1.6868957e-19 1.2736036e-14 8.6590852e-08 5.1508235e-22\n",
            " 6.1059760e-17 2.4294451e-34 9.9999988e-01 9.5101982e-12 8.1357955e-11]\n",
            "[0. 0. 0. 0. 0. 0. 0. 1. 0. 0.]\n"
          ],
          "name": "stdout"
        }
      ]
    },
    {
      "cell_type": "code",
      "metadata": {
        "id": "PUbwXljIrzu_",
        "colab_type": "code",
        "colab": {}
      },
      "source": [
        "layer_dict = dict([(layer.name, layer) for layer in model.layers])"
      ],
      "execution_count": 0,
      "outputs": []
    },
    {
      "cell_type": "code",
      "metadata": {
        "id": "hQI8XImorzo8",
        "colab_type": "code",
        "outputId": "222ed5db-8e3b-49d8-a0e4-53b0d9cc0498",
        "colab": {
          "base_uri": "https://localhost:8080/",
          "height": 108
        }
      },
      "source": [
        "layer_dict"
      ],
      "execution_count": 0,
      "outputs": [
        {
          "output_type": "execute_result",
          "data": {
            "text/plain": [
              "{'activation_2': <keras.layers.core.Activation at 0x7f666197cf60>,\n",
              " 'conv2d_6': <keras.layers.convolutional.Conv2D at 0x7f666e373978>,\n",
              " 'conv2d_7': <keras.layers.convolutional.Conv2D at 0x7f666e3865f8>,\n",
              " 'conv2d_8': <keras.layers.convolutional.Conv2D at 0x7f666e386be0>,\n",
              " 'flatten_2': <keras.layers.core.Flatten at 0x7f66619d9630>}"
            ]
          },
          "metadata": {
            "tags": []
          },
          "execution_count": 27
        }
      ]
    },
    {
      "cell_type": "code",
      "metadata": {
        "id": "a84yyhMB8ZW-",
        "colab_type": "code",
        "colab": {}
      },
      "source": [
        "import numpy as np\n",
        "from matplotlib import pyplot as plt\n",
        "from keras import backend as K\n",
        "%matplotlib inline\n",
        "# util function to convert a tensor into a valid image\n",
        "def deprocess_image(x):\n",
        "    # normalize tensor: center on 0., ensure std is 0.1\n",
        "    x -= x.mean()\n",
        "    x /= (x.std() + 1e-5)\n",
        "    x *= 0.1\n",
        "\n",
        "    # clip to [0, 1]\n",
        "    x += 0.5\n",
        "    x = np.clip(x, 0, 1)\n",
        "\n",
        "    # convert to RGB array\n",
        "    x *= 255\n",
        "    #x = x.transpose((1, 2, 0))\n",
        "    x = np.clip(x, 0, 255).astype('uint8')\n",
        "    return x\n",
        "\n",
        "def vis_img_in_filter(img = np.array(X_train[2]).reshape((1, 28, 28, 1)).astype(np.float64), \n",
        "                      layer_name = 'conv2d_14'):\n",
        "    layer_output = layer_dict[layer_name].output\n",
        "    img_ascs = list()\n",
        "    for filter_index in range(layer_output.shape[3]):\n",
        "        # build a loss function that maximizes the activation\n",
        "        # of the nth filter of the layer considered\n",
        "        loss = K.mean(layer_output[:, :, :, filter_index])\n",
        "\n",
        "        # compute the gradient of the input picture wrt this loss\n",
        "        grads = K.gradients(loss, model.input)[0]\n",
        "\n",
        "        # normalization trick: we normalize the gradient\n",
        "        grads /= (K.sqrt(K.mean(K.square(grads))) + 1e-5)\n",
        "\n",
        "        # this function returns the loss and grads given the input picture\n",
        "        iterate = K.function([model.input], [loss, grads])\n",
        "      \n",
        "        # step size for gradient ascent\n",
        "        step = 5.\n",
        "\n",
        "        img_asc = np.array(img)\n",
        "        # run gradient ascent for 20 steps\n",
        "        for i in range(20):\n",
        "            loss_value, grads_value = iterate([img_asc])\n",
        "            img_asc += grads_value * step\n",
        "\n",
        "        img_asc = img_asc[0]\n",
        "        img_ascs.append(deprocess_image(img_asc).reshape((28, 28)))\n",
        "        \n",
        "    if layer_output.shape[3] >= 35:\n",
        "        plot_x, plot_y = 6, 6\n",
        "    elif layer_output.shape[3] >= 23:\n",
        "        plot_x, plot_y = 4, 6\n",
        "    elif layer_output.shape[3] >= 11:\n",
        "        plot_x, plot_y = 2, 6\n",
        "    else:\n",
        "        plot_x, plot_y = 1, 2\n",
        "    fig, ax = plt.subplots(plot_x, plot_y, figsize = (12, 12))\n",
        "    ax[0, 0].imshow(img.reshape((28, 28)), cmap = 'gray')\n",
        "    ax[0, 0].set_title('Input image')\n",
        "    fig.suptitle('Input image and %s filters' % (layer_name,))\n",
        "    fig.tight_layout(pad = 0.3, rect = [0, 0, 0.9, 0.9])\n",
        "    for (x, y) in [(i, j) for i in range(plot_x) for j in range(plot_y)]:\n",
        "        if x == 0 and y == 0:\n",
        "            continue\n",
        "        ax[x, y].imshow(img_ascs[x * plot_y + y - 1], cmap = 'gray')\n",
        "        ax[x, y].set_title('filter %d' % (x * plot_y + y - 1))\n"
      ],
      "execution_count": 0,
      "outputs": []
    },
    {
      "cell_type": "code",
      "metadata": {
        "id": "pQdO4dQpscS7",
        "colab_type": "code",
        "outputId": "e377676f-3b1c-4841-8df0-91c0263c1260",
        "colab": {
          "base_uri": "https://localhost:8080/",
          "height": 837
        }
      },
      "source": [
        "image_np=np.array(X_train[2]).reshape((1, 28, 28, 1)).astype(np.float64)\n",
        "vis_img_in_filter(img=image_np, layer_name = 'conv2d_6')"
      ],
      "execution_count": 0,
      "outputs": [
        {
          "output_type": "display_data",
          "data": {
            "image/png": "[encoded data removed]",
            "text/plain": [
              "<Figure size 864x864 with 24 Axes>"
            ]
          },
          "metadata": {
            "tags": []
          }
        }
      ]
    },
    {
      "cell_type": "code",
      "metadata": {
        "id": "L3t-L1bXs_GY",
        "colab_type": "code",
        "colab": {}
      },
      "source": [
        ""
      ],
      "execution_count": 0,
      "outputs": []
    }
  ]
}