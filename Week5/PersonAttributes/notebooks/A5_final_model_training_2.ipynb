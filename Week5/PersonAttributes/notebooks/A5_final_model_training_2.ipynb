{
 "cells": [
  {
   "cell_type": "code",
   "execution_count": 0,
   "metadata": {
    "colab": {},
    "colab_type": "code",
    "id": "8boxXVlgfaMH"
   },
   "outputs": [],
   "source": [
    "import warnings\n",
    "warnings.filterwarnings(action='ignore')"
   ]
  },
  {
   "cell_type": "code",
   "execution_count": 0,
   "metadata": {
    "colab": {},
    "colab_type": "code",
    "id": "qIafP8mK1Iac"
   },
   "outputs": [],
   "source": [
    "import os\n",
    "import sys\n",
    "import os.path as Path\n",
    "\n",
    "import numpy as np\n",
    "import pandas as pd\n",
    "import matplotlib.pyplot as plt\n",
    "import seaborn as sns\n",
    "\n",
    "%matplotlib inline"
   ]
  },
  {
   "cell_type": "code",
   "execution_count": 0,
   "metadata": {
    "colab": {},
    "colab_type": "code",
    "id": "aCUSkwF51IY8"
   },
   "outputs": [],
   "source": [
    "# Reproducibility\n",
    "seed = 18\n",
    "np.random.seed(seed)"
   ]
  },
  {
   "cell_type": "code",
   "execution_count": 0,
   "metadata": {
    "colab": {
     "base_uri": "https://localhost:8080/",
     "height": 138
    },
    "colab_type": "code",
    "id": "tX-1BMM2fgoN",
    "outputId": "41f511b6-b30d-4548-de31-c41a1730ad51"
   },
   "outputs": [
    {
     "name": "stdout",
     "output_type": "stream",
     "text": [
      "Go to this URL in a browser: https://accounts.google.com/o/oauth2/auth?client_id=947318989803-6bn6qk8qdgf4n4g3pfee6491hc0brc4i.apps.googleusercontent.com&redirect_uri=urn%3aietf%3awg%3aoauth%3a2.0%3aoob&response_type=code&scope=email%20https%3a%2f%2fwww.googleapis.com%2fauth%2fdocs.test%20https%3a%2f%2fwww.googleapis.com%2fauth%2fdrive%20https%3a%2f%2fwww.googleapis.com%2fauth%2fdrive.photos.readonly%20https%3a%2f%2fwww.googleapis.com%2fauth%2fpeopleapi.readonly\n",
      "\n",
      "Enter your authorization code:\n",
      "··········\n",
      "Mounted at /content/gdrive\n",
      "/content/gdrive/My Drive/Colab_projects/PersonAttribures\n"
     ]
    }
   ],
   "source": [
    "# mount gdrive and unzip data\n",
    "try:\n",
    "  from google.colab import drive\n",
    "  drive.mount('/content/gdrive')\n",
    "  project_dir = '/content/gdrive/My Drive/Colab_projects/PersonAttribures'\n",
    "except:\n",
    "  project_dir = '..'\n",
    "print(Path.abspath(project_dir))"
   ]
  },
  {
   "cell_type": "code",
   "execution_count": 0,
   "metadata": {
    "colab": {},
    "colab_type": "code",
    "id": "KM_rRRBSfaMd"
   },
   "outputs": [],
   "source": [
    "if Path.exists(project_dir):\n",
    "    # os.chdir(Path.join(project_dir)) \n",
    "    data_dir = Path.join(project_dir,'data')\n",
    "    url = Path.join(data_dir,'interim','colab_preprocessed_data.csv')"
   ]
  },
  {
   "cell_type": "code",
   "execution_count": 0,
   "metadata": {
    "colab": {},
    "colab_type": "code",
    "id": "sSdA5x2TCIkW"
   },
   "outputs": [],
   "source": [
    "os.getcwd()"
   ]
  },
  {
   "cell_type": "code",
   "execution_count": 0,
   "metadata": {
    "colab": {
     "base_uri": "https://localhost:8080/",
     "height": 177
    },
    "colab_type": "code",
    "id": "57f_tCN0faMj",
    "outputId": "6fa41334-6c02-44d7-a997-bb3831653d6c"
   },
   "outputs": [
    {
     "data": {
      "text/html": [
       "<div>\n",
       "<style scoped>\n",
       "    .dataframe tbody tr th:only-of-type {\n",
       "        vertical-align: middle;\n",
       "    }\n",
       "\n",
       "    .dataframe tbody tr th {\n",
       "        vertical-align: top;\n",
       "    }\n",
       "\n",
       "    .dataframe thead th {\n",
       "        text-align: right;\n",
       "    }\n",
       "</style>\n",
       "<table border=\"1\" class=\"dataframe\">\n",
       "  <thead>\n",
       "    <tr style=\"text-align: right;\">\n",
       "      <th></th>\n",
       "      <th>image_path</th>\n",
       "      <th>gender_female</th>\n",
       "      <th>gender_male</th>\n",
       "      <th>imagequality_Average</th>\n",
       "      <th>imagequality_Bad</th>\n",
       "      <th>imagequality_Good</th>\n",
       "      <th>age_15-25</th>\n",
       "      <th>age_25-35</th>\n",
       "      <th>age_35-45</th>\n",
       "      <th>age_45-55</th>\n",
       "      <th>age_55+</th>\n",
       "      <th>weight_normal-healthy</th>\n",
       "      <th>weight_over-weight</th>\n",
       "      <th>weight_slightly-overweight</th>\n",
       "      <th>weight_underweight</th>\n",
       "      <th>carryingbag_Daily/Office/Work Bag</th>\n",
       "      <th>carryingbag_Grocery/Home/Plastic Bag</th>\n",
       "      <th>carryingbag_None</th>\n",
       "      <th>footwear_CantSee</th>\n",
       "      <th>footwear_Fancy</th>\n",
       "      <th>footwear_Normal</th>\n",
       "      <th>emotion_Angry/Serious</th>\n",
       "      <th>emotion_Happy</th>\n",
       "      <th>emotion_Neutral</th>\n",
       "      <th>emotion_Sad</th>\n",
       "      <th>bodypose_Back</th>\n",
       "      <th>bodypose_Front-Frontish</th>\n",
       "      <th>bodypose_Side</th>\n",
       "    </tr>\n",
       "  </thead>\n",
       "  <tbody>\n",
       "    <tr>\n",
       "      <th>0</th>\n",
       "      <td>/content/gdrive/My Drive/Colab_projects/Person...</td>\n",
       "      <td>0</td>\n",
       "      <td>1</td>\n",
       "      <td>1</td>\n",
       "      <td>0</td>\n",
       "      <td>0</td>\n",
       "      <td>0</td>\n",
       "      <td>0</td>\n",
       "      <td>1</td>\n",
       "      <td>0</td>\n",
       "      <td>0</td>\n",
       "      <td>1</td>\n",
       "      <td>0</td>\n",
       "      <td>0</td>\n",
       "      <td>0</td>\n",
       "      <td>0</td>\n",
       "      <td>1</td>\n",
       "      <td>0</td>\n",
       "      <td>0</td>\n",
       "      <td>0</td>\n",
       "      <td>1</td>\n",
       "      <td>0</td>\n",
       "      <td>0</td>\n",
       "      <td>1</td>\n",
       "      <td>0</td>\n",
       "      <td>0</td>\n",
       "      <td>1</td>\n",
       "      <td>0</td>\n",
       "    </tr>\n",
       "    <tr>\n",
       "      <th>1</th>\n",
       "      <td>/content/gdrive/My Drive/Colab_projects/Person...</td>\n",
       "      <td>1</td>\n",
       "      <td>0</td>\n",
       "      <td>1</td>\n",
       "      <td>0</td>\n",
       "      <td>0</td>\n",
       "      <td>0</td>\n",
       "      <td>0</td>\n",
       "      <td>1</td>\n",
       "      <td>0</td>\n",
       "      <td>0</td>\n",
       "      <td>0</td>\n",
       "      <td>1</td>\n",
       "      <td>0</td>\n",
       "      <td>0</td>\n",
       "      <td>0</td>\n",
       "      <td>0</td>\n",
       "      <td>1</td>\n",
       "      <td>0</td>\n",
       "      <td>0</td>\n",
       "      <td>1</td>\n",
       "      <td>1</td>\n",
       "      <td>0</td>\n",
       "      <td>0</td>\n",
       "      <td>0</td>\n",
       "      <td>0</td>\n",
       "      <td>1</td>\n",
       "      <td>0</td>\n",
       "    </tr>\n",
       "  </tbody>\n",
       "</table>\n",
       "</div>"
      ],
      "text/plain": [
       "                                          image_path  ...  bodypose_Side\n",
       "0  /content/gdrive/My Drive/Colab_projects/Person...  ...              0\n",
       "1  /content/gdrive/My Drive/Colab_projects/Person...  ...              0\n",
       "\n",
       "[2 rows x 28 columns]"
      ]
     },
     "execution_count": 7,
     "metadata": {
      "tags": []
     },
     "output_type": "execute_result"
    }
   ],
   "source": [
    "try:\n",
    "    df = pd.read_csv(url)\n",
    "except:\n",
    "    print('File not found')\n",
    "    raise\n",
    "df.head(2)"
   ]
  },
  {
   "cell_type": "code",
   "execution_count": 0,
   "metadata": {
    "colab": {
     "base_uri": "https://localhost:8080/",
     "height": 34
    },
    "colab_type": "code",
    "id": "HVQcFV6N1IbP",
    "outputId": "e401f609-e582-4431-dfef-bc4843381c07"
   },
   "outputs": [
    {
     "data": {
      "text/plain": [
       "(13573, 28)"
      ]
     },
     "execution_count": 8,
     "metadata": {
      "tags": []
     },
     "output_type": "execute_result"
    }
   ],
   "source": [
    "# df = df[:500]\n",
    "df.shape"
   ]
  },
  {
   "cell_type": "code",
   "execution_count": 0,
   "metadata": {
    "colab": {
     "base_uri": "https://localhost:8080/",
     "height": 34
    },
    "colab_type": "code",
    "id": "cXMBt2AC2hEE",
    "outputId": "0db91026-2981-4011-ff9b-5c18f6487ac7"
   },
   "outputs": [
    {
     "data": {
      "text/plain": [
       "(13573, 28)"
      ]
     },
     "execution_count": 9,
     "metadata": {
      "tags": []
     },
     "output_type": "execute_result"
    }
   ],
   "source": [
    "df.shape"
   ]
  },
  {
   "cell_type": "code",
   "execution_count": 0,
   "metadata": {
    "colab": {
     "base_uri": "https://localhost:8080/",
     "height": 34
    },
    "colab_type": "code",
    "id": "_xz23kE9faM2",
    "outputId": "dec148c1-6f85-4fdf-c443-05997a888a5f"
   },
   "outputs": [
    {
     "data": {
      "text/plain": [
       "False"
      ]
     },
     "execution_count": 10,
     "metadata": {
      "tags": []
     },
     "output_type": "execute_result"
    }
   ],
   "source": [
    "# from IPython.display import Image\n",
    "# Image(df.image_path[0])\n",
    "Path.isfile(df.image_path[0])"
   ]
  },
  {
   "cell_type": "code",
   "execution_count": 0,
   "metadata": {
    "colab": {},
    "colab_type": "code",
    "id": "zjWnBlph1Ic6"
   },
   "outputs": [],
   "source": [
    "src_dir = Path.join(project_dir, 'src')\n",
    "data_scripts_dir = Path.join(src_dir, 'data_scripts')"
   ]
  },
  {
   "cell_type": "code",
   "execution_count": 0,
   "metadata": {
    "colab": {
     "base_uri": "https://localhost:8080/",
     "height": 34
    },
    "colab_type": "code",
    "id": "0J_IecwLfaM-",
    "outputId": "b8889c19-56e8-45e1-8434-f5fd7fa41965"
   },
   "outputs": [
    {
     "data": {
      "text/plain": [
       "'/content/gdrive/My Drive/Colab_projects/PersonAttribures/src'"
      ]
     },
     "execution_count": 12,
     "metadata": {
      "tags": []
     },
     "output_type": "execute_result"
    }
   ],
   "source": [
    "Path.abspath(src_dir)"
   ]
  },
  {
   "cell_type": "code",
   "execution_count": 0,
   "metadata": {
    "colab": {},
    "colab_type": "code",
    "id": "seF43oHIfaNE"
   },
   "outputs": [],
   "source": [
    "import sys  \n",
    "sys.path.insert(0, Path.abspath(src_dir))"
   ]
  },
  {
   "cell_type": "code",
   "execution_count": 0,
   "metadata": {
    "colab": {},
    "colab_type": "code",
    "id": "3N5KecxIFQfl"
   },
   "outputs": [],
   "source": [
    "# drive.mount(\"/content/gdrive\", force_remount=True)\n",
    "%tensorflow_version 1.x "
   ]
  },
  {
   "cell_type": "code",
   "execution_count": 0,
   "metadata": {
    "colab": {
     "base_uri": "https://localhost:8080/",
     "height": 34
    },
    "colab_type": "code",
    "id": "nz5L8XCzFF6f",
    "outputId": "80eebd02-8500-4469-e19f-147fd5af5898"
   },
   "outputs": [
    {
     "name": "stderr",
     "output_type": "stream",
     "text": [
      "Using TensorFlow backend.\n"
     ]
    }
   ],
   "source": [
    "from data_scripts.custom_data_gen_colab import PersonDataGenerator"
   ]
  },
  {
   "cell_type": "code",
   "execution_count": 0,
   "metadata": {
    "colab": {},
    "colab_type": "code",
    "id": "vKWSunjCFT5O"
   },
   "outputs": [],
   "source": [
    "from data_scripts.aug_functions import blur_cutout, get_random_eraser"
   ]
  },
  {
   "cell_type": "code",
   "execution_count": 0,
   "metadata": {
    "colab": {
     "base_uri": "https://localhost:8080/",
     "height": 34
    },
    "colab_type": "code",
    "id": "_JIZuJ9G1IdG",
    "outputId": "84fe9094-0a8a-42bf-f9c2-0d70f55e9325"
   },
   "outputs": [
    {
     "data": {
      "text/plain": [
       "((11537, 28), (2036, 28))"
      ]
     },
     "execution_count": 17,
     "metadata": {
      "tags": []
     },
     "output_type": "execute_result"
    }
   ],
   "source": [
    "from sklearn.model_selection import train_test_split\n",
    "train_df, val_df = train_test_split(df, test_size=0.15, random_state=18)\n",
    "train_df.shape, val_df.shape"
   ]
  },
  {
   "cell_type": "code",
   "execution_count": 0,
   "metadata": {
    "colab": {},
    "colab_type": "code",
    "id": "0eRlOMbkfaNO"
   },
   "outputs": [],
   "source": [
    "from keras.preprocessing.image import ImageDataGenerator\n",
    "\n",
    "# All images are rescaled during batch generation\n",
    "orig = ImageDataGenerator(rescale=1/255.0)\n",
    "train_aug1 = ImageDataGenerator(rescale=1/255.0,horizontal_flip=True, brightness_range=[0.2,0.8], channel_shift_range=100, preprocessing_function=get_random_eraser)\n",
    "# train_aug1 = ImageDataGenerator(rescale=1/255.0,preprocessing_function=blur_cutout)\n",
    "# train_aug2 = ImageDataGenerator(rescale=1/255.0,horizontal_flip=True)\n",
    "# train_aug3 = ImageDataGenerator(rescale=1/255.0,brightness_range=[0.2,0.8])\n",
    "# train_aug4 = ImageDataGenerator(rescale=1/255.0,channel_shift_range=100)\n",
    "# train_aug5 = ImageDataGenerator(rescale=1/255.0,preprocessing_function=get_random_eraser)\n",
    "\n",
    "val_aug = ImageDataGenerator(rescale=1/255.0)"
   ]
  },
  {
   "cell_type": "code",
   "execution_count": 0,
   "metadata": {
    "colab": {},
    "colab_type": "code",
    "id": "3kK5wf2ggR-O"
   },
   "outputs": [],
   "source": []
  },
  {
   "cell_type": "code",
   "execution_count": 0,
   "metadata": {
    "colab": {},
    "colab_type": "code",
    "id": "uQy1ovXXfaNR"
   },
   "outputs": [],
   "source": [
    "train_gen = PersonDataGenerator(\n",
    "    train_df, \n",
    "    batch_size=8, #32, \n",
    "    aug_list=[orig, train_aug1],\n",
    "    # aug_list=[orig, train_aug1, train_aug2, train_aug3, train_aug4, train_aug5],\n",
    "    incl_orig=False)\n",
    "\n",
    "valid_gen = PersonDataGenerator(\n",
    "    val_df, \n",
    "    batch_size=8, #32, \n",
    "    aug_list=[val_aug],\n",
    "    incl_orig=False)\n",
    "\n"
   ]
  },
  {
   "cell_type": "code",
   "execution_count": 0,
   "metadata": {
    "colab": {
     "base_uri": "https://localhost:8080/",
     "height": 151
    },
    "colab_type": "code",
    "id": "j9bfDyP-1Id2",
    "outputId": "d8c92d53-7254-45ad-abef-55c33c43df3a"
   },
   "outputs": [
    {
     "data": {
      "text/plain": [
       "{'age': 5,\n",
       " 'bag': 3,\n",
       " 'emotion': 4,\n",
       " 'footwear': 3,\n",
       " 'gender': 2,\n",
       " 'image_quality': 3,\n",
       " 'pose': 3,\n",
       " 'weight': 4}"
      ]
     },
     "execution_count": 20,
     "metadata": {
      "tags": []
     },
     "output_type": "execute_result"
    }
   ],
   "source": [
    "# get number of output units from data\n",
    "images, targets = next(iter(train_gen))\n",
    "num_units = { k.split(\"_output\")[0]:v.shape[1] for k, v in targets.items()}\n",
    "num_units"
   ]
  },
  {
   "cell_type": "code",
   "execution_count": 0,
   "metadata": {
    "colab": {
     "base_uri": "https://localhost:8080/",
     "height": 151
    },
    "colab_type": "code",
    "id": "enURiaStfaNY",
    "outputId": "b0c89da6-99b1-4a57-8981-2d95bbe0725b"
   },
   "outputs": [
    {
     "data": {
      "text/plain": [
       "{'age': 5,\n",
       " 'bag': 3,\n",
       " 'emotion': 4,\n",
       " 'footwear': 3,\n",
       " 'gender': 2,\n",
       " 'image_quality': 3,\n",
       " 'pose': 3,\n",
       " 'weight': 4}"
      ]
     },
     "execution_count": 21,
     "metadata": {
      "tags": []
     },
     "output_type": "execute_result"
    }
   ],
   "source": [
    "val_images, val_targets = next(iter(valid_gen))\n",
    "val_num_units = { k.split(\"_output\")[0]:v.shape[1] for k, v in targets.items()}\n",
    "val_num_units"
   ]
  },
  {
   "cell_type": "code",
   "execution_count": 0,
   "metadata": {
    "colab": {},
    "colab_type": "code",
    "id": "11BsizsrfaNb"
   },
   "outputs": [],
   "source": [
    "try:\n",
    "    from google.colab.patches import cv2_imshow\n",
    "except:\n",
    "    import cv2\n",
    "    def cv2_imshow(image):\n",
    "        cv2.imshow(\"test\", image)\n",
    "        cv2.waitKey(0)\n",
    "        cv2.destroyAllWindows()"
   ]
  },
  {
   "cell_type": "code",
   "execution_count": 0,
   "metadata": {
    "colab": {
     "base_uri": "https://localhost:8080/",
     "height": 241
    },
    "colab_type": "code",
    "id": "Y6hewb4SfaNe",
    "outputId": "52950a6d-eeee-422c-c9ef-291c6ee5b85f"
   },
   "outputs": [
    {
     "data": {
      "image/png": "[encoded data removed]",
      "text/plain": [
       "<PIL.Image.Image image mode=RGB size=224x224 at 0x7F7621ECC668>"
      ]
     },
     "metadata": {
      "tags": []
     },
     "output_type": "display_data"
    }
   ],
   "source": [
    "cv2_imshow(images[0])"
   ]
  },
  {
   "cell_type": "code",
   "execution_count": 0,
   "metadata": {
    "colab": {
     "base_uri": "https://localhost:8080/",
     "height": 34
    },
    "colab_type": "code",
    "id": "lKIMwi6MfaNh",
    "outputId": "a77f7572-627f-44fe-aea2-b1e4bfcd0df2"
   },
   "outputs": [
    {
     "data": {
      "text/plain": [
       "(224, 224, 3)"
      ]
     },
     "execution_count": 24,
     "metadata": {
      "tags": []
     },
     "output_type": "execute_result"
    }
   ],
   "source": [
    "images[0].shape"
   ]
  },
  {
   "cell_type": "code",
   "execution_count": 0,
   "metadata": {
    "colab": {
     "base_uri": "https://localhost:8080/",
     "height": 34
    },
    "colab_type": "code",
    "id": "N7iPjjXMfaNk",
    "outputId": "7169ba19-52fe-4de6-9acc-5d2cdae899fc"
   },
   "outputs": [
    {
     "data": {
      "text/plain": [
       "8"
      ]
     },
     "execution_count": 25,
     "metadata": {
      "tags": []
     },
     "output_type": "execute_result"
    }
   ],
   "source": [
    "len(images)"
   ]
  },
  {
   "cell_type": "code",
   "execution_count": 0,
   "metadata": {
    "colab": {},
    "colab_type": "code",
    "id": "PoF3QA3NfaNo"
   },
   "outputs": [],
   "source": [
    "from models.custom_model_builder import get_custom_model"
   ]
  },
  {
   "cell_type": "code",
   "execution_count": 0,
   "metadata": {
    "colab": {
     "base_uri": "https://localhost:8080/",
     "height": 524
    },
    "colab_type": "code",
    "id": "fPwUGiHb1IeQ",
    "outputId": "d068b025-04f0-4704-ab48-4e53d263100f"
   },
   "outputs": [
    {
     "name": "stdout",
     "output_type": "stream",
     "text": [
      "WARNING:tensorflow:From /usr/local/lib/python3.6/dist-packages/keras/backend/tensorflow_backend.py:66: The name tf.get_default_graph is deprecated. Please use tf.compat.v1.get_default_graph instead.\n",
      "\n",
      "WARNING:tensorflow:From /usr/local/lib/python3.6/dist-packages/keras/backend/tensorflow_backend.py:541: The name tf.placeholder is deprecated. Please use tf.compat.v1.placeholder instead.\n",
      "\n",
      "WARNING:tensorflow:From /usr/local/lib/python3.6/dist-packages/keras/backend/tensorflow_backend.py:4479: The name tf.truncated_normal is deprecated. Please use tf.random.truncated_normal instead.\n",
      "\n",
      "WARNING:tensorflow:From /usr/local/lib/python3.6/dist-packages/keras/backend/tensorflow_backend.py:190: The name tf.get_default_session is deprecated. Please use tf.compat.v1.get_default_session instead.\n",
      "\n",
      "WARNING:tensorflow:From /usr/local/lib/python3.6/dist-packages/keras/backend/tensorflow_backend.py:197: The name tf.ConfigProto is deprecated. Please use tf.compat.v1.ConfigProto instead.\n",
      "\n",
      "WARNING:tensorflow:From /usr/local/lib/python3.6/dist-packages/keras/backend/tensorflow_backend.py:203: The name tf.Session is deprecated. Please use tf.compat.v1.Session instead.\n",
      "\n",
      "WARNING:tensorflow:From /usr/local/lib/python3.6/dist-packages/keras/backend/tensorflow_backend.py:207: The name tf.global_variables is deprecated. Please use tf.compat.v1.global_variables instead.\n",
      "\n",
      "WARNING:tensorflow:From /usr/local/lib/python3.6/dist-packages/keras/backend/tensorflow_backend.py:216: The name tf.is_variable_initialized is deprecated. Please use tf.compat.v1.is_variable_initialized instead.\n",
      "\n",
      "WARNING:tensorflow:From /usr/local/lib/python3.6/dist-packages/keras/backend/tensorflow_backend.py:223: The name tf.variables_initializer is deprecated. Please use tf.compat.v1.variables_initializer instead.\n",
      "\n",
      "WARNING:tensorflow:From /usr/local/lib/python3.6/dist-packages/keras/backend/tensorflow_backend.py:2041: The name tf.nn.fused_batch_norm is deprecated. Please use tf.compat.v1.nn.fused_batch_norm instead.\n",
      "\n",
      "WARNING:tensorflow:From /usr/local/lib/python3.6/dist-packages/keras/backend/tensorflow_backend.py:148: The name tf.placeholder_with_default is deprecated. Please use tf.compat.v1.placeholder_with_default instead.\n",
      "\n",
      "WARNING:tensorflow:From /usr/local/lib/python3.6/dist-packages/keras/backend/tensorflow_backend.py:3733: calling dropout (from tensorflow.python.ops.nn_ops) with keep_prob is deprecated and will be removed in a future version.\n",
      "Instructions for updating:\n",
      "Please use `rate` instead of `keep_prob`. Rate should be set to `rate = 1 - keep_prob`.\n",
      "WARNING:tensorflow:From /usr/local/lib/python3.6/dist-packages/keras/backend/tensorflow_backend.py:4267: The name tf.nn.max_pool is deprecated. Please use tf.nn.max_pool2d instead.\n",
      "\n",
      "WARNING:tensorflow:From /usr/local/lib/python3.6/dist-packages/keras/backend/tensorflow_backend.py:4432: The name tf.random_uniform is deprecated. Please use tf.random.uniform instead.\n",
      "\n"
     ]
    }
   ],
   "source": [
    "model = get_custom_model(input_shape=(224, 224, 3))"
   ]
  },
  {
   "cell_type": "code",
   "execution_count": 0,
   "metadata": {
    "colab": {
     "base_uri": "https://localhost:8080/",
     "height": 34
    },
    "colab_type": "code",
    "id": "bh53P7EHfaNv",
    "outputId": "66ddd672-bc63-4f3e-a752-40be4d39a496"
   },
   "outputs": [
    {
     "data": {
      "text/plain": [
       "<keras.engine.training.Model at 0x7f75ad02fac8>"
      ]
     },
     "execution_count": 28,
     "metadata": {
      "tags": []
     },
     "output_type": "execute_result"
    }
   ],
   "source": [
    "model"
   ]
  },
  {
   "cell_type": "code",
   "execution_count": 0,
   "metadata": {
    "colab": {
     "base_uri": "https://localhost:8080/",
     "height": 1000
    },
    "colab_type": "code",
    "id": "f9Z7-g-efaNw",
    "outputId": "a00f7394-191a-4858-c1a9-3e5bb21cc755"
   },
   "outputs": [
    {
     "name": "stdout",
     "output_type": "stream",
     "text": [
      "Model: \"model_1\"\n",
      "__________________________________________________________________________________________________\n",
      "Layer (type)                    Output Shape         Param #     Connected to                     \n",
      "==================================================================================================\n",
      "input_1 (InputLayer)            (None, 224, 224, 3)  0                                            \n",
      "__________________________________________________________________________________________________\n",
      "conv2d_1 (Conv2D)               (None, 224, 224, 32) 896         input_1[0][0]                    \n",
      "__________________________________________________________________________________________________\n",
      "batch_normalization_1 (BatchNor (None, 224, 224, 32) 128         conv2d_1[0][0]                   \n",
      "__________________________________________________________________________________________________\n",
      "activation_1 (Activation)       (None, 224, 224, 32) 0           batch_normalization_1[0][0]      \n",
      "__________________________________________________________________________________________________\n",
      "conv2d_2 (Conv2D)               (None, 224, 224, 64) 18496       activation_1[0][0]               \n",
      "__________________________________________________________________________________________________\n",
      "batch_normalization_2 (BatchNor (None, 224, 224, 64) 256         conv2d_2[0][0]                   \n",
      "__________________________________________________________________________________________________\n",
      "activation_2 (Activation)       (None, 224, 224, 64) 0           batch_normalization_2[0][0]      \n",
      "__________________________________________________________________________________________________\n",
      "dropout_1 (Dropout)             (None, 224, 224, 64) 0           activation_2[0][0]               \n",
      "__________________________________________________________________________________________________\n",
      "batch_normalization_3 (BatchNor (None, 224, 224, 64) 256         dropout_1[0][0]                  \n",
      "__________________________________________________________________________________________________\n",
      "activation_3 (Activation)       (None, 224, 224, 64) 0           batch_normalization_3[0][0]      \n",
      "__________________________________________________________________________________________________\n",
      "conv2d_3 (Conv2D)               (None, 224, 224, 64) 4160        activation_3[0][0]               \n",
      "__________________________________________________________________________________________________\n",
      "batch_normalization_4 (BatchNor (None, 224, 224, 64) 256         conv2d_3[0][0]                   \n",
      "__________________________________________________________________________________________________\n",
      "activation_4 (Activation)       (None, 224, 224, 64) 0           batch_normalization_4[0][0]      \n",
      "__________________________________________________________________________________________________\n",
      "conv2d_4 (Conv2D)               (None, 224, 224, 64) 36928       activation_4[0][0]               \n",
      "__________________________________________________________________________________________________\n",
      "batch_normalization_5 (BatchNor (None, 224, 224, 64) 256         conv2d_4[0][0]                   \n",
      "__________________________________________________________________________________________________\n",
      "activation_5 (Activation)       (None, 224, 224, 64) 0           batch_normalization_5[0][0]      \n",
      "__________________________________________________________________________________________________\n",
      "conv2d_5 (Conv2D)               (None, 224, 224, 64) 4160        activation_5[0][0]               \n",
      "__________________________________________________________________________________________________\n",
      "add_1 (Add)                     (None, 224, 224, 64) 0           dropout_1[0][0]                  \n",
      "                                                                 conv2d_5[0][0]                   \n",
      "__________________________________________________________________________________________________\n",
      "batch_normalization_6 (BatchNor (None, 224, 224, 64) 256         add_1[0][0]                      \n",
      "__________________________________________________________________________________________________\n",
      "activation_6 (Activation)       (None, 224, 224, 64) 0           batch_normalization_6[0][0]      \n",
      "__________________________________________________________________________________________________\n",
      "conv2d_6 (Conv2D)               (None, 224, 224, 64) 4160        activation_6[0][0]               \n",
      "__________________________________________________________________________________________________\n",
      "batch_normalization_7 (BatchNor (None, 224, 224, 64) 256         conv2d_6[0][0]                   \n",
      "__________________________________________________________________________________________________\n",
      "activation_7 (Activation)       (None, 224, 224, 64) 0           batch_normalization_7[0][0]      \n",
      "__________________________________________________________________________________________________\n",
      "conv2d_7 (Conv2D)               (None, 224, 224, 64) 36928       activation_7[0][0]               \n",
      "__________________________________________________________________________________________________\n",
      "batch_normalization_8 (BatchNor (None, 224, 224, 64) 256         conv2d_7[0][0]                   \n",
      "__________________________________________________________________________________________________\n",
      "activation_8 (Activation)       (None, 224, 224, 64) 0           batch_normalization_8[0][0]      \n",
      "__________________________________________________________________________________________________\n",
      "conv2d_8 (Conv2D)               (None, 224, 224, 64) 4160        activation_8[0][0]               \n",
      "__________________________________________________________________________________________________\n",
      "add_2 (Add)                     (None, 224, 224, 64) 0           add_1[0][0]                      \n",
      "                                                                 conv2d_8[0][0]                   \n",
      "__________________________________________________________________________________________________\n",
      "batch_normalization_9 (BatchNor (None, 224, 224, 64) 256         add_2[0][0]                      \n",
      "__________________________________________________________________________________________________\n",
      "activation_9 (Activation)       (None, 224, 224, 64) 0           batch_normalization_9[0][0]      \n",
      "__________________________________________________________________________________________________\n",
      "conv2d_9 (Conv2D)               (None, 224, 224, 64) 4160        activation_9[0][0]               \n",
      "__________________________________________________________________________________________________\n",
      "batch_normalization_10 (BatchNo (None, 224, 224, 64) 256         conv2d_9[0][0]                   \n",
      "__________________________________________________________________________________________________\n",
      "activation_10 (Activation)      (None, 224, 224, 64) 0           batch_normalization_10[0][0]     \n",
      "__________________________________________________________________________________________________\n",
      "conv2d_10 (Conv2D)              (None, 224, 224, 64) 36928       activation_10[0][0]              \n",
      "__________________________________________________________________________________________________\n",
      "batch_normalization_11 (BatchNo (None, 224, 224, 64) 256         conv2d_10[0][0]                  \n",
      "__________________________________________________________________________________________________\n",
      "activation_11 (Activation)      (None, 224, 224, 64) 0           batch_normalization_11[0][0]     \n",
      "__________________________________________________________________________________________________\n",
      "conv2d_11 (Conv2D)              (None, 224, 224, 64) 4160        activation_11[0][0]              \n",
      "__________________________________________________________________________________________________\n",
      "add_3 (Add)                     (None, 224, 224, 64) 0           add_2[0][0]                      \n",
      "                                                                 conv2d_11[0][0]                  \n",
      "__________________________________________________________________________________________________\n",
      "max_pooling2d_1 (MaxPooling2D)  (None, 112, 112, 64) 0           add_3[0][0]                      \n",
      "__________________________________________________________________________________________________\n",
      "batch_normalization_12 (BatchNo (None, 112, 112, 64) 256         max_pooling2d_1[0][0]            \n",
      "__________________________________________________________________________________________________\n",
      "activation_12 (Activation)      (None, 112, 112, 64) 0           batch_normalization_12[0][0]     \n",
      "__________________________________________________________________________________________________\n",
      "conv2d_12 (Conv2D)              (None, 112, 112, 128 8320        activation_12[0][0]              \n",
      "__________________________________________________________________________________________________\n",
      "batch_normalization_13 (BatchNo (None, 112, 112, 128 512         conv2d_12[0][0]                  \n",
      "__________________________________________________________________________________________________\n",
      "activation_13 (Activation)      (None, 112, 112, 128 0           batch_normalization_13[0][0]     \n",
      "__________________________________________________________________________________________________\n",
      "conv2d_13 (Conv2D)              (None, 112, 112, 128 147584      activation_13[0][0]              \n",
      "__________________________________________________________________________________________________\n",
      "batch_normalization_14 (BatchNo (None, 112, 112, 128 512         conv2d_13[0][0]                  \n",
      "__________________________________________________________________________________________________\n",
      "activation_14 (Activation)      (None, 112, 112, 128 0           batch_normalization_14[0][0]     \n",
      "__________________________________________________________________________________________________\n",
      "conv2d_15 (Conv2D)              (None, 112, 112, 128 8320        max_pooling2d_1[0][0]            \n",
      "__________________________________________________________________________________________________\n",
      "conv2d_14 (Conv2D)              (None, 112, 112, 128 16512       activation_14[0][0]              \n",
      "__________________________________________________________________________________________________\n",
      "add_4 (Add)                     (None, 112, 112, 128 0           conv2d_15[0][0]                  \n",
      "                                                                 conv2d_14[0][0]                  \n",
      "__________________________________________________________________________________________________\n",
      "batch_normalization_15 (BatchNo (None, 112, 112, 128 512         add_4[0][0]                      \n",
      "__________________________________________________________________________________________________\n",
      "activation_15 (Activation)      (None, 112, 112, 128 0           batch_normalization_15[0][0]     \n",
      "__________________________________________________________________________________________________\n",
      "conv2d_16 (Conv2D)              (None, 112, 112, 128 16512       activation_15[0][0]              \n",
      "__________________________________________________________________________________________________\n",
      "batch_normalization_16 (BatchNo (None, 112, 112, 128 512         conv2d_16[0][0]                  \n",
      "__________________________________________________________________________________________________\n",
      "activation_16 (Activation)      (None, 112, 112, 128 0           batch_normalization_16[0][0]     \n",
      "__________________________________________________________________________________________________\n",
      "conv2d_17 (Conv2D)              (None, 112, 112, 128 147584      activation_16[0][0]              \n",
      "__________________________________________________________________________________________________\n",
      "batch_normalization_17 (BatchNo (None, 112, 112, 128 512         conv2d_17[0][0]                  \n",
      "__________________________________________________________________________________________________\n",
      "activation_17 (Activation)      (None, 112, 112, 128 0           batch_normalization_17[0][0]     \n",
      "__________________________________________________________________________________________________\n",
      "conv2d_18 (Conv2D)              (None, 112, 112, 128 16512       activation_17[0][0]              \n",
      "__________________________________________________________________________________________________\n",
      "add_5 (Add)                     (None, 112, 112, 128 0           add_4[0][0]                      \n",
      "                                                                 conv2d_18[0][0]                  \n",
      "__________________________________________________________________________________________________\n",
      "batch_normalization_18 (BatchNo (None, 112, 112, 128 512         add_5[0][0]                      \n",
      "__________________________________________________________________________________________________\n",
      "activation_18 (Activation)      (None, 112, 112, 128 0           batch_normalization_18[0][0]     \n",
      "__________________________________________________________________________________________________\n",
      "conv2d_19 (Conv2D)              (None, 112, 112, 128 16512       activation_18[0][0]              \n",
      "__________________________________________________________________________________________________\n",
      "batch_normalization_19 (BatchNo (None, 112, 112, 128 512         conv2d_19[0][0]                  \n",
      "__________________________________________________________________________________________________\n",
      "activation_19 (Activation)      (None, 112, 112, 128 0           batch_normalization_19[0][0]     \n",
      "__________________________________________________________________________________________________\n",
      "conv2d_20 (Conv2D)              (None, 112, 112, 128 147584      activation_19[0][0]              \n",
      "__________________________________________________________________________________________________\n",
      "batch_normalization_20 (BatchNo (None, 112, 112, 128 512         conv2d_20[0][0]                  \n",
      "__________________________________________________________________________________________________\n",
      "activation_20 (Activation)      (None, 112, 112, 128 0           batch_normalization_20[0][0]     \n",
      "__________________________________________________________________________________________________\n",
      "conv2d_21 (Conv2D)              (None, 112, 112, 128 16512       activation_20[0][0]              \n",
      "__________________________________________________________________________________________________\n",
      "add_6 (Add)                     (None, 112, 112, 128 0           add_5[0][0]                      \n",
      "                                                                 conv2d_21[0][0]                  \n",
      "__________________________________________________________________________________________________\n",
      "batch_normalization_21 (BatchNo (None, 112, 112, 128 512         add_6[0][0]                      \n",
      "__________________________________________________________________________________________________\n",
      "activation_21 (Activation)      (None, 112, 112, 128 0           batch_normalization_21[0][0]     \n",
      "__________________________________________________________________________________________________\n",
      "gender_tower (Dropout)          (None, 112, 112, 128 0           activation_21[0][0]              \n",
      "__________________________________________________________________________________________________\n",
      "image_quality_tower (Dropout)   (None, 112, 112, 128 0           activation_21[0][0]              \n",
      "__________________________________________________________________________________________________\n",
      "age_tower (Dropout)             (None, 112, 112, 128 0           activation_21[0][0]              \n",
      "__________________________________________________________________________________________________\n",
      "weight_tower (Dropout)          (None, 112, 112, 128 0           activation_21[0][0]              \n",
      "__________________________________________________________________________________________________\n",
      "bag_tower (Dropout)             (None, 112, 112, 128 0           activation_21[0][0]              \n",
      "__________________________________________________________________________________________________\n",
      "footwear_tower (Dropout)        (None, 112, 112, 128 0           activation_21[0][0]              \n",
      "__________________________________________________________________________________________________\n",
      "pose_tower (Dropout)            (None, 112, 112, 128 0           activation_21[0][0]              \n",
      "__________________________________________________________________________________________________\n",
      "emotion_tower (Dropout)         (None, 112, 112, 128 0           activation_21[0][0]              \n",
      "__________________________________________________________________________________________________\n",
      "gender_c1 (Conv2D)              (None, 112, 112, 32) 4128        gender_tower[0][0]               \n",
      "__________________________________________________________________________________________________\n",
      "image_quality_c1 (Conv2D)       (None, 112, 112, 32) 4128        image_quality_tower[0][0]        \n",
      "__________________________________________________________________________________________________\n",
      "age_c1 (Conv2D)                 (None, 112, 112, 32) 4128        age_tower[0][0]                  \n",
      "__________________________________________________________________________________________________\n",
      "weight_c1 (Conv2D)              (None, 112, 112, 32) 4128        weight_tower[0][0]               \n",
      "__________________________________________________________________________________________________\n",
      "bag_c1 (Conv2D)                 (None, 112, 112, 32) 4128        bag_tower[0][0]                  \n",
      "__________________________________________________________________________________________________\n",
      "footwear_c1 (Conv2D)            (None, 112, 112, 32) 4128        footwear_tower[0][0]             \n",
      "__________________________________________________________________________________________________\n",
      "pose_c1 (Conv2D)                (None, 112, 112, 32) 4128        pose_tower[0][0]                 \n",
      "__________________________________________________________________________________________________\n",
      "emotion_c1 (Conv2D)             (None, 112, 112, 32) 4128        emotion_tower[0][0]              \n",
      "__________________________________________________________________________________________________\n",
      "batch_normalization_22 (BatchNo (None, 112, 112, 32) 128         gender_c1[0][0]                  \n",
      "__________________________________________________________________________________________________\n",
      "batch_normalization_25 (BatchNo (None, 112, 112, 32) 128         image_quality_c1[0][0]           \n",
      "__________________________________________________________________________________________________\n",
      "batch_normalization_28 (BatchNo (None, 112, 112, 32) 128         age_c1[0][0]                     \n",
      "__________________________________________________________________________________________________\n",
      "batch_normalization_31 (BatchNo (None, 112, 112, 32) 128         weight_c1[0][0]                  \n",
      "__________________________________________________________________________________________________\n",
      "batch_normalization_34 (BatchNo (None, 112, 112, 32) 128         bag_c1[0][0]                     \n",
      "__________________________________________________________________________________________________\n",
      "batch_normalization_37 (BatchNo (None, 112, 112, 32) 128         footwear_c1[0][0]                \n",
      "__________________________________________________________________________________________________\n",
      "batch_normalization_40 (BatchNo (None, 112, 112, 32) 128         pose_c1[0][0]                    \n",
      "__________________________________________________________________________________________________\n",
      "batch_normalization_43 (BatchNo (None, 112, 112, 32) 128         emotion_c1[0][0]                 \n",
      "__________________________________________________________________________________________________\n",
      "activation_22 (Activation)      (None, 112, 112, 32) 0           batch_normalization_22[0][0]     \n",
      "__________________________________________________________________________________________________\n",
      "activation_25 (Activation)      (None, 112, 112, 32) 0           batch_normalization_25[0][0]     \n",
      "__________________________________________________________________________________________________\n",
      "activation_28 (Activation)      (None, 112, 112, 32) 0           batch_normalization_28[0][0]     \n",
      "__________________________________________________________________________________________________\n",
      "activation_31 (Activation)      (None, 112, 112, 32) 0           batch_normalization_31[0][0]     \n",
      "__________________________________________________________________________________________________\n",
      "activation_34 (Activation)      (None, 112, 112, 32) 0           batch_normalization_34[0][0]     \n",
      "__________________________________________________________________________________________________\n",
      "activation_37 (Activation)      (None, 112, 112, 32) 0           batch_normalization_37[0][0]     \n",
      "__________________________________________________________________________________________________\n",
      "activation_40 (Activation)      (None, 112, 112, 32) 0           batch_normalization_40[0][0]     \n",
      "__________________________________________________________________________________________________\n",
      "activation_43 (Activation)      (None, 112, 112, 32) 0           batch_normalization_43[0][0]     \n",
      "__________________________________________________________________________________________________\n",
      "conv2d_22 (Conv2D)              (None, 110, 110, 64) 18496       activation_22[0][0]              \n",
      "__________________________________________________________________________________________________\n",
      "conv2d_26 (Conv2D)              (None, 110, 110, 64) 18496       activation_25[0][0]              \n",
      "__________________________________________________________________________________________________\n",
      "conv2d_30 (Conv2D)              (None, 110, 110, 64) 18496       activation_28[0][0]              \n",
      "__________________________________________________________________________________________________\n",
      "conv2d_34 (Conv2D)              (None, 110, 110, 64) 18496       activation_31[0][0]              \n",
      "__________________________________________________________________________________________________\n",
      "conv2d_38 (Conv2D)              (None, 110, 110, 64) 18496       activation_34[0][0]              \n",
      "__________________________________________________________________________________________________\n",
      "conv2d_42 (Conv2D)              (None, 110, 110, 64) 18496       activation_37[0][0]              \n",
      "__________________________________________________________________________________________________\n",
      "conv2d_46 (Conv2D)              (None, 110, 110, 64) 18496       activation_40[0][0]              \n",
      "__________________________________________________________________________________________________\n",
      "conv2d_50 (Conv2D)              (None, 110, 110, 64) 18496       activation_43[0][0]              \n",
      "__________________________________________________________________________________________________\n",
      "dropout_2 (Dropout)             (None, 110, 110, 64) 0           conv2d_22[0][0]                  \n",
      "__________________________________________________________________________________________________\n",
      "dropout_5 (Dropout)             (None, 110, 110, 64) 0           conv2d_26[0][0]                  \n",
      "__________________________________________________________________________________________________\n",
      "dropout_8 (Dropout)             (None, 110, 110, 64) 0           conv2d_30[0][0]                  \n",
      "__________________________________________________________________________________________________\n",
      "dropout_11 (Dropout)            (None, 110, 110, 64) 0           conv2d_34[0][0]                  \n",
      "__________________________________________________________________________________________________\n",
      "dropout_14 (Dropout)            (None, 110, 110, 64) 0           conv2d_38[0][0]                  \n",
      "__________________________________________________________________________________________________\n",
      "dropout_17 (Dropout)            (None, 110, 110, 64) 0           conv2d_42[0][0]                  \n",
      "__________________________________________________________________________________________________\n",
      "dropout_20 (Dropout)            (None, 110, 110, 64) 0           conv2d_46[0][0]                  \n",
      "__________________________________________________________________________________________________\n",
      "dropout_23 (Dropout)            (None, 110, 110, 64) 0           conv2d_50[0][0]                  \n",
      "__________________________________________________________________________________________________\n",
      "max_pooling2d_2 (MaxPooling2D)  (None, 55, 55, 64)   0           dropout_2[0][0]                  \n",
      "__________________________________________________________________________________________________\n",
      "max_pooling2d_4 (MaxPooling2D)  (None, 55, 55, 64)   0           dropout_5[0][0]                  \n",
      "__________________________________________________________________________________________________\n",
      "max_pooling2d_6 (MaxPooling2D)  (None, 55, 55, 64)   0           dropout_8[0][0]                  \n",
      "__________________________________________________________________________________________________\n",
      "max_pooling2d_8 (MaxPooling2D)  (None, 55, 55, 64)   0           dropout_11[0][0]                 \n",
      "__________________________________________________________________________________________________\n",
      "max_pooling2d_10 (MaxPooling2D) (None, 55, 55, 64)   0           dropout_14[0][0]                 \n",
      "__________________________________________________________________________________________________\n",
      "max_pooling2d_12 (MaxPooling2D) (None, 55, 55, 64)   0           dropout_17[0][0]                 \n",
      "__________________________________________________________________________________________________\n",
      "max_pooling2d_14 (MaxPooling2D) (None, 55, 55, 64)   0           dropout_20[0][0]                 \n",
      "__________________________________________________________________________________________________\n",
      "max_pooling2d_16 (MaxPooling2D) (None, 55, 55, 64)   0           dropout_23[0][0]                 \n",
      "__________________________________________________________________________________________________\n",
      "batch_normalization_23 (BatchNo (None, 55, 55, 64)   256         max_pooling2d_2[0][0]            \n",
      "__________________________________________________________________________________________________\n",
      "batch_normalization_26 (BatchNo (None, 55, 55, 64)   256         max_pooling2d_4[0][0]            \n",
      "__________________________________________________________________________________________________\n",
      "batch_normalization_29 (BatchNo (None, 55, 55, 64)   256         max_pooling2d_6[0][0]            \n",
      "__________________________________________________________________________________________________\n",
      "batch_normalization_32 (BatchNo (None, 55, 55, 64)   256         max_pooling2d_8[0][0]            \n",
      "__________________________________________________________________________________________________\n",
      "batch_normalization_35 (BatchNo (None, 55, 55, 64)   256         max_pooling2d_10[0][0]           \n",
      "__________________________________________________________________________________________________\n",
      "batch_normalization_38 (BatchNo (None, 55, 55, 64)   256         max_pooling2d_12[0][0]           \n",
      "__________________________________________________________________________________________________\n",
      "batch_normalization_41 (BatchNo (None, 55, 55, 64)   256         max_pooling2d_14[0][0]           \n",
      "__________________________________________________________________________________________________\n",
      "batch_normalization_44 (BatchNo (None, 55, 55, 64)   256         max_pooling2d_16[0][0]           \n",
      "__________________________________________________________________________________________________\n",
      "activation_23 (Activation)      (None, 55, 55, 64)   0           batch_normalization_23[0][0]     \n",
      "__________________________________________________________________________________________________\n",
      "activation_26 (Activation)      (None, 55, 55, 64)   0           batch_normalization_26[0][0]     \n",
      "__________________________________________________________________________________________________\n",
      "activation_29 (Activation)      (None, 55, 55, 64)   0           batch_normalization_29[0][0]     \n",
      "__________________________________________________________________________________________________\n",
      "activation_32 (Activation)      (None, 55, 55, 64)   0           batch_normalization_32[0][0]     \n",
      "__________________________________________________________________________________________________\n",
      "activation_35 (Activation)      (None, 55, 55, 64)   0           batch_normalization_35[0][0]     \n",
      "__________________________________________________________________________________________________\n",
      "activation_38 (Activation)      (None, 55, 55, 64)   0           batch_normalization_38[0][0]     \n",
      "__________________________________________________________________________________________________\n",
      "activation_41 (Activation)      (None, 55, 55, 64)   0           batch_normalization_41[0][0]     \n",
      "__________________________________________________________________________________________________\n",
      "activation_44 (Activation)      (None, 55, 55, 64)   0           batch_normalization_44[0][0]     \n",
      "__________________________________________________________________________________________________\n",
      "conv2d_23 (Conv2D)              (None, 53, 53, 128)  73856       activation_23[0][0]              \n",
      "__________________________________________________________________________________________________\n",
      "conv2d_27 (Conv2D)              (None, 53, 53, 128)  73856       activation_26[0][0]              \n",
      "__________________________________________________________________________________________________\n",
      "conv2d_31 (Conv2D)              (None, 53, 53, 128)  73856       activation_29[0][0]              \n",
      "__________________________________________________________________________________________________\n",
      "conv2d_35 (Conv2D)              (None, 53, 53, 128)  73856       activation_32[0][0]              \n",
      "__________________________________________________________________________________________________\n",
      "conv2d_39 (Conv2D)              (None, 53, 53, 128)  73856       activation_35[0][0]              \n",
      "__________________________________________________________________________________________________\n",
      "conv2d_43 (Conv2D)              (None, 53, 53, 128)  73856       activation_38[0][0]              \n",
      "__________________________________________________________________________________________________\n",
      "conv2d_47 (Conv2D)              (None, 53, 53, 128)  73856       activation_41[0][0]              \n",
      "__________________________________________________________________________________________________\n",
      "conv2d_51 (Conv2D)              (None, 53, 53, 128)  73856       activation_44[0][0]              \n",
      "__________________________________________________________________________________________________\n",
      "dropout_3 (Dropout)             (None, 53, 53, 128)  0           conv2d_23[0][0]                  \n",
      "__________________________________________________________________________________________________\n",
      "dropout_6 (Dropout)             (None, 53, 53, 128)  0           conv2d_27[0][0]                  \n",
      "__________________________________________________________________________________________________\n",
      "dropout_9 (Dropout)             (None, 53, 53, 128)  0           conv2d_31[0][0]                  \n",
      "__________________________________________________________________________________________________\n",
      "dropout_12 (Dropout)            (None, 53, 53, 128)  0           conv2d_35[0][0]                  \n",
      "__________________________________________________________________________________________________\n",
      "dropout_15 (Dropout)            (None, 53, 53, 128)  0           conv2d_39[0][0]                  \n",
      "__________________________________________________________________________________________________\n",
      "dropout_18 (Dropout)            (None, 53, 53, 128)  0           conv2d_43[0][0]                  \n",
      "__________________________________________________________________________________________________\n",
      "dropout_21 (Dropout)            (None, 53, 53, 128)  0           conv2d_47[0][0]                  \n",
      "__________________________________________________________________________________________________\n",
      "dropout_24 (Dropout)            (None, 53, 53, 128)  0           conv2d_51[0][0]                  \n",
      "__________________________________________________________________________________________________\n",
      "max_pooling2d_3 (MaxPooling2D)  (None, 26, 26, 128)  0           dropout_3[0][0]                  \n",
      "__________________________________________________________________________________________________\n",
      "max_pooling2d_5 (MaxPooling2D)  (None, 26, 26, 128)  0           dropout_6[0][0]                  \n",
      "__________________________________________________________________________________________________\n",
      "max_pooling2d_7 (MaxPooling2D)  (None, 26, 26, 128)  0           dropout_9[0][0]                  \n",
      "__________________________________________________________________________________________________\n",
      "max_pooling2d_9 (MaxPooling2D)  (None, 26, 26, 128)  0           dropout_12[0][0]                 \n",
      "__________________________________________________________________________________________________\n",
      "max_pooling2d_11 (MaxPooling2D) (None, 26, 26, 128)  0           dropout_15[0][0]                 \n",
      "__________________________________________________________________________________________________\n",
      "max_pooling2d_13 (MaxPooling2D) (None, 26, 26, 128)  0           dropout_18[0][0]                 \n",
      "__________________________________________________________________________________________________\n",
      "max_pooling2d_15 (MaxPooling2D) (None, 26, 26, 128)  0           dropout_21[0][0]                 \n",
      "__________________________________________________________________________________________________\n",
      "max_pooling2d_17 (MaxPooling2D) (None, 26, 26, 128)  0           dropout_24[0][0]                 \n",
      "__________________________________________________________________________________________________\n",
      "batch_normalization_24 (BatchNo (None, 26, 26, 128)  512         max_pooling2d_3[0][0]            \n",
      "__________________________________________________________________________________________________\n",
      "batch_normalization_27 (BatchNo (None, 26, 26, 128)  512         max_pooling2d_5[0][0]            \n",
      "__________________________________________________________________________________________________\n",
      "batch_normalization_30 (BatchNo (None, 26, 26, 128)  512         max_pooling2d_7[0][0]            \n",
      "__________________________________________________________________________________________________\n",
      "batch_normalization_33 (BatchNo (None, 26, 26, 128)  512         max_pooling2d_9[0][0]            \n",
      "__________________________________________________________________________________________________\n",
      "batch_normalization_36 (BatchNo (None, 26, 26, 128)  512         max_pooling2d_11[0][0]           \n",
      "__________________________________________________________________________________________________\n",
      "batch_normalization_39 (BatchNo (None, 26, 26, 128)  512         max_pooling2d_13[0][0]           \n",
      "__________________________________________________________________________________________________\n",
      "batch_normalization_42 (BatchNo (None, 26, 26, 128)  512         max_pooling2d_15[0][0]           \n",
      "__________________________________________________________________________________________________\n",
      "batch_normalization_45 (BatchNo (None, 26, 26, 128)  512         max_pooling2d_17[0][0]           \n",
      "__________________________________________________________________________________________________\n",
      "activation_24 (Activation)      (None, 26, 26, 128)  0           batch_normalization_24[0][0]     \n",
      "__________________________________________________________________________________________________\n",
      "activation_27 (Activation)      (None, 26, 26, 128)  0           batch_normalization_27[0][0]     \n",
      "__________________________________________________________________________________________________\n",
      "activation_30 (Activation)      (None, 26, 26, 128)  0           batch_normalization_30[0][0]     \n",
      "__________________________________________________________________________________________________\n",
      "activation_33 (Activation)      (None, 26, 26, 128)  0           batch_normalization_33[0][0]     \n",
      "__________________________________________________________________________________________________\n",
      "activation_36 (Activation)      (None, 26, 26, 128)  0           batch_normalization_36[0][0]     \n",
      "__________________________________________________________________________________________________\n",
      "activation_39 (Activation)      (None, 26, 26, 128)  0           batch_normalization_39[0][0]     \n",
      "__________________________________________________________________________________________________\n",
      "activation_42 (Activation)      (None, 26, 26, 128)  0           batch_normalization_42[0][0]     \n",
      "__________________________________________________________________________________________________\n",
      "activation_45 (Activation)      (None, 26, 26, 128)  0           batch_normalization_45[0][0]     \n",
      "__________________________________________________________________________________________________\n",
      "conv2d_24 (Conv2D)              (None, 24, 24, 32)   36896       activation_24[0][0]              \n",
      "__________________________________________________________________________________________________\n",
      "conv2d_28 (Conv2D)              (None, 24, 24, 32)   36896       activation_27[0][0]              \n",
      "__________________________________________________________________________________________________\n",
      "conv2d_32 (Conv2D)              (None, 24, 24, 32)   36896       activation_30[0][0]              \n",
      "__________________________________________________________________________________________________\n",
      "conv2d_36 (Conv2D)              (None, 24, 24, 32)   36896       activation_33[0][0]              \n",
      "__________________________________________________________________________________________________\n",
      "conv2d_40 (Conv2D)              (None, 24, 24, 32)   36896       activation_36[0][0]              \n",
      "__________________________________________________________________________________________________\n",
      "conv2d_44 (Conv2D)              (None, 24, 24, 32)   36896       activation_39[0][0]              \n",
      "__________________________________________________________________________________________________\n",
      "conv2d_48 (Conv2D)              (None, 24, 24, 32)   36896       activation_42[0][0]              \n",
      "__________________________________________________________________________________________________\n",
      "conv2d_52 (Conv2D)              (None, 24, 24, 32)   36896       activation_45[0][0]              \n",
      "__________________________________________________________________________________________________\n",
      "dropout_4 (Dropout)             (None, 24, 24, 32)   0           conv2d_24[0][0]                  \n",
      "__________________________________________________________________________________________________\n",
      "dropout_7 (Dropout)             (None, 24, 24, 32)   0           conv2d_28[0][0]                  \n",
      "__________________________________________________________________________________________________\n",
      "dropout_10 (Dropout)            (None, 24, 24, 32)   0           conv2d_32[0][0]                  \n",
      "__________________________________________________________________________________________________\n",
      "dropout_13 (Dropout)            (None, 24, 24, 32)   0           conv2d_36[0][0]                  \n",
      "__________________________________________________________________________________________________\n",
      "dropout_16 (Dropout)            (None, 24, 24, 32)   0           conv2d_40[0][0]                  \n",
      "__________________________________________________________________________________________________\n",
      "dropout_19 (Dropout)            (None, 24, 24, 32)   0           conv2d_44[0][0]                  \n",
      "__________________________________________________________________________________________________\n",
      "dropout_22 (Dropout)            (None, 24, 24, 32)   0           conv2d_48[0][0]                  \n",
      "__________________________________________________________________________________________________\n",
      "dropout_25 (Dropout)            (None, 24, 24, 32)   0           conv2d_52[0][0]                  \n",
      "__________________________________________________________________________________________________\n",
      "conv2d_25 (Conv2D)              (None, 24, 24, 2)    66          dropout_4[0][0]                  \n",
      "__________________________________________________________________________________________________\n",
      "conv2d_29 (Conv2D)              (None, 24, 24, 3)    99          dropout_7[0][0]                  \n",
      "__________________________________________________________________________________________________\n",
      "conv2d_33 (Conv2D)              (None, 24, 24, 5)    165         dropout_10[0][0]                 \n",
      "__________________________________________________________________________________________________\n",
      "conv2d_37 (Conv2D)              (None, 24, 24, 4)    132         dropout_13[0][0]                 \n",
      "__________________________________________________________________________________________________\n",
      "conv2d_41 (Conv2D)              (None, 24, 24, 3)    99          dropout_16[0][0]                 \n",
      "__________________________________________________________________________________________________\n",
      "conv2d_45 (Conv2D)              (None, 24, 24, 3)    99          dropout_19[0][0]                 \n",
      "__________________________________________________________________________________________________\n",
      "conv2d_49 (Conv2D)              (None, 24, 24, 3)    99          dropout_22[0][0]                 \n",
      "__________________________________________________________________________________________________\n",
      "conv2d_53 (Conv2D)              (None, 24, 24, 4)    132         dropout_25[0][0]                 \n",
      "__________________________________________________________________________________________________\n",
      "global_average_pooling2d_1 (Glo (None, 2)            0           conv2d_25[0][0]                  \n",
      "__________________________________________________________________________________________________\n",
      "global_average_pooling2d_2 (Glo (None, 3)            0           conv2d_29[0][0]                  \n",
      "__________________________________________________________________________________________________\n",
      "global_average_pooling2d_3 (Glo (None, 5)            0           conv2d_33[0][0]                  \n",
      "__________________________________________________________________________________________________\n",
      "global_average_pooling2d_4 (Glo (None, 4)            0           conv2d_37[0][0]                  \n",
      "__________________________________________________________________________________________________\n",
      "global_average_pooling2d_5 (Glo (None, 3)            0           conv2d_41[0][0]                  \n",
      "__________________________________________________________________________________________________\n",
      "global_average_pooling2d_6 (Glo (None, 3)            0           conv2d_45[0][0]                  \n",
      "__________________________________________________________________________________________________\n",
      "global_average_pooling2d_7 (Glo (None, 3)            0           conv2d_49[0][0]                  \n",
      "__________________________________________________________________________________________________\n",
      "global_average_pooling2d_8 (Glo (None, 4)            0           conv2d_53[0][0]                  \n",
      "__________________________________________________________________________________________________\n",
      "gender_output (Activation)      (None, 2)            0           global_average_pooling2d_1[0][0] \n",
      "__________________________________________________________________________________________________\n",
      "image_quality_output (Activatio (None, 3)            0           global_average_pooling2d_2[0][0] \n",
      "__________________________________________________________________________________________________\n",
      "age_output (Activation)         (None, 5)            0           global_average_pooling2d_3[0][0] \n",
      "__________________________________________________________________________________________________\n",
      "weight_output (Activation)      (None, 4)            0           global_average_pooling2d_4[0][0] \n",
      "__________________________________________________________________________________________________\n",
      "bag_output (Activation)         (None, 3)            0           global_average_pooling2d_5[0][0] \n",
      "__________________________________________________________________________________________________\n",
      "footwear_output (Activation)    (None, 3)            0           global_average_pooling2d_6[0][0] \n",
      "__________________________________________________________________________________________________\n",
      "pose_output (Activation)        (None, 3)            0           global_average_pooling2d_7[0][0] \n",
      "__________________________________________________________________________________________________\n",
      "emotion_output (Activation)     (None, 4)            0           global_average_pooling2d_8[0][0] \n",
      "==================================================================================================\n",
      "Total params: 1,779,707\n",
      "Trainable params: 1,772,347\n",
      "Non-trainable params: 7,360\n",
      "__________________________________________________________________________________________________\n"
     ]
    }
   ],
   "source": [
    "model.summary()"
   ]
  },
  {
   "cell_type": "code",
   "execution_count": 0,
   "metadata": {
    "colab": {},
    "colab_type": "code",
    "id": "DUDtlXTyfaN0"
   },
   "outputs": [],
   "source": []
  },
  {
   "cell_type": "code",
   "execution_count": 0,
   "metadata": {
    "colab": {},
    "colab_type": "code",
    "id": "rd0ba-_bfaN2"
   },
   "outputs": [],
   "source": []
  },
  {
   "cell_type": "code",
   "execution_count": 0,
   "metadata": {
    "colab": {},
    "colab_type": "code",
    "id": "NcXfddzq1Ieq"
   },
   "outputs": [],
   "source": [
    "from keras.optimizers import SGD\n",
    "losses = {\n",
    "    \"gender_output\": \"binary_crossentropy\",\n",
    "    \"image_quality_output\": \"categorical_crossentropy\",\n",
    "    \"age_output\": \"categorical_crossentropy\",\n",
    "    \"weight_output\": \"categorical_crossentropy\",\n",
    "    \"bag_output\": \"categorical_crossentropy\",\n",
    "    \"footwear_output\": \"categorical_crossentropy\", \n",
    "    \"pose_output\": \"categorical_crossentropy\", \n",
    "    \"emotion_output\": \"categorical_crossentropy\"\n",
    "} \n",
    "\n",
    "loss_weights = {\n",
    "    \"gender_output\": 1.0,\n",
    "    \"image_quality_output\": 1.0,\n",
    "    \"age_output\": 1.0,\n",
    "    \"weight_output\": 1.0,\n",
    "    \"bag_output\": 1.0,\n",
    "    \"footwear_output\": 1.0, \n",
    "    \"pose_output\": 1.0, \n",
    "    \"emotion_output\": 1.0\n",
    "} \n",
    "\n",
    "opt = SGD(lr=0.001, momentum=0.9)\n",
    "\n",
    "model.compile(\n",
    "    optimizer = opt,\n",
    "    loss = losses, \n",
    "    loss_weights = loss_weights, \n",
    "    metrics=['accuracy']\n",
    ")"
   ]
  },
  {
   "cell_type": "code",
   "execution_count": 0,
   "metadata": {
    "colab": {},
    "colab_type": "code",
    "id": "K5CKielCHqiU"
   },
   "outputs": [],
   "source": [
    "from feature_scripts.cyclic_lr import LRFinder, OneCycleLR"
   ]
  },
  {
   "cell_type": "code",
   "execution_count": 0,
   "metadata": {
    "colab": {
     "base_uri": "https://localhost:8080/",
     "height": 34
    },
    "colab_type": "code",
    "id": "IhZzren_K07D",
    "outputId": "d3c11e83-ba5d-4640-b73a-e79287d94a9f"
   },
   "outputs": [
    {
     "data": {
      "text/plain": [
       "(11537, 28)"
      ]
     },
     "execution_count": 33,
     "metadata": {
      "tags": []
     },
     "output_type": "execute_result"
    }
   ],
   "source": [
    "train_df.shape"
   ]
  },
  {
   "cell_type": "code",
   "execution_count": 0,
   "metadata": {
    "colab": {},
    "colab_type": "code",
    "id": "UZidDASJ1auh"
   },
   "outputs": [],
   "source": [
    "from keras.callbacks import ModelCheckpoint, LearningRateScheduler\n",
    "from keras.callbacks import ReduceLROnPlateau"
   ]
  },
  {
   "cell_type": "code",
   "execution_count": 0,
   "metadata": {
    "colab": {
     "base_uri": "https://localhost:8080/",
     "height": 34
    },
    "colab_type": "code",
    "id": "YJnT8la-2AOr",
    "outputId": "c50aa76d-5026-4ad2-8cfe-0b2a33560f19"
   },
   "outputs": [
    {
     "data": {
      "text/plain": [
       "'/content/gdrive/My Drive/Colab_projects/PersonAttribures/models/final_model/model.-{epoch:03d}-{val_loss:03f}.h5'"
      ]
     },
     "execution_count": 35,
     "metadata": {
      "tags": []
     },
     "output_type": "execute_result"
    }
   ],
   "source": [
    "# Prepare model model saving directory.\n",
    "save_dir = Path.join(project_dir, 'models', 'final_model')\n",
    "if not Path.exists(save_dir):\n",
    "    os.makedirs(save_dir)\n",
    "    print('Dir created')\n",
    "\n",
    "model_name = 'model.-{epoch:03d}-{val_loss:03f}.h5'\n",
    "filepath = Path.join(save_dir, model_name)\n",
    "\n",
    "filepath"
   ]
  },
  {
   "cell_type": "code",
   "execution_count": 0,
   "metadata": {
    "colab": {},
    "colab_type": "code",
    "id": "bGeBVYm21aqH"
   },
   "outputs": [],
   "source": [
    "checkpoint = ModelCheckpoint(filepath=filepath,\n",
    "                             monitor='accuracy',\n",
    "                             verbose=1,\n",
    "                             save_best_only=True)\n",
    "\n",
    "# def scheduler(epoch, lr): #Implements cyclical learning rate\n",
    "#   step_size = 100000 # One triangle is completed after 100k steps. Each epoch will have around 3k steps as the batch size is just 8\n",
    "#   # triangle will complete after 35 epochs and last 5 epochs will have base lr\n",
    "#   iterations = epoch * 100101\n",
    "#   base_lr = .01 #base learning rate\n",
    "#   max_lr = .001 #max learning rate\n",
    "#   cycle = np.floor(1+iterations/(2*step_size))\n",
    "#   x = np.abs(iterations/step_size - 2*cycle + 1)\n",
    "#   new_lr = base_lr + (max_lr-base_lr)*np.maximum(0, (1-x))\n",
    "#   print((lr, new_lr))\n",
    "#   if(round(lr, 2) <= base_lr and epoch > 1):\n",
    "#     return base_lr \n",
    "#   else:\n",
    "#     return new_lr\n",
    "def scheduler(epoch):\n",
    "  lr = round(0.001 * pow(0.5, epoch//10), 10) #  halving lr every 10 epochs, we will go till\n",
    "  # print ('Learning rate is : ', lr)\n",
    "  return lr\n",
    "\n",
    "lr_scheduler = LearningRateScheduler(scheduler, verbose=1)\n",
    "\n",
    "\n",
    "callbacks = [checkpoint, lr_scheduler]"
   ]
  },
  {
   "cell_type": "code",
   "execution_count": 0,
   "metadata": {
    "colab": {},
    "colab_type": "code",
    "id": "2fLAHR_JMBqB"
   },
   "outputs": [],
   "source": []
  },
  {
   "cell_type": "markdown",
   "metadata": {
    "colab_type": "text",
    "id": "fIRxBH3LBsxu"
   },
   "source": []
  },
  {
   "cell_type": "code",
   "execution_count": 0,
   "metadata": {
    "colab": {
     "base_uri": "https://localhost:8080/",
     "height": 1000
    },
    "colab_type": "code",
    "id": "4qAq5bZ21Ie3",
    "outputId": "2122c891-c4af-4b55-a733-6339399e5ca8"
   },
   "outputs": [
    {
     "name": "stdout",
     "output_type": "stream",
     "text": [
      "WARNING:tensorflow:From /usr/local/lib/python3.6/dist-packages/keras/backend/tensorflow_backend.py:1033: The name tf.assign_add is deprecated. Please use tf.compat.v1.assign_add instead.\n",
      "\n",
      "WARNING:tensorflow:From /usr/local/lib/python3.6/dist-packages/keras/backend/tensorflow_backend.py:1020: The name tf.assign is deprecated. Please use tf.compat.v1.assign instead.\n",
      "\n",
      "Epoch 1/50\n",
      "\n",
      "Epoch 00001: LearningRateScheduler setting learning rate to 0.001.\n",
      "2884/2884 [==============================] - 1050s 364ms/step - loss: 7.9496 - gender_output_loss: 0.6895 - image_quality_output_loss: 0.9570 - age_output_loss: 1.4547 - weight_output_loss: 1.0026 - bag_output_loss: 0.9335 - footwear_output_loss: 1.0248 - pose_output_loss: 0.9417 - emotion_output_loss: 0.9201 - gender_output_acc: 0.5663 - image_quality_output_acc: 0.5490 - age_output_acc: 0.3867 - weight_output_acc: 0.6326 - bag_output_acc: 0.5551 - footwear_output_acc: 0.4916 - pose_output_acc: 0.6146 - emotion_output_acc: 0.7135 - val_loss: 8.6019 - val_gender_output_loss: 0.7510 - val_image_quality_output_loss: 1.1771 - val_age_output_loss: 1.4685 - val_weight_output_loss: 1.0466 - val_bag_output_loss: 0.9712 - val_footwear_output_loss: 1.1885 - val_pose_output_loss: 0.9910 - val_emotion_output_loss: 0.9824 - val_gender_output_acc: 0.4414 - val_image_quality_output_acc: 0.1924 - val_age_output_acc: 0.4011 - val_weight_output_acc: 0.6309 - val_bag_output_acc: 0.5586 - val_footwear_output_acc: 0.4360 - val_pose_output_acc: 0.6216 - val_emotion_output_acc: 0.6959\n",
      "Epoch 2/50\n",
      "\n",
      "Epoch 00002: LearningRateScheduler setting learning rate to 0.001.\n",
      "2884/2884 [==============================] - 855s 297ms/step - loss: 7.7756 - gender_output_loss: 0.6684 - image_quality_output_loss: 0.9168 - age_output_loss: 1.4359 - weight_output_loss: 0.9861 - bag_output_loss: 0.9189 - footwear_output_loss: 0.9839 - pose_output_loss: 0.9307 - emotion_output_loss: 0.9095 - gender_output_acc: 0.5930 - image_quality_output_acc: 0.5575 - age_output_acc: 0.3945 - weight_output_acc: 0.6366 - bag_output_acc: 0.5623 - footwear_output_acc: 0.5332 - pose_output_acc: 0.6166 - emotion_output_acc: 0.7139 - val_loss: 8.4600 - val_gender_output_loss: 0.7310 - val_image_quality_output_loss: 1.1388 - val_age_output_loss: 1.4925 - val_weight_output_loss: 1.0622 - val_bag_output_loss: 0.9860 - val_footwear_output_loss: 1.0520 - val_pose_output_loss: 0.9775 - val_emotion_output_loss: 0.9946 - val_gender_output_acc: 0.4882 - val_image_quality_output_acc: 0.4129 - val_age_output_acc: 0.3986 - val_weight_output_acc: 0.6284 - val_bag_output_acc: 0.5591 - val_footwear_output_acc: 0.4823 - val_pose_output_acc: 0.6220 - val_emotion_output_acc: 0.6954\n",
      "Epoch 3/50\n",
      "\n",
      "Epoch 00003: LearningRateScheduler setting learning rate to 0.001.\n",
      "2884/2884 [==============================] - 855s 296ms/step - loss: 7.7150 - gender_output_loss: 0.6559 - image_quality_output_loss: 0.9040 - age_output_loss: 1.4332 - weight_output_loss: 0.9818 - bag_output_loss: 0.9172 - footwear_output_loss: 0.9690 - pose_output_loss: 0.9244 - emotion_output_loss: 0.9045 - gender_output_acc: 0.6105 - image_quality_output_acc: 0.5622 - age_output_acc: 0.3968 - weight_output_acc: 0.6366 - bag_output_acc: 0.5634 - footwear_output_acc: 0.5432 - pose_output_acc: 0.6167 - emotion_output_acc: 0.7140 - val_loss: 8.5112 - val_gender_output_loss: 0.7428 - val_image_quality_output_loss: 1.0494 - val_age_output_loss: 1.4721 - val_weight_output_loss: 1.1078 - val_bag_output_loss: 0.9806 - val_footwear_output_loss: 1.1498 - val_pose_output_loss: 0.9940 - val_emotion_output_loss: 0.9897 - val_gender_output_acc: 0.4454 - val_image_quality_output_acc: 0.5049 - val_age_output_acc: 0.4001 - val_weight_output_acc: 0.6270 - val_bag_output_acc: 0.5595 - val_footwear_output_acc: 0.4424 - val_pose_output_acc: 0.6211 - val_emotion_output_acc: 0.6964\n",
      "Epoch 4/50\n",
      "\n",
      "Epoch 00004: LearningRateScheduler setting learning rate to 0.001.\n",
      "2884/2884 [==============================] - 854s 296ms/step - loss: 7.6719 - gender_output_loss: 0.6441 - image_quality_output_loss: 0.9011 - age_output_loss: 1.4276 - weight_output_loss: 0.9797 - bag_output_loss: 0.9134 - footwear_output_loss: 0.9565 - pose_output_loss: 0.9210 - emotion_output_loss: 0.9037 - gender_output_acc: 0.6273 - image_quality_output_acc: 0.5608 - age_output_acc: 0.3969 - weight_output_acc: 0.6366 - bag_output_acc: 0.5629 - footwear_output_acc: 0.5535 - pose_output_acc: 0.6167 - emotion_output_acc: 0.7140 - val_loss: 8.6386 - val_gender_output_loss: 0.7141 - val_image_quality_output_loss: 1.3094 - val_age_output_loss: 1.4303 - val_weight_output_loss: 1.0154 - val_bag_output_loss: 0.9489 - val_footwear_output_loss: 1.2644 - val_pose_output_loss: 0.9875 - val_emotion_output_loss: 0.9440 - val_gender_output_acc: 0.4459 - val_image_quality_output_acc: 0.1845 - val_age_output_acc: 0.4035 - val_weight_output_acc: 0.6309 - val_bag_output_acc: 0.5595 - val_footwear_output_acc: 0.4385 - val_pose_output_acc: 0.6211 - val_emotion_output_acc: 0.6959\n",
      "Epoch 5/50\n",
      "\n",
      "Epoch 00005: LearningRateScheduler setting learning rate to 0.001.\n",
      "2884/2884 [==============================] - 854s 296ms/step - loss: 7.6402 - gender_output_loss: 0.6355 - image_quality_output_loss: 0.8983 - age_output_loss: 1.4257 - weight_output_loss: 0.9783 - bag_output_loss: 0.9097 - footwear_output_loss: 0.9503 - pose_output_loss: 0.9164 - emotion_output_loss: 0.9014 - gender_output_acc: 0.6387 - image_quality_output_acc: 0.5623 - age_output_acc: 0.3980 - weight_output_acc: 0.6367 - bag_output_acc: 0.5628 - footwear_output_acc: 0.5563 - pose_output_acc: 0.6167 - emotion_output_acc: 0.7141 - val_loss: 8.2290 - val_gender_output_loss: 0.6631 - val_image_quality_output_loss: 1.1370 - val_age_output_loss: 1.4584 - val_weight_output_loss: 1.0383 - val_bag_output_loss: 0.9459 - val_footwear_output_loss: 0.9967 - val_pose_output_loss: 1.0063 - val_emotion_output_loss: 0.9590 - val_gender_output_acc: 0.6540 - val_image_quality_output_acc: 0.4040 - val_age_output_acc: 0.4021 - val_weight_output_acc: 0.6304 - val_bag_output_acc: 0.5640 - val_footwear_output_acc: 0.5477 - val_pose_output_acc: 0.6206 - val_emotion_output_acc: 0.6978\n",
      "Epoch 6/50\n",
      "\n",
      "Epoch 00006: LearningRateScheduler setting learning rate to 0.001.\n",
      "2884/2884 [==============================] - 854s 296ms/step - loss: 7.5892 - gender_output_loss: 0.6193 - image_quality_output_loss: 0.8923 - age_output_loss: 1.4218 - weight_output_loss: 0.9760 - bag_output_loss: 0.9037 - footwear_output_loss: 0.9448 - pose_output_loss: 0.9086 - emotion_output_loss: 0.8986 - gender_output_acc: 0.6517 - image_quality_output_acc: 0.5683 - age_output_acc: 0.3979 - weight_output_acc: 0.6364 - bag_output_acc: 0.5674 - footwear_output_acc: 0.5557 - pose_output_acc: 0.6165 - emotion_output_acc: 0.7141 - val_loss: 8.3431 - val_gender_output_loss: 0.6476 - val_image_quality_output_loss: 1.1106 - val_age_output_loss: 1.4826 - val_weight_output_loss: 1.0685 - val_bag_output_loss: 0.9325 - val_footwear_output_loss: 1.1347 - val_pose_output_loss: 0.9653 - val_emotion_output_loss: 0.9771 - val_gender_output_acc: 0.6693 - val_image_quality_output_acc: 0.4316 - val_age_output_acc: 0.4016 - val_weight_output_acc: 0.6289 - val_bag_output_acc: 0.5635 - val_footwear_output_acc: 0.4680 - val_pose_output_acc: 0.6225 - val_emotion_output_acc: 0.6969\n",
      "Epoch 7/50\n",
      "\n",
      "Epoch 00007: LearningRateScheduler setting learning rate to 0.001.\n",
      "2884/2884 [==============================] - 854s 296ms/step - loss: 7.5401 - gender_output_loss: 0.6092 - image_quality_output_loss: 0.8921 - age_output_loss: 1.4191 - weight_output_loss: 0.9759 - bag_output_loss: 0.8971 - footwear_output_loss: 0.9354 - pose_output_loss: 0.8896 - emotion_output_loss: 0.8977 - gender_output_acc: 0.6661 - image_quality_output_acc: 0.5665 - age_output_acc: 0.3983 - weight_output_acc: 0.6365 - bag_output_acc: 0.5699 - footwear_output_acc: 0.5665 - pose_output_acc: 0.6172 - emotion_output_acc: 0.7140 - val_loss: 8.1676 - val_gender_output_loss: 0.6544 - val_image_quality_output_loss: 1.0554 - val_age_output_loss: 1.4780 - val_weight_output_loss: 1.0469 - val_bag_output_loss: 0.9216 - val_footwear_output_loss: 1.0500 - val_pose_output_loss: 0.9565 - val_emotion_output_loss: 0.9812 - val_gender_output_acc: 0.6919 - val_image_quality_output_acc: 0.5453 - val_age_output_acc: 0.4016 - val_weight_output_acc: 0.6294 - val_bag_output_acc: 0.5655 - val_footwear_output_acc: 0.4882 - val_pose_output_acc: 0.6245 - val_emotion_output_acc: 0.6954\n",
      "Epoch 8/50\n",
      "\n",
      "Epoch 00008: LearningRateScheduler setting learning rate to 0.001.\n",
      "2884/2884 [==============================] - 854s 296ms/step - loss: 7.4651 - gender_output_loss: 0.5974 - image_quality_output_loss: 0.8842 - age_output_loss: 1.4174 - weight_output_loss: 0.9725 - bag_output_loss: 0.8905 - footwear_output_loss: 0.9229 - pose_output_loss: 0.8604 - emotion_output_loss: 0.8963 - gender_output_acc: 0.6742 - image_quality_output_acc: 0.5697 - age_output_acc: 0.3972 - weight_output_acc: 0.6365 - bag_output_acc: 0.5791 - footwear_output_acc: 0.5742 - pose_output_acc: 0.6191 - emotion_output_acc: 0.7140 - val_loss: 8.6167 - val_gender_output_loss: 0.7022 - val_image_quality_output_loss: 1.2532 - val_age_output_loss: 1.4271 - val_weight_output_loss: 1.0438 - val_bag_output_loss: 0.9299 - val_footwear_output_loss: 1.3108 - val_pose_output_loss: 0.9928 - val_emotion_output_loss: 0.9335 - val_gender_output_acc: 0.4724 - val_image_quality_output_acc: 0.1678 - val_age_output_acc: 0.4021 - val_weight_output_acc: 0.6309 - val_bag_output_acc: 0.5595 - val_footwear_output_acc: 0.4380 - val_pose_output_acc: 0.6225 - val_emotion_output_acc: 0.6978\n",
      "Epoch 9/50\n",
      "\n",
      "Epoch 00009: LearningRateScheduler setting learning rate to 0.001.\n",
      "2884/2884 [==============================] - 854s 296ms/step - loss: 7.3971 - gender_output_loss: 0.5863 - image_quality_output_loss: 0.8831 - age_output_loss: 1.4126 - weight_output_loss: 0.9716 - bag_output_loss: 0.8873 - footwear_output_loss: 0.9115 - pose_output_loss: 0.8280 - emotion_output_loss: 0.8934 - gender_output_acc: 0.6864 - image_quality_output_acc: 0.5707 - age_output_acc: 0.4007 - weight_output_acc: 0.6364 - bag_output_acc: 0.5814 - footwear_output_acc: 0.5800 - pose_output_acc: 0.6303 - emotion_output_acc: 0.7141 - val_loss: 8.0953 - val_gender_output_loss: 0.7186 - val_image_quality_output_loss: 1.0236 - val_age_output_loss: 1.4763 - val_weight_output_loss: 1.0637 - val_bag_output_loss: 0.9137 - val_footwear_output_loss: 1.0116 - val_pose_output_loss: 0.9041 - val_emotion_output_loss: 0.9607 - val_gender_output_acc: 0.5645 - val_image_quality_output_acc: 0.5379 - val_age_output_acc: 0.4011 - val_weight_output_acc: 0.6280 - val_bag_output_acc: 0.5906 - val_footwear_output_acc: 0.5300 - val_pose_output_acc: 0.6280 - val_emotion_output_acc: 0.6954\n",
      "Epoch 10/50\n",
      "\n",
      "Epoch 00010: LearningRateScheduler setting learning rate to 0.001.\n",
      "2884/2884 [==============================] - 855s 296ms/step - loss: 7.3258 - gender_output_loss: 0.5686 - image_quality_output_loss: 0.8815 - age_output_loss: 1.4119 - weight_output_loss: 0.9713 - bag_output_loss: 0.8813 - footwear_output_loss: 0.9001 - pose_output_loss: 0.7968 - emotion_output_loss: 0.8914 - gender_output_acc: 0.7020 - image_quality_output_acc: 0.5710 - age_output_acc: 0.3989 - weight_output_acc: 0.6364 - bag_output_acc: 0.5909 - footwear_output_acc: 0.5853 - pose_output_acc: 0.6401 - emotion_output_acc: 0.7139 - val_loss: 7.8817 - val_gender_output_loss: 0.6247 - val_image_quality_output_loss: 1.0177 - val_age_output_loss: 1.5026 - val_weight_output_loss: 1.0506 - val_bag_output_loss: 0.8992 - val_footwear_output_loss: 0.9842 - val_pose_output_loss: 0.8168 - val_emotion_output_loss: 0.9633 - val_gender_output_acc: 0.6476 - val_image_quality_output_acc: 0.5256 - val_age_output_acc: 0.4055 - val_weight_output_acc: 0.6299 - val_bag_output_acc: 0.5753 - val_footwear_output_acc: 0.5497 - val_pose_output_acc: 0.6412 - val_emotion_output_acc: 0.6959\n",
      "Epoch 11/50\n",
      "\n",
      "Epoch 00011: LearningRateScheduler setting learning rate to 0.0005.\n",
      "2884/2884 [==============================] - 855s 296ms/step - loss: 7.1925 - gender_output_loss: 0.5445 - image_quality_output_loss: 0.8727 - age_output_loss: 1.4030 - weight_output_loss: 0.9667 - bag_output_loss: 0.8740 - footwear_output_loss: 0.8683 - pose_output_loss: 0.7538 - emotion_output_loss: 0.8868 - gender_output_acc: 0.7216 - image_quality_output_acc: 0.5798 - age_output_acc: 0.4010 - weight_output_acc: 0.6363 - bag_output_acc: 0.5890 - footwear_output_acc: 0.6068 - pose_output_acc: 0.6669 - emotion_output_acc: 0.7140 - val_loss: 7.8656 - val_gender_output_loss: 0.6676 - val_image_quality_output_loss: 1.1078 - val_age_output_loss: 1.4694 - val_weight_output_loss: 1.0762 - val_bag_output_loss: 0.9095 - val_footwear_output_loss: 0.9204 - val_pose_output_loss: 0.7634 - val_emotion_output_loss: 0.9288 - val_gender_output_acc: 0.6230 - val_image_quality_output_acc: 0.4419 - val_age_output_acc: 0.4045 - val_weight_output_acc: 0.6280 - val_bag_output_acc: 0.5792 - val_footwear_output_acc: 0.5837 - val_pose_output_acc: 0.6644 - val_emotion_output_acc: 0.6964\n",
      "Epoch 12/50\n",
      "\n",
      "Epoch 00012: LearningRateScheduler setting learning rate to 0.0005.\n",
      "2884/2884 [==============================] - 854s 296ms/step - loss: 7.1495 - gender_output_loss: 0.5336 - image_quality_output_loss: 0.8723 - age_output_loss: 1.4019 - weight_output_loss: 0.9668 - bag_output_loss: 0.8697 - footwear_output_loss: 0.8523 - pose_output_loss: 0.7461 - emotion_output_loss: 0.8844 - gender_output_acc: 0.7308 - image_quality_output_acc: 0.5807 - age_output_acc: 0.4009 - weight_output_acc: 0.6357 - bag_output_acc: 0.5978 - footwear_output_acc: 0.6152 - pose_output_acc: 0.6719 - emotion_output_acc: 0.7139 - val_loss: 7.6977 - val_gender_output_loss: 0.6027 - val_image_quality_output_loss: 1.0026 - val_age_output_loss: 1.4216 - val_weight_output_loss: 1.0386 - val_bag_output_loss: 0.9270 - val_footwear_output_loss: 0.9338 - val_pose_output_loss: 0.7774 - val_emotion_output_loss: 0.9717 - val_gender_output_acc: 0.7347 - val_image_quality_output_acc: 0.5172 - val_age_output_acc: 0.3996 - val_weight_output_acc: 0.6294 - val_bag_output_acc: 0.5630 - val_footwear_output_acc: 0.5719 - val_pose_output_acc: 0.6560 - val_emotion_output_acc: 0.6939\n",
      "Epoch 13/50\n",
      "\n",
      "Epoch 00013: LearningRateScheduler setting learning rate to 0.0005.\n",
      "2884/2884 [==============================] - 854s 296ms/step - loss: 7.0924 - gender_output_loss: 0.5266 - image_quality_output_loss: 0.8691 - age_output_loss: 1.3988 - weight_output_loss: 0.9651 - bag_output_loss: 0.8667 - footwear_output_loss: 0.8352 - pose_output_loss: 0.7261 - emotion_output_loss: 0.8826 - gender_output_acc: 0.7324 - image_quality_output_acc: 0.5833 - age_output_acc: 0.4029 - weight_output_acc: 0.6362 - bag_output_acc: 0.5959 - footwear_output_acc: 0.6292 - pose_output_acc: 0.6859 - emotion_output_acc: 0.7140 - val_loss: 8.5698 - val_gender_output_loss: 0.7008 - val_image_quality_output_loss: 1.2893 - val_age_output_loss: 1.4324 - val_weight_output_loss: 1.0316 - val_bag_output_loss: 0.9269 - val_footwear_output_loss: 1.1141 - val_pose_output_loss: 1.1187 - val_emotion_output_loss: 0.9337 - val_gender_output_acc: 0.4798 - val_image_quality_output_acc: 0.1708 - val_age_output_acc: 0.4011 - val_weight_output_acc: 0.6304 - val_bag_output_acc: 0.5610 - val_footwear_output_acc: 0.4405 - val_pose_output_acc: 0.2072 - val_emotion_output_acc: 0.6978\n",
      "Epoch 14/50\n",
      "\n",
      "Epoch 00014: LearningRateScheduler setting learning rate to 0.0005.\n",
      "2884/2884 [==============================] - 855s 296ms/step - loss: 7.0431 - gender_output_loss: 0.5157 - image_quality_output_loss: 0.8689 - age_output_loss: 1.3942 - weight_output_loss: 0.9656 - bag_output_loss: 0.8648 - footwear_output_loss: 0.8232 - pose_output_loss: 0.7107 - emotion_output_loss: 0.8778 - gender_output_acc: 0.7451 - image_quality_output_acc: 0.5830 - age_output_acc: 0.4036 - weight_output_acc: 0.6360 - bag_output_acc: 0.6022 - footwear_output_acc: 0.6337 - pose_output_acc: 0.6951 - emotion_output_acc: 0.7141 - val_loss: 7.6949 - val_gender_output_loss: 0.5445 - val_image_quality_output_loss: 1.0708 - val_age_output_loss: 1.4638 - val_weight_output_loss: 1.0494 - val_bag_output_loss: 0.9074 - val_footwear_output_loss: 0.8881 - val_pose_output_loss: 0.7841 - val_emotion_output_loss: 0.9648 - val_gender_output_acc: 0.7338 - val_image_quality_output_acc: 0.4493 - val_age_output_acc: 0.4001 - val_weight_output_acc: 0.6289 - val_bag_output_acc: 0.5797 - val_footwear_output_acc: 0.6245 - val_pose_output_acc: 0.6777 - val_emotion_output_acc: 0.6969\n",
      "Epoch 15/50\n",
      "\n",
      "Epoch 00015: LearningRateScheduler setting learning rate to 0.0005.\n",
      "2884/2884 [==============================] - 855s 296ms/step - loss: 7.0084 - gender_output_loss: 0.5092 - image_quality_output_loss: 0.8674 - age_output_loss: 1.3926 - weight_output_loss: 0.9640 - bag_output_loss: 0.8635 - footwear_output_loss: 0.8156 - pose_output_loss: 0.6979 - emotion_output_loss: 0.8763 - gender_output_acc: 0.7514 - image_quality_output_acc: 0.5822 - age_output_acc: 0.4051 - weight_output_acc: 0.6363 - bag_output_acc: 0.6023 - footwear_output_acc: 0.6392 - pose_output_acc: 0.7015 - emotion_output_acc: 0.7135 - val_loss: 7.9730 - val_gender_output_loss: 0.6934 - val_image_quality_output_loss: 1.1935 - val_age_output_loss: 1.4634 - val_weight_output_loss: 1.0653 - val_bag_output_loss: 0.9153 - val_footwear_output_loss: 0.9151 - val_pose_output_loss: 0.7565 - val_emotion_output_loss: 0.9487 - val_gender_output_acc: 0.6078 - val_image_quality_output_acc: 0.3681 - val_age_output_acc: 0.4026 - val_weight_output_acc: 0.6284 - val_bag_output_acc: 0.5753 - val_footwear_output_acc: 0.6088 - val_pose_output_acc: 0.6959 - val_emotion_output_acc: 0.6964\n",
      "Epoch 16/50\n",
      "\n",
      "Epoch 00016: LearningRateScheduler setting learning rate to 0.0005.\n",
      "2884/2884 [==============================] - 854s 296ms/step - loss: 6.9665 - gender_output_loss: 0.4985 - image_quality_output_loss: 0.8660 - age_output_loss: 1.3886 - weight_output_loss: 0.9635 - bag_output_loss: 0.8589 - footwear_output_loss: 0.8065 - pose_output_loss: 0.6869 - emotion_output_loss: 0.8759 - gender_output_acc: 0.7552 - image_quality_output_acc: 0.5874 - age_output_acc: 0.4031 - weight_output_acc: 0.6364 - bag_output_acc: 0.6064 - footwear_output_acc: 0.6458 - pose_output_acc: 0.7052 - emotion_output_acc: 0.7132 - val_loss: 7.6970 - val_gender_output_loss: 0.5620 - val_image_quality_output_loss: 1.1339 - val_age_output_loss: 1.4361 - val_weight_output_loss: 1.0370 - val_bag_output_loss: 0.8971 - val_footwear_output_loss: 0.9087 - val_pose_output_loss: 0.7478 - val_emotion_output_loss: 0.9527 - val_gender_output_acc: 0.7534 - val_image_quality_output_acc: 0.4237 - val_age_output_acc: 0.4050 - val_weight_output_acc: 0.6299 - val_bag_output_acc: 0.6181 - val_footwear_output_acc: 0.5935 - val_pose_output_acc: 0.6481 - val_emotion_output_acc: 0.6973\n",
      "Epoch 17/50\n",
      "\n",
      "Epoch 00017: LearningRateScheduler setting learning rate to 0.0005.\n",
      "2884/2884 [==============================] - 855s 296ms/step - loss: 6.9437 - gender_output_loss: 0.4969 - image_quality_output_loss: 0.8690 - age_output_loss: 1.3862 - weight_output_loss: 0.9634 - bag_output_loss: 0.8585 - footwear_output_loss: 0.8033 - pose_output_loss: 0.6683 - emotion_output_loss: 0.8765 - gender_output_acc: 0.7558 - image_quality_output_acc: 0.5815 - age_output_acc: 0.4031 - weight_output_acc: 0.6362 - bag_output_acc: 0.6074 - footwear_output_acc: 0.6466 - pose_output_acc: 0.7158 - emotion_output_acc: 0.7132 - val_loss: 7.5998 - val_gender_output_loss: 0.5337 - val_image_quality_output_loss: 1.1188 - val_age_output_loss: 1.4300 - val_weight_output_loss: 1.0297 - val_bag_output_loss: 0.8934 - val_footwear_output_loss: 0.8865 - val_pose_output_loss: 0.7285 - val_emotion_output_loss: 0.9579 - val_gender_output_acc: 0.7456 - val_image_quality_output_acc: 0.4267 - val_age_output_acc: 0.4050 - val_weight_output_acc: 0.6289 - val_bag_output_acc: 0.5965 - val_footwear_output_acc: 0.6403 - val_pose_output_acc: 0.7047 - val_emotion_output_acc: 0.6959\n",
      "Epoch 18/50\n",
      "\n",
      "Epoch 00018: LearningRateScheduler setting learning rate to 0.0005.\n",
      "2884/2884 [==============================] - 855s 296ms/step - loss: 6.8960 - gender_output_loss: 0.4831 - image_quality_output_loss: 0.8620 - age_output_loss: 1.3849 - weight_output_loss: 0.9611 - bag_output_loss: 0.8568 - footwear_output_loss: 0.7963 - pose_output_loss: 0.6579 - emotion_output_loss: 0.8725 - gender_output_acc: 0.7680 - image_quality_output_acc: 0.5860 - age_output_acc: 0.4061 - weight_output_acc: 0.6361 - bag_output_acc: 0.6120 - footwear_output_acc: 0.6520 - pose_output_acc: 0.7247 - emotion_output_acc: 0.7132 - val_loss: 7.8591 - val_gender_output_loss: 0.5112 - val_image_quality_output_loss: 1.1649 - val_age_output_loss: 1.4621 - val_weight_output_loss: 1.0478 - val_bag_output_loss: 0.9042 - val_footwear_output_loss: 0.9005 - val_pose_output_loss: 0.8902 - val_emotion_output_loss: 0.9569 - val_gender_output_acc: 0.7618 - val_image_quality_output_acc: 0.3794 - val_age_output_acc: 0.3893 - val_weight_output_acc: 0.6280 - val_bag_output_acc: 0.5694 - val_footwear_output_acc: 0.6245 - val_pose_output_acc: 0.6462 - val_emotion_output_acc: 0.6934\n",
      "Epoch 19/50\n",
      "\n",
      "Epoch 00019: LearningRateScheduler setting learning rate to 0.0005.\n",
      "2884/2884 [==============================] - 855s 296ms/step - loss: 6.8624 - gender_output_loss: 0.4735 - image_quality_output_loss: 0.8648 - age_output_loss: 1.3786 - weight_output_loss: 0.9595 - bag_output_loss: 0.8561 - footwear_output_loss: 0.7896 - pose_output_loss: 0.6484 - emotion_output_loss: 0.8707 - gender_output_acc: 0.7730 - image_quality_output_acc: 0.5846 - age_output_acc: 0.4060 - weight_output_acc: 0.6364 - bag_output_acc: 0.6099 - footwear_output_acc: 0.6542 - pose_output_acc: 0.7275 - emotion_output_acc: 0.7138 - val_loss: 7.6611 - val_gender_output_loss: 0.4893 - val_image_quality_output_loss: 1.1967 - val_age_output_loss: 1.4408 - val_weight_output_loss: 1.0559 - val_bag_output_loss: 0.8838 - val_footwear_output_loss: 0.8739 - val_pose_output_loss: 0.7485 - val_emotion_output_loss: 0.9510 - val_gender_output_acc: 0.7805 - val_image_quality_output_acc: 0.3799 - val_age_output_acc: 0.4065 - val_weight_output_acc: 0.6275 - val_bag_output_acc: 0.6147 - val_footwear_output_acc: 0.6294 - val_pose_output_acc: 0.6693 - val_emotion_output_acc: 0.6949\n",
      "Epoch 20/50\n",
      "\n",
      "Epoch 00020: LearningRateScheduler setting learning rate to 0.0005.\n",
      "2884/2884 [==============================] - 855s 297ms/step - loss: 6.8304 - gender_output_loss: 0.4635 - image_quality_output_loss: 0.8641 - age_output_loss: 1.3754 - weight_output_loss: 0.9601 - bag_output_loss: 0.8513 - footwear_output_loss: 0.7869 - pose_output_loss: 0.6364 - emotion_output_loss: 0.8715 - gender_output_acc: 0.7806 - image_quality_output_acc: 0.5875 - age_output_acc: 0.4052 - weight_output_acc: 0.6362 - bag_output_acc: 0.6144 - footwear_output_acc: 0.6533 - pose_output_acc: 0.7344 - emotion_output_acc: 0.7139 - val_loss: 7.6627 - val_gender_output_loss: 0.5647 - val_image_quality_output_loss: 1.1788 - val_age_output_loss: 1.4219 - val_weight_output_loss: 1.0215 - val_bag_output_loss: 0.9209 - val_footwear_output_loss: 0.8587 - val_pose_output_loss: 0.7133 - val_emotion_output_loss: 0.9619 - val_gender_output_acc: 0.7057 - val_image_quality_output_acc: 0.4149 - val_age_output_acc: 0.4109 - val_weight_output_acc: 0.6284 - val_bag_output_acc: 0.5773 - val_footwear_output_acc: 0.6452 - val_pose_output_acc: 0.7303 - val_emotion_output_acc: 0.6949\n",
      "Epoch 21/50\n",
      "\n",
      "Epoch 00021: LearningRateScheduler setting learning rate to 0.00025.\n",
      "2884/2884 [==============================] - 855s 296ms/step - loss: 6.7188 - gender_output_loss: 0.4357 - image_quality_output_loss: 0.8553 - age_output_loss: 1.3659 - weight_output_loss: 0.9564 - bag_output_loss: 0.8439 - footwear_output_loss: 0.7677 - pose_output_loss: 0.6059 - emotion_output_loss: 0.8672 - gender_output_acc: 0.7982 - image_quality_output_acc: 0.5879 - age_output_acc: 0.4113 - weight_output_acc: 0.6359 - bag_output_acc: 0.6218 - footwear_output_acc: 0.6623 - pose_output_acc: 0.7515 - emotion_output_acc: 0.7132 - val_loss: 7.6028 - val_gender_output_loss: 0.6030 - val_image_quality_output_loss: 1.1072 - val_age_output_loss: 1.4046 - val_weight_output_loss: 1.0365 - val_bag_output_loss: 0.9403 - val_footwear_output_loss: 0.8439 - val_pose_output_loss: 0.6926 - val_emotion_output_loss: 0.9537 - val_gender_output_acc: 0.6850 - val_image_quality_output_acc: 0.4395 - val_age_output_acc: 0.4070 - val_weight_output_acc: 0.6284 - val_bag_output_acc: 0.5714 - val_footwear_output_acc: 0.6501 - val_pose_output_acc: 0.7323 - val_emotion_output_acc: 0.6959\n",
      "Epoch 22/50\n",
      "\n",
      "Epoch 00022: LearningRateScheduler setting learning rate to 0.00025.\n",
      "2884/2884 [==============================] - 855s 296ms/step - loss: 6.6823 - gender_output_loss: 0.4285 - image_quality_output_loss: 0.8551 - age_output_loss: 1.3633 - weight_output_loss: 0.9553 - bag_output_loss: 0.8382 - footwear_output_loss: 0.7610 - pose_output_loss: 0.5958 - emotion_output_loss: 0.8643 - gender_output_acc: 0.8011 - image_quality_output_acc: 0.5904 - age_output_acc: 0.4119 - weight_output_acc: 0.6365 - bag_output_acc: 0.6247 - footwear_output_acc: 0.6668 - pose_output_acc: 0.7552 - emotion_output_acc: 0.7134 - val_loss: 7.8841 - val_gender_output_loss: 0.7646 - val_image_quality_output_loss: 1.1564 - val_age_output_loss: 1.4174 - val_weight_output_loss: 1.0639 - val_bag_output_loss: 0.9492 - val_footwear_output_loss: 0.8836 - val_pose_output_loss: 0.6789 - val_emotion_output_loss: 0.9494 - val_gender_output_acc: 0.6093 - val_image_quality_output_acc: 0.4144 - val_age_output_acc: 0.4060 - val_weight_output_acc: 0.6265 - val_bag_output_acc: 0.5664 - val_footwear_output_acc: 0.6319 - val_pose_output_acc: 0.7303 - val_emotion_output_acc: 0.6959\n",
      "Epoch 23/50\n",
      "\n",
      "Epoch 00023: LearningRateScheduler setting learning rate to 0.00025.\n",
      "2884/2884 [==============================] - 855s 296ms/step - loss: 6.6745 - gender_output_loss: 0.4292 - image_quality_output_loss: 0.8533 - age_output_loss: 1.3601 - weight_output_loss: 0.9532 - bag_output_loss: 0.8389 - footwear_output_loss: 0.7626 - pose_output_loss: 0.5924 - emotion_output_loss: 0.8641 - gender_output_acc: 0.8013 - image_quality_output_acc: 0.5941 - age_output_acc: 0.4103 - weight_output_acc: 0.6360 - bag_output_acc: 0.6214 - footwear_output_acc: 0.6628 - pose_output_acc: 0.7574 - emotion_output_acc: 0.7133 - val_loss: 7.4807 - val_gender_output_loss: 0.5091 - val_image_quality_output_loss: 1.1082 - val_age_output_loss: 1.4053 - val_weight_output_loss: 1.0559 - val_bag_output_loss: 0.8940 - val_footwear_output_loss: 0.8624 - val_pose_output_loss: 0.6692 - val_emotion_output_loss: 0.9560 - val_gender_output_acc: 0.7785 - val_image_quality_output_acc: 0.4252 - val_age_output_acc: 0.4011 - val_weight_output_acc: 0.6280 - val_bag_output_acc: 0.5773 - val_footwear_output_acc: 0.6526 - val_pose_output_acc: 0.7480 - val_emotion_output_acc: 0.6978\n",
      "Epoch 24/50\n",
      "\n",
      "Epoch 00024: LearningRateScheduler setting learning rate to 0.00025.\n",
      "2884/2884 [==============================] - 854s 296ms/step - loss: 6.6415 - gender_output_loss: 0.4141 - image_quality_output_loss: 0.8524 - age_output_loss: 1.3573 - weight_output_loss: 0.9557 - bag_output_loss: 0.8345 - footwear_output_loss: 0.7589 - pose_output_loss: 0.5829 - emotion_output_loss: 0.8652 - gender_output_acc: 0.8078 - image_quality_output_acc: 0.5928 - age_output_acc: 0.4108 - weight_output_acc: 0.6363 - bag_output_acc: 0.6280 - footwear_output_acc: 0.6674 - pose_output_acc: 0.7612 - emotion_output_acc: 0.7132 - val_loss: 7.7627 - val_gender_output_loss: 0.5185 - val_image_quality_output_loss: 1.1070 - val_age_output_loss: 1.5154 - val_weight_output_loss: 1.0671 - val_bag_output_loss: 0.9177 - val_footwear_output_loss: 0.8592 - val_pose_output_loss: 0.7907 - val_emotion_output_loss: 0.9665 - val_gender_output_acc: 0.7239 - val_image_quality_output_acc: 0.4232 - val_age_output_acc: 0.3661 - val_weight_output_acc: 0.6245 - val_bag_output_acc: 0.5925 - val_footwear_output_acc: 0.6471 - val_pose_output_acc: 0.6708 - val_emotion_output_acc: 0.6934\n",
      "Epoch 25/50\n",
      "\n",
      "Epoch 00025: LearningRateScheduler setting learning rate to 0.00025.\n",
      "2884/2884 [==============================] - 855s 296ms/step - loss: 6.6209 - gender_output_loss: 0.4081 - image_quality_output_loss: 0.8505 - age_output_loss: 1.3538 - weight_output_loss: 0.9539 - bag_output_loss: 0.8382 - footwear_output_loss: 0.7553 - pose_output_loss: 0.5776 - emotion_output_loss: 0.8629 - gender_output_acc: 0.8138 - image_quality_output_acc: 0.5984 - age_output_acc: 0.4110 - weight_output_acc: 0.6370 - bag_output_acc: 0.6221 - footwear_output_acc: 0.6708 - pose_output_acc: 0.7666 - emotion_output_acc: 0.7136 - val_loss: 7.9218 - val_gender_output_loss: 0.6136 - val_image_quality_output_loss: 1.4213 - val_age_output_loss: 1.4011 - val_weight_output_loss: 1.0273 - val_bag_output_loss: 0.9270 - val_footwear_output_loss: 0.8745 - val_pose_output_loss: 0.6909 - val_emotion_output_loss: 0.9457 - val_gender_output_acc: 0.6816 - val_image_quality_output_acc: 0.2318 - val_age_output_acc: 0.4026 - val_weight_output_acc: 0.6299 - val_bag_output_acc: 0.5807 - val_footwear_output_acc: 0.6432 - val_pose_output_acc: 0.7146 - val_emotion_output_acc: 0.6969\n",
      "Epoch 26/50\n",
      "\n",
      "Epoch 00026: LearningRateScheduler setting learning rate to 0.00025.\n",
      "2884/2884 [==============================] - 855s 296ms/step - loss: 6.5912 - gender_output_loss: 0.4017 - image_quality_output_loss: 0.8507 - age_output_loss: 1.3540 - weight_output_loss: 0.9525 - bag_output_loss: 0.8366 - footwear_output_loss: 0.7491 - pose_output_loss: 0.5653 - emotion_output_loss: 0.8609 - gender_output_acc: 0.8171 - image_quality_output_acc: 0.5955 - age_output_acc: 0.4130 - weight_output_acc: 0.6359 - bag_output_acc: 0.6286 - footwear_output_acc: 0.6712 - pose_output_acc: 0.7713 - emotion_output_acc: 0.7143 - val_loss: 7.6642 - val_gender_output_loss: 0.6818 - val_image_quality_output_loss: 1.0276 - val_age_output_loss: 1.4550 - val_weight_output_loss: 1.0282 - val_bag_output_loss: 0.9074 - val_footwear_output_loss: 0.8860 - val_pose_output_loss: 0.7106 - val_emotion_output_loss: 0.9472 - val_gender_output_acc: 0.6452 - val_image_quality_output_acc: 0.4818 - val_age_output_acc: 0.3976 - val_weight_output_acc: 0.6299 - val_bag_output_acc: 0.5773 - val_footwear_output_acc: 0.6280 - val_pose_output_acc: 0.7008 - val_emotion_output_acc: 0.6944\n",
      "Epoch 27/50\n",
      "\n",
      "Epoch 00027: LearningRateScheduler setting learning rate to 0.00025.\n",
      "2884/2884 [==============================] - 855s 296ms/step - loss: 6.5666 - gender_output_loss: 0.3946 - image_quality_output_loss: 0.8499 - age_output_loss: 1.3479 - weight_output_loss: 0.9503 - bag_output_loss: 0.8258 - footwear_output_loss: 0.7498 - pose_output_loss: 0.5672 - emotion_output_loss: 0.8609 - gender_output_acc: 0.8242 - image_quality_output_acc: 0.5931 - age_output_acc: 0.4176 - weight_output_acc: 0.6370 - bag_output_acc: 0.6354 - footwear_output_acc: 0.6705 - pose_output_acc: 0.7693 - emotion_output_acc: 0.7136 - val_loss: 7.7833 - val_gender_output_loss: 0.5981 - val_image_quality_output_loss: 1.2278 - val_age_output_loss: 1.4890 - val_weight_output_loss: 1.0431 - val_bag_output_loss: 0.9116 - val_footwear_output_loss: 0.8595 - val_pose_output_loss: 0.6899 - val_emotion_output_loss: 0.9441 - val_gender_output_acc: 0.6934 - val_image_quality_output_acc: 0.3469 - val_age_output_acc: 0.3848 - val_weight_output_acc: 0.6270 - val_bag_output_acc: 0.5787 - val_footwear_output_acc: 0.6403 - val_pose_output_acc: 0.7190 - val_emotion_output_acc: 0.6978\n",
      "Epoch 28/50\n",
      "\n",
      "Epoch 00028: LearningRateScheduler setting learning rate to 0.00025.\n",
      "2884/2884 [==============================] - 854s 296ms/step - loss: 6.5596 - gender_output_loss: 0.3954 - image_quality_output_loss: 0.8505 - age_output_loss: 1.3476 - weight_output_loss: 0.9518 - bag_output_loss: 0.8291 - footwear_output_loss: 0.7471 - pose_output_loss: 0.5578 - emotion_output_loss: 0.8602 - gender_output_acc: 0.8201 - image_quality_output_acc: 0.5960 - age_output_acc: 0.4139 - weight_output_acc: 0.6351 - bag_output_acc: 0.6315 - footwear_output_acc: 0.6745 - pose_output_acc: 0.7705 - emotion_output_acc: 0.7141 - val_loss: 7.4542 - val_gender_output_loss: 0.4914 - val_image_quality_output_loss: 1.1470 - val_age_output_loss: 1.3760 - val_weight_output_loss: 1.0347 - val_bag_output_loss: 0.8964 - val_footwear_output_loss: 0.8474 - val_pose_output_loss: 0.6967 - val_emotion_output_loss: 0.9444 - val_gender_output_acc: 0.7751 - val_image_quality_output_acc: 0.4158 - val_age_output_acc: 0.4094 - val_weight_output_acc: 0.6289 - val_bag_output_acc: 0.6102 - val_footwear_output_acc: 0.6422 - val_pose_output_acc: 0.7131 - val_emotion_output_acc: 0.6954\n",
      "Epoch 29/50\n",
      "\n",
      "Epoch 00029: LearningRateScheduler setting learning rate to 0.00025.\n",
      "2884/2884 [==============================] - 854s 296ms/step - loss: 6.5507 - gender_output_loss: 0.3872 - image_quality_output_loss: 0.8503 - age_output_loss: 1.3495 - weight_output_loss: 0.9509 - bag_output_loss: 0.8313 - footwear_output_loss: 0.7448 - pose_output_loss: 0.5549 - emotion_output_loss: 0.8616 - gender_output_acc: 0.8255 - image_quality_output_acc: 0.5925 - age_output_acc: 0.4131 - weight_output_acc: 0.6375 - bag_output_acc: 0.6301 - footwear_output_acc: 0.6735 - pose_output_acc: 0.7755 - emotion_output_acc: 0.7134 - val_loss: 7.8090 - val_gender_output_loss: 0.6673 - val_image_quality_output_loss: 1.1688 - val_age_output_loss: 1.4180 - val_weight_output_loss: 1.0099 - val_bag_output_loss: 1.0072 - val_footwear_output_loss: 0.8630 - val_pose_output_loss: 0.6910 - val_emotion_output_loss: 0.9638 - val_gender_output_acc: 0.6471 - val_image_quality_output_acc: 0.4011 - val_age_output_acc: 0.4119 - val_weight_output_acc: 0.6309 - val_bag_output_acc: 0.5630 - val_footwear_output_acc: 0.6388 - val_pose_output_acc: 0.7402 - val_emotion_output_acc: 0.6959\n",
      "Epoch 30/50\n",
      "\n",
      "Epoch 00030: LearningRateScheduler setting learning rate to 0.00025.\n",
      "2884/2884 [==============================] - 855s 297ms/step - loss: 6.5080 - gender_output_loss: 0.3759 - image_quality_output_loss: 0.8477 - age_output_loss: 1.3416 - weight_output_loss: 0.9475 - bag_output_loss: 0.8271 - footwear_output_loss: 0.7407 - pose_output_loss: 0.5483 - emotion_output_loss: 0.8590 - gender_output_acc: 0.8302 - image_quality_output_acc: 0.5946 - age_output_acc: 0.4159 - weight_output_acc: 0.6355 - bag_output_acc: 0.6320 - footwear_output_acc: 0.6740 - pose_output_acc: 0.7769 - emotion_output_acc: 0.7139 - val_loss: 8.6884 - val_gender_output_loss: 1.4085 - val_image_quality_output_loss: 1.0099 - val_age_output_loss: 1.6221 - val_weight_output_loss: 1.0520 - val_bag_output_loss: 0.9248 - val_footwear_output_loss: 0.8544 - val_pose_output_loss: 0.8376 - val_emotion_output_loss: 0.9590 - val_gender_output_acc: 0.5723 - val_image_quality_output_acc: 0.5094 - val_age_output_acc: 0.3292 - val_weight_output_acc: 0.6275 - val_bag_output_acc: 0.5704 - val_footwear_output_acc: 0.6496 - val_pose_output_acc: 0.6693 - val_emotion_output_acc: 0.6924\n",
      "Epoch 31/50\n",
      "\n",
      "Epoch 00031: LearningRateScheduler setting learning rate to 0.000125.\n",
      "2884/2884 [==============================] - 854s 296ms/step - loss: 6.4068 - gender_output_loss: 0.3540 - image_quality_output_loss: 0.8409 - age_output_loss: 1.3319 - weight_output_loss: 0.9452 - bag_output_loss: 0.8173 - footwear_output_loss: 0.7269 - pose_output_loss: 0.5162 - emotion_output_loss: 0.8545 - gender_output_acc: 0.8422 - image_quality_output_acc: 0.6009 - age_output_acc: 0.4176 - weight_output_acc: 0.6371 - bag_output_acc: 0.6390 - footwear_output_acc: 0.6816 - pose_output_acc: 0.7949 - emotion_output_acc: 0.7138 - val_loss: 7.6747 - val_gender_output_loss: 0.6888 - val_image_quality_output_loss: 1.1368 - val_age_output_loss: 1.3630 - val_weight_output_loss: 1.0456 - val_bag_output_loss: 0.9515 - val_footwear_output_loss: 0.8611 - val_pose_output_loss: 0.6458 - val_emotion_output_loss: 0.9622 - val_gender_output_acc: 0.6511 - val_image_quality_output_acc: 0.4291 - val_age_output_acc: 0.4055 - val_weight_output_acc: 0.6284 - val_bag_output_acc: 0.5684 - val_footwear_output_acc: 0.6452 - val_pose_output_acc: 0.7367 - val_emotion_output_acc: 0.6949\n",
      "Epoch 32/50\n",
      "\n",
      "Epoch 00032: LearningRateScheduler setting learning rate to 0.000125.\n",
      "2884/2884 [==============================] - 855s 296ms/step - loss: 6.3822 - gender_output_loss: 0.3450 - image_quality_output_loss: 0.8408 - age_output_loss: 1.3278 - weight_output_loss: 0.9454 - bag_output_loss: 0.8184 - footwear_output_loss: 0.7213 - pose_output_loss: 0.5103 - emotion_output_loss: 0.8533 - gender_output_acc: 0.8506 - image_quality_output_acc: 0.6014 - age_output_acc: 0.4211 - weight_output_acc: 0.6364 - bag_output_acc: 0.6393 - footwear_output_acc: 0.6832 - pose_output_acc: 0.7996 - emotion_output_acc: 0.7136 - val_loss: 7.5724 - val_gender_output_loss: 0.5739 - val_image_quality_output_loss: 1.0604 - val_age_output_loss: 1.4110 - val_weight_output_loss: 1.0404 - val_bag_output_loss: 0.9430 - val_footwear_output_loss: 0.8773 - val_pose_output_loss: 0.6874 - val_emotion_output_loss: 0.9591 - val_gender_output_acc: 0.6964 - val_image_quality_output_acc: 0.5034 - val_age_output_acc: 0.3996 - val_weight_output_acc: 0.6280 - val_bag_output_acc: 0.5635 - val_footwear_output_acc: 0.6196 - val_pose_output_acc: 0.6959 - val_emotion_output_acc: 0.6954\n",
      "Epoch 33/50\n",
      "\n",
      "Epoch 00033: LearningRateScheduler setting learning rate to 0.000125.\n",
      "2884/2884 [==============================] - 855s 296ms/step - loss: 6.3640 - gender_output_loss: 0.3425 - image_quality_output_loss: 0.8421 - age_output_loss: 1.3252 - weight_output_loss: 0.9429 - bag_output_loss: 0.8133 - footwear_output_loss: 0.7183 - pose_output_loss: 0.5056 - emotion_output_loss: 0.8542 - gender_output_acc: 0.8490 - image_quality_output_acc: 0.5995 - age_output_acc: 0.4198 - weight_output_acc: 0.6374 - bag_output_acc: 0.6408 - footwear_output_acc: 0.6863 - pose_output_acc: 0.8002 - emotion_output_acc: 0.7133 - val_loss: 8.5164 - val_gender_output_loss: 0.7776 - val_image_quality_output_loss: 1.2164 - val_age_output_loss: 1.4328 - val_weight_output_loss: 1.0495 - val_bag_output_loss: 0.9905 - val_footwear_output_loss: 0.9678 - val_pose_output_loss: 1.1219 - val_emotion_output_loss: 0.9401 - val_gender_output_acc: 0.5586 - val_image_quality_output_acc: 0.2756 - val_age_output_acc: 0.4045 - val_weight_output_acc: 0.6309 - val_bag_output_acc: 0.5615 - val_footwear_output_acc: 0.5507 - val_pose_output_acc: 0.3115 - val_emotion_output_acc: 0.6969\n",
      "Epoch 34/50\n",
      "\n",
      "Epoch 00034: LearningRateScheduler setting learning rate to 0.000125.\n",
      "2884/2884 [==============================] - 855s 296ms/step - loss: 6.3523 - gender_output_loss: 0.3422 - image_quality_output_loss: 0.8407 - age_output_loss: 1.3245 - weight_output_loss: 0.9418 - bag_output_loss: 0.8138 - footwear_output_loss: 0.7163 - pose_output_loss: 0.5001 - emotion_output_loss: 0.8530 - gender_output_acc: 0.8498 - image_quality_output_acc: 0.6024 - age_output_acc: 0.4220 - weight_output_acc: 0.6369 - bag_output_acc: 0.6441 - footwear_output_acc: 0.6878 - pose_output_acc: 0.8009 - emotion_output_acc: 0.7140 - val_loss: 8.5952 - val_gender_output_loss: 1.1836 - val_image_quality_output_loss: 1.1932 - val_age_output_loss: 1.5759 - val_weight_output_loss: 1.0795 - val_bag_output_loss: 1.0254 - val_footwear_output_loss: 0.8698 - val_pose_output_loss: 0.7008 - val_emotion_output_loss: 0.9473 - val_gender_output_acc: 0.5832 - val_image_quality_output_acc: 0.3903 - val_age_output_acc: 0.3465 - val_weight_output_acc: 0.6240 - val_bag_output_acc: 0.5664 - val_footwear_output_acc: 0.6422 - val_pose_output_acc: 0.7101 - val_emotion_output_acc: 0.6934\n",
      "Epoch 35/50\n",
      "\n",
      "Epoch 00035: LearningRateScheduler setting learning rate to 0.000125.\n",
      "2884/2884 [==============================] - 854s 296ms/step - loss: 6.3255 - gender_output_loss: 0.3261 - image_quality_output_loss: 0.8390 - age_output_loss: 1.3189 - weight_output_loss: 0.9409 - bag_output_loss: 0.8100 - footwear_output_loss: 0.7140 - pose_output_loss: 0.5040 - emotion_output_loss: 0.8529 - gender_output_acc: 0.8573 - image_quality_output_acc: 0.6019 - age_output_acc: 0.4238 - weight_output_acc: 0.6375 - bag_output_acc: 0.6481 - footwear_output_acc: 0.6880 - pose_output_acc: 0.8019 - emotion_output_acc: 0.7144 - val_loss: 7.6848 - val_gender_output_loss: 0.6255 - val_image_quality_output_loss: 1.1708 - val_age_output_loss: 1.4139 - val_weight_output_loss: 0.9968 - val_bag_output_loss: 0.9342 - val_footwear_output_loss: 0.8505 - val_pose_output_loss: 0.7277 - val_emotion_output_loss: 0.9457 - val_gender_output_acc: 0.7096 - val_image_quality_output_acc: 0.3937 - val_age_output_acc: 0.4040 - val_weight_output_acc: 0.6319 - val_bag_output_acc: 0.5773 - val_footwear_output_acc: 0.6471 - val_pose_output_acc: 0.6900 - val_emotion_output_acc: 0.6973\n",
      "Epoch 36/50\n",
      "\n",
      "Epoch 00036: LearningRateScheduler setting learning rate to 0.000125.\n",
      "2884/2884 [==============================] - 854s 296ms/step - loss: 6.3163 - gender_output_loss: 0.3333 - image_quality_output_loss: 0.8372 - age_output_loss: 1.3196 - weight_output_loss: 0.9405 - bag_output_loss: 0.8103 - footwear_output_loss: 0.7111 - pose_output_loss: 0.4915 - emotion_output_loss: 0.8530 - gender_output_acc: 0.8572 - image_quality_output_acc: 0.5988 - age_output_acc: 0.4250 - weight_output_acc: 0.6367 - bag_output_acc: 0.6448 - footwear_output_acc: 0.6891 - pose_output_acc: 0.8017 - emotion_output_acc: 0.7131 - val_loss: 7.6187 - val_gender_output_loss: 0.6108 - val_image_quality_output_loss: 1.0860 - val_age_output_loss: 1.3950 - val_weight_output_loss: 1.0110 - val_bag_output_loss: 0.8933 - val_footwear_output_loss: 0.8751 - val_pose_output_loss: 0.7596 - val_emotion_output_loss: 0.9681 - val_gender_output_acc: 0.6988 - val_image_quality_output_acc: 0.4473 - val_age_output_acc: 0.4075 - val_weight_output_acc: 0.6319 - val_bag_output_acc: 0.5881 - val_footwear_output_acc: 0.6368 - val_pose_output_acc: 0.6580 - val_emotion_output_acc: 0.6939\n",
      "Epoch 37/50\n",
      "\n",
      "Epoch 00037: LearningRateScheduler setting learning rate to 0.000125.\n",
      "2884/2884 [==============================] - 855s 296ms/step - loss: 6.2846 - gender_output_loss: 0.3228 - image_quality_output_loss: 0.8388 - age_output_loss: 1.3173 - weight_output_loss: 0.9402 - bag_output_loss: 0.8061 - footwear_output_loss: 0.7042 - pose_output_loss: 0.4852 - emotion_output_loss: 0.8503 - gender_output_acc: 0.8601 - image_quality_output_acc: 0.6014 - age_output_acc: 0.4258 - weight_output_acc: 0.6381 - bag_output_acc: 0.6508 - footwear_output_acc: 0.6942 - pose_output_acc: 0.8063 - emotion_output_acc: 0.7132 - val_loss: 7.7103 - val_gender_output_loss: 0.7352 - val_image_quality_output_loss: 1.1769 - val_age_output_loss: 1.3848 - val_weight_output_loss: 1.0279 - val_bag_output_loss: 0.9223 - val_footwear_output_loss: 0.8621 - val_pose_output_loss: 0.6422 - val_emotion_output_loss: 0.9393 - val_gender_output_acc: 0.6442 - val_image_quality_output_acc: 0.3898 - val_age_output_acc: 0.4114 - val_weight_output_acc: 0.6275 - val_bag_output_acc: 0.5994 - val_footwear_output_acc: 0.6442 - val_pose_output_acc: 0.7234 - val_emotion_output_acc: 0.6973\n",
      "Epoch 38/50\n",
      "\n",
      "Epoch 00038: LearningRateScheduler setting learning rate to 0.000125.\n",
      "2884/2884 [==============================] - 855s 296ms/step - loss: 6.2826 - gender_output_loss: 0.3252 - image_quality_output_loss: 0.8401 - age_output_loss: 1.3157 - weight_output_loss: 0.9408 - bag_output_loss: 0.8060 - footwear_output_loss: 0.7053 - pose_output_loss: 0.4797 - emotion_output_loss: 0.8502 - gender_output_acc: 0.8610 - image_quality_output_acc: 0.6012 - age_output_acc: 0.4283 - weight_output_acc: 0.6380 - bag_output_acc: 0.6494 - footwear_output_acc: 0.6938 - pose_output_acc: 0.8087 - emotion_output_acc: 0.7148 - val_loss: 7.9102 - val_gender_output_loss: 0.7712 - val_image_quality_output_loss: 1.1589 - val_age_output_loss: 1.3946 - val_weight_output_loss: 1.0002 - val_bag_output_loss: 1.0153 - val_footwear_output_loss: 0.8642 - val_pose_output_loss: 0.7253 - val_emotion_output_loss: 0.9609 - val_gender_output_acc: 0.6437 - val_image_quality_output_acc: 0.4227 - val_age_output_acc: 0.4050 - val_weight_output_acc: 0.6299 - val_bag_output_acc: 0.5630 - val_footwear_output_acc: 0.6388 - val_pose_output_acc: 0.6885 - val_emotion_output_acc: 0.6949\n",
      "Epoch 39/50\n",
      "\n",
      "Epoch 00039: LearningRateScheduler setting learning rate to 0.000125.\n",
      "2884/2884 [==============================] - 856s 297ms/step - loss: 6.2712 - gender_output_loss: 0.3206 - image_quality_output_loss: 0.8386 - age_output_loss: 1.3106 - weight_output_loss: 0.9386 - bag_output_loss: 0.8089 - footwear_output_loss: 0.7044 - pose_output_loss: 0.4807 - emotion_output_loss: 0.8493 - gender_output_acc: 0.8632 - image_quality_output_acc: 0.6004 - age_output_acc: 0.4282 - weight_output_acc: 0.6371 - bag_output_acc: 0.6504 - footwear_output_acc: 0.6935 - pose_output_acc: 0.8106 - emotion_output_acc: 0.7140 - val_loss: 8.6591 - val_gender_output_loss: 0.8434 - val_image_quality_output_loss: 1.2201 - val_age_output_loss: 1.4255 - val_weight_output_loss: 1.0257 - val_bag_output_loss: 1.0001 - val_footwear_output_loss: 0.9950 - val_pose_output_loss: 1.1713 - val_emotion_output_loss: 0.9585 - val_gender_output_acc: 0.5571 - val_image_quality_output_acc: 0.2500 - val_age_output_acc: 0.4031 - val_weight_output_acc: 0.6309 - val_bag_output_acc: 0.5605 - val_footwear_output_acc: 0.5084 - val_pose_output_acc: 0.2928 - val_emotion_output_acc: 0.6964\n",
      "Epoch 40/50\n",
      "\n",
      "Epoch 00040: LearningRateScheduler setting learning rate to 0.000125.\n",
      "2884/2884 [==============================] - 855s 297ms/step - loss: 6.2423 - gender_output_loss: 0.3144 - image_quality_output_loss: 0.8349 - age_output_loss: 1.3088 - weight_output_loss: 0.9384 - bag_output_loss: 0.8007 - footwear_output_loss: 0.7013 - pose_output_loss: 0.4744 - emotion_output_loss: 0.8499 - gender_output_acc: 0.8637 - image_quality_output_acc: 0.6036 - age_output_acc: 0.4288 - weight_output_acc: 0.6370 - bag_output_acc: 0.6525 - footwear_output_acc: 0.6949 - pose_output_acc: 0.8138 - emotion_output_acc: 0.7140 - val_loss: 8.3580 - val_gender_output_loss: 0.8426 - val_image_quality_output_loss: 1.2079 - val_age_output_loss: 1.4018 - val_weight_output_loss: 1.0191 - val_bag_output_loss: 0.8961 - val_footwear_output_loss: 0.8827 - val_pose_output_loss: 1.1363 - val_emotion_output_loss: 0.9521 - val_gender_output_acc: 0.6467 - val_image_quality_output_acc: 0.3686 - val_age_output_acc: 0.3971 - val_weight_output_acc: 0.6314 - val_bag_output_acc: 0.6078 - val_footwear_output_acc: 0.6284 - val_pose_output_acc: 0.6412 - val_emotion_output_acc: 0.6909\n",
      "Epoch 41/50\n",
      "\n",
      "Epoch 00041: LearningRateScheduler setting learning rate to 6.25e-05.\n",
      "2884/2884 [==============================] - 855s 296ms/step - loss: 6.1660 - gender_output_loss: 0.3006 - image_quality_output_loss: 0.8322 - age_output_loss: 1.2977 - weight_output_loss: 0.9354 - bag_output_loss: 0.7926 - footwear_output_loss: 0.6886 - pose_output_loss: 0.4556 - emotion_output_loss: 0.8439 - gender_output_acc: 0.8723 - image_quality_output_acc: 0.6051 - age_output_acc: 0.4336 - weight_output_acc: 0.6372 - bag_output_acc: 0.6595 - footwear_output_acc: 0.6960 - pose_output_acc: 0.8193 - emotion_output_acc: 0.7137 - val_loss: 7.6197 - val_gender_output_loss: 0.5492 - val_image_quality_output_loss: 1.2606 - val_age_output_loss: 1.3831 - val_weight_output_loss: 1.0321 - val_bag_output_loss: 0.9128 - val_footwear_output_loss: 0.8739 - val_pose_output_loss: 0.6375 - val_emotion_output_loss: 0.9510 - val_gender_output_acc: 0.7185 - val_image_quality_output_acc: 0.3376 - val_age_output_acc: 0.4154 - val_weight_output_acc: 0.6309 - val_bag_output_acc: 0.5910 - val_footwear_output_acc: 0.6437 - val_pose_output_acc: 0.7224 - val_emotion_output_acc: 0.6959\n",
      "Epoch 42/50\n",
      "\n",
      "Epoch 00042: LearningRateScheduler setting learning rate to 6.25e-05.\n",
      "2200/2884 [=====================>........] - ETA: 3:17 - loss: 6.1425 - gender_output_loss: 0.2888 - image_quality_output_loss: 0.8353 - age_output_loss: 1.2986 - weight_output_loss: 0.9297 - bag_output_loss: 0.7934 - footwear_output_loss: 0.6841 - pose_output_loss: 0.4507 - emotion_output_loss: 0.8425 - gender_output_acc: 0.8770 - image_quality_output_acc: 0.6055 - age_output_acc: 0.4327 - weight_output_acc: 0.6441 - bag_output_acc: 0.6591 - footwear_output_acc: 0.7024 - pose_output_acc: 0.8222 - emotion_output_acc: 0.7158"
     ]
    }
   ],
   "source": [
    "model_info = model.fit_generator(\n",
    "    generator=train_gen,\n",
    "    validation_data=valid_gen,\n",
    "    # use_multiprocessing = True,\n",
    "    workers=6,\n",
    "    epochs=50,\n",
    "    callbacks=callbacks)"
   ]
  },
  {
   "cell_type": "code",
   "execution_count": 0,
   "metadata": {
    "colab": {},
    "colab_type": "code",
    "id": "F4zuFG2CdTTl"
   },
   "outputs": [],
   "source": [
    "model_info2 = model.fit_generator(\n",
    "    generator=train_gen,\n",
    "    validation_data=valid_gen,\n",
    "    use_multiprocessing = True,\n",
    "    workers=6,\n",
    "    epochs=50,\n",
    "    callbacks=callbacks)"
   ]
  },
  {
   "cell_type": "code",
   "execution_count": 0,
   "metadata": {
    "colab": {},
    "colab_type": "code",
    "id": "9QZrzcBV5GNr"
   },
   "outputs": [],
   "source": [
    "labels = [key for key, _ in targets.items()]\n",
    "labels"
   ]
  },
  {
   "cell_type": "code",
   "execution_count": 0,
   "metadata": {
    "colab": {},
    "colab_type": "code",
    "id": "iflZnDDPfaN_"
   },
   "outputs": [],
   "source": [
    "from visualization_scripts.plot_model_history import plot_cumulative, plot_feature_history"
   ]
  },
  {
   "cell_type": "code",
   "execution_count": null,
   "metadata": {
    "colab": {
     "base_uri": "https://localhost:8080/",
     "height": 641
    },
    "colab_type": "code",
    "id": "rLDW2Z3AZeVy",
    "outputId": "966708c6-9e91-4f1b-e51d-e2c2063bb9cc"
   },
   "outputs": [],
   "source": [
    "plot_cumulative(model_info)"
   ]
  },
  {
   "cell_type": "code",
   "execution_count": null,
   "metadata": {
    "colab": {
     "base_uri": "https://localhost:8080/",
     "height": 1000
    },
    "colab_type": "code",
    "id": "MxynBTpmZeNF",
    "outputId": "b745935a-aa3b-4bb6-cdbe-6b7fdb073482"
   },
   "outputs": [],
   "source": [
    "for label in labels:\n",
    "    plot_feature_history(model_info, label)"
   ]
  },
  {
   "cell_type": "code",
   "execution_count": 0,
   "metadata": {
    "colab": {},
    "colab_type": "code",
    "id": "UI4ytd1O9hC2"
   },
   "outputs": [],
   "source": [
    "results = model.evaluate_generator(valid_gen, verbose=1)\n",
    "dict(zip(model.metrics_names, results))"
   ]
  },
  {
   "cell_type": "code",
   "execution_count": 0,
   "metadata": {
    "colab": {},
    "colab_type": "code",
    "id": "6vcfyS9V96xG"
   },
   "outputs": [],
   "source": []
  },
  {
   "cell_type": "code",
   "execution_count": 0,
   "metadata": {
    "colab": {},
    "colab_type": "code",
    "id": "HThtoZ5cfaPZ"
   },
   "outputs": [],
   "source": []
  }
 ],
 "metadata": {
  "accelerator": "GPU",
  "colab": {
   "collapsed_sections": [],
   "machine_shape": "hm",
   "name": "A5_final_model_training.ipynb",
   "provenance": []
  },
  "kernelspec": {
   "display_name": "Python 3",
   "language": "python",
   "name": "python3"
  },
  "language_info": {
   "codemirror_mode": {
    "name": "ipython",
    "version": 3
   },
   "file_extension": ".py",
   "mimetype": "text/x-python",
   "name": "python",
   "nbconvert_exporter": "python",
   "pygments_lexer": "ipython3",
   "version": "3.6.4"
  },
  "toc": {
   "base_numbering": 1,
   "nav_menu": {},
   "number_sections": true,
   "sideBar": true,
   "skip_h1_title": false,
   "title_cell": "Table of Contents",
   "title_sidebar": "Contents",
   "toc_cell": false,
   "toc_position": {},
   "toc_section_display": true,
   "toc_window_display": false
  },
  "varInspector": {
   "cols": {
    "lenName": 16,
    "lenType": 16,
    "lenVar": 40
   },
   "kernels_config": {
    "python": {
     "delete_cmd_postfix": "",
     "delete_cmd_prefix": "del ",
     "library": "var_list.py",
     "varRefreshCmd": "print(var_dic_list())"
    },
    "r": {
     "delete_cmd_postfix": ") ",
     "delete_cmd_prefix": "rm(",
     "library": "var_list.r",
     "varRefreshCmd": "cat(var_dic_list()) "
    }
   },
   "types_to_exclude": [
    "module",
    "function",
    "builtin_function_or_method",
    "instance",
    "_Feature"
   ],
   "window_display": false
  }
 },
 "nbformat": 4,
 "nbformat_minor": 1
}
